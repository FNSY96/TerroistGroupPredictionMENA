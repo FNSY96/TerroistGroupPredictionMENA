{
  "nbformat": 4,
  "nbformat_minor": 0,
  "metadata": {
    "colab": {
      "name": "Graduation.ipynb",
      "version": "0.3.2",
      "provenance": [],
      "collapsed_sections": [],
      "include_colab_link": true
    },
    "kernelspec": {
      "name": "python3",
      "display_name": "Python 3"
    }
  },
  "cells": [
    {
      "cell_type": "markdown",
      "metadata": {
        "id": "view-in-github",
        "colab_type": "text"
      },
      "source": [
        "<a href=\"https://colab.research.google.com/github/FNSY96/TerrorismEventsPrediction/blob/master/Graduation.ipynb\" target=\"_parent\"><img src=\"https://colab.research.google.com/assets/colab-badge.svg\" alt=\"Open In Colab\"/></a>"
      ]
    },
    {
      "metadata": {
        "id": "3t4_K6rWMxmH",
        "colab_type": "text"
      },
      "cell_type": "markdown",
      "source": [
        "# **Python Imports**\n",
        "PLEASE PUT ALL LIBRARY IMPORTS IN THIS CELL **ONLY**"
      ]
    },
    {
      "metadata": {
        "id": "3SkGUUzMMr4V",
        "colab_type": "code",
        "outputId": "0cd0e05a-e901-498f-8537-ea01f5d73a54",
        "colab": {
          "base_uri": "https://localhost:8080/",
          "height": 34
        }
      },
      "cell_type": "code",
      "source": [
        "import pandas as pd\n",
        "import csv\n",
        "import glob\n",
        "import os\n",
        "from pandas import ExcelWriter\n",
        "from pandas import ExcelFile\n",
        "import io\n",
        "print(\"imports run\")"
      ],
      "execution_count": 5,
      "outputs": [
        {
          "output_type": "stream",
          "text": [
            "imports run\n"
          ],
          "name": "stdout"
        }
      ]
    },
    {
      "metadata": {
        "id": "ts4MLZnIaj37",
        "colab_type": "code",
        "outputId": "b5d9a3c2-7aa9-4f16-8565-fe000f71f7ef",
        "colab": {
          "base_uri": "https://localhost:8080/",
          "height": 131
        }
      },
      "cell_type": "code",
      "source": [
        "!pip3 install pandas"
      ],
      "execution_count": 4,
      "outputs": [
        {
          "output_type": "stream",
          "text": [
            "Requirement already satisfied: pandas in /usr/local/lib/python3.6/dist-packages (0.22.0)\n",
            "Requirement already satisfied: numpy>=1.9.0 in /usr/local/lib/python3.6/dist-packages (from pandas) (1.14.6)\n",
            "Requirement already satisfied: python-dateutil>=2 in /usr/local/lib/python3.6/dist-packages (from pandas) (2.5.3)\n",
            "Requirement already satisfied: pytz>=2011k in /usr/local/lib/python3.6/dist-packages (from pandas) (2018.9)\n",
            "Requirement already satisfied: six>=1.5 in /usr/local/lib/python3.6/dist-packages (from python-dateutil>=2->pandas) (1.11.0)\n"
          ],
          "name": "stdout"
        }
      ]
    },
    {
      "metadata": {
        "id": "BTQAhp_HNvyG",
        "colab_type": "text"
      },
      "cell_type": "markdown",
      "source": [
        "# Data Set Imports"
      ]
    },
    {
      "metadata": {
        "id": "N13I8JpfMHc6",
        "colab_type": "code",
        "colab": {}
      },
      "cell_type": "code",
      "source": [
        "!pip install -U -q PyDrive\n",
        "from google.colab import drive\n",
        "from pydrive.auth import GoogleAuth\n",
        "from pydrive.drive import GoogleDrive\n",
        "from google.colab import auth\n",
        "from oauth2client.client import GoogleCredentials\n",
        "auth.authenticate_user()\n",
        "gauth = GoogleAuth()\n",
        "gauth.credentials = GoogleCredentials.get_application_default()"
      ],
      "execution_count": 0,
      "outputs": []
    },
    {
      "metadata": {
        "id": "pdAFcrotUNTk",
        "colab_type": "code",
        "outputId": "3103a8b1-bfd6-4ede-a299-0c491d1cc4d8",
        "colab": {
          "base_uri": "https://localhost:8080/",
          "height": 34
        }
      },
      "cell_type": "code",
      "source": [
        "# drive = GoogleDrive(gauth)\n",
        "drive.mount(\"/content/drive\", force_remount=True)\n",
        "datadir  = 'drive/My Drive/GraduationProject/Data'"
      ],
      "execution_count": 8,
      "outputs": [
        {
          "output_type": "stream",
          "text": [
            "Mounted at /content/drive\n"
          ],
          "name": "stdout"
        }
      ]
    },
    {
      "metadata": {
        "id": "fPRCS5s_N2zb",
        "colab_type": "text"
      },
      "cell_type": "markdown",
      "source": [
        "### **GeoEPR**"
      ]
    },
    {
      "metadata": {
        "id": "aatx7iYTN1yS",
        "colab_type": "code",
        "colab": {}
      },
      "cell_type": "code",
      "source": [
        "# fid = drive.ListFile({'q':\"title='GeoEPR-2018.1.csv'\"}).GetList()[0]['id']\n",
        "# f = drive.CreateFile({'id': fid})\n",
        "# f.GetContentFile('GeoEPR-2018.1.csv')\n",
        "# f.Upload()"
      ],
      "execution_count": 0,
      "outputs": []
    },
    {
      "metadata": {
        "colab_type": "text",
        "id": "X3nuloFsSntT"
      },
      "cell_type": "markdown",
      "source": [
        "### **Gecon40_post_final**"
      ]
    },
    {
      "metadata": {
        "colab_type": "code",
        "id": "Mw-lqNFlSntV",
        "colab": {}
      },
      "cell_type": "code",
      "source": [
        "# fid = drive.ListFile({'q':\"title='Gecon40_post_final_kh.csv'\"}).GetList()[0]['id']\n",
        "# f = drive.CreateFile({'id': fid})\n",
        "# f.GetContentFile('Gecon40_post_final.csv')\n",
        "# f.Upload()"
      ],
      "execution_count": 0,
      "outputs": []
    },
    {
      "metadata": {
        "id": "1qsmoZ3eReyA",
        "colab_type": "text"
      },
      "cell_type": "markdown",
      "source": [
        "###**GTD**"
      ]
    },
    {
      "metadata": {
        "id": "JvNzAiEaX4MW",
        "colab_type": "code",
        "colab": {}
      },
      "cell_type": "code",
      "source": [
        "# !ls drive/'My Drive'/GraduationProject/Data/gtd.csv"
      ],
      "execution_count": 0,
      "outputs": []
    },
    {
      "metadata": {
        "id": "RkR7Qwd8xj77",
        "colab_type": "text"
      },
      "cell_type": "markdown",
      "source": [
        "# Functions"
      ]
    },
    {
      "metadata": {
        "id": "lR1VUhPkurWG",
        "colab_type": "code",
        "colab": {}
      },
      "cell_type": "code",
      "source": [
        "def remove_NaN(data_set, attributes_NaN):\n",
        "  data_set = data_set.fillna(data_set.mean())\n",
        "  for i in range(len(attributes_NaN)):\n",
        "      attribute = attributes_NaN[i]\n",
        "      mode =  data_set[attribute].mode()[0]\n",
        "      data_set[attribute] = data_set.groupby(attribute)[attribute].apply(lambda x: x.fillna(x.value_counts().idxmax() if x.value_counts().max() >=1 else mode , inplace = False))\n",
        "      data_set[attribute]= data_set[attribute].fillna(data_set[attribute].value_counts().idxmax())\n",
        "  return data_set"
      ],
      "execution_count": 0,
      "outputs": []
    },
    {
      "metadata": {
        "id": "nZjjGdaLVMkv",
        "colab_type": "text"
      },
      "cell_type": "markdown",
      "source": [
        "# Pandas Data Frames\n",
        "Useful link : https://youtu.be/2AFGPdNn4FM"
      ]
    },
    {
      "metadata": {
        "id": "3bYFOOr9U-7h",
        "colab_type": "text"
      },
      "cell_type": "markdown",
      "source": [
        "## **GTD Data Frame**"
      ]
    },
    {
      "metadata": {
        "id": "hzPwkdhBZRZU",
        "colab_type": "code",
        "outputId": "9c07a592-5c48-4b1e-9aab-14a3bc651afc",
        "colab": {
          "base_uri": "https://localhost:8080/",
          "height": 111
        }
      },
      "cell_type": "code",
      "source": [
        "gtd_df = pd.read_csv(os.path.join(datadir, 'gtd.csv'),encoding='latin-1')\n",
        "# print(gtd_df.columns.values)"
      ],
      "execution_count": 11,
      "outputs": [
        {
          "output_type": "stream",
          "text": [
            "/usr/local/lib/python3.6/dist-packages/IPython/core/interactiveshell.py:2718: DtypeWarning: Columns (4,6,31,33,61,62,63,76,79,90,92,94,96,114,115,121) have mixed types. Specify dtype option on import or set low_memory=False.\n",
            "  interactivity=interactivity, compiler=compiler, result=result)\n"
          ],
          "name": "stderr"
        }
      ]
    },
    {
      "metadata": {
        "id": "j_29KRCKqrj-",
        "colab_type": "code",
        "outputId": "7c8be3b0-0b85-4c7d-9a93-f75372ec464d",
        "colab": {
          "base_uri": "https://localhost:8080/",
          "height": 2176
        }
      },
      "cell_type": "code",
      "source": [
        "gtd_filtered_df = gtd_df[['country','city','latitude', 'longitude', 'target1', 'iyear', 'region']]\n",
        "print(gtd_filtered_df)"
      ],
      "execution_count": 12,
      "outputs": [
        {
          "output_type": "stream",
          "text": [
            "        country                    city   latitude   longitude  \\\n",
            "0            58           Santo Domingo  18.456792  -69.951164   \n",
            "1           130             Mexico city  19.371887  -99.086624   \n",
            "2           160                 Unknown  15.478598  120.599741   \n",
            "3            78                  Athens  37.997490   23.762728   \n",
            "4           101                 Fukouka  33.580412  130.396361   \n",
            "5           217                   Cairo  37.005105  -89.176269   \n",
            "6           218              Montevideo -34.891151  -56.187214   \n",
            "7           217                 Oakland  37.791927 -122.225906   \n",
            "8           217                 Madison  43.076592  -89.412488   \n",
            "9           217                 Madison  43.072950  -89.386694   \n",
            "10          217                 Baraboo  43.468500  -89.744299   \n",
            "11          217                  Denver  39.758968 -104.876305   \n",
            "12           98                    Rome  41.890961   12.490069   \n",
            "13          217                 Detroit  42.331685  -83.047924   \n",
            "14          217             Rio Piedras  18.386932  -66.061127   \n",
            "15          499                  Berlin  52.501530   13.401851   \n",
            "16           65                 Unknown        NaN         NaN   \n",
            "17          217           New York City  40.697132  -73.931351   \n",
            "18          217              Rio Grande  18.379998  -65.830948   \n",
            "19          217                 Seattle  47.610786 -122.331306   \n",
            "20          217               Champaign  40.116748  -88.239270   \n",
            "21          218              Montevideo -34.891151  -56.187214   \n",
            "22          217                 Seattle  47.610786 -122.331306   \n",
            "23          217                 Seattle  47.610786 -122.331306   \n",
            "24          217             Jersey City  40.717892  -74.067467   \n",
            "25           83          Guatemala City  14.622869  -90.529068   \n",
            "26          160             Quezon City  14.674280  121.057495   \n",
            "27          222                 Caracas  10.482834  -66.962128   \n",
            "28          217        South Sioux City  42.470310  -96.413949   \n",
            "29          217              West Point  33.606510  -88.650419   \n",
            "...         ...                     ...        ...         ...   \n",
            "181661       92               Talacheru  17.001086   81.807490   \n",
            "181662      160               Tarragona   7.042777  126.449221   \n",
            "181663       92           Koothuparamba  11.831902   75.565432   \n",
            "181664      603                 Belfast  54.607712   -5.956210   \n",
            "181665       92                Toylanka  18.802725   81.497666   \n",
            "181666      147        Konduga district  11.492144   12.969724   \n",
            "181667      200                 Harasta  33.561504   36.368763   \n",
            "181668       95                 Shurjah  35.560376   44.524705   \n",
            "181669       95                  Kirkuk  35.452110   44.375465   \n",
            "181670       95            Hawd al-Waqf  33.816111   44.783524   \n",
            "181671       95              Farhatiyah  34.031331   44.070106   \n",
            "181672       92               Lethapora  33.966527   74.964225   \n",
            "181673        4               Jalalabad  34.417122   70.449593   \n",
            "181674       95                    Baaj  36.045059   41.716717   \n",
            "181675      182               Mogadishu   2.059819   45.326115   \n",
            "181676        4  Mohammad Agha district  34.217806   69.109316   \n",
            "181677      160                 Limpogo   6.983953  124.420664   \n",
            "181678      160          Pikit district   7.053143  124.619270   \n",
            "181679       95              Muqdadiyah  33.953167   44.921906   \n",
            "181680      182                   Wajid   3.810951   43.246506   \n",
            "181681      160           Shariff Aguak   6.862806  124.443649   \n",
            "181682       98               Spinetoli  42.888982   13.772795   \n",
            "181683        4       Kohistan district  35.315467   64.815508   \n",
            "181684       92                 Hungrum  25.180162   93.015788   \n",
            "181685        4                 Maymana  35.921051   64.774544   \n",
            "181686      182           Ceelka Geelow   2.359673   45.385034   \n",
            "181687      200                  Jableh  35.407278   35.942679   \n",
            "181688      160                Kubentog   6.900742  124.437908   \n",
            "181689       92                  Imphal  24.798346   93.940430   \n",
            "181690      160           Cotabato City   7.209594  124.241966   \n",
            "\n",
            "                                                  target1  iyear  region  \n",
            "0                                            Julio Guzman   1970       2  \n",
            "1                                 Nadine Chaval, daughter   1970       1  \n",
            "2                                                Employee   1970       5  \n",
            "3                                            U.S. Embassy   1970       8  \n",
            "4                                          U.S. Consulate   1970       4  \n",
            "5                               Cairo Police Headquarters   1970       1  \n",
            "6       Juan Maria de Lucah/Chief of Directorate of in...   1970       3  \n",
            "7                                         Edes Substation   1970       1  \n",
            "8       R.O.T.C. offices at University of Wisconsin, M...   1970       1  \n",
            "9       Selective Service Headquarters in Madison Wisc...   1970       1  \n",
            "10                                Badger Army ammo depot.   1970       1  \n",
            "11               Army Recruiting Station, Denver Colorado   1970       1  \n",
            "12                                  Flight 802 Boeing 707   1970       8  \n",
            "13        Packard Properties building of Detroit Michigan   1970       1  \n",
            "14                                          Baker's Store   1970       1  \n",
            "15                     Jurists Ball (Palais au Frankturm)   1970       9  \n",
            "16                                                Soldier   1970      11  \n",
            "17                              James Madison High School   1970       1  \n",
            "18      General Electric factory in Rio Grande Puerto ...   1970       1  \n",
            "19           Fuson's Department Store, Seattle Washington   1970       1  \n",
            "20                            Champaign Police Department   1970       1  \n",
            "21                        Secondary School, Chemistry Lab   1970       3  \n",
            "22      Liberal Arts and Garrand buildings, Seattle Un...   1970       1  \n",
            "23      Air Force R.O.T.C. at the University of Washin...   1970       1  \n",
            "24                                           Headquarters   1970       1  \n",
            "25                              Bodyguard, British Consul   1970       2  \n",
            "26                                              JUSMAG HQ   1970       5  \n",
            "27                                Leon Jacobo Taurel, son   1970       3  \n",
            "28                                                    NaN   1970       1  \n",
            "29      Building used as a meeting place for African A...   1970       1  \n",
            "...                                                   ...    ...     ...  \n",
            "181661                                             Masjid   2017       6  \n",
            "181662                                           Soldiers   2017       5  \n",
            "181663                       Koothuparamba Police Station   2017       6  \n",
            "181664                                          Civilians   2017       8  \n",
            "181665                             Road Construction Site   2017       6  \n",
            "181666                                             Convoy   2017      11  \n",
            "181667                                               Base   2017      10  \n",
            "181668                                             Patrol   2017      10  \n",
            "181669                                               Cafe   2017      10  \n",
            "181670                                            Station   2017      10  \n",
            "181671                                          Civilians   2017      10  \n",
            "181672                                               Camp   2017       6  \n",
            "181673     Funeral Procession of Former District Governor   2017       6  \n",
            "181674                                             Troops   2017      10  \n",
            "181675                                   Burundian Convoy   2017      11  \n",
            "181676                                            Vehicle   2017       6  \n",
            "181677                                               Town   2017       5  \n",
            "181678                                              Store   2017       5  \n",
            "181679                                               Post   2017      10  \n",
            "181680                                     Ethiopian Base   2017      11  \n",
            "181681                                             Patrol   2017       5  \n",
            "181682                                     Migrant Center   2017       8  \n",
            "181683                                    House of Member   2017       6  \n",
            "181684  Personal Security Officer of Council Member Ih...   2017       6  \n",
            "181685                                       Jewelry Shop   2017       6  \n",
            "181686                                         Checkpoint   2017      11  \n",
            "181687                                   Hmeymim Air Base   2017      10  \n",
            "181688                                             Houses   2017       5  \n",
            "181689                                             Office   2017       6  \n",
            "181690                                            Unknown   2017       5  \n",
            "\n",
            "[181691 rows x 7 columns]\n"
          ],
          "name": "stdout"
        }
      ]
    },
    {
      "metadata": {
        "id": "ZTPcCXCiybZ3",
        "colab_type": "code",
        "colab": {
          "base_uri": "https://localhost:8080/",
          "height": 153
        },
        "outputId": "d708d29e-6319-46d2-9431-7578f8a4f7a6"
      },
      "cell_type": "code",
      "source": [
        "print(gtd_filtered_df.isna().sum())\n"
      ],
      "execution_count": 13,
      "outputs": [
        {
          "output_type": "stream",
          "text": [
            "country         0\n",
            "city          434\n",
            "latitude     4556\n",
            "longitude    4557\n",
            "target1       636\n",
            "iyear           0\n",
            "region          0\n",
            "dtype: int64\n"
          ],
          "name": "stdout"
        }
      ]
    },
    {
      "metadata": {
        "id": "UWu8qbPKoZQI",
        "colab_type": "text"
      },
      "cell_type": "markdown",
      "source": [
        "## GTD Removed NaN"
      ]
    },
    {
      "metadata": {
        "id": "sUcg4eqXaf4U",
        "colab_type": "code",
        "colab": {}
      },
      "cell_type": "code",
      "source": [
        "# clean NaN\n",
        "gtd_filtered_df = gtd_filtered_df.fillna(gtd_filtered_df.mean())\n",
        "attributes_NaN = ['country', 'city', 'target']\n",
        "gtd_filtered_df = remove_NaN(gtd_filtered_df, attributes_NaN)\n",
        "# mode =  gtd_filtered_df['country'].mode()[0]\n",
        "# gtd_filtered_df['country'] = gtd_filtered_df.groupby('country')['country'].apply(lambda x: x.fillna(x.value_counts().idxmax() if x.value_counts().max() >=1 else mode , inplace = False))\n",
        "# gtd_filtered_df['country']= gtd_filtered_df['country'].fillna(gtd_filtered_df['country'].value_counts().idxmax())\n",
        "\n",
        "# mode =  gtd_filtered_df['city'].mode()[0]\n",
        "# gtd_filtered_df['city'] = gtd_filtered_df.groupby('city')['city'].apply(lambda x: x.fillna(x.value_counts().idxmax() if x.value_counts().max() >=1 else mode , inplace = False))\n",
        "# gtd_filtered_df['city']= gtd_filtered_df['city'].fillna(gtd_filtered_df['city'].value_counts().idxmax())\n",
        "\n",
        "# mode =  gtd_filtered_df['target1'].mode()[0]\n",
        "# gtd_filtered_df['target1'] = gtd_filtered_df.groupby('target1')['target1'].apply(lambda x: x.fillna(x.value_counts().idxmax() if x.value_counts().max() >=1 else mode , inplace = False))\n",
        "# gtd_filtered_df['target1']= gtd_filtered_df['target1'].fillna(gtd_filtered_df['target1'].value_counts().idxmax())\n",
        "# print(gtd_filtered_df.isna().sum())\n",
        "print(gtd_filtered_df)"
      ],
      "execution_count": 0,
      "outputs": []
    },
    {
      "metadata": {
        "id": "rVn6I7Y7OA9F",
        "colab_type": "text"
      },
      "cell_type": "markdown",
      "source": [
        "## **GECON Data Frame**"
      ]
    },
    {
      "metadata": {
        "id": "t6AAaOVhHY6z",
        "colab_type": "code",
        "outputId": "0a427b1f-f5ed-48df-8c54-16764f49bc78",
        "colab": {
          "base_uri": "https://localhost:8080/",
          "height": 261
        }
      },
      "cell_type": "code",
      "source": [
        "gecon_df = pd.read_csv(os.path.join(datadir, 'Gecon40_post_final_kh.csv'),encoding='latin-1')\n",
        "print(gecon_df.columns.values)"
      ],
      "execution_count": 27,
      "outputs": [
        {
          "output_type": "stream",
          "text": [
            "['AREA' 'COUNTRY' 'D1' 'D2' 'D3' 'D4' 'DIS_LAKE' 'DIS_MAJOR_RIVER'\n",
            " 'DIS_OCEAN' 'DIS_RIVER' 'ELEV_SRTM' 'ELEV_SRTM_PRED' 'LAT' 'LONGITUDE'\n",
            " 'LONG_NAME' 'MATTVEG' 'MER1990_40' 'MER1995_40' 'MER2000_40' 'MER2005_40'\n",
            " 'NEWCOUNTRYID' 'POPGPW_1990_40' 'POPGPW_1995_40' 'POPGPW_2000_40'\n",
            " 'POPGPW_2005_40' 'PPP1990_40' 'PPP1995_40' 'PPP2000_40' 'PPP2005_40'\n",
            " 'PREC_NEW' 'PRECMAX' 'PRECMIN' 'PRECSD' 'PRECAVNEW80_08' 'PRECSDNEW80_08'\n",
            " 'QUALITY' 'RIG_xi0710' 'ROUGH' 'SOIL_UNIT' 'TEMP_NEW' 'TEMPAV_8008'\n",
            " 'TEMPMAX' 'TEMPMIN' 'TEMPSD' 'TEMPSD80_08' 'QUALITY_REVISION'\n",
            " 'DATE OF LAST' 'Unnamed: 47' 'Unnamed: 48' 'Unnamed: 49' 'Unnamed: 50'\n",
            " 'Unnamed: 51' 'Unnamed: 52' 'Unnamed: 53' 'Unnamed: 54' 'Unnamed: 55']\n"
          ],
          "name": "stdout"
        },
        {
          "output_type": "stream",
          "text": [
            "/usr/local/lib/python3.6/dist-packages/IPython/core/interactiveshell.py:2718: DtypeWarning: Columns (16,19,25,28) have mixed types. Specify dtype option on import or set low_memory=False.\n",
            "  interactivity=interactivity, compiler=compiler, result=result)\n"
          ],
          "name": "stderr"
        }
      ]
    },
    {
      "metadata": {
        "id": "5Lg-yXecp267",
        "colab_type": "code",
        "outputId": "12816089-1f0e-4542-8e38-2bed08c968b0",
        "colab": {
          "base_uri": "https://localhost:8080/",
          "height": 102
        }
      },
      "cell_type": "code",
      "source": [
        "gecon_filtered_df = gecon_df[['AREA', 'COUNTRY', 'DIS_LAKE','DIS_MAJOR_RIVER']]\n",
        "\n",
        "print(gecon_filtered_df.isna().sum())\n",
        "\n",
        "# print(gecon_filtered_df)"
      ],
      "execution_count": 33,
      "outputs": [
        {
          "output_type": "stream",
          "text": [
            "AREA                 0\n",
            "COUNTRY              0\n",
            "DIS_LAKE           437\n",
            "DIS_MAJOR_RIVER    422\n",
            "dtype: int64\n"
          ],
          "name": "stdout"
        }
      ]
    },
    {
      "metadata": {
        "id": "PNtoCAmTWtAR",
        "colab_type": "code",
        "outputId": "246c83e8-10b0-45ba-e58f-71f7b76c5bdb",
        "colab": {
          "base_uri": "https://localhost:8080/",
          "height": 1190
        }
      },
      "cell_type": "code",
      "source": [
        "# clean NaN\n",
        "# gecon_filtered_df = gecon_filtered_df.fillna(gecon_filtered_df.mean())\n",
        "gecon_filtered_df = remove_NaN(gecon_filtered_df, [])\n",
        "\n",
        "print(gecon_filtered_df.isna().sum())\n",
        "\n",
        "print(gecon_filtered_df)"
      ],
      "execution_count": 32,
      "outputs": [
        {
          "output_type": "stream",
          "text": [
            "AREA               0\n",
            "COUNTRY            0\n",
            "DIS_LAKE           0\n",
            "DIS_MAJOR_RIVER    0\n",
            "dtype: int64\n",
            "           AREA             COUNTRY      DIS_LAKE  DIS_MAJOR_RIVER\n",
            "0             0  Bosnia&Herzegovina  1.574901e+06     2.868236e+06\n",
            "1      10.47769              Brazil  1.566020e+05     1.817542e+05\n",
            "2      33.62301              Brazil  5.800724e+05     1.091993e+05\n",
            "3      12.15342              Brazil  6.306095e+05     6.835435e+05\n",
            "4      36.46025              Brazil  6.150355e+05     6.712459e+05\n",
            "5             0              Brazil  5.229193e+05     1.508678e+06\n",
            "6             0              Brazil  9.632830e+05     4.414826e+05\n",
            "7      12.35509              Brazil  3.415250e+05     4.612700e+05\n",
            "8      12.34964              Brazil  4.866209e+05     5.117214e+05\n",
            "9             0            Cameroon  4.460036e+05     1.007535e+06\n",
            "10     361.9061            Cameroon  4.701400e+03     2.082788e+06\n",
            "11     7773.164              Canada  1.163476e+05     7.318287e+05\n",
            "12     7773.164              Canada  1.537654e+05     7.811711e+05\n",
            "13     7773.164              Canada  2.057712e+05     8.332942e+05\n",
            "14     7773.164              Canada  2.638580e+05     8.877025e+05\n",
            "15     7605.392              Canada  2.097864e+05     6.459352e+05\n",
            "16     7605.392              Canada  1.453123e+05     6.591201e+05\n",
            "17     7435.375              Canada  2.158604e+05     7.561578e+05\n",
            "18     7435.375              Canada  1.549459e+05     7.672402e+05\n",
            "19     7263.159              Canada  2.657430e+05     8.666708e+05\n",
            "20     7263.159              Canada  2.200254e+05     8.761719e+05\n",
            "21     7088.785              Canada  3.454655e+05     9.773821e+05\n",
            "22     7088.785              Canada  3.123668e+05     9.856523e+05\n",
            "23     7088.785              Canada  2.818414e+05     1.035938e+06\n",
            "24     7088.785              Canada  2.886441e+05     1.060515e+06\n",
            "25     6912.295              Canada  6.950512e+05     1.114719e+06\n",
            "26     6912.295              Canada  6.445496e+05     1.101697e+06\n",
            "27     6912.295              Canada  5.962349e+05     1.092485e+06\n",
            "28     6912.295              Canada  5.506896e+05     1.087183e+06\n",
            "29     6912.295              Canada  5.086645e+05     1.085272e+06\n",
            "...         ...                 ...           ...              ...\n",
            "27415  10290.77            Zimbabwe  4.196423e+05     2.480429e+06\n",
            "27416  104.6519            Zimbabwe  4.619081e+05     2.547747e+06\n",
            "27417  4294.411            Zimbabwe  1.354662e+05     1.882551e+06\n",
            "27418  11572.68            Zimbabwe  7.860400e+04     1.948524e+06\n",
            "27419  11701.39            Zimbabwe  7.190090e+04     2.020888e+06\n",
            "27420  11701.39            Zimbabwe  1.472811e+05     2.096063e+06\n",
            "27421  11701.39            Zimbabwe  2.008541e+05     2.173525e+06\n",
            "27422  11701.39            Zimbabwe  2.551614e+05     2.253039e+06\n",
            "27423  11701.39            Zimbabwe  2.938391e+05     2.334394e+06\n",
            "27424  10648.27            Zimbabwe  3.043563e+05     2.412363e+06\n",
            "27425  58.50695            Zimbabwe  3.058208e+05     2.453700e+06\n",
            "27426  1094.716            Zimbabwe  1.514862e+05     1.834281e+06\n",
            "27427  400.2186            Zimbabwe  7.061370e+04     1.893902e+06\n",
            "27428  6791.945            Zimbabwe  1.707290e+04     1.966751e+06\n",
            "27429  11771.13            Zimbabwe  6.551430e+04     2.023682e+06\n",
            "27430  11771.13            Zimbabwe  1.042600e+05     2.103849e+06\n",
            "27431  11771.13            Zimbabwe  1.825746e+05     2.185937e+06\n",
            "27432  11771.13            Zimbabwe  1.844416e+05     2.269739e+06\n",
            "27433   11500.4            Zimbabwe  1.984693e+05     2.354115e+06\n",
            "27434  82.39795            Zimbabwe  2.174465e+05     2.403153e+06\n",
            "27435  153.8834            Zimbabwe  4.154400e+03     1.939731e+06\n",
            "27436    5125.5            Zimbabwe  1.161500e+03     1.981408e+06\n",
            "27437  11837.18            Zimbabwe  5.277370e+04     2.037811e+06\n",
            "27438  11801.67            Zimbabwe  9.740300e+04     2.122528e+06\n",
            "27439  9943.232            Zimbabwe  8.414140e+04     2.209140e+06\n",
            "27440  5101.825            Zimbabwe  1.160677e+05     2.302936e+06\n",
            "27441  71.39693            Zimbabwe  6.248740e+04     1.959424e+06\n",
            "27442  3474.651            Zimbabwe  1.027455e+05     2.004458e+06\n",
            "27443  1844.421            Zimbabwe  6.347540e+04     2.056067e+06\n",
            "27444  11.89949            Zimbabwe  1.484430e+04     2.148991e+06\n",
            "\n",
            "[27445 rows x 4 columns]\n"
          ],
          "name": "stdout"
        }
      ]
    },
    {
      "metadata": {
        "id": "yyO2aL4SObqB",
        "colab_type": "text"
      },
      "cell_type": "markdown",
      "source": [
        "## **GeoEPR Data Frame**"
      ]
    },
    {
      "metadata": {
        "id": "II-_vH73OLvh",
        "colab_type": "code",
        "colab": {}
      },
      "cell_type": "code",
      "source": [
        "geo_df = pd.read_csv(os.path.join(datadir, 'GeoEPR-2018.1.csv'),encoding='latin-1')\n",
        "# print(geo_df.columns.values)\n",
        "# # statename, group\n",
        "# print(geo_df)"
      ],
      "execution_count": 0,
      "outputs": []
    },
    {
      "metadata": {
        "id": "TGPkxd05olZN",
        "colab_type": "code",
        "outputId": "a5c7cfcc-302f-4e6d-f56f-3754dc5a3f06",
        "colab": {
          "base_uri": "https://localhost:8080/",
          "height": 1173
        }
      },
      "cell_type": "code",
      "source": [
        "geo_filtered_df = geo_df[['statename','group','type']]\n",
        "print(geo_filtered_df)\n",
        "print(geo_filtered_df.isna().sum())"
      ],
      "execution_count": 10,
      "outputs": [
        {
          "output_type": "stream",
          "text": [
            "                statename                    group              type\n",
            "0           United States                   Whites         Statewide\n",
            "1           United States        African Americans         Statewide\n",
            "2           United States         American Indians  Regionally based\n",
            "3           United States                   Whites         Statewide\n",
            "4           United States         American Indians  Regionally based\n",
            "5           United States        African Americans         Statewide\n",
            "6           United States                   Whites         Statewide\n",
            "7           United States         American Indians  Regionally based\n",
            "8           United States        African Americans         Statewide\n",
            "9           United States          Asian Americans             Urban\n",
            "10          United States           Arab Americans             Urban\n",
            "11          United States                  Latinos  Regional & urban\n",
            "12                 Canada       Aboriginal peoples  Regionally based\n",
            "13                 Canada         English speakers  Regional & urban\n",
            "14                 Canada          French speakers  Regional & urban\n",
            "15                 Canada       Aboriginal peoples  Regionally based\n",
            "16                 Canada         English speakers  Regional & urban\n",
            "17                 Canada          French speakers  Regional & urban\n",
            "18                 Canada       Aboriginal peoples  Regionally based\n",
            "19                 Canada         English speakers  Regional & urban\n",
            "20                 Canada          French speakers  Regional & urban\n",
            "21                Bahamas   Afro-Bahamians (Black)         Aggregate\n",
            "22                Bahamas                   Whites         Aggregate\n",
            "23                   Cuba                   Whites         Statewide\n",
            "24                   Cuba                   Blacks         Statewide\n",
            "25    Trinidad and Tobago                   Blacks         Statewide\n",
            "26    Trinidad and Tobago             East Indians  Regional & urban\n",
            "27                 Mexico                 Mestizos         Statewide\n",
            "28                 Mexico  Other indigenous groups  Regionally based\n",
            "29                 Mexico                     Maya  Regionally based\n",
            "...                   ...                      ...               ...\n",
            "1440            Indonesia                Sundanese  Regionally based\n",
            "1441            Indonesia                   Bataks  Regionally based\n",
            "1442            Indonesia                 Acehnese  Regionally based\n",
            "1443            Indonesia                   Madura  Regionally based\n",
            "1444            Indonesia            Chinese (Han)  Regionally based\n",
            "1445            Indonesia                Amboinese  Regionally based\n",
            "1446            Indonesia                  Papuans         Aggregate\n",
            "1447            Indonesia                    Malay  Regionally based\n",
            "1448            Indonesia                    Dayak  Regionally based\n",
            "1449            Indonesia                 Javanese  Regionally based\n",
            "1450            Indonesia             Minangkabaus  Regional & urban\n",
            "1451            Indonesia                Sundanese  Regionally based\n",
            "1452            Indonesia                   Bataks  Regionally based\n",
            "1453            Indonesia                 Acehnese  Regionally based\n",
            "1454            Indonesia                   Madura  Regionally based\n",
            "1455            Indonesia            Chinese (Han)  Regionally based\n",
            "1456            Indonesia                Amboinese  Regionally based\n",
            "1457            Indonesia    Makassarese and Bugis  Regionally based\n",
            "1458            Indonesia                 Balinese  Regionally based\n",
            "1459            Australia               Aborigines         Dispersed\n",
            "1460            Australia                   Asians             Urban\n",
            "1461            Australia                   Whites  Regional & urban\n",
            "1462     Papua New Guinea       Papua New Guineans  Regionally based\n",
            "1463     Papua New Guinea          Bougainvilleans  Regionally based\n",
            "1464          New Zealand                    Maori         Dispersed\n",
            "1465          New Zealand           New Zealanders         Statewide\n",
            "1466          New Zealand        Pacific Islanders             Urban\n",
            "1467          New Zealand                   Asians             Urban\n",
            "1468                 Fiji                  Fijians         Statewide\n",
            "1469                 Fiji                  Indians         Statewide\n",
            "\n",
            "[1470 rows x 3 columns]\n",
            "statename    0\n",
            "group        0\n",
            "type         0\n",
            "dtype: int64\n"
          ],
          "name": "stdout"
        }
      ]
    },
    {
      "metadata": {
        "id": "WR7YsgSLVroa",
        "colab_type": "code",
        "outputId": "e3bcddb7-dad3-4b35-ca5d-7598ceec9f16",
        "colab": {
          "base_uri": "https://localhost:8080/",
          "height": 1105
        }
      },
      "cell_type": "code",
      "source": [
        "# clean NaN\n",
        "# geo_filtered_df = geo_filtered_df.fillna(geo_filtered_df.mean())\n",
        "attributes_NaN = ['statename', 'group', 'type']\n",
        "geo_filtered_df = remove_NaN(geo_filtered_df, attributes_NaN)\n",
        "# mode =  geo_filtered_df['statename'].mode()[0]\n",
        "# geo_filtered_df['statename'] = geo_filtered_df.groupby('statename')['statename'].apply(lambda x: x.fillna(x.value_counts().idxmax() if x.value_counts().max() >=1 else mode , inplace = False))\n",
        "# geo_filtered_df['statename']= geo_filtered_df['statename'].fillna(geo_filtered_df['statename'].value_counts().idxmax())\n",
        "\n",
        "# mode =  geo_filtered_df['group'].mode()[0]\n",
        "# geo_filtered_df['group'] = geo_filtered_df.groupby('group')['group'].apply(lambda x: x.fillna(x.value_counts().idxmax() if x.value_counts().max() >=1 else mode , inplace = False))\n",
        "# geo_filtered_df['group']= geo_filtered_df['group'].fillna(geo_filtered_df['group'].value_counts().idxmax())\n",
        "\n",
        "# mode =  geo_filtered_df['type'].mode()[0]\n",
        "# geo_filtered_df['type'] = geo_filtered_df.groupby('type')['type'].apply(lambda x: x.fillna(x.value_counts().idxmax() if x.value_counts().max() >=1 else mode , inplace = False))\n",
        "# geo_filtered_df['type']= geo_filtered_df['type'].fillna(geo_filtered_df['type'].value_counts().idxmax())\n",
        "\n",
        "print(geo_filtered_df)"
      ],
      "execution_count": 26,
      "outputs": [
        {
          "output_type": "stream",
          "text": [
            "                statename                    group              type\n",
            "0           United States                   Whites         Statewide\n",
            "1           United States        African Americans         Statewide\n",
            "2           United States         American Indians  Regionally based\n",
            "3           United States                   Whites         Statewide\n",
            "4           United States         American Indians  Regionally based\n",
            "5           United States        African Americans         Statewide\n",
            "6           United States                   Whites         Statewide\n",
            "7           United States         American Indians  Regionally based\n",
            "8           United States        African Americans         Statewide\n",
            "9           United States          Asian Americans             Urban\n",
            "10          United States           Arab Americans             Urban\n",
            "11          United States                  Latinos  Regional & urban\n",
            "12                 Canada       Aboriginal peoples  Regionally based\n",
            "13                 Canada         English speakers  Regional & urban\n",
            "14                 Canada          French speakers  Regional & urban\n",
            "15                 Canada       Aboriginal peoples  Regionally based\n",
            "16                 Canada         English speakers  Regional & urban\n",
            "17                 Canada          French speakers  Regional & urban\n",
            "18                 Canada       Aboriginal peoples  Regionally based\n",
            "19                 Canada         English speakers  Regional & urban\n",
            "20                 Canada          French speakers  Regional & urban\n",
            "21                Bahamas   Afro-Bahamians (Black)         Aggregate\n",
            "22                Bahamas                   Whites         Aggregate\n",
            "23                   Cuba                   Whites         Statewide\n",
            "24                   Cuba                   Blacks         Statewide\n",
            "25    Trinidad and Tobago                   Blacks         Statewide\n",
            "26    Trinidad and Tobago             East Indians  Regional & urban\n",
            "27                 Mexico                 Mestizos         Statewide\n",
            "28                 Mexico  Other indigenous groups  Regionally based\n",
            "29                 Mexico                     Maya  Regionally based\n",
            "...                   ...                      ...               ...\n",
            "1440            Indonesia                Sundanese  Regionally based\n",
            "1441            Indonesia                   Bataks  Regionally based\n",
            "1442            Indonesia                 Acehnese  Regionally based\n",
            "1443            Indonesia                   Madura  Regionally based\n",
            "1444            Indonesia            Chinese (Han)  Regionally based\n",
            "1445            Indonesia                Amboinese  Regionally based\n",
            "1446            Indonesia                  Papuans         Aggregate\n",
            "1447            Indonesia                    Malay  Regionally based\n",
            "1448            Indonesia                    Dayak  Regionally based\n",
            "1449            Indonesia                 Javanese  Regionally based\n",
            "1450            Indonesia             Minangkabaus  Regional & urban\n",
            "1451            Indonesia                Sundanese  Regionally based\n",
            "1452            Indonesia                   Bataks  Regionally based\n",
            "1453            Indonesia                 Acehnese  Regionally based\n",
            "1454            Indonesia                   Madura  Regionally based\n",
            "1455            Indonesia            Chinese (Han)  Regionally based\n",
            "1456            Indonesia                Amboinese  Regionally based\n",
            "1457            Indonesia    Makassarese and Bugis  Regionally based\n",
            "1458            Indonesia                 Balinese  Regionally based\n",
            "1459            Australia               Aborigines         Dispersed\n",
            "1460            Australia                   Asians             Urban\n",
            "1461            Australia                   Whites  Regional & urban\n",
            "1462     Papua New Guinea       Papua New Guineans  Regionally based\n",
            "1463     Papua New Guinea          Bougainvilleans  Regionally based\n",
            "1464          New Zealand                    Maori         Dispersed\n",
            "1465          New Zealand           New Zealanders         Statewide\n",
            "1466          New Zealand        Pacific Islanders             Urban\n",
            "1467          New Zealand                   Asians             Urban\n",
            "1468                 Fiji                  Fijians         Statewide\n",
            "1469                 Fiji                  Indians         Statewide\n",
            "\n",
            "[1470 rows x 3 columns]\n"
          ],
          "name": "stdout"
        }
      ]
    },
    {
      "metadata": {
        "id": "0HVbOmnWVUN1",
        "colab_type": "text"
      },
      "cell_type": "markdown",
      "source": [
        "## **Happiness World Report Data Frame**"
      ]
    },
    {
      "metadata": {
        "id": "7yf0iEK_Qh-Y",
        "colab_type": "code",
        "colab": {}
      },
      "cell_type": "code",
      "source": [
        "happy_df = pd.read_csv(os.path.join(datadir, 'Happiness2017.csv'),encoding='latin-1')"
      ],
      "execution_count": 0,
      "outputs": []
    },
    {
      "metadata": {
        "id": "1Z2lnTpobEIN",
        "colab_type": "code",
        "outputId": "2443164d-b437-4fa3-98bd-73ecadadbcf1",
        "colab": {
          "base_uri": "https://localhost:8080/",
          "height": 1105
        }
      },
      "cell_type": "code",
      "source": [
        "happy_filtered_df = happy_df[['Country','Happiness.Rank','Happiness.Score']]\n",
        "print(happy_filtered_df)"
      ],
      "execution_count": 24,
      "outputs": [
        {
          "output_type": "stream",
          "text": [
            "                      Country  Happiness.Rank  Happiness.Score\n",
            "0                      Norway               1            7.537\n",
            "1                     Denmark               2            7.522\n",
            "2                     Iceland               3            7.504\n",
            "3                 Switzerland               4            7.494\n",
            "4                     Finland               5            7.469\n",
            "5                 Netherlands               6            7.377\n",
            "6                      Canada               7            7.316\n",
            "7                 New Zealand               8            7.314\n",
            "8                      Sweden               9            7.284\n",
            "9                   Australia              10            7.284\n",
            "10                     Israel              11            7.213\n",
            "11                 Costa Rica              12            7.079\n",
            "12                    Austria              13            7.006\n",
            "13              United States              14            6.993\n",
            "14                    Ireland              15            6.977\n",
            "15                    Germany              16            6.951\n",
            "16                    Belgium              17            6.891\n",
            "17                 Luxembourg              18            6.863\n",
            "18             United Kingdom              19            6.714\n",
            "19                      Chile              20            6.652\n",
            "20       United Arab Emirates              21            6.648\n",
            "21                     Brazil              22            6.635\n",
            "22             Czech Republic              23            6.609\n",
            "23                  Argentina              24            6.599\n",
            "24                     Mexico              25            6.578\n",
            "25                  Singapore              26            6.572\n",
            "26                      Malta              27            6.527\n",
            "27                    Uruguay              28            6.454\n",
            "28                  Guatemala              29            6.454\n",
            "29                     Panama              30            6.452\n",
            "..                        ...             ...              ...\n",
            "125          Congo (Kinshasa)             126            4.280\n",
            "126                      Mali             127            4.190\n",
            "127               Ivory Coast             128            4.180\n",
            "128                  Cambodia             129            4.168\n",
            "129                     Sudan             130            4.139\n",
            "130                     Ghana             131            4.120\n",
            "131                   Ukraine             132            4.096\n",
            "132                    Uganda             133            4.081\n",
            "133              Burkina Faso             134            4.032\n",
            "134                     Niger             135            4.028\n",
            "135                    Malawi             136            3.970\n",
            "136                      Chad             137            3.936\n",
            "137                  Zimbabwe             138            3.875\n",
            "138                   Lesotho             139            3.808\n",
            "139                    Angola             140            3.795\n",
            "140               Afghanistan             141            3.794\n",
            "141                  Botswana             142            3.766\n",
            "142                     Benin             143            3.657\n",
            "143                Madagascar             144            3.644\n",
            "144                     Haiti             145            3.603\n",
            "145                     Yemen             146            3.593\n",
            "146               South Sudan             147            3.591\n",
            "147                   Liberia             148            3.533\n",
            "148                    Guinea             149            3.507\n",
            "149                      Togo             150            3.495\n",
            "150                    Rwanda             151            3.471\n",
            "151                     Syria             152            3.462\n",
            "152                  Tanzania             153            3.349\n",
            "153                   Burundi             154            2.905\n",
            "154  Central African Republic             155            2.693\n",
            "\n",
            "[155 rows x 3 columns]\n"
          ],
          "name": "stdout"
        }
      ]
    },
    {
      "metadata": {
        "id": "-cNONvxMU2Xg",
        "colab_type": "code",
        "outputId": "61beb2bf-4fe2-43cf-db8b-ac58aeaaf130",
        "colab": {
          "base_uri": "https://localhost:8080/",
          "height": 1105
        }
      },
      "cell_type": "code",
      "source": [
        "# clean NaN\n",
        "happy_filtered_df = happy_filtered_df.fillna(happy_filtered_df.mean())\n",
        "\n",
        "# mode =  happy_filtered_df['Country'].mode()[0]\n",
        "# happy_filtered_df['Country'] = happy_filtered_df.groupby('Country')['Country'].apply(lambda x: x.fillna(x.value_counts().idxmax() if x.value_counts().max() >=1 else mode , inplace = False))\n",
        "# happy_filtered_df['Country']= happy_filtered_df['Country'].fillna(happy_filtered_df['Country'].value_counts().idxmax())\n",
        "happy_filtered_df = remove_NaN(happy_filtered_df, ['Country'])\n",
        "print(happy_filtered_df)"
      ],
      "execution_count": 25,
      "outputs": [
        {
          "output_type": "stream",
          "text": [
            "                      Country  Happiness.Rank  Happiness.Score\n",
            "0                      Norway               1            7.537\n",
            "1                     Denmark               2            7.522\n",
            "2                     Iceland               3            7.504\n",
            "3                 Switzerland               4            7.494\n",
            "4                     Finland               5            7.469\n",
            "5                 Netherlands               6            7.377\n",
            "6                      Canada               7            7.316\n",
            "7                 New Zealand               8            7.314\n",
            "8                      Sweden               9            7.284\n",
            "9                   Australia              10            7.284\n",
            "10                     Israel              11            7.213\n",
            "11                 Costa Rica              12            7.079\n",
            "12                    Austria              13            7.006\n",
            "13              United States              14            6.993\n",
            "14                    Ireland              15            6.977\n",
            "15                    Germany              16            6.951\n",
            "16                    Belgium              17            6.891\n",
            "17                 Luxembourg              18            6.863\n",
            "18             United Kingdom              19            6.714\n",
            "19                      Chile              20            6.652\n",
            "20       United Arab Emirates              21            6.648\n",
            "21                     Brazil              22            6.635\n",
            "22             Czech Republic              23            6.609\n",
            "23                  Argentina              24            6.599\n",
            "24                     Mexico              25            6.578\n",
            "25                  Singapore              26            6.572\n",
            "26                      Malta              27            6.527\n",
            "27                    Uruguay              28            6.454\n",
            "28                  Guatemala              29            6.454\n",
            "29                     Panama              30            6.452\n",
            "..                        ...             ...              ...\n",
            "125          Congo (Kinshasa)             126            4.280\n",
            "126                      Mali             127            4.190\n",
            "127               Ivory Coast             128            4.180\n",
            "128                  Cambodia             129            4.168\n",
            "129                     Sudan             130            4.139\n",
            "130                     Ghana             131            4.120\n",
            "131                   Ukraine             132            4.096\n",
            "132                    Uganda             133            4.081\n",
            "133              Burkina Faso             134            4.032\n",
            "134                     Niger             135            4.028\n",
            "135                    Malawi             136            3.970\n",
            "136                      Chad             137            3.936\n",
            "137                  Zimbabwe             138            3.875\n",
            "138                   Lesotho             139            3.808\n",
            "139                    Angola             140            3.795\n",
            "140               Afghanistan             141            3.794\n",
            "141                  Botswana             142            3.766\n",
            "142                     Benin             143            3.657\n",
            "143                Madagascar             144            3.644\n",
            "144                     Haiti             145            3.603\n",
            "145                     Yemen             146            3.593\n",
            "146               South Sudan             147            3.591\n",
            "147                   Liberia             148            3.533\n",
            "148                    Guinea             149            3.507\n",
            "149                      Togo             150            3.495\n",
            "150                    Rwanda             151            3.471\n",
            "151                     Syria             152            3.462\n",
            "152                  Tanzania             153            3.349\n",
            "153                   Burundi             154            2.905\n",
            "154  Central African Republic             155            2.693\n",
            "\n",
            "[155 rows x 3 columns]\n"
          ],
          "name": "stdout"
        }
      ]
    },
    {
      "metadata": {
        "id": "DFamK03GZcyU",
        "colab_type": "code",
        "colab": {}
      },
      "cell_type": "code",
      "source": [
        "# print(happy_df.columns.values)\n",
        "# print(happy_df['Country'])\n",
        "# print(gtd_df.shape)"
      ],
      "execution_count": 0,
      "outputs": []
    },
    {
      "metadata": {
        "id": "FdxdAi_K-ZFc",
        "colab_type": "code",
        "colab": {}
      },
      "cell_type": "code",
      "source": [
        "# import sys\n",
        "# import math\n",
        "\n",
        "# count1 = 0\n",
        "# count2 = 0\n",
        "# count3 = 0\n",
        "# print(gtd_filtered_df.isna().sum())\n",
        "\n",
        "# if happy_filtered_df[\"Country\"] == \"NaN\":\n",
        "#   print(\"fady\")\n",
        "# print(sys.getsizeof(happy_filtered_df[\"Country\"][3]))\n",
        "\n",
        "# for i in range(sys.getsizeof(happy_filtered_df[\"Country\"])):\n",
        "#   if happy_filtered_df[\"Country\"][i] == \"NaN\":\n",
        "#     count1 += 1\n",
        "    \n",
        "# for i in range(sys.getsizeof(happy_filtered_df[\"Happiness.Rank\"])):\n",
        "#   if math.isnan(happy_filtered_df[\"Happiness.Rank\"][i]) :\n",
        "#     count2 += 1\n",
        "    \n",
        "# for i in range(sys.getsizeof(happy_filtered_df[\"Happiness.Score\"])):\n",
        "#   if math.isnan(happy_filtered_df[\"Happiness.Score\"][i]):\n",
        "#     count3 += 1\n",
        "  \n",
        "# print(count1)\n",
        "# print(count2)\n",
        "# print(count3)\n"
      ],
      "execution_count": 0,
      "outputs": []
    },
    {
      "metadata": {
        "id": "vUerAkcwHScA",
        "colab_type": "code",
        "colab": {}
      },
      "cell_type": "code",
      "source": [
        "d = {'one': pd.Series([1., 3.], index=['a', 'c']), 'two': pd.Series([1., 2., 3., 4.], index=['a', 'b', 'c', 'd']), 'three': pd.Series([\"A\", \"B\", \"A\"], index=['a', 'c', 'd'])}\n",
        "df = pd.DataFrame(d)\n",
        "print(df)\n",
        "# print(df.isna().sum())\n",
        "df = df.fillna(df.mean())\n",
        "mode =  df['three'].mode()[0]\n",
        "df['three'] = df.groupby('three')['three'].apply(lambda x: x.fillna(x.value_counts().idxmax() if x.value_counts().max() >=1 else mode , inplace = False))\n",
        "df['three']= df['three'].fillna(df['three'].value_counts().idxmax())\n",
        "print(df)"
      ],
      "execution_count": 0,
      "outputs": []
    }
  ]
}