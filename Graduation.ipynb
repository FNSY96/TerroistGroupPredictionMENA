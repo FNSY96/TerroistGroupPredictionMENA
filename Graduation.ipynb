{
  "nbformat": 4,
  "nbformat_minor": 0,
  "metadata": {
    "colab": {
      "name": "Graduation.ipynb",
      "version": "0.3.2",
      "provenance": [],
      "collapsed_sections": [],
      "include_colab_link": true
    },
    "kernelspec": {
      "name": "python3",
      "display_name": "Python 3"
    }
  },
  "cells": [
    {
      "cell_type": "markdown",
      "metadata": {
        "id": "view-in-github",
        "colab_type": "text"
      },
      "source": [
        "<a href=\"https://colab.research.google.com/github/FNSY96/TerrorismEventsPrediction/blob/master/Graduation.ipynb\" target=\"_parent\"><img src=\"https://colab.research.google.com/assets/colab-badge.svg\" alt=\"Open In Colab\"/></a>"
      ]
    },
    {
      "metadata": {
        "id": "RsDgF2VKIYXp",
        "colab_type": "code",
        "colab": {}
      },
      "cell_type": "code",
      "source": [
        "# ! git config --global user.email \"fadynabilyacoub@gmail.com\"\n",
        "# ! git config --global user.name \"FNSY96\""
      ],
      "execution_count": 0,
      "outputs": []
    },
    {
      "metadata": {
        "id": "XN8JFAyGJQOs",
        "colab_type": "code",
        "outputId": "1d09f66d-bb05-4be4-fe13-4ea157bcfaf0",
        "colab": {
          "base_uri": "https://localhost:8080/",
          "height": 80
        }
      },
      "cell_type": "code",
      "source": [
        "! ls"
      ],
      "execution_count": 0,
      "outputs": [
        {
          "output_type": "stream",
          "text": [
            "adc.json  Gecon40_post_final.csv  gtd.csv\n",
            "drive\t  GeoEPR-2018.1.csv\t  sample_data\n"
          ],
          "name": "stdout"
        }
      ]
    },
    {
      "metadata": {
        "id": "KSJaTMLEHyAx",
        "colab_type": "code",
        "outputId": "ab34c58a-f63e-47f0-dcf1-b30359c4df37",
        "colab": {
          "base_uri": "https://localhost:8080/",
          "height": 352
        }
      },
      "cell_type": "code",
      "source": [
        "# ! git init\n",
        "! git commit -m \"first commit after uploading gtd\"\n",
        "! git remote add origin https://github.com/FNSY96/TerrorismEventsPrediction.git\n",
        "! git push -u origin master"
      ],
      "execution_count": 0,
      "outputs": [
        {
          "output_type": "stream",
          "text": [
            "Reinitialized existing Git repository in /content/.git/\n",
            "On branch master\n",
            "\n",
            "Initial commit\n",
            "\n",
            "Untracked files:\n",
            "\t\u001b[31m.config/\u001b[m\n",
            "\t\u001b[31mGecon40_post_final.csv\u001b[m\n",
            "\t\u001b[31mGeoEPR-2018.1.csv\u001b[m\n",
            "\t\u001b[31madc.json\u001b[m\n",
            "\t\u001b[31mdrive/\u001b[m\n",
            "\t\u001b[31mgtd.csv\u001b[m\n",
            "\t\u001b[31msample_data/\u001b[m\n",
            "\n",
            "nothing added to commit but untracked files present\n",
            "fatal: remote origin already exists.\n",
            "error: src refspec master does not match any.\n",
            "error: failed to push some refs to 'https://github.com/FNSY96/TerrorismEventsPrediction.git'\n"
          ],
          "name": "stdout"
        }
      ]
    },
    {
      "metadata": {
        "id": "vpJLCFPeJF_r",
        "colab_type": "code",
        "outputId": "0dd6d9ff-28de-4173-9a02-2fe2b06d6a34",
        "colab": {
          "base_uri": "https://localhost:8080/",
          "height": 63
        }
      },
      "cell_type": "code",
      "source": [
        "! git log"
      ],
      "execution_count": 0,
      "outputs": [
        {
          "output_type": "stream",
          "text": [
            "fatal: your current branch 'master' does not have any commits yet\n"
          ],
          "name": "stdout"
        }
      ]
    },
    {
      "metadata": {
        "id": "3t4_K6rWMxmH",
        "colab_type": "text"
      },
      "cell_type": "markdown",
      "source": [
        "# **Python Imports**"
      ]
    },
    {
      "metadata": {
        "id": "3SkGUUzMMr4V",
        "colab_type": "code",
        "colab": {}
      },
      "cell_type": "code",
      "source": [
        "import pandas as pd\n",
        "import csv\n",
        "import glob\n",
        "import os\n",
        "from pandas import ExcelWriter\n",
        "from pandas import ExcelFile\n",
        "from google.colab import drive\n",
        "from pydrive.auth import GoogleAuth\n",
        "from pydrive.drive import GoogleDrive\n",
        "from google.colab import auth\n",
        "from oauth2client.client import GoogleCredentials\n",
        "import io\n"
      ],
      "execution_count": 0,
      "outputs": []
    },
    {
      "metadata": {
        "id": "ts4MLZnIaj37",
        "colab_type": "code",
        "outputId": "69611a5f-b2ac-4a57-8af0-7f8cfeb9eed2",
        "colab": {
          "base_uri": "https://localhost:8080/",
          "height": 131
        }
      },
      "cell_type": "code",
      "source": [
        "# !pip3 install pandas"
      ],
      "execution_count": 0,
      "outputs": [
        {
          "output_type": "stream",
          "text": [
            "Requirement already satisfied: pandas in /usr/local/lib/python3.6/dist-packages (0.22.0)\n",
            "Requirement already satisfied: python-dateutil>=2 in /usr/local/lib/python3.6/dist-packages (from pandas) (2.5.3)\n",
            "Requirement already satisfied: numpy>=1.9.0 in /usr/local/lib/python3.6/dist-packages (from pandas) (1.14.6)\n",
            "Requirement already satisfied: pytz>=2011k in /usr/local/lib/python3.6/dist-packages (from pandas) (2018.9)\n",
            "Requirement already satisfied: six>=1.5 in /usr/local/lib/python3.6/dist-packages (from python-dateutil>=2->pandas) (1.11.0)\n"
          ],
          "name": "stdout"
        }
      ]
    },
    {
      "metadata": {
        "id": "BTQAhp_HNvyG",
        "colab_type": "text"
      },
      "cell_type": "markdown",
      "source": [
        "# Data Set Imports"
      ]
    },
    {
      "metadata": {
        "id": "N13I8JpfMHc6",
        "colab_type": "code",
        "colab": {}
      },
      "cell_type": "code",
      "source": [
        "!pip install -U -q PyDrive\n",
        "auth.authenticate_user()\n",
        "gauth = GoogleAuth()\n",
        "gauth.credentials = GoogleCredentials.get_application_default()\n",
        "drive = GoogleDrive(gauth)"
      ],
      "execution_count": 0,
      "outputs": []
    },
    {
      "metadata": {
        "id": "cqHgP-9lFfIc",
        "colab_type": "code",
        "outputId": "05d8afa0-1dc7-41c3-d47d-6f17d88e7d64",
        "colab": {
          "base_uri": "https://localhost:8080/",
          "height": 189
        }
      },
      "cell_type": "code",
      "source": [
        "drive.mount('/content/drive')\n",
        "datadir  = 'drive/My Drive/GraduationProject/Data'"
      ],
      "execution_count": 0,
      "outputs": [
        {
          "output_type": "stream",
          "text": [
            "Go to this URL in a browser: https://accounts.google.com/o/oauth2/auth?client_id=947318989803-6bn6qk8qdgf4n4g3pfee6491hc0brc4i.apps.googleusercontent.com&redirect_uri=urn%3Aietf%3Awg%3Aoauth%3A2.0%3Aoob&scope=email%20https%3A%2F%2Fwww.googleapis.com%2Fauth%2Fdocs.test%20https%3A%2F%2Fwww.googleapis.com%2Fauth%2Fdrive%20https%3A%2F%2Fwww.googleapis.com%2Fauth%2Fdrive.photos.readonly%20https%3A%2F%2Fwww.googleapis.com%2Fauth%2Fpeopleapi.readonly&response_type=code\n",
            "\n",
            "Enter your authorization code:\n",
            "··········\n",
            "Mounted at /content/drive\n"
          ],
          "name": "stdout"
        }
      ]
    },
    {
      "metadata": {
        "id": "fPRCS5s_N2zb",
        "colab_type": "text"
      },
      "cell_type": "markdown",
      "source": [
        "### **GeoEPR**"
      ]
    },
    {
      "metadata": {
        "id": "aatx7iYTN1yS",
        "colab_type": "code",
        "colab": {}
      },
      "cell_type": "code",
      "source": [
        "fid = drive.ListFile({'q':\"title='GeoEPR-2018.1.csv'\"}).GetList()[0]['id']\n",
        "f = drive.CreateFile({'id': fid})\n",
        "f.GetContentFile('GeoEPR-2018.1.csv')\n",
        "f.Upload()"
      ],
      "execution_count": 0,
      "outputs": []
    },
    {
      "metadata": {
        "colab_type": "text",
        "id": "X3nuloFsSntT"
      },
      "cell_type": "markdown",
      "source": [
        "### **Gecon40_post_final**"
      ]
    },
    {
      "metadata": {
        "colab_type": "code",
        "id": "Mw-lqNFlSntV",
        "colab": {}
      },
      "cell_type": "code",
      "source": [
        "fid = drive.ListFile({'q':\"title='Gecon40_post_final.csv'\"}).GetList()[0]['id']\n",
        "f = drive.CreateFile({'id': fid})\n",
        "f.GetContentFile('Gecon40_post_final.csv')\n",
        "f.Upload()"
      ],
      "execution_count": 0,
      "outputs": []
    },
    {
      "metadata": {
        "id": "1qsmoZ3eReyA",
        "colab_type": "text"
      },
      "cell_type": "markdown",
      "source": [
        "###**GTD**"
      ]
    },
    {
      "metadata": {
        "id": "JvNzAiEaX4MW",
        "colab_type": "code",
        "colab": {}
      },
      "cell_type": "code",
      "source": [
        "!ls drive/'My Drive'/GraduationProject/Data/gtd.csv"
      ],
      "execution_count": 0,
      "outputs": []
    },
    {
      "metadata": {
        "id": "nZjjGdaLVMkv",
        "colab_type": "text"
      },
      "cell_type": "markdown",
      "source": [
        "# Pandas Data Frames"
      ]
    },
    {
      "metadata": {
        "id": "3bYFOOr9U-7h",
        "colab_type": "text"
      },
      "cell_type": "markdown",
      "source": [
        "## **CSV**"
      ]
    },
    {
      "metadata": {
        "id": "hzPwkdhBZRZU",
        "colab_type": "code",
        "outputId": "72697e44-a1d0-4c3b-a17c-ee89642160f5",
        "colab": {
          "base_uri": "https://localhost:8080/",
          "height": 111
        }
      },
      "cell_type": "code",
      "source": [
        "gtd_df = pd.read_csv(os.path.join(datadir, 'gtd.csv'),encoding='latin-1')\n",
        "print(type(gtd_df))\n",
        "# data.head(n=len(data))"
      ],
      "execution_count": 0,
      "outputs": [
        {
          "output_type": "stream",
          "text": [
            "/usr/local/lib/python3.6/dist-packages/IPython/core/interactiveshell.py:2718: DtypeWarning: Columns (4,6,31,33,61,62,63,76,79,90,92,94,96,114,115,121) have mixed types. Specify dtype option on import or set low_memory=False.\n",
            "  interactivity=interactivity, compiler=compiler, result=result)\n"
          ],
          "name": "stderr"
        },
        {
          "output_type": "stream",
          "text": [
            "<class 'pandas.core.frame.DataFrame'>\n"
          ],
          "name": "stdout"
        }
      ]
    },
    {
      "metadata": {
        "id": "t6AAaOVhHY6z",
        "colab_type": "code",
        "outputId": "7f27c7d2-8095-4b89-a195-2832f38bbb97",
        "colab": {
          "base_uri": "https://localhost:8080/",
          "height": 4372
        }
      },
      "cell_type": "code",
      "source": [
        "gecon_df = pd.read_csv(os.path.join(datadir, 'Gecon40_post_final_kh.csv'),encoding='latin-1')\n"
      ],
      "execution_count": 0,
      "outputs": [
        {
          "output_type": "stream",
          "text": [
            "           AREA             COUNTRY         D1         D2        D3        D4  \\\n",
            "0             0  Bosnia&Herzegovina     0.0000     0.0000    0.0000    0.0000   \n",
            "1      10.47769              Brazil   252.8497   181.7542  168.6656  156.6020   \n",
            "2      33.62301              Brazil   639.8335   109.1993  109.1993  109.1993   \n",
            "3      12.15342              Brazil   565.7923   565.7923  522.7566  522.7566   \n",
            "4      36.46025              Brazil   604.4861   604.4861  547.9117  547.9117   \n",
            "5             0              Brazil     0.2873     0.2873    0.2873    0.2873   \n",
            "6             0              Brazil   520.2774   441.4826  184.3687  184.3687   \n",
            "7      12.35509              Brazil   384.9028   384.9028  384.9028  341.5250   \n",
            "8      12.34964              Brazil     0.8852     0.8852    0.8852    0.8852   \n",
            "9             0            Cameroon   627.4135   627.4135   19.5632   19.5632   \n",
            "10     361.9061            Cameroon  1085.3410  1085.3410   37.3248    4.7014   \n",
            "11     7773.164              Canada   133.8111   133.8111  133.8111  116.3476   \n",
            "12     7773.164              Canada   134.4019   134.4019  134.4019  134.4019   \n",
            "13     7773.164              Canada   143.4104   143.4104  143.4104  143.4104   \n",
            "14     7773.164              Canada   114.2604   114.2604  114.2604  114.2604   \n",
            "15     7605.392              Canada   320.0106   320.0106  320.0106  209.7864   \n",
            "16     7605.392              Canada   283.0884   283.0884  283.0884  145.3123   \n",
            "17     7435.375              Canada   411.6434   411.6434  411.6434  215.8604   \n",
            "18     7435.375              Canada   384.0539   384.0539  384.0539  154.9459   \n",
            "19     7263.159              Canada   511.0748   511.0748  511.0748  265.7430   \n",
            "20     7263.159              Canada   489.4851   489.4851  489.4851  220.0254   \n",
            "21     7088.785              Canada   614.5502   614.5502  614.5502  345.4655   \n",
            "22     7088.785              Canada   597.0704   597.0704  597.0704  312.3668   \n",
            "23     7088.785              Canada   577.9646   577.9646  577.9646  281.8414   \n",
            "24     7088.785              Canada   576.5863   576.5863  576.5863  288.6441   \n",
            "25     6912.295              Canada   901.9669   901.9669  901.9669  695.0512   \n",
            "26     6912.295              Canada   862.6837   862.6837  862.6837  644.5496   \n",
            "27     6912.295              Canada   826.4434   826.4434  826.4434  596.2349   \n",
            "28     6912.295              Canada   793.6675   793.6675  793.6675  550.6896   \n",
            "29     6912.295              Canada   764.7646   764.7646  764.7646  508.6645   \n",
            "...         ...                 ...        ...        ...       ...       ...   \n",
            "27415  10290.77            Zimbabwe   223.7600   223.7600  223.7600  223.7600   \n",
            "27416  104.6519            Zimbabwe   166.6142   166.6142  166.6142  166.6142   \n",
            "27417  4294.411            Zimbabwe   922.1145   922.1145  865.9441  135.4662   \n",
            "27418  11572.68            Zimbabwe   844.0135   844.0135  795.6529   78.6040   \n",
            "27419  11701.39            Zimbabwe   742.4441   742.4441  722.2519   71.9009   \n",
            "27420  11701.39            Zimbabwe   641.3942   641.3942  641.3942  147.2811   \n",
            "27421  11701.39            Zimbabwe   540.9727   540.9727  540.9727  200.8541   \n",
            "27422  11701.39            Zimbabwe   441.6085   441.6085  441.6085  255.1614   \n",
            "27423  11701.39            Zimbabwe   344.2185   344.2185  344.2185  293.8391   \n",
            "27424  10648.27            Zimbabwe   256.1142   256.1142  256.1142  256.1142   \n",
            "27425  58.50695            Zimbabwe   214.5852   214.5852  214.5852  214.5852   \n",
            "27426  1094.716            Zimbabwe   951.7302   951.7302  911.9226  151.4862   \n",
            "27427  400.2186            Zimbabwe   871.5996   871.5996  848.6778   70.6137   \n",
            "27428  6791.945            Zimbabwe   749.1365   749.1365  749.1365   17.0729   \n",
            "27429  11771.13            Zimbabwe   671.7415   671.7415  671.7415   65.5143   \n",
            "27430  11771.13            Zimbabwe   576.5799   576.5799  576.5799  104.2600   \n",
            "27431  11771.13            Zimbabwe   484.5245   484.5245  484.5245  182.5746   \n",
            "27432  11771.13            Zimbabwe   397.7380   397.7380  397.7380  184.4416   \n",
            "27433   11500.4            Zimbabwe   321.2574   321.2574  321.2574  198.4693   \n",
            "27434  82.39795            Zimbabwe   281.7131   281.7131  281.7131  217.4465   \n",
            "27435  153.8834            Zimbabwe   749.2209   749.2209  749.2209    4.1544   \n",
            "27436    5125.5            Zimbabwe   693.1867   693.1867  693.1867    1.1615   \n",
            "27437  11837.18            Zimbabwe   629.8650   629.8650  629.8650   52.7737   \n",
            "27438  11801.67            Zimbabwe   546.7586   546.7586  546.7586   97.4030   \n",
            "27439  9943.232            Zimbabwe   468.9584   468.9584  468.9584   84.1414   \n",
            "27440  5101.825            Zimbabwe   390.3988   390.3988  390.3988  116.0677   \n",
            "27441  71.39693            Zimbabwe   707.9332   707.9332  707.9332   62.4874   \n",
            "27442  3474.651            Zimbabwe   665.1368   665.1368  665.1368  102.7455   \n",
            "27443  1844.421            Zimbabwe   619.0456   619.0456  619.0456   63.4754   \n",
            "27444  11.89949            Zimbabwe   536.7775   536.7775  536.7775   14.8443   \n",
            "\n",
            "       DIS_LAKE  DIS_MAJOR_RIVER   DIS_OCEAN  DIS_RIVER     ...      \\\n",
            "0           NaN              NaN         NaN        NaN     ...       \n",
            "1      156602.0         181754.2   252849.70   168665.6     ...       \n",
            "2      580072.4         109199.3   639833.50   188349.1     ...       \n",
            "3      630609.5         683543.5   565792.30   522756.6     ...       \n",
            "4      615035.5         671245.9   604486.10   547911.6     ...       \n",
            "5      522919.3        1508678.0      287.26    66590.9     ...       \n",
            "6      963283.0         441482.6   520277.40   184368.7     ...       \n",
            "7      341525.0         461270.0   384902.80   460950.9     ...       \n",
            "8      486620.9         511721.4      885.16   546558.6     ...       \n",
            "9      446003.6        1007535.0   627413.50    19563.2     ...       \n",
            "10       4701.4        2082788.0  1085341.00    37324.8     ...       \n",
            "11     116347.6         731828.7   133811.10   754856.2     ...       \n",
            "12     153765.4         781171.1   134401.90   805513.3     ...       \n",
            "13     205771.2         833294.2   143410.40   858713.0     ...       \n",
            "14     263858.0         887702.5   114260.40   914005.7     ...       \n",
            "15     209786.4         645935.2   320010.60   648564.4     ...       \n",
            "16     145312.3         659120.1   283088.40   666131.7     ...       \n",
            "17     215860.4         756157.8   411643.40   757551.2     ...       \n",
            "18     154945.9         767240.2   384053.90   772363.0     ...       \n",
            "19     265743.0         866670.8   511074.80   867140.9     ...       \n",
            "20     220025.4         876171.9   489485.10   879863.0     ...       \n",
            "21     345465.5         977382.1   614550.30   977136.7     ...       \n",
            "22     312366.8         985652.3   597070.40   988224.0     ...       \n",
            "23     281841.4        1035938.0   577964.60  1046355.0     ...       \n",
            "24     288644.1        1060515.0   576586.30  1073266.0     ...       \n",
            "25     695051.2        1114719.0   901966.90  1111724.0     ...       \n",
            "26     644549.6        1101697.0   862683.70  1097911.0     ...       \n",
            "27     596234.9        1092485.0   826443.40  1087902.0     ...       \n",
            "28     550689.6        1087183.0   793667.60  1081803.0     ...       \n",
            "29     508664.5        1085272.0   764764.60  1079682.0     ...       \n",
            "...         ...              ...         ...        ...     ...       \n",
            "27415  419642.3        2480429.0   223760.00   415025.7     ...       \n",
            "27416  461908.1        2547747.0   166614.20   387447.2     ...       \n",
            "27417  135466.2        1882551.0   922114.50   865944.1     ...       \n",
            "27418   78604.0        1948524.0   844013.50   795652.9     ...       \n",
            "27419   71900.9        2020888.0   742444.10   722251.9     ...       \n",
            "27420  147281.1        2096063.0   641394.20   656470.8     ...       \n",
            "27421  200854.1        2173525.0   540972.70   601102.9     ...       \n",
            "27422  255161.4        2253039.0   441608.50   559249.6     ...       \n",
            "27423  293839.1        2334394.0   344218.50   534097.5     ...       \n",
            "27424  304356.3        2412363.0   256114.20   530935.4     ...       \n",
            "27425  305820.8        2453700.0   214585.20   546522.1     ...       \n",
            "27426  151486.2        1834281.0   951730.20   911922.6     ...       \n",
            "27427   70613.7        1893902.0   871599.60   848677.8     ...       \n",
            "27428   17072.9        1966751.0   749136.50   786260.3     ...       \n",
            "27429   65514.3        2023682.0   671741.50   748385.6     ...       \n",
            "27430  104260.0        2103849.0   576579.90   700298.7     ...       \n",
            "27431  182574.6        2185937.0   484524.50   664703.2     ...       \n",
            "27432  184441.6        2269739.0   397738.00   643674.7     ...       \n",
            "27433  198469.3        2354115.0   321257.40   638434.7     ...       \n",
            "27434  217446.5        2403153.0   281713.10   636005.3     ...       \n",
            "27435    4154.4        1939731.0   749220.90   830684.4     ...       \n",
            "27436    1161.5        1981408.0   693186.70   817191.8     ...       \n",
            "27437   52773.7        2037811.0   629865.00   802493.3     ...       \n",
            "27438   97403.0        2122528.0   546758.60   771446.3     ...       \n",
            "27439   84141.4        2209140.0   468958.40   746165.4     ...       \n",
            "27440  116067.7        2302936.0   390398.80   720790.0     ...       \n",
            "27441   62487.4        1959424.0   707933.20   876592.2     ...       \n",
            "27442  102745.5        2004458.0   665136.80   867612.5     ...       \n",
            "27443   63475.4        2056067.0   619045.60   852064.5     ...       \n",
            "27444   14844.3        2148991.0   536777.50   813215.2     ...       \n",
            "\n",
            "       DATE OF LAST  Unnamed: 47  Unnamed: 48  Unnamed: 49 Unnamed: 50  \\\n",
            "0        30/12/2006          NaN          NaN          NaN         NaN   \n",
            "1         10/6/2009          NaN          NaN          NaN         NaN   \n",
            "2         10/6/2009          NaN          NaN          NaN         NaN   \n",
            "3         10/6/2009          NaN          NaN          NaN         NaN   \n",
            "4         10/6/2009          NaN          NaN          NaN         NaN   \n",
            "5         10/6/2009          NaN          NaN          NaN         NaN   \n",
            "6         10/6/2009          NaN          NaN          NaN         NaN   \n",
            "7         10/6/2009          NaN          NaN          NaN         NaN   \n",
            "8         10/6/2009          NaN          NaN          NaN         NaN   \n",
            "9        30/12/2006          NaN          NaN          NaN         NaN   \n",
            "10       30/12/2006          NaN          NaN          NaN         NaN   \n",
            "11         1/2/2011          NaN          NaN          NaN         NaN   \n",
            "12         1/2/2011          NaN          NaN          NaN         NaN   \n",
            "13         1/2/2011          NaN          NaN          NaN         NaN   \n",
            "14         1/2/2011          NaN          NaN          NaN         NaN   \n",
            "15         1/2/2011          NaN          NaN          NaN         NaN   \n",
            "16         1/2/2011          NaN          NaN          NaN         NaN   \n",
            "17         1/2/2011          NaN          NaN          NaN         NaN   \n",
            "18         1/2/2011          NaN          NaN          NaN         NaN   \n",
            "19         1/2/2011          NaN          NaN          NaN         NaN   \n",
            "20         1/2/2011          NaN          NaN          NaN         NaN   \n",
            "21         1/2/2011          NaN          NaN          NaN         NaN   \n",
            "22         1/2/2011          NaN          NaN          NaN         NaN   \n",
            "23         1/2/2011          NaN          NaN          NaN         NaN   \n",
            "24         1/2/2011          NaN          NaN          NaN         NaN   \n",
            "25         1/2/2011          NaN          NaN          NaN         NaN   \n",
            "26         1/2/2011          NaN          NaN          NaN         NaN   \n",
            "27         1/2/2011          NaN          NaN          NaN         NaN   \n",
            "28         1/2/2011          NaN          NaN          NaN         NaN   \n",
            "29         1/2/2011          NaN          NaN          NaN         NaN   \n",
            "...             ...          ...          ...          ...         ...   \n",
            "27415    30/12/2006          NaN          NaN          NaN         NaN   \n",
            "27416    30/12/2006          NaN          NaN          NaN         NaN   \n",
            "27417    30/12/2006          NaN          NaN          NaN         NaN   \n",
            "27418    30/12/2006          NaN          NaN          NaN         NaN   \n",
            "27419    30/12/2006          NaN          NaN          NaN         NaN   \n",
            "27420    30/12/2006          NaN          NaN          NaN         NaN   \n",
            "27421    30/12/2006          NaN          NaN          NaN         NaN   \n",
            "27422    30/12/2006          NaN          NaN          NaN         NaN   \n",
            "27423    30/12/2006          NaN          NaN          NaN         NaN   \n",
            "27424    30/12/2006          NaN          NaN          NaN         NaN   \n",
            "27425    30/12/2006          NaN          NaN          NaN         NaN   \n",
            "27426    30/12/2006          NaN          NaN          NaN         NaN   \n",
            "27427    30/12/2006          NaN          NaN          NaN         NaN   \n",
            "27428    30/12/2006          NaN          NaN          NaN         NaN   \n",
            "27429    30/12/2006          NaN          NaN          NaN         NaN   \n",
            "27430    30/12/2006          NaN          NaN          NaN         NaN   \n",
            "27431    30/12/2006          NaN          NaN          NaN         NaN   \n",
            "27432    30/12/2006          NaN          NaN          NaN         NaN   \n",
            "27433    30/12/2006          NaN          NaN          NaN         NaN   \n",
            "27434    30/12/2006          NaN          NaN          NaN         NaN   \n",
            "27435    30/12/2006          NaN          NaN          NaN         NaN   \n",
            "27436    30/12/2006          NaN          NaN          NaN         NaN   \n",
            "27437    30/12/2006          NaN          NaN          NaN         NaN   \n",
            "27438    30/12/2006          NaN          NaN          NaN         NaN   \n",
            "27439    30/12/2006          NaN          NaN          NaN         NaN   \n",
            "27440    30/12/2006          NaN          NaN          NaN         NaN   \n",
            "27441    30/12/2006          NaN          NaN          NaN         NaN   \n",
            "27442    30/12/2006          NaN          NaN          NaN         NaN   \n",
            "27443    30/12/2006          NaN          NaN          NaN         NaN   \n",
            "27444    30/12/2006          NaN          NaN          NaN         NaN   \n",
            "\n",
            "       Unnamed: 51 Unnamed: 52 Unnamed: 53 Unnamed: 54 Unnamed: 55  \n",
            "0              NaN         NaN         NaN         NaN         NaN  \n",
            "1              NaN         NaN         NaN         NaN         NaN  \n",
            "2              NaN         NaN         NaN         NaN         NaN  \n",
            "3              NaN         NaN         NaN         NaN         NaN  \n",
            "4              NaN         NaN         NaN         NaN         NaN  \n",
            "5              NaN         NaN         NaN         NaN         NaN  \n",
            "6              NaN         NaN         NaN         NaN         NaN  \n",
            "7              NaN         NaN         NaN         NaN         NaN  \n",
            "8              NaN         NaN         NaN         NaN         NaN  \n",
            "9              NaN         NaN         NaN         NaN         NaN  \n",
            "10             NaN         NaN         NaN         NaN         NaN  \n",
            "11             NaN         NaN         NaN         NaN         NaN  \n",
            "12             NaN         NaN         NaN         NaN         NaN  \n",
            "13             NaN         NaN         NaN         NaN         NaN  \n",
            "14             NaN         NaN         NaN         NaN         NaN  \n",
            "15             NaN         NaN         NaN         NaN         NaN  \n",
            "16             NaN         NaN         NaN         NaN         NaN  \n",
            "17             NaN         NaN         NaN         NaN         NaN  \n",
            "18             NaN         NaN         NaN         NaN         NaN  \n",
            "19             NaN         NaN         NaN         NaN         NaN  \n",
            "20             NaN         NaN         NaN         NaN         NaN  \n",
            "21             NaN         NaN         NaN         NaN         NaN  \n",
            "22             NaN         NaN         NaN         NaN         NaN  \n",
            "23             NaN         NaN         NaN         NaN         NaN  \n",
            "24             NaN         NaN         NaN         NaN         NaN  \n",
            "25             NaN         NaN         NaN         NaN         NaN  \n",
            "26             NaN         NaN         NaN         NaN         NaN  \n",
            "27             NaN         NaN         NaN         NaN         NaN  \n",
            "28             NaN         NaN         NaN         NaN         NaN  \n",
            "29             NaN         NaN         NaN         NaN         NaN  \n",
            "...            ...         ...         ...         ...         ...  \n",
            "27415          NaN         NaN         NaN         NaN         NaN  \n",
            "27416          NaN         NaN         NaN         NaN         NaN  \n",
            "27417          NaN         NaN         NaN         NaN         NaN  \n",
            "27418          NaN         NaN         NaN         NaN         NaN  \n",
            "27419          NaN         NaN         NaN         NaN         NaN  \n",
            "27420          NaN         NaN         NaN         NaN         NaN  \n",
            "27421          NaN         NaN         NaN         NaN         NaN  \n",
            "27422          NaN         NaN         NaN         NaN         NaN  \n",
            "27423          NaN         NaN         NaN         NaN         NaN  \n",
            "27424          NaN         NaN         NaN         NaN         NaN  \n",
            "27425          NaN         NaN         NaN         NaN         NaN  \n",
            "27426          NaN         NaN         NaN         NaN         NaN  \n",
            "27427          NaN         NaN         NaN         NaN         NaN  \n",
            "27428          NaN         NaN         NaN         NaN         NaN  \n",
            "27429          NaN         NaN         NaN         NaN         NaN  \n",
            "27430          NaN         NaN         NaN         NaN         NaN  \n",
            "27431          NaN         NaN         NaN         NaN         NaN  \n",
            "27432          NaN         NaN         NaN         NaN         NaN  \n",
            "27433          NaN         NaN         NaN         NaN         NaN  \n",
            "27434          NaN         NaN         NaN         NaN         NaN  \n",
            "27435          NaN         NaN         NaN         NaN         NaN  \n",
            "27436          NaN         NaN         NaN         NaN         NaN  \n",
            "27437          NaN         NaN         NaN         NaN         NaN  \n",
            "27438          NaN         NaN         NaN         NaN         NaN  \n",
            "27439          NaN         NaN         NaN         NaN         NaN  \n",
            "27440          NaN         NaN         NaN         NaN         NaN  \n",
            "27441          NaN         NaN         NaN         NaN         NaN  \n",
            "27442          NaN         NaN         NaN         NaN         NaN  \n",
            "27443          NaN         NaN         NaN         NaN         NaN  \n",
            "27444          NaN         NaN         NaN         NaN         NaN  \n",
            "\n",
            "[27445 rows x 56 columns]\n"
          ],
          "name": "stdout"
        },
        {
          "output_type": "stream",
          "text": [
            "/usr/local/lib/python3.6/dist-packages/IPython/core/interactiveshell.py:2718: DtypeWarning: Columns (16,19,25,28) have mixed types. Specify dtype option on import or set low_memory=False.\n",
            "  interactivity=interactivity, compiler=compiler, result=result)\n"
          ],
          "name": "stderr"
        }
      ]
    },
    {
      "metadata": {
        "id": "FxROAWqbNAo4",
        "colab_type": "code",
        "colab": {}
      },
      "cell_type": "code",
      "source": [
        "#geo_epr_df = pd.read_csv(\"GeoEPR-2018.1.csv\", header=None)\n",
        "# gecon_df = pd.read_csv(\"Gecon40_post_final.csv\", header=None)\n",
        "# population_density_nasa_df =  pd.read_csv(\"population_density_nasa.csv\", header=None)\n",
        " gtd_df =  pd.read_csv(\"gtd.csv\", header=None)\n",
        "# print(geo_epr_df)"
      ],
      "execution_count": 0,
      "outputs": []
    }
  ]
}