{
  "nbformat": 4,
  "nbformat_minor": 0,
  "metadata": {
    "colab": {
      "name": "Graduation.ipynb",
      "version": "0.3.2",
      "provenance": [],
      "collapsed_sections": [
        "BTQAhp_HNvyG",
        "RkR7Qwd8xj77",
        "UWu8qbPKoZQI",
        "f4rbBLk3_hkq"
      ],
      "include_colab_link": true
    },
    "kernelspec": {
      "name": "python3",
      "display_name": "Python 3"
    }
  },
  "cells": [
    {
      "cell_type": "markdown",
      "metadata": {
        "id": "view-in-github",
        "colab_type": "text"
      },
      "source": [
        "<a href=\"https://colab.research.google.com/github/FNSY96/TerrorismEventsPrediction/blob/master/Graduation.ipynb\" target=\"_parent\"><img src=\"https://colab.research.google.com/assets/colab-badge.svg\" alt=\"Open In Colab\"/></a>"
      ]
    },
    {
      "metadata": {
        "id": "3t4_K6rWMxmH",
        "colab_type": "text"
      },
      "cell_type": "markdown",
      "source": [
        "# **Python Imports**\n",
        "PLEASE PUT ALL LIBRARY IMPORTS IN THIS CELL **ONLY**"
      ]
    },
    {
      "metadata": {
        "id": "3SkGUUzMMr4V",
        "colab_type": "code",
        "outputId": "ef17dd87-1a99-4970-f0a1-bf1e2ed4418d",
        "colab": {
          "base_uri": "https://localhost:8080/",
          "height": 34
        }
      },
      "cell_type": "code",
      "source": [
        "import pandas as pd\n",
        "import csv\n",
        "import glob\n",
        "import os\n",
        "from pandas import ExcelWriter\n",
        "from pandas import ExcelFile\n",
        "import numpy as np\n",
        "import io\n",
        "print(\"imports run\")"
      ],
      "execution_count": 1,
      "outputs": [
        {
          "output_type": "stream",
          "text": [
            "imports run\n"
          ],
          "name": "stdout"
        }
      ]
    },
    {
      "metadata": {
        "id": "ts4MLZnIaj37",
        "colab_type": "code",
        "outputId": "812b5114-3c98-428e-8a2e-c7c0e3af34af",
        "colab": {
          "base_uri": "https://localhost:8080/",
          "height": 102
        }
      },
      "cell_type": "code",
      "source": [
        "!pip3 install pandas"
      ],
      "execution_count": 2,
      "outputs": [
        {
          "output_type": "stream",
          "text": [
            "Requirement already satisfied: pandas in /usr/local/lib/python3.6/dist-packages (0.23.4)\n",
            "Requirement already satisfied: pytz>=2011k in /usr/local/lib/python3.6/dist-packages (from pandas) (2018.9)\n",
            "Requirement already satisfied: numpy>=1.9.0 in /usr/local/lib/python3.6/dist-packages (from pandas) (1.16.2)\n",
            "Requirement already satisfied: python-dateutil>=2.5.0 in /usr/local/lib/python3.6/dist-packages (from pandas) (2.5.3)\n",
            "Requirement already satisfied: six>=1.5 in /usr/local/lib/python3.6/dist-packages (from python-dateutil>=2.5.0->pandas) (1.11.0)\n"
          ],
          "name": "stdout"
        }
      ]
    },
    {
      "metadata": {
        "id": "BTQAhp_HNvyG",
        "colab_type": "text"
      },
      "cell_type": "markdown",
      "source": [
        "# Data Set Imports"
      ]
    },
    {
      "metadata": {
        "id": "N13I8JpfMHc6",
        "colab_type": "code",
        "outputId": "2a008964-691e-45a4-d172-5d53497f6d41",
        "colab": {
          "base_uri": "https://localhost:8080/",
          "height": 51
        }
      },
      "cell_type": "code",
      "source": [
        "!pip install -U -q PyDrive\n",
        "from google.colab import drive\n",
        "from pydrive.auth import GoogleAuth\n",
        "from pydrive.drive import GoogleDrive\n",
        "from google.colab import auth\n",
        "from oauth2client.client import GoogleCredentials\n",
        "auth.authenticate_user()\n",
        "gauth = GoogleAuth()\n",
        "gauth.credentials = GoogleCredentials.get_application_default()"
      ],
      "execution_count": 3,
      "outputs": [
        {
          "output_type": "stream",
          "text": [
            "\u001b[?25l\r\u001b[K    1% |▎                               | 10kB 17.9MB/s eta 0:00:01\r\u001b[K    2% |▋                               | 20kB 1.8MB/s eta 0:00:01\r\u001b[K    3% |█                               | 30kB 2.6MB/s eta 0:00:01\r\u001b[K    4% |█▎                              | 40kB 1.7MB/s eta 0:00:01\r\u001b[K    5% |█▋                              | 51kB 2.1MB/s eta 0:00:01\r\u001b[K    6% |██                              | 61kB 2.6MB/s eta 0:00:01\r\u001b[K    7% |██▎                             | 71kB 2.9MB/s eta 0:00:01\r\u001b[K    8% |██▋                             | 81kB 3.3MB/s eta 0:00:01\r\u001b[K    9% |███                             | 92kB 3.7MB/s eta 0:00:01\r\u001b[K    10% |███▎                            | 102kB 2.9MB/s eta 0:00:01\r\u001b[K    11% |███▋                            | 112kB 2.9MB/s eta 0:00:01\r\u001b[K    12% |████                            | 122kB 4.0MB/s eta 0:00:01\r\u001b[K    13% |████▎                           | 133kB 4.0MB/s eta 0:00:01\r\u001b[K    14% |████▋                           | 143kB 7.5MB/s eta 0:00:01\r\u001b[K    15% |█████                           | 153kB 7.6MB/s eta 0:00:01\r\u001b[K    16% |█████▎                          | 163kB 7.6MB/s eta 0:00:01\r\u001b[K    17% |█████▋                          | 174kB 7.7MB/s eta 0:00:01\r\u001b[K    18% |██████                          | 184kB 7.7MB/s eta 0:00:01\r\u001b[K    19% |██████▎                         | 194kB 7.8MB/s eta 0:00:01\r\u001b[K    20% |██████▋                         | 204kB 39.2MB/s eta 0:00:01\r\u001b[K    21% |███████                         | 215kB 8.6MB/s eta 0:00:01\r\u001b[K    22% |███████▎                        | 225kB 8.5MB/s eta 0:00:01\r\u001b[K    23% |███████▋                        | 235kB 8.6MB/s eta 0:00:01\r\u001b[K    24% |████████                        | 245kB 8.6MB/s eta 0:00:01\r\u001b[K    25% |████████▎                       | 256kB 8.5MB/s eta 0:00:01\r\u001b[K    26% |████████▋                       | 266kB 8.4MB/s eta 0:00:01\r\u001b[K    27% |█████████                       | 276kB 8.4MB/s eta 0:00:01\r\u001b[K    29% |█████████▎                      | 286kB 8.4MB/s eta 0:00:01\r\u001b[K    30% |█████████▋                      | 296kB 8.4MB/s eta 0:00:01\r\u001b[K    31% |██████████                      | 307kB 8.6MB/s eta 0:00:01\r\u001b[K    32% |██████████▎                     | 317kB 44.1MB/s eta 0:00:01\r\u001b[K    33% |██████████▋                     | 327kB 46.8MB/s eta 0:00:01\r\u001b[K    34% |███████████                     | 337kB 48.5MB/s eta 0:00:01\r\u001b[K    35% |███████████▎                    | 348kB 44.7MB/s eta 0:00:01\r\u001b[K    36% |███████████▋                    | 358kB 44.7MB/s eta 0:00:01\r\u001b[K    37% |████████████                    | 368kB 51.3MB/s eta 0:00:01\r\u001b[K    38% |████████████▎                   | 378kB 51.8MB/s eta 0:00:01\r\u001b[K    39% |████████████▋                   | 389kB 52.2MB/s eta 0:00:01\r\u001b[K    40% |█████████████                   | 399kB 9.8MB/s eta 0:00:01\r\u001b[K    41% |█████████████▎                  | 409kB 9.6MB/s eta 0:00:01\r\u001b[K    42% |█████████████▋                  | 419kB 9.6MB/s eta 0:00:01\r\u001b[K    43% |██████████████                  | 430kB 9.6MB/s eta 0:00:01\r\u001b[K    44% |██████████████▎                 | 440kB 9.6MB/s eta 0:00:01\r\u001b[K    45% |██████████████▋                 | 450kB 9.5MB/s eta 0:00:01\r\u001b[K    46% |███████████████                 | 460kB 9.5MB/s eta 0:00:01\r\u001b[K    47% |███████████████▎                | 471kB 9.5MB/s eta 0:00:01\r\u001b[K    48% |███████████████▋                | 481kB 9.6MB/s eta 0:00:01\r\u001b[K    49% |████████████████                | 491kB 9.6MB/s eta 0:00:01\r\u001b[K    50% |████████████████▎               | 501kB 46.7MB/s eta 0:00:01\r\u001b[K    51% |████████████████▋               | 512kB 46.8MB/s eta 0:00:01\r\u001b[K    52% |█████████████████               | 522kB 47.7MB/s eta 0:00:01\r\u001b[K    53% |█████████████████▎              | 532kB 48.3MB/s eta 0:00:01\r\u001b[K    54% |█████████████████▋              | 542kB 48.5MB/s eta 0:00:01\r\u001b[K    55% |██████████████████              | 552kB 61.2MB/s eta 0:00:01\r\u001b[K    57% |██████████████████▎             | 563kB 63.0MB/s eta 0:00:01\r\u001b[K    58% |██████████████████▋             | 573kB 62.7MB/s eta 0:00:01\r\u001b[K    59% |███████████████████             | 583kB 63.3MB/s eta 0:00:01\r\u001b[K    60% |███████████████████▎            | 593kB 63.8MB/s eta 0:00:01\r\u001b[K    61% |███████████████████▋            | 604kB 65.6MB/s eta 0:00:01\r\u001b[K    62% |████████████████████            | 614kB 78.0MB/s eta 0:00:01\r\u001b[K    63% |████████████████████▎           | 624kB 79.9MB/s eta 0:00:01\r\u001b[K    64% |████████████████████▋           | 634kB 80.2MB/s eta 0:00:01\r\u001b[K    65% |█████████████████████           | 645kB 10.1MB/s eta 0:00:01\r\u001b[K    66% |█████████████████████▎          | 655kB 9.9MB/s eta 0:00:01\r\u001b[K    67% |█████████████████████▋          | 665kB 9.3MB/s eta 0:00:01\r\u001b[K    68% |██████████████████████          | 675kB 9.3MB/s eta 0:00:01\r\u001b[K    69% |██████████████████████▎         | 686kB 9.3MB/s eta 0:00:01\r\u001b[K    70% |██████████████████████▋         | 696kB 9.3MB/s eta 0:00:01\r\u001b[K    71% |███████████████████████         | 706kB 9.2MB/s eta 0:00:01\r\u001b[K    72% |███████████████████████▎        | 716kB 9.2MB/s eta 0:00:01\r\u001b[K    73% |███████████████████████▋        | 727kB 9.2MB/s eta 0:00:01\r\u001b[K    74% |████████████████████████        | 737kB 9.2MB/s eta 0:00:01\r\u001b[K    75% |████████████████████████▎       | 747kB 44.2MB/s eta 0:00:01\r\u001b[K    76% |████████████████████████▋       | 757kB 50.5MB/s eta 0:00:01\r\u001b[K    77% |████████████████████████▉       | 768kB 73.4MB/s eta 0:00:01\r\u001b[K    78% |█████████████████████████▏      | 778kB 77.3MB/s eta 0:00:01\r\u001b[K    79% |█████████████████████████▌      | 788kB 76.3MB/s eta 0:00:01\r\u001b[K    80% |█████████████████████████▉      | 798kB 77.5MB/s eta 0:00:01\r\u001b[K    81% |██████████████████████████▏     | 808kB 77.2MB/s eta 0:00:01\r\u001b[K    82% |██████████████████████████▌     | 819kB 75.5MB/s eta 0:00:01\r\u001b[K    83% |██████████████████████████▉     | 829kB 77.3MB/s eta 0:00:01\r\u001b[K    85% |███████████████████████████▏    | 839kB 78.7MB/s eta 0:00:01\r\u001b[K    86% |███████████████████████████▌    | 849kB 78.9MB/s eta 0:00:01\r\u001b[K    87% |███████████████████████████▉    | 860kB 64.0MB/s eta 0:00:01\r\u001b[K    88% |████████████████████████████▏   | 870kB 61.1MB/s eta 0:00:01\r\u001b[K    89% |████████████████████████████▌   | 880kB 61.5MB/s eta 0:00:01\r\u001b[K    90% |████████████████████████████▉   | 890kB 62.2MB/s eta 0:00:01\r\u001b[K    91% |█████████████████████████████▏  | 901kB 61.6MB/s eta 0:00:01\r\u001b[K    92% |█████████████████████████████▌  | 911kB 62.3MB/s eta 0:00:01\r\u001b[K    93% |█████████████████████████████▉  | 921kB 63.2MB/s eta 0:00:01\r\u001b[K    94% |██████████████████████████████▏ | 931kB 63.0MB/s eta 0:00:01\r\u001b[K    95% |██████████████████████████████▌ | 942kB 62.3MB/s eta 0:00:01\r\u001b[K    96% |██████████████████████████████▉ | 952kB 61.1MB/s eta 0:00:01\r\u001b[K    97% |███████████████████████████████▏| 962kB 76.5MB/s eta 0:00:01\r\u001b[K    98% |███████████████████████████████▌| 972kB 81.1MB/s eta 0:00:01\r\u001b[K    99% |███████████████████████████████▉| 983kB 80.8MB/s eta 0:00:01\r\u001b[K    100% |████████████████████████████████| 993kB 21.8MB/s \n",
            "\u001b[?25h  Building wheel for PyDrive (setup.py) ... \u001b[?25ldone\n",
            "\u001b[?25h"
          ],
          "name": "stdout"
        }
      ]
    },
    {
      "metadata": {
        "id": "pdAFcrotUNTk",
        "colab_type": "code",
        "outputId": "835befee-8a7e-49af-9e6d-8362b10f7342",
        "colab": {
          "base_uri": "https://localhost:8080/",
          "height": 122
        }
      },
      "cell_type": "code",
      "source": [
        "# drive = GoogleDrive(gauth)\n",
        "drive.mount(\"/content/drive\", force_remount=True)\n",
        "datadir  = 'drive/My Drive/GraduationProject/Data'"
      ],
      "execution_count": 4,
      "outputs": [
        {
          "output_type": "stream",
          "text": [
            "Go to this URL in a browser: https://accounts.google.com/o/oauth2/auth?client_id=947318989803-6bn6qk8qdgf4n4g3pfee6491hc0brc4i.apps.googleusercontent.com&redirect_uri=urn%3Aietf%3Awg%3Aoauth%3A2.0%3Aoob&scope=email%20https%3A%2F%2Fwww.googleapis.com%2Fauth%2Fdocs.test%20https%3A%2F%2Fwww.googleapis.com%2Fauth%2Fdrive%20https%3A%2F%2Fwww.googleapis.com%2Fauth%2Fdrive.photos.readonly%20https%3A%2F%2Fwww.googleapis.com%2Fauth%2Fpeopleapi.readonly&response_type=code\n",
            "\n",
            "Enter your authorization code:\n",
            "··········\n",
            "Mounted at /content/drive\n"
          ],
          "name": "stdout"
        }
      ]
    },
    {
      "metadata": {
        "id": "1qsmoZ3eReyA",
        "colab_type": "text"
      },
      "cell_type": "markdown",
      "source": [
        "###**GTD**"
      ]
    },
    {
      "metadata": {
        "id": "JvNzAiEaX4MW",
        "colab_type": "code",
        "colab": {}
      },
      "cell_type": "code",
      "source": [
        "# !ls drive/'My Drive'/GraduationProject/Data/gtd.csv"
      ],
      "execution_count": 0,
      "outputs": []
    },
    {
      "metadata": {
        "id": "RkR7Qwd8xj77",
        "colab_type": "text"
      },
      "cell_type": "markdown",
      "source": [
        "# Functions"
      ]
    },
    {
      "metadata": {
        "id": "lR1VUhPkurWG",
        "colab_type": "code",
        "colab": {}
      },
      "cell_type": "code",
      "source": [
        "# def remove_NaN(data_set, attributes_NaN):\n",
        "#   data_set = data_set.fillna(data_set.mean())\n",
        "#   for i in range(len(attributes_NaN)):\n",
        "#       attribute = attributes_NaN[i]\n",
        "#       mode =  data_set[attribute].mode()[0]\n",
        "#       data_set[attribute] = data_set.groupby(attribute)[attribute].apply(lambda x: x.fillna(x.value_counts().idxmax() if x.value_counts().max() >=1 else mode , inplace = False))\n",
        "#       data_set[attribute]= data_set[attribute].fillna(data_set[attribute].value_counts().idxmax())\n",
        "#   return data_set"
      ],
      "execution_count": 0,
      "outputs": []
    },
    {
      "metadata": {
        "id": "PrJgZxRJ5U9X",
        "colab_type": "code",
        "colab": {}
      },
      "cell_type": "code",
      "source": [
        "# def filter_dataframe(data_set, columns):\n",
        "#   return data_set[columns]"
      ],
      "execution_count": 0,
      "outputs": []
    },
    {
      "metadata": {
        "id": "nZjjGdaLVMkv",
        "colab_type": "text"
      },
      "cell_type": "markdown",
      "source": [
        "# Pandas Data Frames\n",
        "Useful link : https://youtu.be/2AFGPdNn4FM"
      ]
    },
    {
      "metadata": {
        "id": "3bYFOOr9U-7h",
        "colab_type": "text"
      },
      "cell_type": "markdown",
      "source": [
        "## **GTD Data Frame**"
      ]
    },
    {
      "metadata": {
        "id": "hzPwkdhBZRZU",
        "colab_type": "code",
        "outputId": "76c67651-0671-4d73-8bc8-5f8e66ec0fc7",
        "colab": {
          "base_uri": "https://localhost:8080/",
          "height": 10169
        }
      },
      "cell_type": "code",
      "source": [
        "gtd_df = pd.read_csv(os.path.join(datadir, 'gtd.csv'),encoding='latin-1')\n",
        "print(gtd_df.columns.values)\n",
        "print(gtd_df)"
      ],
      "execution_count": 5,
      "outputs": [
        {
          "output_type": "stream",
          "text": [
            "/usr/local/lib/python3.6/dist-packages/IPython/core/interactiveshell.py:2718: DtypeWarning: Columns (4,6,31,33,61,62,63,76,79,90,92,94,96,114,115,121) have mixed types. Specify dtype option on import or set low_memory=False.\n",
            "  interactivity=interactivity, compiler=compiler, result=result)\n"
          ],
          "name": "stderr"
        },
        {
          "output_type": "stream",
          "text": [
            "['eventid' 'iyear' 'imonth' 'iday' 'approxdate' 'extended' 'resolution'\n",
            " 'country' 'country_txt' 'region' 'region_txt' 'provstate' 'city'\n",
            " 'latitude' 'longitude' 'specificity' 'vicinity' 'location' 'summary'\n",
            " 'crit1' 'crit2' 'crit3' 'doubtterr' 'alternative' 'alternative_txt'\n",
            " 'multiple' 'success' 'suicide' 'attacktype1' 'attacktype1_txt'\n",
            " 'attacktype2' 'attacktype2_txt' 'attacktype3' 'attacktype3_txt'\n",
            " 'targtype1' 'targtype1_txt' 'targsubtype1' 'targsubtype1_txt' 'corp1'\n",
            " 'target1' 'natlty1' 'natlty1_txt' 'targtype2' 'targtype2_txt'\n",
            " 'targsubtype2' 'targsubtype2_txt' 'corp2' 'target2' 'natlty2'\n",
            " 'natlty2_txt' 'targtype3' 'targtype3_txt' 'targsubtype3'\n",
            " 'targsubtype3_txt' 'corp3' 'target3' 'natlty3' 'natlty3_txt' 'gname'\n",
            " 'gsubname' 'gname2' 'gsubname2' 'gname3' 'gsubname3' 'motive'\n",
            " 'guncertain1' 'guncertain2' 'guncertain3' 'individual' 'nperps'\n",
            " 'nperpcap' 'claimed' 'claimmode' 'claimmode_txt' 'claim2' 'claimmode2'\n",
            " 'claimmode2_txt' 'claim3' 'claimmode3' 'claimmode3_txt' 'compclaim'\n",
            " 'weaptype1' 'weaptype1_txt' 'weapsubtype1' 'weapsubtype1_txt' 'weaptype2'\n",
            " 'weaptype2_txt' 'weapsubtype2' 'weapsubtype2_txt' 'weaptype3'\n",
            " 'weaptype3_txt' 'weapsubtype3' 'weapsubtype3_txt' 'weaptype4'\n",
            " 'weaptype4_txt' 'weapsubtype4' 'weapsubtype4_txt' 'weapdetail' 'nkill'\n",
            " 'nkillus' 'nkillter' 'nwound' 'nwoundus' 'nwoundte' 'property'\n",
            " 'propextent' 'propextent_txt' 'propvalue' 'propcomment' 'ishostkid'\n",
            " 'nhostkid' 'nhostkidus' 'nhours' 'ndays' 'divert' 'kidhijcountry'\n",
            " 'ransom' 'ransomamt' 'ransomamtus' 'ransompaid' 'ransompaidus'\n",
            " 'ransomnote' 'hostkidoutcome' 'hostkidoutcome_txt' 'nreleased' 'addnotes'\n",
            " 'scite1' 'scite2' 'scite3' 'dbsource' 'INT_LOG' 'INT_IDEO' 'INT_MISC'\n",
            " 'INT_ANY' 'related']\n",
            "             eventid  iyear  imonth  iday           approxdate  extended  \\\n",
            "0       197000000001   1970       7     2                  NaN         0   \n",
            "1       197000000002   1970       0     0                  NaN         0   \n",
            "2       197001000001   1970       1     0                  NaN         0   \n",
            "3       197001000002   1970       1     0                  NaN         0   \n",
            "4       197001000003   1970       1     0                  NaN         0   \n",
            "5       197001010002   1970       1     1                  NaN         0   \n",
            "6       197001020001   1970       1     2                  NaN         0   \n",
            "7       197001020002   1970       1     2                  NaN         0   \n",
            "8       197001020003   1970       1     2                  NaN         0   \n",
            "9       197001030001   1970       1     3                  NaN         0   \n",
            "10      197001050001   1970       1     1                  NaN         0   \n",
            "11      197001060001   1970       1     6                  NaN         0   \n",
            "12      197001080001   1970       1     8                  NaN         0   \n",
            "13      197001090001   1970       1     9                  NaN         0   \n",
            "14      197001090002   1970       1     9                  NaN         0   \n",
            "15      197001100001   1970       1    10                  NaN         0   \n",
            "16      197001110001   1970       1    11                  NaN         0   \n",
            "17      197001120001   1970       1    12                  NaN         0   \n",
            "18      197001120002   1970       1    12                  NaN         0   \n",
            "19      197001130001   1970       1    13                  NaN         0   \n",
            "20      197001140001   1970       1    14                  NaN         0   \n",
            "21      197001150001   1970       1    15                  NaN         0   \n",
            "22      197001190002   1970       1    19                  NaN         0   \n",
            "23      197001190003   1970       1    19                  NaN         0   \n",
            "24      197001190004   1970       1    19  January 19-20, 1970         0   \n",
            "25      197001200001   1970       1    20                  NaN         0   \n",
            "26      197001210001   1970       1    21                  NaN         0   \n",
            "27      197001220001   1970       1    22                  NaN         0   \n",
            "28      197001220002   1970       1    22                  NaN         0   \n",
            "29      197001250001   1970       1    25                  NaN         0   \n",
            "...              ...    ...     ...   ...                  ...       ...   \n",
            "181661  201712300019   2017      12    28                  NaN         0   \n",
            "181662  201712300020   2017      12    30                  NaN         0   \n",
            "181663  201712300021   2017      12    30                  NaN         0   \n",
            "181664  201712300022   2017      12    30                  NaN         0   \n",
            "181665  201712300023   2017      12    30                  NaN         0   \n",
            "181666  201712300025   2017      12    30                  NaN         0   \n",
            "181667  201712300026   2017      12    30                  NaN         0   \n",
            "181668  201712310001   2017      12    31  2017-12-31 00:00:00         0   \n",
            "181669  201712310002   2017      12    30                  NaN         0   \n",
            "181670  201712310003   2017      12    31  2017-12-31 00:00:00         0   \n",
            "181671  201712310004   2017      12    31                  NaN         0   \n",
            "181672  201712310005   2017      12    31                  NaN         0   \n",
            "181673  201712310006   2017      12    31                  NaN         0   \n",
            "181674  201712310007   2017      12    31                  NaN         0   \n",
            "181675  201712310008   2017      12    31                  NaN         0   \n",
            "181676  201712310009   2017      12    31                  NaN         0   \n",
            "181677  201712310010   2017      12    31                  NaN         0   \n",
            "181678  201712310011   2017      12    30                  NaN         0   \n",
            "181679  201712310012   2017      12    31                  NaN         0   \n",
            "181680  201712310013   2017      12    31                  NaN         0   \n",
            "181681  201712310016   2017      12    31                  NaN         0   \n",
            "181682  201712310017   2017      12    31                  NaN         0   \n",
            "181683  201712310018   2017      12    31                  NaN         0   \n",
            "181684  201712310019   2017      12    31                  NaN         0   \n",
            "181685  201712310020   2017      12    31                  NaN         0   \n",
            "181686  201712310022   2017      12    31                  NaN         0   \n",
            "181687  201712310029   2017      12    31                  NaN         0   \n",
            "181688  201712310030   2017      12    31                  NaN         0   \n",
            "181689  201712310031   2017      12    31                  NaN         0   \n",
            "181690  201712310032   2017      12    31                  NaN         0   \n",
            "\n",
            "       resolution  country         country_txt  region  \\\n",
            "0             NaN       58  Dominican Republic       2   \n",
            "1             NaN      130              Mexico       1   \n",
            "2             NaN      160         Philippines       5   \n",
            "3             NaN       78              Greece       8   \n",
            "4             NaN      101               Japan       4   \n",
            "5             NaN      217       United States       1   \n",
            "6             NaN      218             Uruguay       3   \n",
            "7             NaN      217       United States       1   \n",
            "8             NaN      217       United States       1   \n",
            "9             NaN      217       United States       1   \n",
            "10            NaN      217       United States       1   \n",
            "11            NaN      217       United States       1   \n",
            "12            NaN       98               Italy       8   \n",
            "13            NaN      217       United States       1   \n",
            "14            NaN      217       United States       1   \n",
            "15            NaN      499  East Germany (GDR)       9   \n",
            "16            NaN       65            Ethiopia      11   \n",
            "17            NaN      217       United States       1   \n",
            "18            NaN      217       United States       1   \n",
            "19            NaN      217       United States       1   \n",
            "20            NaN      217       United States       1   \n",
            "21            NaN      218             Uruguay       3   \n",
            "22            NaN      217       United States       1   \n",
            "23            NaN      217       United States       1   \n",
            "24            NaN      217       United States       1   \n",
            "25            NaN       83           Guatemala       2   \n",
            "26            NaN      160         Philippines       5   \n",
            "27            NaN      222           Venezuela       3   \n",
            "28            NaN      217       United States       1   \n",
            "29            NaN      217       United States       1   \n",
            "...           ...      ...                 ...     ...   \n",
            "181661        NaN       92               India       6   \n",
            "181662        NaN      160         Philippines       5   \n",
            "181663        NaN       92               India       6   \n",
            "181664        NaN      603      United Kingdom       8   \n",
            "181665        NaN       92               India       6   \n",
            "181666        NaN      147             Nigeria      11   \n",
            "181667        NaN      200               Syria      10   \n",
            "181668        NaN       95                Iraq      10   \n",
            "181669        NaN       95                Iraq      10   \n",
            "181670        NaN       95                Iraq      10   \n",
            "181671        NaN       95                Iraq      10   \n",
            "181672        NaN       92               India       6   \n",
            "181673        NaN        4         Afghanistan       6   \n",
            "181674        NaN       95                Iraq      10   \n",
            "181675        NaN      182             Somalia      11   \n",
            "181676        NaN        4         Afghanistan       6   \n",
            "181677        NaN      160         Philippines       5   \n",
            "181678        NaN      160         Philippines       5   \n",
            "181679        NaN       95                Iraq      10   \n",
            "181680        NaN      182             Somalia      11   \n",
            "181681        NaN      160         Philippines       5   \n",
            "181682        NaN       98               Italy       8   \n",
            "181683        NaN        4         Afghanistan       6   \n",
            "181684        NaN       92               India       6   \n",
            "181685        NaN        4         Afghanistan       6   \n",
            "181686        NaN      182             Somalia      11   \n",
            "181687        NaN      200               Syria      10   \n",
            "181688        NaN      160         Philippines       5   \n",
            "181689        NaN       92               India       6   \n",
            "181690        NaN      160         Philippines       5   \n",
            "\n",
            "                   ...              \\\n",
            "0                  ...               \n",
            "1                  ...               \n",
            "2                  ...               \n",
            "3                  ...               \n",
            "4                  ...               \n",
            "5                  ...               \n",
            "6                  ...               \n",
            "7                  ...               \n",
            "8                  ...               \n",
            "9                  ...               \n",
            "10                 ...               \n",
            "11                 ...               \n",
            "12                 ...               \n",
            "13                 ...               \n",
            "14                 ...               \n",
            "15                 ...               \n",
            "16                 ...               \n",
            "17                 ...               \n",
            "18                 ...               \n",
            "19                 ...               \n",
            "20                 ...               \n",
            "21                 ...               \n",
            "22                 ...               \n",
            "23                 ...               \n",
            "24                 ...               \n",
            "25                 ...               \n",
            "26                 ...               \n",
            "27                 ...               \n",
            "28                 ...               \n",
            "29                 ...               \n",
            "...                ...               \n",
            "181661             ...               \n",
            "181662             ...               \n",
            "181663             ...               \n",
            "181664             ...               \n",
            "181665             ...               \n",
            "181666             ...               \n",
            "181667             ...               \n",
            "181668             ...               \n",
            "181669             ...               \n",
            "181670             ...               \n",
            "181671             ...               \n",
            "181672             ...               \n",
            "181673             ...               \n",
            "181674             ...               \n",
            "181675             ...               \n",
            "181676             ...               \n",
            "181677             ...               \n",
            "181678             ...               \n",
            "181679             ...               \n",
            "181680             ...               \n",
            "181681             ...               \n",
            "181682             ...               \n",
            "181683             ...               \n",
            "181684             ...               \n",
            "181685             ...               \n",
            "181686             ...               \n",
            "181687             ...               \n",
            "181688             ...               \n",
            "181689             ...               \n",
            "181690             ...               \n",
            "\n",
            "                                                 addnotes  \\\n",
            "0                                                     NaN   \n",
            "1                                                     NaN   \n",
            "2                                                     NaN   \n",
            "3                                                     NaN   \n",
            "4                                                     NaN   \n",
            "5       The Cairo Chief of Police, William Petersen, r...   \n",
            "6                                                     NaN   \n",
            "7       Damages were estimated to be between $20,000-$...   \n",
            "8       The New Years Gang issue a communiqué to a loc...   \n",
            "9       Karl Armstrong's girlfriend, Lynn Schultz, dro...   \n",
            "10                                                    NaN   \n",
            "11                                                    NaN   \n",
            "12                                                    NaN   \n",
            "13                                                    NaN   \n",
            "14      The fire began at 8:30 PM. The Armed Commandos...   \n",
            "15                                                    NaN   \n",
            "16                                                    NaN   \n",
            "17      One half hour after the bomb explosion, an ano...   \n",
            "18                                                    NaN   \n",
            "19      The store was a White owned business operating...   \n",
            "20                                                    NaN   \n",
            "21                                                    NaN   \n",
            "22      Witnesses observed three African American male...   \n",
            "23      Judith and Silas Bissell were both members of ...   \n",
            "24      The building might have been shot at a second ...   \n",
            "25                                                    NaN   \n",
            "26                                                    NaN   \n",
            "27                                                    NaN   \n",
            "28      This attack might be linked with other episode...   \n",
            "29      Police, at the time suspected, that this attac...   \n",
            "...                                                   ...   \n",
            "181661                                                NaN   \n",
            "181662                                                NaN   \n",
            "181663                                                NaN   \n",
            "181664                                                NaN   \n",
            "181665                                                NaN   \n",
            "181666                                                NaN   \n",
            "181667                                                NaN   \n",
            "181668                                                NaN   \n",
            "181669  Casualty numbers conflict across sources. Foll...   \n",
            "181670                                                NaN   \n",
            "181671  Casualty numbers conflict across sources. Foll...   \n",
            "181672  The victims included Kuldip Roy, Taufail Ahmed...   \n",
            "181673  Casualty numbers conflict across sources. Foll...   \n",
            "181674                                                NaN   \n",
            "181675                                                NaN   \n",
            "181676  The victims included police commander Faqeer A...   \n",
            "181677                                                NaN   \n",
            "181678  The victims included the owner, Norodin Pacaln...   \n",
            "181679                                                NaN   \n",
            "181680                                                NaN   \n",
            "181681  The victims included Senior Police Officer 4 M...   \n",
            "181682                                                NaN   \n",
            "181683                                                NaN   \n",
            "181684                                                NaN   \n",
            "181685                                                NaN   \n",
            "181686                                                NaN   \n",
            "181687                                                NaN   \n",
            "181688                                                NaN   \n",
            "181689                                                NaN   \n",
            "181690                                                NaN   \n",
            "\n",
            "                                                   scite1  \\\n",
            "0                                                     NaN   \n",
            "1                                                     NaN   \n",
            "2                                                     NaN   \n",
            "3                                                     NaN   \n",
            "4                                                     NaN   \n",
            "5       \"Police Chief Quits,\" Washington Post, January...   \n",
            "6                                                     NaN   \n",
            "7       Committee on Government Operations United Stat...   \n",
            "8       Tom Bates, \"Rads: The 1970 Bombing of the Army...   \n",
            "9       Committee on Government Operations United Stat...   \n",
            "10                                                    NaN   \n",
            "11      Committee on Government Operations United Stat...   \n",
            "12                                                    NaN   \n",
            "13      Committee on Government Operations United Stat...   \n",
            "14      Committee on the Judiciary  United States Sena...   \n",
            "15                                                    NaN   \n",
            "16                                                    NaN   \n",
            "17      \"Blast Damages Flatbush School,\" New York Time...   \n",
            "18      Committee on the Judiciary  United States Sena...   \n",
            "19      Committee on Government Operations United Stat...   \n",
            "20      Committee on Government Operations United Stat...   \n",
            "21                                                    NaN   \n",
            "22      Committee on Government Operations United Stat...   \n",
            "23      Committee on Government Operations United Stat...   \n",
            "24      Committee on Government Operations United Stat...   \n",
            "25                                                    NaN   \n",
            "26                                                    NaN   \n",
            "27                                                    NaN   \n",
            "28      Committee on Government Operations United Stat...   \n",
            "29      \"Miss. City Is Desegregation Trouble Spot,\" Ch...   \n",
            "...                                                   ...   \n",
            "181661  \"Two held over attacks on mosques in two Telug...   \n",
            "181662  \"Philippines: Troops, NPA clash hours before s...   \n",
            "181663  \"Crude bomb explosion at two places in Kerala'...   \n",
            "181664  \"Four children terrified after witnessing 'bru...   \n",
            "181665  \"Maoists set ablaze seven vehicles in Dantewad...   \n",
            "181666  \"Nigeria Scores Killed in Boko Haram Attacks i...   \n",
            "181667  \"Al-Qaida affiliates start new year with offen...   \n",
            "181668  \"Iraq: Security Roundup 1900 GMT 31 December 2...   \n",
            "181669  \"Five civilians killed in two bomb attacks in ...   \n",
            "181670  \"Iraq: Security Roundup 1900 GMT 31 December 2...   \n",
            "181671  \"Islamic State attack leaves thirteen civilian...   \n",
            "181672  \"Three soldiers killed in Indian-administered ...   \n",
            "181673  \"Death toll from funeral blast in eastern Afgh...   \n",
            "181674  \"Five IS militants killed as paramilitary troo...   \n",
            "181675  \"Somalia: Al-Shabab says 5 AU soldiers dead in...   \n",
            "181676  \"Commander among 5 ALP members killed in Logar...   \n",
            "181677  \"3 slain in Maguindanao roadside bombings,\" Ph...   \n",
            "181678  \"Cops hunt North Cotabato bombers,\" Philippine...   \n",
            "181679  \"13 IS militants killed in attack on paramilit...   \n",
            "181680  \"Somalia's al-Shabab fires mortars at Ethiopia...   \n",
            "181681  \"3 dead, scores injured in Mindanao blasts,\" M...   \n",
            "181682  \"Arson attack probed as racial crime,\" Ansa.it...   \n",
            "181683  \"Six Members Of One Family Shot Dead In Faryab...   \n",
            "181684  \"Abducted PSO rescued within 11 hours,\" The Se...   \n",
            "181685  \"4 people injured in Farayb explosion,\" Pajhwo...   \n",
            "181686  \"Somalia: Al-Shabaab Militants Attack Army Che...   \n",
            "181687  \"Putin's 'victory' in Syria has turned into a ...   \n",
            "181688  \"Maguindanao clashes trap tribe members,\" Phil...   \n",
            "181689  \"Trader escapes grenade attack in Imphal,\" Bus...   \n",
            "181690  \"Security tightened in Cotabato following IED ...   \n",
            "\n",
            "                                                   scite2  \\\n",
            "0                                                     NaN   \n",
            "1                                                     NaN   \n",
            "2                                                     NaN   \n",
            "3                                                     NaN   \n",
            "4                                                     NaN   \n",
            "5       \"Cairo Police Chief Quits; Decries Local 'Mili...   \n",
            "6                                                     NaN   \n",
            "7       Christopher Hewitt, \"Political Violence and Te...   \n",
            "8       David Newman, Sandra Sutherland, and Jon Stewa...   \n",
            "9       Tom Bates, \"Rads: The 1970 Bombing of the Army...   \n",
            "10                                                    NaN   \n",
            "11      Christopher Hewitt, \"Political Violence and Te...   \n",
            "12                                                    NaN   \n",
            "13      Christopher Hewitt, \"Political Violence and Te...   \n",
            "14      \"No Evidence Of Arson Found In Barkers Fire,\" ...   \n",
            "15                                                    NaN   \n",
            "16                                                    NaN   \n",
            "17      Linda Greenhouse, \"Madison School Puzzled By B...   \n",
            "18      \"Toward People's War for Independence and Soci...   \n",
            "19                                                    NaN   \n",
            "20      Christopher Hewitt, \"Political Violence and Te...   \n",
            "21                                                    NaN   \n",
            "22      Christopher Hewitt, \"Political Violence and Te...   \n",
            "23      Christopher Hewitt, \"Political Violence and Te...   \n",
            "24      \"Black Panthers Say Office Was Bombed,\" New Yo...   \n",
            "25                                                    NaN   \n",
            "26                                                    NaN   \n",
            "27                                                    NaN   \n",
            "28      \"Beef Plant Workers in Nebraska Await Call to ...   \n",
            "29                                                    NaN   \n",
            "...                                                   ...   \n",
            "181661  \"AP: Muazzin assassinated in attack on masjid,...   \n",
            "181662  \"Philippines: Highlights of Terrorist, Counter...   \n",
            "181663  \"Bomb hurled at police station in Kannur,\" The...   \n",
            "181664  \"Police Appealing For Witnesses After Belfast ...   \n",
            "181665  \"Explosives recovered in Jharkhand, Maoists bu...   \n",
            "181666                                                NaN   \n",
            "181667  \"Syrian army driven back in east Damascus in a...   \n",
            "181668                                                NaN   \n",
            "181669  \"Iraq: Security Roundup 1900 GMT 31 December 2...   \n",
            "181670  \"Terrorism: Roundup of Official ISIS Messages ...   \n",
            "181671  \"3 people killed in IS attack in central Iraq,...   \n",
            "181672  \"Fidayeen used armour-piercing bullets in Leth...   \n",
            "181673  \"The Latest: Toll from Afghan funeral bombing ...   \n",
            "181674  \"1,262 Killed in Iraq During December,\" Antiwa...   \n",
            "181675  \"Somalia: Fifteen Police Officers Complete Tra...   \n",
            "181676  \"Media Highlights on Afghanistan 1 January 201...   \n",
            "181677  \"BIFF gunmen torch abandoned houses in Maguind...   \n",
            "181678  \"Philippines: Highlights of Terrorist, Counter...   \n",
            "181679                                                NaN   \n",
            "181680  \"Somalia: Al-Shabaab Militants Shell Ethiopian...   \n",
            "181681  \"Cop, 2 others killed in bomb blasts in Mindan...   \n",
            "181682  \"Ascoli, a building destined for migrants goes...   \n",
            "181683  \"Highlights: Pakistan Pashto Press 02 January ...   \n",
            "181684                                                NaN   \n",
            "181685                                                NaN   \n",
            "181686  \"Highlights: Somalia Daily Media Highlights 2 ...   \n",
            "181687  \"Two Russian soldiers killed at Hmeymim base i...   \n",
            "181688                                                NaN   \n",
            "181689                                                NaN   \n",
            "181690  \"Security tightened in Cotabato City,\" Manila ...   \n",
            "\n",
            "                                                   scite3  \\\n",
            "0                                                     NaN   \n",
            "1                                                     NaN   \n",
            "2                                                     NaN   \n",
            "3                                                     NaN   \n",
            "4                                                     NaN   \n",
            "5       Christopher Hewitt, \"Political Violence and Te...   \n",
            "6                                                     NaN   \n",
            "7                                                     NaN   \n",
            "8       The Wisconsin Cartographers' Guild, \"Wisconsin...   \n",
            "9       David Newman, Sandra Sutherland, and Jon Stewa...   \n",
            "10                                                    NaN   \n",
            "11                                                    NaN   \n",
            "12                                                    NaN   \n",
            "13                                                    NaN   \n",
            "14      \"Toward People's War for Independence and Soci...   \n",
            "15                                                    NaN   \n",
            "16                                                    NaN   \n",
            "17      Committee on Government Operations United Stat...   \n",
            "18                                                    NaN   \n",
            "19                                                    NaN   \n",
            "20      Peter F. Nardulli and Jeffrey M. Stonecash, \"P...   \n",
            "21                                                    NaN   \n",
            "22      Seattle University, \"1965-1975: Troubled Times...   \n",
            "23      Earl Caldwell, \"Fear Grows In Seattle As Polic...   \n",
            "24      \"30 Shots Fired Into Office of Panthers in Jer...   \n",
            "25                                                    NaN   \n",
            "26                                                    NaN   \n",
            "27                                                    NaN   \n",
            "28                                                    NaN   \n",
            "29                                                    NaN   \n",
            "...                                                   ...   \n",
            "181661                                                NaN   \n",
            "181662                                                NaN   \n",
            "181663  \"India:Crude bombs hurled at Koothuparamba pol...   \n",
            "181664                                                NaN   \n",
            "181665                                                NaN   \n",
            "181666                                                NaN   \n",
            "181667  \"BBCM: Syria -- Fierce Fighting Continues Arou...   \n",
            "181668                                                NaN   \n",
            "181669  \"Iraq: Roundup of Violent Activities Targeting...   \n",
            "181670                                                NaN   \n",
            "181671  \"Daesh gunmen kill 3 in northern Iraq: Police,...   \n",
            "181672  \"Kashmir gunbattle ends after 16 hrs, body of ...   \n",
            "181673  \"Bombing Kills At Least 17 At Funeral In Easte...   \n",
            "181674                                                NaN   \n",
            "181675  \"Two die in Mogadishu bomb attack,\" Xinhua Gen...   \n",
            "181676                                                NaN   \n",
            "181677  \"Philippines: Highlights of Terrorist, Counter...   \n",
            "181678                                                NaN   \n",
            "181679                                                NaN   \n",
            "181680                                                NaN   \n",
            "181681  \"Cop killed, 7 injured in Maguindanao IED blas...   \n",
            "181682                                                NaN   \n",
            "181683                                                NaN   \n",
            "181684                                                NaN   \n",
            "181685                                                NaN   \n",
            "181686  \"Highlights: Somalia Daily Media Highlights 1 ...   \n",
            "181687  \"Two Russian servicemen killed in Syria mortar...   \n",
            "181688                                                NaN   \n",
            "181689                                                NaN   \n",
            "181690                                                NaN   \n",
            "\n",
            "                        dbsource  INT_LOG  INT_IDEO INT_MISC INT_ANY  \\\n",
            "0                           PGIS        0         0        0       0   \n",
            "1                           PGIS        0         1        1       1   \n",
            "2                           PGIS       -9        -9        1       1   \n",
            "3                           PGIS       -9        -9        1       1   \n",
            "4                           PGIS       -9        -9        1       1   \n",
            "5                 Hewitt Project       -9        -9        0      -9   \n",
            "6                           PGIS        0         0        0       0   \n",
            "7                 Hewitt Project       -9        -9        0      -9   \n",
            "8                 Hewitt Project        0         0        0       0   \n",
            "9                 Hewitt Project        0         0        0       0   \n",
            "10                          PGIS        0         0        0       0   \n",
            "11                Hewitt Project       -9        -9        0      -9   \n",
            "12                  Hijacking DB       -9        -9        1       1   \n",
            "13                Hewitt Project       -9        -9        0      -9   \n",
            "14                Hewitt Project        0         0        0       0   \n",
            "15                          PGIS        0         1        1       1   \n",
            "16                          PGIS        0         1        1       1   \n",
            "17                Hewitt Project       -9        -9        0      -9   \n",
            "18                Hewitt Project       -9        -9        0      -9   \n",
            "19                Hewitt Project       -9        -9        0      -9   \n",
            "20                Hewitt Project       -9        -9        0      -9   \n",
            "21                          PGIS        0         0        0       0   \n",
            "22                Hewitt Project       -9        -9        0      -9   \n",
            "23                Hewitt Project       -9        -9        0      -9   \n",
            "24                Hewitt Project       -9        -9        0      -9   \n",
            "25                          PGIS       -9        -9        1       1   \n",
            "26                          PGIS       -9        -9        1       1   \n",
            "27                          PGIS        0         0        0       0   \n",
            "28                Hewitt Project       -9        -9        0      -9   \n",
            "29                Hewitt Project       -9        -9        0      -9   \n",
            "...                          ...      ...       ...      ...     ...   \n",
            "181661  START Primary Collection       -9        -9        0      -9   \n",
            "181662  START Primary Collection        0         0        0       0   \n",
            "181663  START Primary Collection       -9        -9        0      -9   \n",
            "181664  START Primary Collection       -9        -9        1       1   \n",
            "181665  START Primary Collection        0         0        0       0   \n",
            "181666  START Primary Collection        0         0        0       0   \n",
            "181667  START Primary Collection        0         0        0       0   \n",
            "181668  START Primary Collection       -9        -9        0      -9   \n",
            "181669  START Primary Collection       -9        -9        0      -9   \n",
            "181670  START Primary Collection        0         1        0       1   \n",
            "181671  START Primary Collection        0         1        0       1   \n",
            "181672  START Primary Collection        1         1        0       1   \n",
            "181673  START Primary Collection        0         1        0       1   \n",
            "181674  START Primary Collection        0         1        0       1   \n",
            "181675  START Primary Collection        0         1        1       1   \n",
            "181676  START Primary Collection        0         0        0       0   \n",
            "181677  START Primary Collection        0         0        0       0   \n",
            "181678  START Primary Collection       -9        -9        0      -9   \n",
            "181679  START Primary Collection        0         1        0       1   \n",
            "181680  START Primary Collection        0         1        1       1   \n",
            "181681  START Primary Collection        0         0        0       0   \n",
            "181682  START Primary Collection       -9        -9        0      -9   \n",
            "181683  START Primary Collection        0         0        0       0   \n",
            "181684  START Primary Collection        0         0        0       0   \n",
            "181685  START Primary Collection       -9        -9        0      -9   \n",
            "181686  START Primary Collection        0         0        0       0   \n",
            "181687  START Primary Collection       -9        -9        1       1   \n",
            "181688  START Primary Collection        0         0        0       0   \n",
            "181689  START Primary Collection       -9        -9        0      -9   \n",
            "181690  START Primary Collection       -9        -9        0      -9   \n",
            "\n",
            "                           related  \n",
            "0                              NaN  \n",
            "1                              NaN  \n",
            "2                              NaN  \n",
            "3                              NaN  \n",
            "4                              NaN  \n",
            "5                              NaN  \n",
            "6                              NaN  \n",
            "7                              NaN  \n",
            "8                              NaN  \n",
            "9                              NaN  \n",
            "10                             NaN  \n",
            "11                             NaN  \n",
            "12                             NaN  \n",
            "13                             NaN  \n",
            "14                             NaN  \n",
            "15                             NaN  \n",
            "16                             NaN  \n",
            "17                             NaN  \n",
            "18                             NaN  \n",
            "19                             NaN  \n",
            "20                             NaN  \n",
            "21                             NaN  \n",
            "22                             NaN  \n",
            "23                             NaN  \n",
            "24                             NaN  \n",
            "25                             NaN  \n",
            "26                             NaN  \n",
            "27                             NaN  \n",
            "28                             NaN  \n",
            "29                             NaN  \n",
            "...                            ...  \n",
            "181661                         NaN  \n",
            "181662                         NaN  \n",
            "181663                         NaN  \n",
            "181664                         NaN  \n",
            "181665                         NaN  \n",
            "181666                         NaN  \n",
            "181667                         NaN  \n",
            "181668                         NaN  \n",
            "181669  201712300005, 201712310002  \n",
            "181670                         NaN  \n",
            "181671                         NaN  \n",
            "181672                         NaN  \n",
            "181673                         NaN  \n",
            "181674                         NaN  \n",
            "181675                         NaN  \n",
            "181676                         NaN  \n",
            "181677                         NaN  \n",
            "181678                         NaN  \n",
            "181679                         NaN  \n",
            "181680                         NaN  \n",
            "181681                         NaN  \n",
            "181682                         NaN  \n",
            "181683                         NaN  \n",
            "181684                         NaN  \n",
            "181685                         NaN  \n",
            "181686                         NaN  \n",
            "181687                         NaN  \n",
            "181688                         NaN  \n",
            "181689                         NaN  \n",
            "181690                         NaN  \n",
            "\n",
            "[181691 rows x 135 columns]\n"
          ],
          "name": "stdout"
        }
      ]
    },
    {
      "metadata": {
        "id": "j_29KRCKqrj-",
        "colab_type": "code",
        "colab": {}
      },
      "cell_type": "code",
      "source": [
        "gtd_filtered_df = gtd_df[['country_txt','region_txt','city','provstate', 'target1', 'iyear','imonth', 'gname', 'weaptype1_txt','attacktype1_txt','attacktype1']]\n",
        "# print(gtd_filtered_df)\n",
        "# print(gtd_filtered_df.isna().sum())"
      ],
      "execution_count": 0,
      "outputs": []
    },
    {
      "metadata": {
        "id": "UWu8qbPKoZQI",
        "colab_type": "text"
      },
      "cell_type": "markdown",
      "source": [
        "### GTD Removed NaN"
      ]
    },
    {
      "metadata": {
        "id": "sUcg4eqXaf4U",
        "colab_type": "code",
        "colab": {}
      },
      "cell_type": "code",
      "source": [
        "# DO NOT REMOVE THIS ONE WE COMMENTED IT TEMORARLY\n",
        "# clean NaN\n",
        "# gtd_filtered_df = gtd_filtered_df.fillna(gtd_filtered_df.mean())\n",
        "# attributes_NaN = ['country_txt', 'city', 'target']\n",
        "# gtd_filtered_df = remove_NaN(gtd_filtered_df, attributes_NaN)\n",
        "# print(gtd_filtered_df)"
      ],
      "execution_count": 0,
      "outputs": []
    },
    {
      "metadata": {
        "id": "rVn6I7Y7OA9F",
        "colab_type": "text"
      },
      "cell_type": "markdown",
      "source": [
        "## **GECON Data Frame**"
      ]
    },
    {
      "metadata": {
        "id": "t6AAaOVhHY6z",
        "colab_type": "code",
        "outputId": "2f15e468-0856-46cc-e6a5-8e4444acc0d5",
        "colab": {
          "base_uri": "https://localhost:8080/",
          "height": 71
        }
      },
      "cell_type": "code",
      "source": [
        "gecon_df = pd.read_csv(os.path.join(datadir, 'Gecon40_post_final_kh.csv'),encoding='latin-1')\n",
        "# print(gecon_df.columns.values)"
      ],
      "execution_count": 7,
      "outputs": [
        {
          "output_type": "stream",
          "text": [
            "/usr/local/lib/python3.6/dist-packages/IPython/core/interactiveshell.py:2718: DtypeWarning: Columns (16,19,25,28) have mixed types. Specify dtype option on import or set low_memory=False.\n",
            "  interactivity=interactivity, compiler=compiler, result=result)\n"
          ],
          "name": "stderr"
        }
      ]
    },
    {
      "metadata": {
        "id": "5Lg-yXecp267",
        "colab_type": "code",
        "colab": {}
      },
      "cell_type": "code",
      "source": [
        "gecon_filtered_df = gecon_df[['AREA', 'COUNTRY', 'DIS_LAKE','DIS_MAJOR_RIVER']]\n",
        "\n",
        "# print(gecon_filtered_df.isna().sum())\n",
        "\n",
        "# print(gecon_filtered_df)"
      ],
      "execution_count": 0,
      "outputs": []
    },
    {
      "metadata": {
        "id": "PNtoCAmTWtAR",
        "colab_type": "code",
        "colab": {}
      },
      "cell_type": "code",
      "source": [
        "# clean NaN\n",
        "# gecon_filtered_df = gecon_filtered_df.fillna(gecon_filtered_df.mean())\n",
        "# gecon_filtered_df = remove_NaN(gecon_filtered_df, [])\n",
        "\n",
        "# print(gecon_filtered_df.isna().sum())\n",
        "\n",
        "# print(gecon_filtered_df)"
      ],
      "execution_count": 0,
      "outputs": []
    },
    {
      "metadata": {
        "id": "yyO2aL4SObqB",
        "colab_type": "text"
      },
      "cell_type": "markdown",
      "source": [
        "## **GeoEPR Data Frame**"
      ]
    },
    {
      "metadata": {
        "id": "II-_vH73OLvh",
        "colab_type": "code",
        "colab": {}
      },
      "cell_type": "code",
      "source": [
        "geo_df = pd.read_csv(os.path.join(datadir, 'GeoEPR-2018.1.csv'),encoding='latin-1')\n",
        "# print(geo_df.columns.values)\n",
        "# # statename, group\n",
        "# print(geo_df)"
      ],
      "execution_count": 0,
      "outputs": []
    },
    {
      "metadata": {
        "id": "TGPkxd05olZN",
        "colab_type": "code",
        "colab": {}
      },
      "cell_type": "code",
      "source": [
        "geo_filtered_df = geo_df[['statename','group']]\n",
        "geo_filtered_df = geo_filtered_df.rename(index=str, columns={\"statename\": \"country_txt\"})\n",
        "# print(geo_filtered_df)\n",
        "# print(geo_filtered_df.isna().sum())\n",
        "# print(geo_filtered_df.groupby('country_txt').count())"
      ],
      "execution_count": 0,
      "outputs": []
    },
    {
      "metadata": {
        "id": "WR7YsgSLVroa",
        "colab_type": "code",
        "colab": {}
      },
      "cell_type": "code",
      "source": [
        "# clean NaN\n",
        "# geo_filtered_df = geo_filtered_df.fillna(geo_filtered_df.mean())\n",
        "#attributes_NaN = ['statename', 'group', 'type']\n",
        "#geo_filtered_df = remove_NaN(geo_filtered_df, attributes_NaN)\n",
        "\n",
        "#print(geo_filtered_df)"
      ],
      "execution_count": 0,
      "outputs": []
    },
    {
      "metadata": {
        "id": "0HVbOmnWVUN1",
        "colab_type": "text"
      },
      "cell_type": "markdown",
      "source": [
        "## **Happiness World Report Data Frame**"
      ]
    },
    {
      "metadata": {
        "id": "7yf0iEK_Qh-Y",
        "colab_type": "code",
        "colab": {}
      },
      "cell_type": "code",
      "source": [
        "happy_df_17 = pd.read_csv(os.path.join(datadir, 'Happiness2017.csv'),encoding='latin-1')\n",
        "happy_df_16 = pd.read_csv(os.path.join(datadir, 'Happiness2016.csv'),encoding='latin-1')\n",
        "happy_df_15 = pd.read_csv(os.path.join(datadir, 'Happiness2015.csv'),encoding='latin-1')\n",
        "# happiness = [happy_df_15, happy_df_16, happy_df_17]\n",
        "happy_df_17 = happy_df_17.rename(index=str, columns={\"Country\": \"country_txt\", \"Happiness.Rank\": \"Happiness.Rank17\", \"Happiness.Score\": \"Happiness.Score17\", \"Freedom\": \"Freedom17\", \"Economy..GDP.per.Capita.\": \"Economy17\"})\n",
        "happy_df_16 = happy_df_16.rename(index=str, columns={\"Country\": \"country_txt\", \"Happiness Rank\": \"Happiness.Rank16\", \"Happiness Score\": \"Happiness.Score16\", \"Freedom\": \"Freedom16\", \"Economy (GDP per Capita)\": \"Economy16\"})\n",
        "happy_df_15 = happy_df_15.rename(index=str, columns={\"Country\": \"country_txt\", \"Happiness Rank\": \"Happiness.Rank15\", \"Happiness Score\": \"Happiness.Score15\", \"Freedom\": \"Freedom15\", \"Economy (GDP per Capita)\": \"Economy15\"})"
      ],
      "execution_count": 0,
      "outputs": []
    },
    {
      "metadata": {
        "id": "zBwAL3P582XE",
        "colab_type": "code",
        "colab": {}
      },
      "cell_type": "code",
      "source": [
        "happiness_filtered = [happy_df_15[['country_txt','Happiness.Score15', 'Freedom15', 'Economy15']],\n",
        "                      happy_df_16[['country_txt','Happiness.Score16', 'Freedom16', 'Economy16']], \n",
        "                      happy_df_17[['country_txt','Happiness.Score17', 'Freedom17', 'Economy17']]]"
      ],
      "execution_count": 0,
      "outputs": []
    },
    {
      "metadata": {
        "id": "-cNONvxMU2Xg",
        "colab_type": "code",
        "colab": {}
      },
      "cell_type": "code",
      "source": [
        "# clean NaN\n",
        "# for i in range(len(happiness_filtered)):\n",
        "#   happiness_filtered[i] = remove_NaN(happiness_filtered[i], ['country_txt'])\n",
        "# happy_filtered_df = happy_filtered_df.rename(index=str, columns={\"Country\": \"country_txt\"})\n",
        "# print(happy_filtered_df.columns.values)"
      ],
      "execution_count": 0,
      "outputs": []
    },
    {
      "metadata": {
        "id": "f4rbBLk3_hkq",
        "colab_type": "text"
      },
      "cell_type": "markdown",
      "source": [
        "###TRIALS"
      ]
    },
    {
      "metadata": {
        "id": "vUerAkcwHScA",
        "colab_type": "code",
        "outputId": "53f4227b-7cbc-4a0e-b63e-15d99fb16ba0",
        "colab": {
          "base_uri": "https://localhost:8080/",
          "height": 136
        }
      },
      "cell_type": "code",
      "source": [
        "# d = {'one': pd.Series([1., 3.], index=['a', 'c']), 'two': pd.Series([1., 2., 3., 4.], index=['a', 'b', 'c', 'd']), 'three': pd.Series([\"A\", \"B\", \"A\"], index=['a', 'c', 'd'])}\n",
        "# df = pd.DataFrame(d)\n",
        "# print(df)\n",
        "# # print(df.isna().sum())\n",
        "# df = df.fillna(df.mean())\n",
        "# mode =  df['three'].mode()[0]\n",
        "# df['three'] = df.groupby('three')['three'].apply(lambda x: x.fillna(x.value_counts().idxmax() if x.value_counts().max() >=1 else mode , inplace = False))\n",
        "# df['three']= df['three'].fillna(df['three'].value_counts().idxmax())\n",
        "# print(df)\n",
        "# df = pd.DataFrame(data={'location': [1, 2, 3],\n",
        "#                         'coor': [(14.48847, 103.161477),\n",
        "#                               (14.970084, 103.062853),\n",
        "#                               (np.nan, np.nan)]})\n",
        "# print(df)\n",
        "# # df.dropna(how='any')\n",
        "# df = df[~df.coor.apply(lambda x: np.isnan(x[0]) & np.isnan(x[1]))]\n",
        "# # df = df[pd.DataFrame(df.coor.tolist()).notna().all(1)]\n",
        "# print(df)\n"
      ],
      "execution_count": 66,
      "outputs": [
        {
          "output_type": "stream",
          "text": [
            "   location                     coor\n",
            "0         1   (14.48847, 103.161477)\n",
            "1         2  (14.970084, 103.062853)\n",
            "2         3               (nan, nan)\n",
            "   location                     coor\n",
            "0         1   (14.48847, 103.161477)\n",
            "1         2  (14.970084, 103.062853)\n"
          ],
          "name": "stdout"
        }
      ]
    },
    {
      "metadata": {
        "id": "vvSBiTqp3AGr",
        "colab_type": "text"
      },
      "cell_type": "markdown",
      "source": [
        "## MERGED DATA"
      ]
    },
    {
      "metadata": {
        "id": "EaBxFPRhCOEk",
        "colab_type": "code",
        "outputId": "41db75c5-db6a-4b3a-e601-48ad8cafd733",
        "colab": {
          "base_uri": "https://localhost:8080/",
          "height": 34
        }
      },
      "cell_type": "code",
      "source": [
        "ethnic_count = geo_filtered_df.groupby('country_txt').count()\n",
        "countries = pd.DataFrame(geo_filtered_df['country_txt'].drop_duplicates().sort_values())\n",
        "ethnic_count = pd.concat([ethnic_count.reset_index(drop=True),countries.reset_index(drop=True)], axis=1)\n",
        "ethnic_count = ethnic_count.rename(index=str, columns={\"group\":\"group_count\"})\n",
        "print(ethnic_count.columns.values)\n"
      ],
      "execution_count": 19,
      "outputs": [
        {
          "output_type": "stream",
          "text": [
            "['group_count' 'country_txt']\n"
          ],
          "name": "stdout"
        }
      ]
    },
    {
      "metadata": {
        "id": "_bb158uoK2vo",
        "colab_type": "code",
        "outputId": "0ffb031b-2e80-422a-98c5-ffdd3cd3f4eb",
        "colab": {
          "base_uri": "https://localhost:8080/",
          "height": 34
        }
      },
      "cell_type": "code",
      "source": [
        "#result = pd.concat([gtd_filtered_df, happy_filtered_df],gtd_filtered_df[\"country_txt\"]=happy_filtered_df[\"Country\"])\n",
        "#'Happiness.Rank' 'Happiness.Score'\n",
        "gtd_merged_happiness = gtd_filtered_df\n",
        "for i in range(len(happiness_filtered)):\n",
        "  gtd_merged_happiness = pd.merge(gtd_merged_happiness, happiness_filtered[i],on='country_txt')\n",
        "gtd_merged_happiness = pd.merge(gtd_merged_happiness, ethnic_count, on='country_txt')\n",
        "print(gtd_merged_happiness.shape)\n",
        "# print(gtd_merged_happiness['region_txt'].drop_duplicates())"
      ],
      "execution_count": 20,
      "outputs": [
        {
          "output_type": "stream",
          "text": [
            "(167161, 21)\n"
          ],
          "name": "stdout"
        }
      ]
    },
    {
      "metadata": {
        "id": "AvaLOvx0AW-T",
        "colab_type": "code",
        "outputId": "844a10db-9179-41b1-988a-e9269c3ae532",
        "colab": {
          "base_uri": "https://localhost:8080/",
          "height": 102
        }
      },
      "cell_type": "code",
      "source": [
        "print(gtd_merged_happiness.columns.values)"
      ],
      "execution_count": 90,
      "outputs": [
        {
          "output_type": "stream",
          "text": [
            "['country_txt' 'region_txt' 'city' 'provstate' 'target1' 'iyear' 'imonth'\n",
            " 'gname' 'weaptype1_txt' 'attacktype1_txt' 'attacktype1'\n",
            " 'Happiness.Score15' 'Freedom15' 'Economy15' 'Happiness.Score16'\n",
            " 'Freedom16' 'Economy16' 'Happiness.Score17' 'Freedom17' 'Economy17'\n",
            " 'group_count']\n"
          ],
          "name": "stdout"
        }
      ]
    },
    {
      "metadata": {
        "id": "1SrJ5XoF1Hwb",
        "colab_type": "code",
        "colab": {}
      },
      "cell_type": "code",
      "source": [
        "# MENA stands for Middle East and North Africa region\n",
        "mena = gtd_merged_happiness.loc[gtd_merged_happiness['region_txt'] == 'Middle East & North Africa']"
      ],
      "execution_count": 0,
      "outputs": []
    },
    {
      "metadata": {
        "id": "A6Zz5qvuwh3K",
        "colab_type": "code",
        "outputId": "d7e85b91-4d53-46a2-b417-7d47641bc500",
        "colab": {
          "base_uri": "https://localhost:8080/",
          "height": 34
        }
      },
      "cell_type": "code",
      "source": [
        "print(mena.shape)"
      ],
      "execution_count": 92,
      "outputs": [
        {
          "output_type": "stream",
          "text": [
            "(45846, 21)\n"
          ],
          "name": "stdout"
        }
      ]
    },
    {
      "metadata": {
        "id": "Qepbd9FCuls2",
        "colab_type": "code",
        "outputId": "39367708-2de6-41df-e282-c057ad89a2bc",
        "colab": {
          "base_uri": "https://localhost:8080/",
          "height": 272
        }
      },
      "cell_type": "code",
      "source": [
        "print(mena['country_txt'].drop_duplicates())"
      ],
      "execution_count": 16,
      "outputs": [
        {
          "output_type": "stream",
          "text": [
            "16236           Jordan\n",
            "19871            Egypt\n",
            "23165          Lebanon\n",
            "25643           Turkey\n",
            "30049             Iran\n",
            "61678           Israel\n",
            "64027           Kuwait\n",
            "78871          Algeria\n",
            "91750          Morocco\n",
            "114426           Syria\n",
            "119326            Iraq\n",
            "153137    Saudi Arabia\n",
            "154671         Bahrain\n",
            "157616           Yemen\n",
            "Name: country_txt, dtype: object\n"
          ],
          "name": "stdout"
        }
      ]
    },
    {
      "metadata": {
        "id": "Lwzz60lmGGS9",
        "colab_type": "code",
        "outputId": "cab35dd9-b62a-4b13-d081-fc4db5e27759",
        "colab": {
          "base_uri": "https://localhost:8080/",
          "height": 34
        }
      },
      "cell_type": "code",
      "source": [
        "# Number of distinct terrorist groups in the MENA region = 636\n",
        "# print(np.unique(mena[['gname']].values))\n",
        "print(np.unique(mena[['gname']]).size)"
      ],
      "execution_count": 94,
      "outputs": [
        {
          "output_type": "stream",
          "text": [
            "636\n"
          ],
          "name": "stdout"
        }
      ]
    },
    {
      "metadata": {
        "id": "Zel0gtDSwGzL",
        "colab_type": "code",
        "colab": {
          "base_uri": "https://localhost:8080/",
          "height": 1088
        },
        "outputId": "7c457cd4-3315-48c4-9e36-572c59b8e7fa"
      },
      "cell_type": "code",
      "source": [
        "# attribute \"Unknown > 27000\" I think we should drop all of that\n",
        "# It doesn't make sense to predict an \"Unknown\"\n",
        "print(mena['gname'].value_counts())\n",
        "print(mena['gname'].size)"
      ],
      "execution_count": 33,
      "outputs": [
        {
          "output_type": "stream",
          "text": [
            "Unknown                                                     27245\n",
            "Islamic State of Iraq and the Levant (ISIL)                  5553\n",
            "Kurdistan Workers' Party (PKK)                               2137\n",
            "Houthi extremists (Ansar Allah)                              1062\n",
            "Al-Qaida in the Arabian Peninsula (AQAP)                     1016\n",
            "Al-Qaida in Iraq                                              637\n",
            "Palestinians                                                  613\n",
            "Sinai Province of the Islamic State                           443\n",
            "Hezbollah                                                     380\n",
            "Algerian Islamic Extremists                                   373\n",
            "Al-Nusrah Front                                               277\n",
            "Al-Gama'at al-Islamiyya (IG)                                  257\n",
            "Muslim extremists                                             253\n",
            "Dev Sol                                                       236\n",
            "Armed Islamic Group (GIA)                                     224\n",
            "Salafist Group for Preaching and Fighting (GSPC)              212\n",
            "Hamas (Islamic Resistance Movement)                           207\n",
            "Al-Qaida in the Islamic Maghreb (AQIM)                        181\n",
            "Islamist extremists                                           179\n",
            "Islamic Salvation Front (FIS)                                 153\n",
            "Islamic State of Iraq (ISI)                                   145\n",
            "Palestinian Islamic Jihad (PIJ)                               135\n",
            "Palestine Liberation Organization (PLO)                       132\n",
            "Muslim Brotherhood                                            121\n",
            "Free Syrian Army                                              120\n",
            "Mujahedin-e Khalq (MEK)                                       106\n",
            "Muslim Militants                                              104\n",
            "Popular Front for the Liberation of Palestine (PFLP)           97\n",
            "Gunmen                                                         95\n",
            "Tribesmen                                                      95\n",
            "                                                            ...  \n",
            "Islamic Front for the Liberation of Bahrain                     1\n",
            "14 March Coalition                                              1\n",
            "Anti Kurdish Workers Party Iraq nationals                       1\n",
            "Jund Al-Tawid                                                   1\n",
            "Tawhid and Jihad (Palestine)                                    1\n",
            "The Revolt                                                      1\n",
            "Union of Revolutionary Communists in Turkey (TIKB)              1\n",
            "Shaykh Hassan Khalid Forces                                     1\n",
            "Movement of the Islamic State (MEI)                             1\n",
            "Islamic Holy Star                                               1\n",
            "Supreme Islamic Council                                         1\n",
            "Sunni Resistance Committees in Lebanon (SRCL)                   1\n",
            "Militant Islamic Group, name not stated                         1\n",
            "Al-Fatihin Army (AFA)                                           1\n",
            "Arab Youth Group (Militant)                                     1\n",
            "Turkish Islamic Commandos                                       1\n",
            "Dev Genc                                                        1\n",
            "Fetullah Terrorist Organization                                 1\n",
            "Mesopotamian Army (MEZOR)                                       1\n",
            "Arab Struggle                                                   1\n",
            "Nobles of Jordan                                                1\n",
            "Organization of Avenging Palestinian Youth                      1\n",
            "Popular Army Vanguards- Battalions of Return                    1\n",
            "Organization of the Sons of Occupied Territories                1\n",
            "Liwa al-Tawhid                                                  1\n",
            "Al-Mua'qi'oon Biddam Brigade (Those who Sign with Blood)        1\n",
            "Fundamentalists                                                 1\n",
            "Khalid ibn Walid Brigade                                        1\n",
            "July 14 Movement                                                1\n",
            "Diraa al-Shahbaa Rebel Brigade                                  1\n",
            "Name: gname, Length: 636, dtype: int64\n",
            "45846\n"
          ],
          "name": "stdout"
        }
      ]
    },
    {
      "metadata": {
        "id": "jSoCKd-DVHRa",
        "colab_type": "text"
      },
      "cell_type": "markdown",
      "source": [
        "\n",
        "\n",
        "```\n",
        "`# This is formatted as code`\n",
        "```\n",
        "\n",
        "### Filtering Dataframe"
      ]
    },
    {
      "metadata": {
        "id": "SlFLIqIyTpCa",
        "colab_type": "code",
        "outputId": "bcc9de3d-35b8-402f-f17b-26c1d5903cf3",
        "colab": {
          "base_uri": "https://localhost:8080/",
          "height": 187
        }
      },
      "cell_type": "code",
      "source": [
        "# drop rows with nan in mena\n",
        "print(mena.shape)\n",
        "mena_cleaned = mena.dropna()\n",
        "print(mena_cleaned.shape)\n",
        "\n",
        "# select disired labels\n",
        "mena_filtered = mena_cleaned[(mena_cleaned['gname'] == \"Unknown\") | (mena_cleaned['gname'] == \"Islamic State of Iraq and the Levant (ISIL)\") | (mena_cleaned['gname'] == \"Kurdistan Workers' Party (PKK)\") | (mena_cleaned['gname'] == \"Houthi extremists (Ansar Allah)\") | (mena_cleaned['gname'] == \"Al-Qaida in the Arabian Peninsula (AQAP)\") | (mena_cleaned['gname'] == \"Al-Qaida in Iraq\")]\n",
        "\n",
        "print(mena_filtered['gname'].value_counts())\n",
        "print(mena_filtered['gname'].size)\n",
        "\n",
        "labels = [\"Unknown\", \"Islamic State of Iraq and the Levant (ISIL)\", \"Kurdistan Workers' Party (PKK)\", \"Houthi extremists (Ansar Allah)\", \"Al-Qaida in the Arabian Peninsula (AQAP)\", \"Al-Qaida in Iraq\"]\n"
      ],
      "execution_count": 60,
      "outputs": [
        {
          "output_type": "stream",
          "text": [
            "(45846, 21)\n",
            "(45624, 21)\n",
            "Unknown                                        27132\n",
            "Islamic State of Iraq and the Levant (ISIL)     5553\n",
            "Kurdistan Workers' Party (PKK)                  2134\n",
            "Houthi extremists (Ansar Allah)                 1062\n",
            "Al-Qaida in the Arabian Peninsula (AQAP)        1016\n",
            "Al-Qaida in Iraq                                 635\n",
            "Name: gname, dtype: int64\n",
            "37532\n"
          ],
          "name": "stdout"
        }
      ]
    },
    {
      "metadata": {
        "id": "qkJT8zPAqe3x",
        "colab_type": "code",
        "colab": {
          "base_uri": "https://localhost:8080/",
          "height": 51
        },
        "outputId": "882549d8-74b0-4701-c4fe-36aae88383cd"
      },
      "cell_type": "code",
      "source": [
        "mena_train = mena_cleaned.copy()\n",
        "mena_test = mena_cleaned.copy()\n",
        "\n",
        "mena_train = mena_train[mena_train['iyear'] < 2017]\n",
        "mena_test = mena_test[mena_test['iyear'] >= 2017]\n",
        "\n",
        "print(mena_train.shape)\n",
        "print(mena_test.shape)"
      ],
      "execution_count": 32,
      "outputs": [
        {
          "output_type": "stream",
          "text": [
            "(42121, 21)\n",
            "(3503, 21)\n"
          ],
          "name": "stdout"
        }
      ]
    },
    {
      "metadata": {
        "id": "7pb0uJrawlxs",
        "colab_type": "code",
        "colab": {}
      },
      "cell_type": "code",
      "source": [
        "# KNN classifier\n"
      ],
      "execution_count": 0,
      "outputs": []
    },
    {
      "metadata": {
        "id": "uaE0vxf32tlB",
        "colab_type": "code",
        "colab": {
          "base_uri": "https://localhost:8080/",
          "height": 255
        },
        "outputId": "00a3be2b-073f-4fb6-99c0-c4949edd357d"
      },
      "cell_type": "code",
      "source": [
        "test = pd.DataFrame({'id': np.array([1,2,3,4] * 2,dtype='int32'),\n",
        "                     'num': np.array([1,2] * 4,dtype='int32')\n",
        "                    })\n",
        "print(test)\n",
        "\n",
        "test = test[(test['id'] != 1) & (test['num'] != 1)]\n",
        "print(test)"
      ],
      "execution_count": 53,
      "outputs": [
        {
          "output_type": "stream",
          "text": [
            "   id  num\n",
            "0   1    1\n",
            "1   2    2\n",
            "2   3    1\n",
            "3   4    2\n",
            "4   1    1\n",
            "5   2    2\n",
            "6   3    1\n",
            "7   4    2\n",
            "   id  num\n",
            "1   2    2\n",
            "3   4    2\n",
            "5   2    2\n",
            "7   4    2\n"
          ],
          "name": "stdout"
        }
      ]
    }
  ]
}