{
  "nbformat": 4,
  "nbformat_minor": 0,
  "metadata": {
    "colab": {
      "name": "Graduation.ipynb",
      "version": "0.3.2",
      "provenance": [],
      "collapsed_sections": [
        "3bYFOOr9U-7h",
        "UWu8qbPKoZQI",
        "rVn6I7Y7OA9F",
        "yyO2aL4SObqB"
      ],
      "include_colab_link": true
    },
    "kernelspec": {
      "name": "python3",
      "display_name": "Python 3"
    }
  },
  "cells": [
    {
      "cell_type": "markdown",
      "metadata": {
        "id": "view-in-github",
        "colab_type": "text"
      },
      "source": [
        "<a href=\"https://colab.research.google.com/github/FNSY96/TerrorismEventsPrediction/blob/master/Graduation.ipynb\" target=\"_parent\"><img src=\"https://colab.research.google.com/assets/colab-badge.svg\" alt=\"Open In Colab\"/></a>"
      ]
    },
    {
      "metadata": {
        "id": "3t4_K6rWMxmH",
        "colab_type": "text"
      },
      "cell_type": "markdown",
      "source": [
        "# **Python Imports**\n",
        "PLEASE PUT ALL LIBRARY IMPORTS IN THIS CELL **ONLY**"
      ]
    },
    {
      "metadata": {
        "id": "3SkGUUzMMr4V",
        "colab_type": "code",
        "outputId": "0404b7ac-2734-4cdf-aed8-af3cb816ee78",
        "colab": {
          "base_uri": "https://localhost:8080/",
          "height": 34
        }
      },
      "cell_type": "code",
      "source": [
        "import pandas as pd\n",
        "import csv\n",
        "import glob\n",
        "import os\n",
        "from pandas import ExcelWriter\n",
        "from pandas import ExcelFile\n",
        "import io\n",
        "print(\"imports run\")"
      ],
      "execution_count": 1,
      "outputs": [
        {
          "output_type": "stream",
          "text": [
            "imports run\n"
          ],
          "name": "stdout"
        }
      ]
    },
    {
      "metadata": {
        "id": "ts4MLZnIaj37",
        "colab_type": "code",
        "outputId": "6315cd93-0cbd-4f27-842d-eb2abc637123",
        "colab": {
          "base_uri": "https://localhost:8080/",
          "height": 131
        }
      },
      "cell_type": "code",
      "source": [
        "!pip3 install pandas"
      ],
      "execution_count": 2,
      "outputs": [
        {
          "output_type": "stream",
          "text": [
            "Requirement already satisfied: pandas in /usr/local/lib/python3.6/dist-packages (0.22.0)\n",
            "Requirement already satisfied: python-dateutil>=2 in /usr/local/lib/python3.6/dist-packages (from pandas) (2.5.3)\n",
            "Requirement already satisfied: numpy>=1.9.0 in /usr/local/lib/python3.6/dist-packages (from pandas) (1.14.6)\n",
            "Requirement already satisfied: pytz>=2011k in /usr/local/lib/python3.6/dist-packages (from pandas) (2018.9)\n",
            "Requirement already satisfied: six>=1.5 in /usr/local/lib/python3.6/dist-packages (from python-dateutil>=2->pandas) (1.11.0)\n"
          ],
          "name": "stdout"
        }
      ]
    },
    {
      "metadata": {
        "id": "BTQAhp_HNvyG",
        "colab_type": "text"
      },
      "cell_type": "markdown",
      "source": [
        "# Data Set Imports"
      ]
    },
    {
      "metadata": {
        "id": "N13I8JpfMHc6",
        "colab_type": "code",
        "outputId": "3444cb8b-9fc9-486e-aceb-5a9732738d8e",
        "colab": {
          "base_uri": "https://localhost:8080/",
          "height": 180
        }
      },
      "cell_type": "code",
      "source": [
        "!pip install -U -q PyDrive\n",
        "from google.colab import drive\n",
        "from pydrive.auth import GoogleAuth\n",
        "from pydrive.drive import GoogleDrive\n",
        "from google.colab import auth\n",
        "from oauth2client.client import GoogleCredentials\n",
        "auth.authenticate_user()\n",
        "gauth = GoogleAuth()\n",
        "gauth.credentials = GoogleCredentials.get_application_default()"
      ],
      "execution_count": 3,
      "outputs": [
        {
          "output_type": "stream",
          "text": [
            "\u001b[K    100% |████████████████████████████████| 993kB 751kB/s \n",
            "\u001b[?25h  Building wheel for PyDrive (setup.py) ... \u001b[?25ldone\n",
            "\u001b[?25h"
          ],
          "name": "stdout"
        }
      ]
    },
    {
      "metadata": {
        "id": "pdAFcrotUNTk",
        "colab_type": "code",
        "outputId": "8dbb1987-64e7-4eb8-dbd7-0c7785bf8809",
        "colab": {
          "base_uri": "https://localhost:8080/",
          "height": 189
        }
      },
      "cell_type": "code",
      "source": [
        "# drive = GoogleDrive(gauth)\n",
        "drive.mount(\"/content/drive\", force_remount=True)\n",
        "datadir  = 'drive/My Drive/GraduationProject/Data'"
      ],
      "execution_count": 4,
      "outputs": [
        {
          "output_type": "stream",
          "text": [
            "Go to this URL in a browser: https://accounts.google.com/o/oauth2/auth?client_id=947318989803-6bn6qk8qdgf4n4g3pfee6491hc0brc4i.apps.googleusercontent.com&redirect_uri=urn%3Aietf%3Awg%3Aoauth%3A2.0%3Aoob&scope=email%20https%3A%2F%2Fwww.googleapis.com%2Fauth%2Fdocs.test%20https%3A%2F%2Fwww.googleapis.com%2Fauth%2Fdrive%20https%3A%2F%2Fwww.googleapis.com%2Fauth%2Fdrive.photos.readonly%20https%3A%2F%2Fwww.googleapis.com%2Fauth%2Fpeopleapi.readonly&response_type=code\n",
            "\n",
            "Enter your authorization code:\n",
            "··········\n",
            "Mounted at /content/drive\n"
          ],
          "name": "stdout"
        }
      ]
    },
    {
      "metadata": {
        "id": "1qsmoZ3eReyA",
        "colab_type": "text"
      },
      "cell_type": "markdown",
      "source": [
        "###**GTD**"
      ]
    },
    {
      "metadata": {
        "id": "JvNzAiEaX4MW",
        "colab_type": "code",
        "colab": {}
      },
      "cell_type": "code",
      "source": [
        "# !ls drive/'My Drive'/GraduationProject/Data/gtd.csv"
      ],
      "execution_count": 0,
      "outputs": []
    },
    {
      "metadata": {
        "id": "RkR7Qwd8xj77",
        "colab_type": "text"
      },
      "cell_type": "markdown",
      "source": [
        "# Functions"
      ]
    },
    {
      "metadata": {
        "id": "lR1VUhPkurWG",
        "colab_type": "code",
        "colab": {}
      },
      "cell_type": "code",
      "source": [
        "def remove_NaN(data_set, attributes_NaN):\n",
        "  data_set = data_set.fillna(data_set.mean())\n",
        "  for i in range(len(attributes_NaN)):\n",
        "      attribute = attributes_NaN[i]\n",
        "      mode =  data_set[attribute].mode()[0]\n",
        "      data_set[attribute] = data_set.groupby(attribute)[attribute].apply(lambda x: x.fillna(x.value_counts().idxmax() if x.value_counts().max() >=1 else mode , inplace = False))\n",
        "      data_set[attribute]= data_set[attribute].fillna(data_set[attribute].value_counts().idxmax())\n",
        "  return data_set"
      ],
      "execution_count": 0,
      "outputs": []
    },
    {
      "metadata": {
        "id": "PrJgZxRJ5U9X",
        "colab_type": "code",
        "colab": {}
      },
      "cell_type": "code",
      "source": [
        "def filter_dataframe(data_set, columns):\n",
        "  return data_set[columns]"
      ],
      "execution_count": 0,
      "outputs": []
    },
    {
      "metadata": {
        "id": "nZjjGdaLVMkv",
        "colab_type": "text"
      },
      "cell_type": "markdown",
      "source": [
        "# Pandas Data Frames\n",
        "Useful link : https://youtu.be/2AFGPdNn4FM"
      ]
    },
    {
      "metadata": {
        "id": "3bYFOOr9U-7h",
        "colab_type": "text"
      },
      "cell_type": "markdown",
      "source": [
        "## **GTD Data Frame**"
      ]
    },
    {
      "metadata": {
        "id": "hzPwkdhBZRZU",
        "colab_type": "code",
        "outputId": "0d6dcc58-dc28-4740-ba07-f1149e707476",
        "colab": {
          "base_uri": "https://localhost:8080/",
          "height": 111
        }
      },
      "cell_type": "code",
      "source": [
        "gtd_df = pd.read_csv(os.path.join(datadir, 'gtd.csv'),encoding='latin-1')\n",
        "# print(gtd_df.columns.values)"
      ],
      "execution_count": 7,
      "outputs": [
        {
          "output_type": "stream",
          "text": [
            "/usr/local/lib/python3.6/dist-packages/IPython/core/interactiveshell.py:2718: DtypeWarning: Columns (4,6,31,33,61,62,63,76,79,90,92,94,96,114,115,121) have mixed types. Specify dtype option on import or set low_memory=False.\n",
            "  interactivity=interactivity, compiler=compiler, result=result)\n"
          ],
          "name": "stderr"
        }
      ]
    },
    {
      "metadata": {
        "id": "j_29KRCKqrj-",
        "colab_type": "code",
        "colab": {}
      },
      "cell_type": "code",
      "source": [
        "gtd_filtered_df = gtd_df[['country_txt','region_txt','city','latitude', 'longitude', 'target1', 'iyear']]\n",
        "# print(gtd_filtered_df)\n",
        "# print(gtd_filtered_df.isna().sum())"
      ],
      "execution_count": 0,
      "outputs": []
    },
    {
      "metadata": {
        "id": "UWu8qbPKoZQI",
        "colab_type": "text"
      },
      "cell_type": "markdown",
      "source": [
        "### GTD Removed NaN"
      ]
    },
    {
      "metadata": {
        "id": "sUcg4eqXaf4U",
        "colab_type": "code",
        "colab": {}
      },
      "cell_type": "code",
      "source": [
        "# DO NOT REMOVE THIS ONE WE COMMENTED IT TEMORARLY\n",
        "# clean NaN\n",
        "# gtd_filtered_df = gtd_filtered_df.fillna(gtd_filtered_df.mean())\n",
        "# attributes_NaN = ['country_txt', 'city', 'target']\n",
        "# gtd_filtered_df = remove_NaN(gtd_filtered_df, attributes_NaN)\n",
        "# print(gtd_filtered_df)"
      ],
      "execution_count": 0,
      "outputs": []
    },
    {
      "metadata": {
        "id": "rVn6I7Y7OA9F",
        "colab_type": "text"
      },
      "cell_type": "markdown",
      "source": [
        "## **GECON Data Frame**"
      ]
    },
    {
      "metadata": {
        "id": "t6AAaOVhHY6z",
        "colab_type": "code",
        "outputId": "974923a8-50d5-4a12-c79e-64473f3c6a31",
        "colab": {
          "base_uri": "https://localhost:8080/",
          "height": 91
        }
      },
      "cell_type": "code",
      "source": [
        "gecon_df = pd.read_csv(os.path.join(datadir, 'Gecon40_post_final_kh.csv'),encoding='latin-1')\n",
        "# print(gecon_df.columns.values)"
      ],
      "execution_count": 10,
      "outputs": [
        {
          "output_type": "stream",
          "text": [
            "/usr/local/lib/python3.6/dist-packages/IPython/core/interactiveshell.py:2718: DtypeWarning: Columns (16,19,25,28) have mixed types. Specify dtype option on import or set low_memory=False.\n",
            "  interactivity=interactivity, compiler=compiler, result=result)\n"
          ],
          "name": "stderr"
        }
      ]
    },
    {
      "metadata": {
        "id": "5Lg-yXecp267",
        "colab_type": "code",
        "colab": {}
      },
      "cell_type": "code",
      "source": [
        "gecon_filtered_df = gecon_df[['AREA', 'COUNTRY', 'DIS_LAKE','DIS_MAJOR_RIVER']]\n",
        "\n",
        "# print(gecon_filtered_df.isna().sum())\n",
        "\n",
        "# print(gecon_filtered_df)"
      ],
      "execution_count": 0,
      "outputs": []
    },
    {
      "metadata": {
        "id": "PNtoCAmTWtAR",
        "colab_type": "code",
        "colab": {}
      },
      "cell_type": "code",
      "source": [
        "# clean NaN\n",
        "# gecon_filtered_df = gecon_filtered_df.fillna(gecon_filtered_df.mean())\n",
        "gecon_filtered_df = remove_NaN(gecon_filtered_df, [])\n",
        "\n",
        "# print(gecon_filtered_df.isna().sum())\n",
        "\n",
        "# print(gecon_filtered_df)"
      ],
      "execution_count": 0,
      "outputs": []
    },
    {
      "metadata": {
        "id": "yyO2aL4SObqB",
        "colab_type": "text"
      },
      "cell_type": "markdown",
      "source": [
        "## **GeoEPR Data Frame**"
      ]
    },
    {
      "metadata": {
        "id": "II-_vH73OLvh",
        "colab_type": "code",
        "colab": {}
      },
      "cell_type": "code",
      "source": [
        "geo_df = pd.read_csv(os.path.join(datadir, 'GeoEPR-2018.1.csv'),encoding='latin-1')\n",
        "# print(geo_df.columns.values)\n",
        "# # statename, group\n",
        "# print(geo_df)"
      ],
      "execution_count": 0,
      "outputs": []
    },
    {
      "metadata": {
        "id": "TGPkxd05olZN",
        "colab_type": "code",
        "colab": {}
      },
      "cell_type": "code",
      "source": [
        "geo_filtered_df = geo_df[['statename','group']]\n",
        "geo_filtered_df = geo_filtered_df.rename(index=str, columns={\"statename\": \"country_txt\"})\n",
        "# print(geo_filtered_df)\n",
        "# print(geo_filtered_df.isna().sum())\n",
        "# print(geo_filtered_df.groupby('country_txt').count())"
      ],
      "execution_count": 0,
      "outputs": []
    },
    {
      "metadata": {
        "id": "WR7YsgSLVroa",
        "colab_type": "code",
        "colab": {}
      },
      "cell_type": "code",
      "source": [
        "# clean NaN\n",
        "# geo_filtered_df = geo_filtered_df.fillna(geo_filtered_df.mean())\n",
        "#attributes_NaN = ['statename', 'group', 'type']\n",
        "#geo_filtered_df = remove_NaN(geo_filtered_df, attributes_NaN)\n",
        "\n",
        "#print(geo_filtered_df)"
      ],
      "execution_count": 0,
      "outputs": []
    },
    {
      "metadata": {
        "id": "0HVbOmnWVUN1",
        "colab_type": "text"
      },
      "cell_type": "markdown",
      "source": [
        "## **Happiness World Report Data Frame**"
      ]
    },
    {
      "metadata": {
        "id": "7yf0iEK_Qh-Y",
        "colab_type": "code",
        "colab": {}
      },
      "cell_type": "code",
      "source": [
        "happy_df_17 = pd.read_csv(os.path.join(datadir, 'Happiness2017.csv'),encoding='latin-1')\n",
        "happy_df_16 = pd.read_csv(os.path.join(datadir, 'Happiness2016.csv'),encoding='latin-1')\n",
        "happy_df_15 = pd.read_csv(os.path.join(datadir, 'Happiness2015.csv'),encoding='latin-1')\n",
        "# happiness = [happy_df_15, happy_df_16, happy_df_17]\n",
        "happy_df_17 = happy_df_17.rename(index=str, columns={\"Country\": \"country_txt\", \"Happiness.Rank\": \"Happiness.Rank17\", \"Happiness.Score\": \"Happiness.Score17\"})\n",
        "happy_df_16 = happy_df_16.rename(index=str, columns={\"Country\": \"country_txt\", \"Happiness Rank\": \"Happiness.Rank16\", \"Happiness Score\": \"Happiness.Score16\"})\n",
        "happy_df_15 = happy_df_15.rename(index=str, columns={\"Country\": \"country_txt\", \"Happiness Rank\": \"Happiness.Rank15\", \"Happiness Score\": \"Happiness.Score15\"})"
      ],
      "execution_count": 0,
      "outputs": []
    },
    {
      "metadata": {
        "id": "zBwAL3P582XE",
        "colab_type": "code",
        "colab": {}
      },
      "cell_type": "code",
      "source": [
        "happiness_filtered = [happy_df_15[['country_txt','Happiness.Rank15','Happiness.Score15']],\n",
        "                      happy_df_16[['country_txt','Happiness.Rank16','Happiness.Score16']], \n",
        "                      happy_df_17[['country_txt','Happiness.Rank17','Happiness.Score17']]]"
      ],
      "execution_count": 0,
      "outputs": []
    },
    {
      "metadata": {
        "id": "1Z2lnTpobEIN",
        "colab_type": "code",
        "colab": {}
      },
      "cell_type": "code",
      "source": [
        "# happy_filtered_df = happy_df[['Country','Happiness.Rank','Happiness.Score']]\n",
        "# attributes_filter = ['Country','Happiness.Rank','Happiness.Score']\n",
        "# happiness_filtered = [None] * 3\n",
        "\n",
        "# for i in range(len(happiness)):\n",
        "#   happiness_filtered[i] = filter_dataframe(happiness[i], attributes_filter)\n",
        "# print(happy_filtered_df)"
      ],
      "execution_count": 0,
      "outputs": []
    },
    {
      "metadata": {
        "id": "-cNONvxMU2Xg",
        "colab_type": "code",
        "colab": {}
      },
      "cell_type": "code",
      "source": [
        "# clean NaN\n",
        "for i in range(len(happiness_filtered)):\n",
        "  happiness_filtered[i] = remove_NaN(happiness_filtered[i], ['country_txt'])\n",
        "# happy_filtered_df = happy_filtered_df.rename(index=str, columns={\"Country\": \"country_txt\"})\n",
        "# print(happy_filtered_df.columns.values)"
      ],
      "execution_count": 0,
      "outputs": []
    },
    {
      "metadata": {
        "id": "f4rbBLk3_hkq",
        "colab_type": "text"
      },
      "cell_type": "markdown",
      "source": [
        "###TRIALS"
      ]
    },
    {
      "metadata": {
        "id": "vUerAkcwHScA",
        "colab_type": "code",
        "colab": {}
      },
      "cell_type": "code",
      "source": [
        "# d = {'one': pd.Series([1., 3.], index=['a', 'c']), 'two': pd.Series([1., 2., 3., 4.], index=['a', 'b', 'c', 'd']), 'three': pd.Series([\"A\", \"B\", \"A\"], index=['a', 'c', 'd'])}\n",
        "# df = pd.DataFrame(d)\n",
        "# print(df)\n",
        "# # print(df.isna().sum())\n",
        "# df = df.fillna(df.mean())\n",
        "# mode =  df['three'].mode()[0]\n",
        "# df['three'] = df.groupby('three')['three'].apply(lambda x: x.fillna(x.value_counts().idxmax() if x.value_counts().max() >=1 else mode , inplace = False))\n",
        "# df['three']= df['three'].fillna(df['three'].value_counts().idxmax())\n",
        "# print(df)"
      ],
      "execution_count": 0,
      "outputs": []
    },
    {
      "metadata": {
        "id": "vvSBiTqp3AGr",
        "colab_type": "text"
      },
      "cell_type": "markdown",
      "source": [
        "## MERGED DATA"
      ]
    },
    {
      "metadata": {
        "id": "EaBxFPRhCOEk",
        "colab_type": "code",
        "colab": {
          "base_uri": "https://localhost:8080/",
          "height": 34
        },
        "outputId": "1a6c8a01-de14-4009-9fed-337145637dd5"
      },
      "cell_type": "code",
      "source": [
        "ethnic_count = geo_filtered_df.groupby('country_txt').count()\n",
        "countries = pd.DataFrame(geo_filtered_df['country_txt'].drop_duplicates().sort_values())\n",
        "ethnic_count = pd.concat([ethnic_count.reset_index(drop=True),countries.reset_index(drop=True)], axis=1)\n",
        "ethnic_count = ethnic_count.rename(index=str, columns={\"group\":\"group_count\"})\n",
        "print(ethnic_count.columns.values)\n"
      ],
      "execution_count": 106,
      "outputs": [
        {
          "output_type": "stream",
          "text": [
            "['group_count' 'country_txt']\n"
          ],
          "name": "stdout"
        }
      ]
    },
    {
      "metadata": {
        "id": "_bb158uoK2vo",
        "colab_type": "code",
        "colab": {
          "base_uri": "https://localhost:8080/",
          "height": 34
        },
        "outputId": "b4186a80-4fba-4fde-e878-aa6f798db7c1"
      },
      "cell_type": "code",
      "source": [
        "#result = pd.concat([gtd_filtered_df, happy_filtered_df],gtd_filtered_df[\"country_txt\"]=happy_filtered_df[\"Country\"])\n",
        "#'Happiness.Rank' 'Happiness.Score'\n",
        "gtd_merged_happiness = gtd_filtered_df\n",
        "for i in range(len(happiness_filtered)):\n",
        "  gtd_merged_happiness = pd.merge(gtd_merged_happiness, happiness_filtered[i],on='country_txt')\n",
        "gtd_merged_happiness = pd.merge(gtd_merged_happiness, ethnic_count, on='country_txt')\n",
        "print(gtd_merged_happiness.shape)\n",
        "# print(gtd_merged_happiness['region_txt'].drop_duplicates())"
      ],
      "execution_count": 107,
      "outputs": [
        {
          "output_type": "stream",
          "text": [
            "(167161, 14)\n"
          ],
          "name": "stdout"
        }
      ]
    },
    {
      "metadata": {
        "id": "AvaLOvx0AW-T",
        "colab_type": "code",
        "colab": {
          "base_uri": "https://localhost:8080/",
          "height": 68
        },
        "outputId": "113ff2c4-c1cf-4acc-e06d-a2320f37f25a"
      },
      "cell_type": "code",
      "source": [
        "print(gtd_merged_happiness.columns.values)"
      ],
      "execution_count": 108,
      "outputs": [
        {
          "output_type": "stream",
          "text": [
            "['country_txt' 'region_txt' 'city' 'latitude' 'longitude' 'target1'\n",
            " 'iyear' 'Happiness.Rank15' 'Happiness.Score15' 'Happiness.Rank16'\n",
            " 'Happiness.Score16' 'Happiness.Rank17' 'Happiness.Score17' 'group_count']\n"
          ],
          "name": "stdout"
        }
      ]
    },
    {
      "metadata": {
        "id": "1SrJ5XoF1Hwb",
        "colab_type": "code",
        "outputId": "427ba53a-02b4-4fb5-9271-d30cf551d00f",
        "colab": {
          "base_uri": "https://localhost:8080/",
          "height": 272
        }
      },
      "cell_type": "code",
      "source": [
        "# MENA stands for Middle East and North Africa region\n",
        "mena = gtd_merged_happiness.loc[gtd_merged_happiness['region_txt'] == 'Middle East & North Africa']\n",
        "print(mena['country_txt'].drop_duplicates())\n",
        "# ADD SUDAN"
      ],
      "execution_count": 110,
      "outputs": [
        {
          "output_type": "stream",
          "text": [
            "16236           Jordan\n",
            "19871            Egypt\n",
            "23165          Lebanon\n",
            "25643           Turkey\n",
            "30049             Iran\n",
            "61678           Israel\n",
            "64027           Kuwait\n",
            "78871          Algeria\n",
            "91750          Morocco\n",
            "114426           Syria\n",
            "119326            Iraq\n",
            "153137    Saudi Arabia\n",
            "154671         Bahrain\n",
            "157616           Yemen\n",
            "Name: country_txt, dtype: object\n"
          ],
          "name": "stdout"
        }
      ]
    },
    {
      "metadata": {
        "id": "Lwzz60lmGGS9",
        "colab_type": "code",
        "colab": {
          "base_uri": "https://localhost:8080/",
          "height": 5389
        },
        "outputId": "27a33d8b-78ba-4dcf-ff77-6eb06d5f97d5"
      },
      "cell_type": "code",
      "source": [
        "print(mena)"
      ],
      "execution_count": 111,
      "outputs": [
        {
          "output_type": "stream",
          "text": [
            "       country_txt                  region_txt                     city  \\\n",
            "16236       Jordan  Middle East & North Africa                   Hebron   \n",
            "16237       Jordan  Middle East & North Africa                    Amman   \n",
            "16238       Jordan  Middle East & North Africa                    Amman   \n",
            "16239       Jordan  Middle East & North Africa                    Amman   \n",
            "16240       Jordan  Middle East & North Africa                    Amman   \n",
            "16241       Jordan  Middle East & North Africa                    Amman   \n",
            "16242       Jordan  Middle East & North Africa                    Amman   \n",
            "16243       Jordan  Middle East & North Africa                    Amman   \n",
            "16244       Jordan  Middle East & North Africa                    Amman   \n",
            "16245       Jordan  Middle East & North Africa                  Unknown   \n",
            "16246       Jordan  Middle East & North Africa                  Unknown   \n",
            "16247       Jordan  Middle East & North Africa                  Unknown   \n",
            "16248       Jordan  Middle East & North Africa                    Amman   \n",
            "16249       Jordan  Middle East & North Africa                    Amman   \n",
            "16250       Jordan  Middle East & North Africa                    Amman   \n",
            "16251       Jordan  Middle East & North Africa                    Amman   \n",
            "16252       Jordan  Middle East & North Africa                    Amman   \n",
            "16253       Jordan  Middle East & North Africa                    Amman   \n",
            "16254       Jordan  Middle East & North Africa                    Amman   \n",
            "16255       Jordan  Middle East & North Africa                    Amman   \n",
            "16256       Jordan  Middle East & North Africa                    amman   \n",
            "16257       Jordan  Middle East & North Africa                    Amman   \n",
            "16258       Jordan  Middle East & North Africa                    Amman   \n",
            "16259       Jordan  Middle East & North Africa                    Amman   \n",
            "16260       Jordan  Middle East & North Africa                    Amman   \n",
            "16261       Jordan  Middle East & North Africa                    Amman   \n",
            "16262       Jordan  Middle East & North Africa                    Amman   \n",
            "16263       Jordan  Middle East & North Africa                    Amman   \n",
            "16264       Jordan  Middle East & North Africa                    Amman   \n",
            "16265       Jordan  Middle East & North Africa                    Zarqa   \n",
            "...            ...                         ...                      ...   \n",
            "160933       Yemen  Middle East & North Africa          Mahfad district   \n",
            "160934       Yemen  Middle East & North Africa            Shaykh Uthman   \n",
            "160935       Yemen  Middle East & North Africa                     Aden   \n",
            "160936       Yemen  Middle East & North Africa                     Ataq   \n",
            "160937       Yemen  Middle East & North Africa                    Sanaa   \n",
            "160938       Yemen  Middle East & North Africa                    Sanaa   \n",
            "160939       Yemen  Middle East & North Africa                  Unknown   \n",
            "160940       Yemen  Middle East & North Africa                    Sanaa   \n",
            "160941       Yemen  Middle East & North Africa                    Sanaa   \n",
            "160942       Yemen  Middle East & North Africa                    Sanaa   \n",
            "160943       Yemen  Middle East & North Africa                    Sanaa   \n",
            "160944       Yemen  Middle East & North Africa                    Sanaa   \n",
            "160945       Yemen  Middle East & North Africa                    Sanaa   \n",
            "160946       Yemen  Middle East & North Africa            Shaykh Uthman   \n",
            "160947       Yemen  Middle East & North Africa                    Sanaa   \n",
            "160948       Yemen  Middle East & North Africa                    Sanaa   \n",
            "160949       Yemen  Middle East & North Africa              Al-Khawkhah   \n",
            "160950       Yemen  Middle East & North Africa                    Taizz   \n",
            "160951       Yemen  Middle East & North Africa                    Taizz   \n",
            "160952       Yemen  Middle East & North Africa                     Aden   \n",
            "160953       Yemen  Middle East & North Africa                    Marib   \n",
            "160954       Yemen  Middle East & North Africa           Mukha district   \n",
            "160955       Yemen  Middle East & North Africa        Khawkhah district   \n",
            "160956       Yemen  Middle East & North Africa                    Sanaa   \n",
            "160957       Yemen  Middle East & North Africa                  Unknown   \n",
            "160958       Yemen  Middle East & North Africa        Khawkhah district   \n",
            "160959       Yemen  Middle East & North Africa                   Al-Ayn   \n",
            "160960       Yemen  Middle East & North Africa                 Hudaydah   \n",
            "160961       Yemen  Middle East & North Africa  Bayt al-Faqiah district   \n",
            "160962       Yemen  Middle East & North Africa                    Marib   \n",
            "\n",
            "         latitude  longitude  \\\n",
            "16236   31.530243  35.094162   \n",
            "16237   31.950001  35.933331   \n",
            "16238   31.950001  35.933331   \n",
            "16239   31.950001  35.933331   \n",
            "16240   31.950001  35.933331   \n",
            "16241   31.950001  35.933331   \n",
            "16242   31.950001  35.933331   \n",
            "16243   31.950001  35.933331   \n",
            "16244   31.950001  35.933331   \n",
            "16245         NaN        NaN   \n",
            "16246         NaN        NaN   \n",
            "16247         NaN        NaN   \n",
            "16248   31.950001  35.933331   \n",
            "16249   31.950001  35.933331   \n",
            "16250   31.945367  35.928372   \n",
            "16251   31.945367  35.928372   \n",
            "16252   31.945367  35.928372   \n",
            "16253   31.945367  35.928372   \n",
            "16254   31.950001  35.933331   \n",
            "16255   31.950001  35.933331   \n",
            "16256   31.950001  35.933331   \n",
            "16257   31.950001  35.933331   \n",
            "16258   31.950001  35.933331   \n",
            "16259   31.950001  35.933331   \n",
            "16260   31.950001  35.933331   \n",
            "16261   31.950001  35.933331   \n",
            "16262   31.950001  35.933331   \n",
            "16263   31.950001  35.933331   \n",
            "16264   31.950001  35.933331   \n",
            "16265   32.078037  36.095388   \n",
            "...           ...        ...   \n",
            "160933  14.002145  46.722083   \n",
            "160934  12.867085  44.981911   \n",
            "160935  12.825647  44.846416   \n",
            "160936  14.529338  46.830488   \n",
            "160937  15.325443  44.211895   \n",
            "160938  15.325443  44.211895   \n",
            "160939  17.302360  43.394223   \n",
            "160940  15.325443  44.211895   \n",
            "160941  15.325443  44.211895   \n",
            "160942  15.325443  44.211895   \n",
            "160943  15.325443  44.211895   \n",
            "160944  15.325443  44.211895   \n",
            "160945  15.325443  44.211895   \n",
            "160946  12.867085  44.981911   \n",
            "160947  15.325443  44.211895   \n",
            "160948  15.325443  44.211895   \n",
            "160949  13.810242  43.248310   \n",
            "160950  13.586484  44.024105   \n",
            "160951  13.586484  44.024105   \n",
            "160952  12.825647  44.846416   \n",
            "160953  15.456390  45.324871   \n",
            "160954  13.635472  43.317189   \n",
            "160955  13.705788  43.289405   \n",
            "160956  15.325443  44.211895   \n",
            "160957  14.719534  44.247902   \n",
            "160958  13.820762  43.267241   \n",
            "160959  13.332529  44.092531   \n",
            "160960  14.781294  42.972851   \n",
            "160961  14.521675  43.324637   \n",
            "160962  15.456390  45.324871   \n",
            "\n",
            "                                                  target1  iyear  \\\n",
            "16236                                         Tourist Bus   1970   \n",
            "16237                                          US Embassy   1970   \n",
            "16238                                    Military Attache   1970   \n",
            "16239   Morris Draper, chief of political section, U.S...   1970   \n",
            "16240                                              Hotels   1970   \n",
            "16241                                              Hotels   1970   \n",
            "16242          Major, mil. attache in Amman, Robert Perry   1970   \n",
            "16243   Sgt Graham, employee, defense attache office, ...   1970   \n",
            "16244   Jon Stewart, USIS officer (cultural affairs of...   1970   \n",
            "16245                        ZARKA Refinery - Pipeline to   1971   \n",
            "16246       Tapline co, U.S. Co. line, near syrian border   1971   \n",
            "16247                                          Tapline Co   1971   \n",
            "16248                                 Jordanian airliners   1971   \n",
            "16249                              Intercontinental Hotel   1971   \n",
            "16250                                             Offical   1972   \n",
            "16251                                             Offical   1972   \n",
            "16252                                             Offical   1972   \n",
            "16253                                             Offical   1972   \n",
            "16254                                        U.S. embassy   1972   \n",
            "16255                                        U.S. Embassy   1972   \n",
            "16256                           union officials residence   1972   \n",
            "16257                                        U.S. Embassy   1973   \n",
            "16258                           Amman International Hotel   1976   \n",
            "16259                     Akib Noaf, military adjutant to   1980   \n",
            "16260                        Mudar Badran, Prime minister   1981   \n",
            "16261   Yasin al-Kayid, Ministry of Finance Under Secr...   1981   \n",
            "16262   Cinderella grocery store (in first circle area...   1982   \n",
            "16263   American Insurance Company, second floor of bu...   1983   \n",
            "16264   Amideast office (American Friends of the Middl...   1983   \n",
            "16265                                 Army officers' club   1983   \n",
            "...                                                   ...    ...   \n",
            "160933  Convoy of Rapid Intervention Forces Commander:...   2017   \n",
            "160934                               Leader: Ahmad Shaykh   2017   \n",
            "160935                                           Building   2017   \n",
            "160936                                             Convoy   2017   \n",
            "160937  Residence of Nephew of Former President Abdull...   2017   \n",
            "160938                   Foreign Minister: Ibrahim Sharaf   2017   \n",
            "160939                                               Area   2017   \n",
            "160940  Residence of Nephew of Former President Ali Ab...   2017   \n",
            "160941                                       Headquarters   2017   \n",
            "160942  Former Press Secretary for President Ali Abdul...   2017   \n",
            "160943  Residence of Hashid Tribal Confederation Membe...   2017   \n",
            "160944               Former President: Ali Abdullah Saleh   2017   \n",
            "160945  Residence of Former President: Ali Abdullah Saleh   2017   \n",
            "160946                             Imam: Shaykh Al-Umrani   2017   \n",
            "160947                               Female Demonstrators   2017   \n",
            "160948            Undersecretary: Professor Fuad al-Kamim   2017   \n",
            "160949                                               City   2017   \n",
            "160950                                           Hospital   2017   \n",
            "160951                          Soldier: Malik al-Mahmudi   2017   \n",
            "160952                                    Imam: Faiz Fuad   2017   \n",
            "160953  Vehicle of Media Department Head: Muslih al-Ah...   2017   \n",
            "160954                                Vehicle of Soldiers   2017   \n",
            "160955                                      Passenger Bus   2017   \n",
            "160956                                              House   2017   \n",
            "160957                                      Photographers   2017   \n",
            "160958                                          Motorbike   2017   \n",
            "160959                                          Civilians   2017   \n",
            "160960                                          Civilians   2017   \n",
            "160961                                Suspected Informant   2017   \n",
            "160962                                     Ar Ruwayk Camp   2017   \n",
            "\n",
            "        Happiness.Rank15  Happiness.Score15  Happiness.Rank16  \\\n",
            "16236                 82              5.192                80   \n",
            "16237                 82              5.192                80   \n",
            "16238                 82              5.192                80   \n",
            "16239                 82              5.192                80   \n",
            "16240                 82              5.192                80   \n",
            "16241                 82              5.192                80   \n",
            "16242                 82              5.192                80   \n",
            "16243                 82              5.192                80   \n",
            "16244                 82              5.192                80   \n",
            "16245                 82              5.192                80   \n",
            "16246                 82              5.192                80   \n",
            "16247                 82              5.192                80   \n",
            "16248                 82              5.192                80   \n",
            "16249                 82              5.192                80   \n",
            "16250                 82              5.192                80   \n",
            "16251                 82              5.192                80   \n",
            "16252                 82              5.192                80   \n",
            "16253                 82              5.192                80   \n",
            "16254                 82              5.192                80   \n",
            "16255                 82              5.192                80   \n",
            "16256                 82              5.192                80   \n",
            "16257                 82              5.192                80   \n",
            "16258                 82              5.192                80   \n",
            "16259                 82              5.192                80   \n",
            "16260                 82              5.192                80   \n",
            "16261                 82              5.192                80   \n",
            "16262                 82              5.192                80   \n",
            "16263                 82              5.192                80   \n",
            "16264                 82              5.192                80   \n",
            "16265                 82              5.192                80   \n",
            "...                  ...                ...               ...   \n",
            "160933               136              4.077               147   \n",
            "160934               136              4.077               147   \n",
            "160935               136              4.077               147   \n",
            "160936               136              4.077               147   \n",
            "160937               136              4.077               147   \n",
            "160938               136              4.077               147   \n",
            "160939               136              4.077               147   \n",
            "160940               136              4.077               147   \n",
            "160941               136              4.077               147   \n",
            "160942               136              4.077               147   \n",
            "160943               136              4.077               147   \n",
            "160944               136              4.077               147   \n",
            "160945               136              4.077               147   \n",
            "160946               136              4.077               147   \n",
            "160947               136              4.077               147   \n",
            "160948               136              4.077               147   \n",
            "160949               136              4.077               147   \n",
            "160950               136              4.077               147   \n",
            "160951               136              4.077               147   \n",
            "160952               136              4.077               147   \n",
            "160953               136              4.077               147   \n",
            "160954               136              4.077               147   \n",
            "160955               136              4.077               147   \n",
            "160956               136              4.077               147   \n",
            "160957               136              4.077               147   \n",
            "160958               136              4.077               147   \n",
            "160959               136              4.077               147   \n",
            "160960               136              4.077               147   \n",
            "160961               136              4.077               147   \n",
            "160962               136              4.077               147   \n",
            "\n",
            "        Happiness.Score16  Happiness.Rank17  Happiness.Score17  group_count  \n",
            "16236               5.303                74              5.336            3  \n",
            "16237               5.303                74              5.336            3  \n",
            "16238               5.303                74              5.336            3  \n",
            "16239               5.303                74              5.336            3  \n",
            "16240               5.303                74              5.336            3  \n",
            "16241               5.303                74              5.336            3  \n",
            "16242               5.303                74              5.336            3  \n",
            "16243               5.303                74              5.336            3  \n",
            "16244               5.303                74              5.336            3  \n",
            "16245               5.303                74              5.336            3  \n",
            "16246               5.303                74              5.336            3  \n",
            "16247               5.303                74              5.336            3  \n",
            "16248               5.303                74              5.336            3  \n",
            "16249               5.303                74              5.336            3  \n",
            "16250               5.303                74              5.336            3  \n",
            "16251               5.303                74              5.336            3  \n",
            "16252               5.303                74              5.336            3  \n",
            "16253               5.303                74              5.336            3  \n",
            "16254               5.303                74              5.336            3  \n",
            "16255               5.303                74              5.336            3  \n",
            "16256               5.303                74              5.336            3  \n",
            "16257               5.303                74              5.336            3  \n",
            "16258               5.303                74              5.336            3  \n",
            "16259               5.303                74              5.336            3  \n",
            "16260               5.303                74              5.336            3  \n",
            "16261               5.303                74              5.336            3  \n",
            "16262               5.303                74              5.336            3  \n",
            "16263               5.303                74              5.336            3  \n",
            "16264               5.303                74              5.336            3  \n",
            "16265               5.303                74              5.336            3  \n",
            "...                   ...               ...                ...          ...  \n",
            "160933              3.724               146              3.593           17  \n",
            "160934              3.724               146              3.593           17  \n",
            "160935              3.724               146              3.593           17  \n",
            "160936              3.724               146              3.593           17  \n",
            "160937              3.724               146              3.593           17  \n",
            "160938              3.724               146              3.593           17  \n",
            "160939              3.724               146              3.593           17  \n",
            "160940              3.724               146              3.593           17  \n",
            "160941              3.724               146              3.593           17  \n",
            "160942              3.724               146              3.593           17  \n",
            "160943              3.724               146              3.593           17  \n",
            "160944              3.724               146              3.593           17  \n",
            "160945              3.724               146              3.593           17  \n",
            "160946              3.724               146              3.593           17  \n",
            "160947              3.724               146              3.593           17  \n",
            "160948              3.724               146              3.593           17  \n",
            "160949              3.724               146              3.593           17  \n",
            "160950              3.724               146              3.593           17  \n",
            "160951              3.724               146              3.593           17  \n",
            "160952              3.724               146              3.593           17  \n",
            "160953              3.724               146              3.593           17  \n",
            "160954              3.724               146              3.593           17  \n",
            "160955              3.724               146              3.593           17  \n",
            "160956              3.724               146              3.593           17  \n",
            "160957              3.724               146              3.593           17  \n",
            "160958              3.724               146              3.593           17  \n",
            "160959              3.724               146              3.593           17  \n",
            "160960              3.724               146              3.593           17  \n",
            "160961              3.724               146              3.593           17  \n",
            "160962              3.724               146              3.593           17  \n",
            "\n",
            "[45846 rows x 14 columns]\n"
          ],
          "name": "stdout"
        }
      ]
    }
  ]
}