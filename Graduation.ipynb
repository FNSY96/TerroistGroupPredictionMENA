{
  "nbformat": 4,
  "nbformat_minor": 0,
  "metadata": {
    "colab": {
      "name": "Graduation.ipynb",
      "version": "0.3.2",
      "provenance": [],
      "collapsed_sections": [],
      "include_colab_link": true
    },
    "kernelspec": {
      "name": "python3",
      "display_name": "Python 3"
    }
  },
  "cells": [
    {
      "cell_type": "markdown",
      "metadata": {
        "id": "view-in-github",
        "colab_type": "text"
      },
      "source": [
        "<a href=\"https://colab.research.google.com/github/FNSY96/TerrorismEventsPrediction/blob/master/Graduation.ipynb\" target=\"_parent\"><img src=\"https://colab.research.google.com/assets/colab-badge.svg\" alt=\"Open In Colab\"/></a>"
      ]
    },
    {
      "metadata": {
        "id": "3t4_K6rWMxmH",
        "colab_type": "text"
      },
      "cell_type": "markdown",
      "source": [
        "# **Python Imports**\n",
        "PLEASE PUT ALL LIBRARY IMPORTS IN THIS CELL **ONLY**"
      ]
    },
    {
      "metadata": {
        "id": "3SkGUUzMMr4V",
        "colab_type": "code",
        "outputId": "a0899b93-9986-4fbd-c833-52c1a85c1b35",
        "colab": {
          "base_uri": "https://localhost:8080/",
          "height": 34
        }
      },
      "cell_type": "code",
      "source": [
        "import pandas as pd\n",
        "import csv\n",
        "import glob\n",
        "import os\n",
        "from pandas import ExcelWriter\n",
        "from pandas import ExcelFile\n",
        "import numpy as np\n",
        "import io\n",
        "from sklearn.neighbors import KNeighborsClassifier\n",
        "from sklearn import metrics\n",
        "print(\"imports run\")"
      ],
      "execution_count": 1,
      "outputs": [
        {
          "output_type": "stream",
          "text": [
            "imports run\n"
          ],
          "name": "stdout"
        }
      ]
    },
    {
      "metadata": {
        "id": "ts4MLZnIaj37",
        "colab_type": "code",
        "outputId": "3af3f3e2-9d15-4ad4-d3fe-fe020794534b",
        "colab": {
          "base_uri": "https://localhost:8080/",
          "height": 131
        }
      },
      "cell_type": "code",
      "source": [
        "!pip3 install pandas"
      ],
      "execution_count": 2,
      "outputs": [
        {
          "output_type": "stream",
          "text": [
            "Requirement already satisfied: pandas in /usr/local/lib/python3.6/dist-packages (0.23.4)\n",
            "Requirement already satisfied: python-dateutil>=2.5.0 in /usr/local/lib/python3.6/dist-packages (from pandas) (2.5.3)\n",
            "Requirement already satisfied: pytz>=2011k in /usr/local/lib/python3.6/dist-packages (from pandas) (2018.9)\n",
            "Requirement already satisfied: numpy>=1.9.0 in /usr/local/lib/python3.6/dist-packages (from pandas) (1.16.2)\n",
            "Requirement already satisfied: six>=1.5 in /usr/local/lib/python3.6/dist-packages (from python-dateutil>=2.5.0->pandas) (1.11.0)\n"
          ],
          "name": "stdout"
        }
      ]
    },
    {
      "metadata": {
        "id": "BTQAhp_HNvyG",
        "colab_type": "text"
      },
      "cell_type": "markdown",
      "source": [
        "# Data Set Imports"
      ]
    },
    {
      "metadata": {
        "id": "N13I8JpfMHc6",
        "colab_type": "code",
        "outputId": "06fd8416-cb4b-44d3-aa2f-8d210caea689",
        "colab": {
          "base_uri": "https://localhost:8080/",
          "height": 180
        }
      },
      "cell_type": "code",
      "source": [
        "!pip install -U -q PyDrive\n",
        "from google.colab import drive\n",
        "from pydrive.auth import GoogleAuth\n",
        "from pydrive.drive import GoogleDrive\n",
        "from google.colab import auth\n",
        "from oauth2client.client import GoogleCredentials\n",
        "auth.authenticate_user()\n",
        "gauth = GoogleAuth()\n",
        "gauth.credentials = GoogleCredentials.get_application_default()"
      ],
      "execution_count": 3,
      "outputs": [
        {
          "output_type": "stream",
          "text": [
            "\u001b[?25l\r\u001b[K    1% |▎                               | 10kB 15.5MB/s eta 0:00:01\r\u001b[K    2% |▋                               | 20kB 1.9MB/s eta 0:00:01\r\u001b[K    3% |█                               | 30kB 2.7MB/s eta 0:00:01\r\u001b[K    4% |█▎                              | 40kB 1.7MB/s eta 0:00:01\r\u001b[K    5% |█▋                              | 51kB 2.1MB/s eta 0:00:01\r\u001b[K    6% |██                              | 61kB 2.5MB/s eta 0:00:01\r\u001b[K    7% |██▎                             | 71kB 2.9MB/s eta 0:00:01\r\u001b[K    8% |██▋                             | 81kB 3.3MB/s eta 0:00:01\r\u001b[K    9% |███                             | 92kB 3.6MB/s eta 0:00:01\r\u001b[K    10% |███▎                            | 102kB 2.8MB/s eta 0:00:01\r\u001b[K    11% |███▋                            | 112kB 2.8MB/s eta 0:00:01\r\u001b[K    12% |████                            | 122kB 3.9MB/s eta 0:00:01\r\u001b[K    13% |████▎                           | 133kB 3.9MB/s eta 0:00:01\r\u001b[K    14% |████▋                           | 143kB 7.2MB/s eta 0:00:01\r\u001b[K    15% |█████                           | 153kB 7.4MB/s eta 0:00:01\r\u001b[K    16% |█████▎                          | 163kB 7.5MB/s eta 0:00:01\r\u001b[K    17% |█████▋                          | 174kB 7.5MB/s eta 0:00:01\r\u001b[K    18% |██████                          | 184kB 7.5MB/s eta 0:00:01\r\u001b[K    19% |██████▎                         | 194kB 7.6MB/s eta 0:00:01\r\u001b[K    20% |██████▋                         | 204kB 34.2MB/s eta 0:00:01\r\u001b[K    21% |███████                         | 215kB 8.6MB/s eta 0:00:01\r\u001b[K    22% |███████▎                        | 225kB 8.5MB/s eta 0:00:01\r\u001b[K    23% |███████▋                        | 235kB 8.5MB/s eta 0:00:01\r\u001b[K    24% |████████                        | 245kB 8.5MB/s eta 0:00:01\r\u001b[K    25% |████████▎                       | 256kB 8.5MB/s eta 0:00:01\r\u001b[K    26% |████████▋                       | 266kB 8.2MB/s eta 0:00:01\r\u001b[K    27% |█████████                       | 276kB 8.3MB/s eta 0:00:01\r\u001b[K    29% |█████████▎                      | 286kB 8.3MB/s eta 0:00:01\r\u001b[K    30% |█████████▋                      | 296kB 8.3MB/s eta 0:00:01\r\u001b[K    31% |██████████                      | 307kB 8.6MB/s eta 0:00:01\r\u001b[K    32% |██████████▎                     | 317kB 41.6MB/s eta 0:00:01\r\u001b[K    33% |██████████▋                     | 327kB 44.8MB/s eta 0:00:01\r\u001b[K    34% |███████████                     | 337kB 49.4MB/s eta 0:00:01\r\u001b[K    35% |███████████▎                    | 348kB 44.0MB/s eta 0:00:01\r\u001b[K    36% |███████████▋                    | 358kB 43.1MB/s eta 0:00:01\r\u001b[K    37% |████████████                    | 368kB 52.3MB/s eta 0:00:01\r\u001b[K    38% |████████████▎                   | 378kB 52.8MB/s eta 0:00:01\r\u001b[K    39% |████████████▋                   | 389kB 53.3MB/s eta 0:00:01\r\u001b[K    40% |█████████████                   | 399kB 9.5MB/s eta 0:00:01\r\u001b[K    41% |█████████████▎                  | 409kB 9.3MB/s eta 0:00:01\r\u001b[K    42% |█████████████▋                  | 419kB 9.2MB/s eta 0:00:01\r\u001b[K    43% |██████████████                  | 430kB 9.2MB/s eta 0:00:01\r\u001b[K    44% |██████████████▎                 | 440kB 9.2MB/s eta 0:00:01\r\u001b[K    45% |██████████████▋                 | 450kB 9.1MB/s eta 0:00:01\r\u001b[K    46% |███████████████                 | 460kB 9.1MB/s eta 0:00:01\r\u001b[K    47% |███████████████▎                | 471kB 9.2MB/s eta 0:00:01\r\u001b[K    48% |███████████████▋                | 481kB 9.2MB/s eta 0:00:01\r\u001b[K    49% |████████████████                | 491kB 9.2MB/s eta 0:00:01\r\u001b[K    50% |████████████████▎               | 501kB 44.6MB/s eta 0:00:01\r\u001b[K    51% |████████████████▋               | 512kB 42.6MB/s eta 0:00:01\r\u001b[K    52% |█████████████████               | 522kB 45.0MB/s eta 0:00:01\r\u001b[K    53% |█████████████████▎              | 532kB 45.1MB/s eta 0:00:01\r\u001b[K    54% |█████████████████▋              | 542kB 8.9MB/s eta 0:00:01\r\u001b[K    55% |██████████████████              | 552kB 9.0MB/s eta 0:00:01\r\u001b[K    57% |██████████████████▎             | 563kB 9.0MB/s eta 0:00:01\r\u001b[K    58% |██████████████████▋             | 573kB 9.0MB/s eta 0:00:01\r\u001b[K    59% |███████████████████             | 583kB 8.9MB/s eta 0:00:01\r\u001b[K    60% |███████████████████▎            | 593kB 8.8MB/s eta 0:00:01\r\u001b[K    61% |███████████████████▋            | 604kB 8.7MB/s eta 0:00:01\r\u001b[K    62% |████████████████████            | 614kB 8.9MB/s eta 0:00:01\r\u001b[K    63% |████████████████████▎           | 624kB 8.9MB/s eta 0:00:01\r\u001b[K    64% |████████████████████▋           | 634kB 8.9MB/s eta 0:00:01\r\u001b[K    65% |█████████████████████           | 645kB 46.2MB/s eta 0:00:01\r\u001b[K    66% |█████████████████████▎          | 655kB 51.1MB/s eta 0:00:01\r\u001b[K    67% |█████████████████████▋          | 665kB 38.7MB/s eta 0:00:01\r\u001b[K    68% |██████████████████████          | 675kB 38.4MB/s eta 0:00:01\r\u001b[K    69% |██████████████████████▎         | 686kB 39.0MB/s eta 0:00:01\r\u001b[K    70% |██████████████████████▋         | 696kB 42.1MB/s eta 0:00:01\r\u001b[K    71% |███████████████████████         | 706kB 44.1MB/s eta 0:00:01\r\u001b[K    72% |███████████████████████▎        | 716kB 44.6MB/s eta 0:00:01\r\u001b[K    73% |███████████████████████▋        | 727kB 44.7MB/s eta 0:00:01\r\u001b[K    74% |████████████████████████        | 737kB 45.3MB/s eta 0:00:01\r\u001b[K    75% |████████████████████████▎       | 747kB 46.4MB/s eta 0:00:01\r\u001b[K    76% |████████████████████████▋       | 757kB 46.6MB/s eta 0:00:01\r\u001b[K    77% |████████████████████████▉       | 768kB 69.2MB/s eta 0:00:01\r\u001b[K    78% |█████████████████████████▏      | 778kB 71.2MB/s eta 0:00:01\r\u001b[K    79% |█████████████████████████▌      | 788kB 68.3MB/s eta 0:00:01\r\u001b[K    80% |█████████████████████████▉      | 798kB 65.3MB/s eta 0:00:01\r\u001b[K    81% |██████████████████████████▏     | 808kB 55.9MB/s eta 0:00:01\r\u001b[K    82% |██████████████████████████▌     | 819kB 57.1MB/s eta 0:00:01\r\u001b[K    83% |██████████████████████████▉     | 829kB 58.7MB/s eta 0:00:01\r\u001b[K    85% |███████████████████████████▏    | 839kB 56.7MB/s eta 0:00:01\r\u001b[K    86% |███████████████████████████▌    | 849kB 56.2MB/s eta 0:00:01\r\u001b[K    87% |███████████████████████████▉    | 860kB 45.4MB/s eta 0:00:01\r\u001b[K    88% |████████████████████████████▏   | 870kB 43.4MB/s eta 0:00:01\r\u001b[K    89% |████████████████████████████▌   | 880kB 43.3MB/s eta 0:00:01\r\u001b[K    90% |████████████████████████████▉   | 890kB 44.3MB/s eta 0:00:01\r\u001b[K    91% |█████████████████████████████▏  | 901kB 45.5MB/s eta 0:00:01\r\u001b[K    92% |█████████████████████████████▌  | 911kB 52.2MB/s eta 0:00:01\r\u001b[K    93% |█████████████████████████████▉  | 921kB 50.9MB/s eta 0:00:01\r\u001b[K    94% |██████████████████████████████▏ | 931kB 51.3MB/s eta 0:00:01\r\u001b[K    95% |██████████████████████████████▌ | 942kB 51.6MB/s eta 0:00:01\r\u001b[K    96% |██████████████████████████████▉ | 952kB 51.6MB/s eta 0:00:01\r\u001b[K    97% |███████████████████████████████▏| 962kB 66.6MB/s eta 0:00:01\r\u001b[K    98% |███████████████████████████████▌| 972kB 70.9MB/s eta 0:00:01\r\u001b[K    99% |███████████████████████████████▉| 983kB 71.6MB/s eta 0:00:01\r\u001b[K    100% |████████████████████████████████| 993kB 17.3MB/s \n",
            "\u001b[?25h  Building wheel for PyDrive (setup.py) ... \u001b[?25ldone\n",
            "\u001b[?25h"
          ],
          "name": "stdout"
        }
      ]
    },
    {
      "metadata": {
        "id": "pdAFcrotUNTk",
        "colab_type": "code",
        "outputId": "8a265005-95cb-4293-9c31-5fdec2545d84",
        "colab": {
          "base_uri": "https://localhost:8080/",
          "height": 189
        }
      },
      "cell_type": "code",
      "source": [
        "# drive = GoogleDrive(gauth)\n",
        "drive.mount(\"/content/drive\", force_remount=True)\n",
        "datadir  = 'drive/My Drive/GraduationProject/Data'"
      ],
      "execution_count": 4,
      "outputs": [
        {
          "output_type": "stream",
          "text": [
            "Go to this URL in a browser: https://accounts.google.com/o/oauth2/auth?client_id=947318989803-6bn6qk8qdgf4n4g3pfee6491hc0brc4i.apps.googleusercontent.com&redirect_uri=urn%3Aietf%3Awg%3Aoauth%3A2.0%3Aoob&scope=email%20https%3A%2F%2Fwww.googleapis.com%2Fauth%2Fdocs.test%20https%3A%2F%2Fwww.googleapis.com%2Fauth%2Fdrive%20https%3A%2F%2Fwww.googleapis.com%2Fauth%2Fdrive.photos.readonly%20https%3A%2F%2Fwww.googleapis.com%2Fauth%2Fpeopleapi.readonly&response_type=code\n",
            "\n",
            "Enter your authorization code:\n",
            "··········\n",
            "Mounted at /content/drive\n"
          ],
          "name": "stdout"
        }
      ]
    },
    {
      "metadata": {
        "id": "1qsmoZ3eReyA",
        "colab_type": "text"
      },
      "cell_type": "markdown",
      "source": [
        "###**GTD**"
      ]
    },
    {
      "metadata": {
        "id": "JvNzAiEaX4MW",
        "colab_type": "code",
        "colab": {}
      },
      "cell_type": "code",
      "source": [
        "# !ls drive/'My Drive'/GraduationProject/Data/gtd.csv"
      ],
      "execution_count": 0,
      "outputs": []
    },
    {
      "metadata": {
        "id": "nZjjGdaLVMkv",
        "colab_type": "text"
      },
      "cell_type": "markdown",
      "source": [
        "# Pandas Data Frames\n",
        "Useful link : https://youtu.be/2AFGPdNn4FM"
      ]
    },
    {
      "metadata": {
        "id": "3bYFOOr9U-7h",
        "colab_type": "text"
      },
      "cell_type": "markdown",
      "source": [
        "## **GTD Data Frame**"
      ]
    },
    {
      "metadata": {
        "id": "hzPwkdhBZRZU",
        "colab_type": "code",
        "outputId": "572d4223-7edb-4b66-cb15-d738b2f711ee",
        "colab": {
          "base_uri": "https://localhost:8080/",
          "height": 111
        }
      },
      "cell_type": "code",
      "source": [
        "gtd_df = pd.read_csv(os.path.join(datadir, 'gtd.csv'),encoding='latin-1')\n",
        "# print(gtd_df.columns.values)\n",
        "# print(gtd_df)"
      ],
      "execution_count": 31,
      "outputs": [
        {
          "output_type": "stream",
          "text": [
            "/usr/local/lib/python3.6/dist-packages/IPython/core/interactiveshell.py:2718: DtypeWarning: Columns (4,6,31,33,61,62,63,76,79,90,92,94,96,114,115,121) have mixed types. Specify dtype option on import or set low_memory=False.\n",
            "  interactivity=interactivity, compiler=compiler, result=result)\n"
          ],
          "name": "stderr"
        }
      ]
    },
    {
      "metadata": {
        "id": "j_29KRCKqrj-",
        "colab_type": "code",
        "colab": {}
      },
      "cell_type": "code",
      "source": [
        "gtd_filtered_df = gtd_df[['country_txt','region_txt','city','provstate', 'target1', 'iyear','imonth', 'gname', 'weaptype1_txt','attacktype1_txt','attacktype1']]\n",
        "# print(gtd_filtered_df)\n",
        "# print(gtd_filtered_df.isna().sum())"
      ],
      "execution_count": 0,
      "outputs": []
    },
    {
      "metadata": {
        "id": "rVn6I7Y7OA9F",
        "colab_type": "text"
      },
      "cell_type": "markdown",
      "source": [
        "## **GECON Data Frame**"
      ]
    },
    {
      "metadata": {
        "id": "t6AAaOVhHY6z",
        "colab_type": "code",
        "outputId": "20ad0cbe-408a-428e-aaef-05dc987d3c58",
        "colab": {
          "base_uri": "https://localhost:8080/",
          "height": 111
        }
      },
      "cell_type": "code",
      "source": [
        "gecon_df = pd.read_csv(os.path.join(datadir, 'Gecon40_post_final_kh.csv'),encoding='latin-1')\n",
        "# print(gecon_df.columns.values)"
      ],
      "execution_count": 11,
      "outputs": [
        {
          "output_type": "stream",
          "text": [
            "/usr/local/lib/python3.6/dist-packages/IPython/core/interactiveshell.py:2718: DtypeWarning: Columns (16,19,25,28) have mixed types. Specify dtype option on import or set low_memory=False.\n",
            "  interactivity=interactivity, compiler=compiler, result=result)\n"
          ],
          "name": "stderr"
        }
      ]
    },
    {
      "metadata": {
        "id": "5Lg-yXecp267",
        "colab_type": "code",
        "colab": {}
      },
      "cell_type": "code",
      "source": [
        "gecon_filtered_df = gecon_df[['AREA', 'COUNTRY', 'DIS_LAKE','DIS_MAJOR_RIVER']]\n",
        "\n",
        "# print(gecon_filtered_df.isna().sum())\n",
        "\n",
        "# print(gecon_filtered_df)"
      ],
      "execution_count": 0,
      "outputs": []
    },
    {
      "metadata": {
        "id": "yyO2aL4SObqB",
        "colab_type": "text"
      },
      "cell_type": "markdown",
      "source": [
        "## **GeoEPR Data Frame**"
      ]
    },
    {
      "metadata": {
        "id": "II-_vH73OLvh",
        "colab_type": "code",
        "colab": {}
      },
      "cell_type": "code",
      "source": [
        "geo_df = pd.read_csv(os.path.join(datadir, 'GeoEPR-2018.1.csv'),encoding='latin-1')\n",
        "# print(geo_df.columns.values)\n",
        "# # statename, group\n",
        "# print(geo_df)"
      ],
      "execution_count": 0,
      "outputs": []
    },
    {
      "metadata": {
        "id": "TGPkxd05olZN",
        "colab_type": "code",
        "colab": {}
      },
      "cell_type": "code",
      "source": [
        "geo_filtered_df = geo_df[['statename','group']]\n",
        "geo_filtered_df = geo_filtered_df.rename(index=str, columns={\"statename\": \"country_txt\"})\n",
        "# print(geo_filtered_df)\n",
        "# print(geo_filtered_df.isna().sum())\n",
        "# print(geo_filtered_df.groupby('country_txt').count())"
      ],
      "execution_count": 0,
      "outputs": []
    },
    {
      "metadata": {
        "id": "WR7YsgSLVroa",
        "colab_type": "code",
        "colab": {}
      },
      "cell_type": "code",
      "source": [
        "# clean NaN\n",
        "# geo_filtered_df = geo_filtered_df.fillna(geo_filtered_df.mean())\n",
        "#attributes_NaN = ['statename', 'group', 'type']\n",
        "#geo_filtered_df = remove_NaN(geo_filtered_df, attributes_NaN)\n",
        "\n",
        "#print(geo_filtered_df)"
      ],
      "execution_count": 0,
      "outputs": []
    },
    {
      "metadata": {
        "id": "0HVbOmnWVUN1",
        "colab_type": "text"
      },
      "cell_type": "markdown",
      "source": [
        "## **Happiness World Report Data Frame**"
      ]
    },
    {
      "metadata": {
        "id": "7yf0iEK_Qh-Y",
        "colab_type": "code",
        "colab": {}
      },
      "cell_type": "code",
      "source": [
        "happy_df_17 = pd.read_csv(os.path.join(datadir, 'Happiness2017.csv'),encoding='latin-1')\n",
        "happy_df_16 = pd.read_csv(os.path.join(datadir, 'Happiness2016.csv'),encoding='latin-1')\n",
        "happy_df_15 = pd.read_csv(os.path.join(datadir, 'Happiness2015.csv'),encoding='latin-1')\n",
        "# happiness = [happy_df_15, happy_df_16, happy_df_17]\n",
        "happy_df_17 = happy_df_17.rename(index=str, columns={\"Country\": \"country_txt\", \"Happiness.Rank\": \"Happiness.Rank17\", \"Happiness.Score\": \"Happiness.Score17\", \"Freedom\": \"Freedom17\", \"Economy..GDP.per.Capita.\": \"Economy17\"})\n",
        "happy_df_16 = happy_df_16.rename(index=str, columns={\"Country\": \"country_txt\", \"Happiness Rank\": \"Happiness.Rank16\", \"Happiness Score\": \"Happiness.Score16\", \"Freedom\": \"Freedom16\", \"Economy (GDP per Capita)\": \"Economy16\"})\n",
        "happy_df_15 = happy_df_15.rename(index=str, columns={\"Country\": \"country_txt\", \"Happiness Rank\": \"Happiness.Rank15\", \"Happiness Score\": \"Happiness.Score15\", \"Freedom\": \"Freedom15\", \"Economy (GDP per Capita)\": \"Economy15\"})"
      ],
      "execution_count": 0,
      "outputs": []
    },
    {
      "metadata": {
        "id": "zBwAL3P582XE",
        "colab_type": "code",
        "colab": {}
      },
      "cell_type": "code",
      "source": [
        "happiness_filtered = [happy_df_15[['country_txt','Happiness.Score15', 'Freedom15', 'Economy15']],\n",
        "                      happy_df_16[['country_txt','Happiness.Score16', 'Freedom16', 'Economy16']], \n",
        "                      happy_df_17[['country_txt','Happiness.Score17', 'Freedom17', 'Economy17']]]"
      ],
      "execution_count": 0,
      "outputs": []
    },
    {
      "metadata": {
        "id": "f4rbBLk3_hkq",
        "colab_type": "text"
      },
      "cell_type": "markdown",
      "source": [
        "###TRIALS"
      ]
    },
    {
      "metadata": {
        "id": "vUerAkcwHScA",
        "colab_type": "code",
        "colab": {}
      },
      "cell_type": "code",
      "source": [
        "# d = {'one': pd.Series([1., 3.], index=['a', 'c']), 'two': pd.Series([1., 2., 3., 4.], index=['a', 'b', 'c', 'd']), 'three': pd.Series([\"A\", \"B\", \"A\"], index=['a', 'c', 'd'])}\n",
        "# df = pd.DataFrame(d)\n",
        "# print(df)\n",
        "# # print(df.isna().sum())\n",
        "# df = df.fillna(df.mean())\n",
        "# mode =  df['three'].mode()[0]\n",
        "# df['three'] = df.groupby('three')['three'].apply(lambda x: x.fillna(x.value_counts().idxmax() if x.value_counts().max() >=1 else mode , inplace = False))\n",
        "# df['three']= df['three'].fillna(df['three'].value_counts().idxmax())\n",
        "# print(df)\n",
        "# df = pd.DataFrame(data={'location': [1, 2, 3],\n",
        "#                         'coor': [(14.48847, 103.161477),\n",
        "#                               (14.970084, 103.062853),\n",
        "#                               (np.nan, np.nan)]})\n",
        "# print(df)\n",
        "# # df.dropna(how='any')\n",
        "# df = df[~df.coor.apply(lambda x: np.isnan(x[0]) & np.isnan(x[1]))]\n",
        "# # df = df[pd.DataFrame(df.coor.tolist()).notna().all(1)]\n",
        "# print(df)\n"
      ],
      "execution_count": 0,
      "outputs": []
    },
    {
      "metadata": {
        "id": "vvSBiTqp3AGr",
        "colab_type": "text"
      },
      "cell_type": "markdown",
      "source": [
        "## MERGED DATA"
      ]
    },
    {
      "metadata": {
        "id": "EaBxFPRhCOEk",
        "colab_type": "code",
        "outputId": "e384a551-55f0-439c-aeb6-e565f0c3f4c6",
        "colab": {
          "base_uri": "https://localhost:8080/",
          "height": 34
        }
      },
      "cell_type": "code",
      "source": [
        "ethnic_count = geo_filtered_df.groupby('country_txt').count()\n",
        "countries = pd.DataFrame(geo_filtered_df['country_txt'].drop_duplicates().sort_values())\n",
        "ethnic_count = pd.concat([ethnic_count.reset_index(drop=True),countries.reset_index(drop=True)], axis=1)\n",
        "ethnic_count = ethnic_count.rename(index=str, columns={\"group\":\"group_count\"})\n",
        "print(ethnic_count.columns.values)\n"
      ],
      "execution_count": 20,
      "outputs": [
        {
          "output_type": "stream",
          "text": [
            "['group_count' 'country_txt']\n"
          ],
          "name": "stdout"
        }
      ]
    },
    {
      "metadata": {
        "id": "_bb158uoK2vo",
        "colab_type": "code",
        "outputId": "337b7ad8-c951-41b4-e647-5da7fea312e9",
        "colab": {
          "base_uri": "https://localhost:8080/",
          "height": 34
        }
      },
      "cell_type": "code",
      "source": [
        "#result = pd.concat([gtd_filtered_df, happy_filtered_df],gtd_filtered_df[\"country_txt\"]=happy_filtered_df[\"Country\"])\n",
        "#'Happiness.Rank' 'Happiness.Score'\n",
        "gtd_merged_happiness = gtd_filtered_df\n",
        "for i in range(len(happiness_filtered)):\n",
        "  gtd_merged_happiness = pd.merge(gtd_merged_happiness, happiness_filtered[i],on='country_txt')\n",
        "gtd_merged_happiness = pd.merge(gtd_merged_happiness, ethnic_count, on='country_txt')\n",
        "print(gtd_merged_happiness.shape)\n",
        "# print(gtd_merged_happiness['region_txt'].drop_duplicates())"
      ],
      "execution_count": 21,
      "outputs": [
        {
          "output_type": "stream",
          "text": [
            "(167161, 21)\n"
          ],
          "name": "stdout"
        }
      ]
    },
    {
      "metadata": {
        "id": "AvaLOvx0AW-T",
        "colab_type": "code",
        "outputId": "12882dc9-f21b-4817-9a73-01e207d9ae68",
        "colab": {
          "base_uri": "https://localhost:8080/",
          "height": 102
        }
      },
      "cell_type": "code",
      "source": [
        "print(gtd_merged_happiness.columns.values)"
      ],
      "execution_count": 22,
      "outputs": [
        {
          "output_type": "stream",
          "text": [
            "['country_txt' 'region_txt' 'city' 'provstate' 'target1' 'iyear' 'imonth'\n",
            " 'gname' 'weaptype1_txt' 'attacktype1_txt' 'attacktype1'\n",
            " 'Happiness.Score15' 'Freedom15' 'Economy15' 'Happiness.Score16'\n",
            " 'Freedom16' 'Economy16' 'Happiness.Score17' 'Freedom17' 'Economy17'\n",
            " 'group_count']\n"
          ],
          "name": "stdout"
        }
      ]
    },
    {
      "metadata": {
        "id": "1SrJ5XoF1Hwb",
        "colab_type": "code",
        "colab": {}
      },
      "cell_type": "code",
      "source": [
        "# MENA stands for Middle East and North Africa region\n",
        "mena = gtd_merged_happiness.loc[gtd_merged_happiness['region_txt'] == 'Middle East & North Africa']"
      ],
      "execution_count": 0,
      "outputs": []
    },
    {
      "metadata": {
        "id": "A6Zz5qvuwh3K",
        "colab_type": "code",
        "outputId": "9f25d781-ec92-438b-e800-401d47c38ef1",
        "colab": {
          "base_uri": "https://localhost:8080/",
          "height": 34
        }
      },
      "cell_type": "code",
      "source": [
        "print(mena.shape)"
      ],
      "execution_count": 24,
      "outputs": [
        {
          "output_type": "stream",
          "text": [
            "(45846, 21)\n"
          ],
          "name": "stdout"
        }
      ]
    },
    {
      "metadata": {
        "id": "Qepbd9FCuls2",
        "colab_type": "code",
        "outputId": "d4d82430-b771-4875-c0d4-ab559d1d57b2",
        "colab": {
          "base_uri": "https://localhost:8080/",
          "height": 272
        }
      },
      "cell_type": "code",
      "source": [
        "print(mena['country_txt'].drop_duplicates())"
      ],
      "execution_count": 25,
      "outputs": [
        {
          "output_type": "stream",
          "text": [
            "16236           Jordan\n",
            "19871            Egypt\n",
            "23165          Lebanon\n",
            "25643           Turkey\n",
            "30049             Iran\n",
            "61678           Israel\n",
            "64027           Kuwait\n",
            "78871          Algeria\n",
            "91750          Morocco\n",
            "114426           Syria\n",
            "119326            Iraq\n",
            "153137    Saudi Arabia\n",
            "154671         Bahrain\n",
            "157616           Yemen\n",
            "Name: country_txt, dtype: object\n"
          ],
          "name": "stdout"
        }
      ]
    },
    {
      "metadata": {
        "id": "Lwzz60lmGGS9",
        "colab_type": "code",
        "outputId": "58f9b011-a15f-44f4-8805-3d4b4248e210",
        "colab": {
          "base_uri": "https://localhost:8080/",
          "height": 34
        }
      },
      "cell_type": "code",
      "source": [
        "# Number of distinct terrorist groups in the MENA region = 636\n",
        "# print(np.unique(mena[['gname']].values))\n",
        "print(np.unique(mena[['gname']]).size)"
      ],
      "execution_count": 26,
      "outputs": [
        {
          "output_type": "stream",
          "text": [
            "636\n"
          ],
          "name": "stdout"
        }
      ]
    },
    {
      "metadata": {
        "id": "Zel0gtDSwGzL",
        "colab_type": "code",
        "colab": {}
      },
      "cell_type": "code",
      "source": [
        "# attribute \"Unknown > 27000\" I think we should drop all of that\n",
        "# It doesn't make sense to predict an \"Unknown\"\n",
        "# print(mena['gname'].value_counts())\n",
        "# print(mena['gname'].size)"
      ],
      "execution_count": 0,
      "outputs": []
    },
    {
      "metadata": {
        "id": "jSoCKd-DVHRa",
        "colab_type": "text"
      },
      "cell_type": "markdown",
      "source": [
        "### Filtering MENA Dataframe"
      ]
    },
    {
      "metadata": {
        "id": "SlFLIqIyTpCa",
        "colab_type": "code",
        "outputId": "f8cda9cb-f081-4141-da77-6101c825abf1",
        "colab": {
          "base_uri": "https://localhost:8080/",
          "height": 187
        }
      },
      "cell_type": "code",
      "source": [
        "# drop rows with nan in mena\n",
        "print(mena.shape)\n",
        "mena_cleaned = mena.dropna()\n",
        "print(mena_cleaned.shape)\n",
        "\n",
        "# select desired labels\n",
        "mena_filtered = mena_cleaned[(mena_cleaned['gname'] == \"Unknown\") | (mena_cleaned['gname'] == \"Islamic State of Iraq and the Levant (ISIL)\") | (mena_cleaned['gname'] == \"Kurdistan Workers' Party (PKK)\") | (mena_cleaned['gname'] == \"Houthi extremists (Ansar Allah)\") | (mena_cleaned['gname'] == \"Al-Qaida in the Arabian Peninsula (AQAP)\") | (mena_cleaned['gname'] == \"Al-Qaida in Iraq\")]\n",
        "\n",
        "print(mena_filtered['gname'].value_counts())\n",
        "print(mena_filtered['gname'].size)\n",
        "\n",
        "labels = [\"Unknown\", \"Islamic State of Iraq and the Levant (ISIL)\", \"Kurdistan Workers' Party (PKK)\", \"Houthi extremists (Ansar Allah)\", \"Al-Qaida in the Arabian Peninsula (AQAP)\", \"Al-Qaida in Iraq\"]\n",
        "labels1 = [1, 2, 3, 4, 5, 6]\n"
      ],
      "execution_count": 28,
      "outputs": [
        {
          "output_type": "stream",
          "text": [
            "(45846, 21)\n",
            "(45624, 21)\n",
            "Unknown                                        27132\n",
            "Islamic State of Iraq and the Levant (ISIL)     5553\n",
            "Kurdistan Workers' Party (PKK)                  2134\n",
            "Houthi extremists (Ansar Allah)                 1062\n",
            "Al-Qaida in the Arabian Peninsula (AQAP)        1016\n",
            "Al-Qaida in Iraq                                 635\n",
            "Name: gname, dtype: int64\n",
            "37532\n"
          ],
          "name": "stdout"
        }
      ]
    },
    {
      "metadata": {
        "id": "8pS_4ZQ_hfZu",
        "colab_type": "text"
      },
      "cell_type": "markdown",
      "source": [
        "# Training"
      ]
    },
    {
      "metadata": {
        "id": "oQnvjYcWhl48",
        "colab_type": "text"
      },
      "cell_type": "markdown",
      "source": [
        "### Divide Data into Train & Test"
      ]
    },
    {
      "metadata": {
        "id": "qkJT8zPAqe3x",
        "colab_type": "code",
        "outputId": "3712fb24-6684-480b-ed14-b185585f7c00",
        "colab": {
          "base_uri": "https://localhost:8080/",
          "height": 51
        }
      },
      "cell_type": "code",
      "source": [
        "# divide dataset into train and test\n",
        "mena_train = mena_filtered.copy()\n",
        "mena_test = mena_filtered.copy()\n",
        "\n",
        "mena_train = mena_train[mena_train['iyear'] < 2017]\n",
        "mena_test = mena_test[mena_test['iyear'] >= 2017]\n",
        "\n",
        "print(mena_train.shape)\n",
        "print(mena_test.shape)"
      ],
      "execution_count": 29,
      "outputs": [
        {
          "output_type": "stream",
          "text": [
            "(34309, 21)\n",
            "(3223, 21)\n"
          ],
          "name": "stdout"
        }
      ]
    },
    {
      "metadata": {
        "id": "9PwEffIqhsqS",
        "colab_type": "text"
      },
      "cell_type": "markdown",
      "source": [
        "###KNN Classifier"
      ]
    },
    {
      "metadata": {
        "id": "7pb0uJrawlxs",
        "colab_type": "code",
        "outputId": "21d3c868-6e5b-434f-9103-e029fdba448b",
        "colab": {
          "base_uri": "https://localhost:8080/",
          "height": 629
        }
      },
      "cell_type": "code",
      "source": [
        "# KNN classifier\n",
        "\n",
        "#Create KNN Classifier\n",
        "knn = KNeighborsClassifier(n_neighbors = 6)\n",
        "\n",
        "#Train the model using the training sets\n",
        "knn.fit(mena_train, labels1)\n",
        "\n",
        "#Predict the response for test dataset\n",
        "y_pred = knn.predict(mena_test)\n",
        "\n",
        "# Model Accuracy, how often is the classifier correct?\n",
        "print(\"Accuracy:\",metrics.accuracy_score(mena_test, y_pred))"
      ],
      "execution_count": 30,
      "outputs": [
        {
          "output_type": "error",
          "ename": "ValueError",
          "evalue": "ignored",
          "traceback": [
            "\u001b[0;31m---------------------------------------------------------------------------\u001b[0m",
            "\u001b[0;31mValueError\u001b[0m                                Traceback (most recent call last)",
            "\u001b[0;32m<ipython-input-30-3511468d4dfa>\u001b[0m in \u001b[0;36m<module>\u001b[0;34m()\u001b[0m\n\u001b[1;32m      2\u001b[0m \u001b[0;34m\u001b[0m\u001b[0m\n\u001b[1;32m      3\u001b[0m \u001b[0;31m#Train the model using the training sets\u001b[0m\u001b[0;34m\u001b[0m\u001b[0;34m\u001b[0m\u001b[0;34m\u001b[0m\u001b[0m\n\u001b[0;32m----> 4\u001b[0;31m \u001b[0mknn\u001b[0m\u001b[0;34m.\u001b[0m\u001b[0mfit\u001b[0m\u001b[0;34m(\u001b[0m\u001b[0mmena_train\u001b[0m\u001b[0;34m,\u001b[0m \u001b[0mlabels1\u001b[0m\u001b[0;34m)\u001b[0m\u001b[0;34m\u001b[0m\u001b[0;34m\u001b[0m\u001b[0m\n\u001b[0m\u001b[1;32m      5\u001b[0m \u001b[0;34m\u001b[0m\u001b[0m\n\u001b[1;32m      6\u001b[0m \u001b[0;31m#Predict the response for test dataset\u001b[0m\u001b[0;34m\u001b[0m\u001b[0;34m\u001b[0m\u001b[0;34m\u001b[0m\u001b[0m\n",
            "\u001b[0;32m/usr/local/lib/python3.6/dist-packages/sklearn/neighbors/base.py\u001b[0m in \u001b[0;36mfit\u001b[0;34m(self, X, y)\u001b[0m\n\u001b[1;32m    889\u001b[0m         \"\"\"\n\u001b[1;32m    890\u001b[0m         \u001b[0;32mif\u001b[0m \u001b[0;32mnot\u001b[0m \u001b[0misinstance\u001b[0m\u001b[0;34m(\u001b[0m\u001b[0mX\u001b[0m\u001b[0;34m,\u001b[0m \u001b[0;34m(\u001b[0m\u001b[0mKDTree\u001b[0m\u001b[0;34m,\u001b[0m \u001b[0mBallTree\u001b[0m\u001b[0;34m)\u001b[0m\u001b[0;34m)\u001b[0m\u001b[0;34m:\u001b[0m\u001b[0;34m\u001b[0m\u001b[0;34m\u001b[0m\u001b[0m\n\u001b[0;32m--> 891\u001b[0;31m             \u001b[0mX\u001b[0m\u001b[0;34m,\u001b[0m \u001b[0my\u001b[0m \u001b[0;34m=\u001b[0m \u001b[0mcheck_X_y\u001b[0m\u001b[0;34m(\u001b[0m\u001b[0mX\u001b[0m\u001b[0;34m,\u001b[0m \u001b[0my\u001b[0m\u001b[0;34m,\u001b[0m \u001b[0;34m\"csr\"\u001b[0m\u001b[0;34m,\u001b[0m \u001b[0mmulti_output\u001b[0m\u001b[0;34m=\u001b[0m\u001b[0;32mTrue\u001b[0m\u001b[0;34m)\u001b[0m\u001b[0;34m\u001b[0m\u001b[0;34m\u001b[0m\u001b[0m\n\u001b[0m\u001b[1;32m    892\u001b[0m \u001b[0;34m\u001b[0m\u001b[0m\n\u001b[1;32m    893\u001b[0m         \u001b[0;32mif\u001b[0m \u001b[0my\u001b[0m\u001b[0;34m.\u001b[0m\u001b[0mndim\u001b[0m \u001b[0;34m==\u001b[0m \u001b[0;36m1\u001b[0m \u001b[0;32mor\u001b[0m \u001b[0my\u001b[0m\u001b[0;34m.\u001b[0m\u001b[0mndim\u001b[0m \u001b[0;34m==\u001b[0m \u001b[0;36m2\u001b[0m \u001b[0;32mand\u001b[0m \u001b[0my\u001b[0m\u001b[0;34m.\u001b[0m\u001b[0mshape\u001b[0m\u001b[0;34m[\u001b[0m\u001b[0;36m1\u001b[0m\u001b[0;34m]\u001b[0m \u001b[0;34m==\u001b[0m \u001b[0;36m1\u001b[0m\u001b[0;34m:\u001b[0m\u001b[0;34m\u001b[0m\u001b[0;34m\u001b[0m\u001b[0m\n",
            "\u001b[0;32m/usr/local/lib/python3.6/dist-packages/sklearn/utils/validation.py\u001b[0m in \u001b[0;36mcheck_X_y\u001b[0;34m(X, y, accept_sparse, accept_large_sparse, dtype, order, copy, force_all_finite, ensure_2d, allow_nd, multi_output, ensure_min_samples, ensure_min_features, y_numeric, warn_on_dtype, estimator)\u001b[0m\n\u001b[1;32m    754\u001b[0m                     \u001b[0mensure_min_features\u001b[0m\u001b[0;34m=\u001b[0m\u001b[0mensure_min_features\u001b[0m\u001b[0;34m,\u001b[0m\u001b[0;34m\u001b[0m\u001b[0;34m\u001b[0m\u001b[0m\n\u001b[1;32m    755\u001b[0m                     \u001b[0mwarn_on_dtype\u001b[0m\u001b[0;34m=\u001b[0m\u001b[0mwarn_on_dtype\u001b[0m\u001b[0;34m,\u001b[0m\u001b[0;34m\u001b[0m\u001b[0;34m\u001b[0m\u001b[0m\n\u001b[0;32m--> 756\u001b[0;31m                     estimator=estimator)\n\u001b[0m\u001b[1;32m    757\u001b[0m     \u001b[0;32mif\u001b[0m \u001b[0mmulti_output\u001b[0m\u001b[0;34m:\u001b[0m\u001b[0;34m\u001b[0m\u001b[0;34m\u001b[0m\u001b[0m\n\u001b[1;32m    758\u001b[0m         y = check_array(y, 'csr', force_all_finite=True, ensure_2d=False,\n",
            "\u001b[0;32m/usr/local/lib/python3.6/dist-packages/sklearn/utils/validation.py\u001b[0m in \u001b[0;36mcheck_array\u001b[0;34m(array, accept_sparse, accept_large_sparse, dtype, order, copy, force_all_finite, ensure_2d, allow_nd, ensure_min_samples, ensure_min_features, warn_on_dtype, estimator)\u001b[0m\n\u001b[1;32m    565\u001b[0m         \u001b[0;31m# make sure we actually converted to numeric:\u001b[0m\u001b[0;34m\u001b[0m\u001b[0;34m\u001b[0m\u001b[0;34m\u001b[0m\u001b[0m\n\u001b[1;32m    566\u001b[0m         \u001b[0;32mif\u001b[0m \u001b[0mdtype_numeric\u001b[0m \u001b[0;32mand\u001b[0m \u001b[0marray\u001b[0m\u001b[0;34m.\u001b[0m\u001b[0mdtype\u001b[0m\u001b[0;34m.\u001b[0m\u001b[0mkind\u001b[0m \u001b[0;34m==\u001b[0m \u001b[0;34m\"O\"\u001b[0m\u001b[0;34m:\u001b[0m\u001b[0;34m\u001b[0m\u001b[0;34m\u001b[0m\u001b[0m\n\u001b[0;32m--> 567\u001b[0;31m             \u001b[0marray\u001b[0m \u001b[0;34m=\u001b[0m \u001b[0marray\u001b[0m\u001b[0;34m.\u001b[0m\u001b[0mastype\u001b[0m\u001b[0;34m(\u001b[0m\u001b[0mnp\u001b[0m\u001b[0;34m.\u001b[0m\u001b[0mfloat64\u001b[0m\u001b[0;34m)\u001b[0m\u001b[0;34m\u001b[0m\u001b[0;34m\u001b[0m\u001b[0m\n\u001b[0m\u001b[1;32m    568\u001b[0m         \u001b[0;32mif\u001b[0m \u001b[0;32mnot\u001b[0m \u001b[0mallow_nd\u001b[0m \u001b[0;32mand\u001b[0m \u001b[0marray\u001b[0m\u001b[0;34m.\u001b[0m\u001b[0mndim\u001b[0m \u001b[0;34m>=\u001b[0m \u001b[0;36m3\u001b[0m\u001b[0;34m:\u001b[0m\u001b[0;34m\u001b[0m\u001b[0;34m\u001b[0m\u001b[0m\n\u001b[1;32m    569\u001b[0m             raise ValueError(\"Found array with dim %d. %s expected <= 2.\"\n",
            "\u001b[0;31mValueError\u001b[0m: could not convert string to float: 'Jordan'"
          ]
        }
      ]
    },
    {
      "metadata": {
        "id": "uaE0vxf32tlB",
        "colab_type": "code",
        "colab": {}
      },
      "cell_type": "code",
      "source": [
        "test = pd.DataFrame({'id': np.array([1,2,3,4] * 2,dtype='int32'),\n",
        "                     'num': np.array([1,2] * 4,dtype='int32')\n",
        "                    })\n",
        "print(test)\n",
        "\n",
        "test = test[(test['id'] != 1) & (test['num'] != 1)]\n",
        "print(test)"
      ],
      "execution_count": 0,
      "outputs": []
    }
  ]
}