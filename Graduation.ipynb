{
  "nbformat": 4,
  "nbformat_minor": 0,
  "metadata": {
    "colab": {
      "name": "Graduation.ipynb",
      "version": "0.3.2",
      "provenance": [],
      "collapsed_sections": [],
      "include_colab_link": true
    },
    "kernelspec": {
      "name": "python3",
      "display_name": "Python 3"
    }
  },
  "cells": [
    {
      "cell_type": "markdown",
      "metadata": {
        "id": "view-in-github",
        "colab_type": "text"
      },
      "source": [
        "<a href=\"https://colab.research.google.com/github/FNSY96/TerrorismEventsPrediction/blob/master/Graduation.ipynb\" target=\"_parent\"><img src=\"https://colab.research.google.com/assets/colab-badge.svg\" alt=\"Open In Colab\"/></a>"
      ]
    },
    {
      "metadata": {
        "id": "3t4_K6rWMxmH",
        "colab_type": "text"
      },
      "cell_type": "markdown",
      "source": [
        "# **Python Imports**\n",
        "PLEASE PUT ALL LIBRARY IMPORTS IN THIS CELL **ONLY**"
      ]
    },
    {
      "metadata": {
        "id": "3SkGUUzMMr4V",
        "colab_type": "code",
        "outputId": "00f0fad6-790b-428b-9747-5a43964db83b",
        "colab": {
          "base_uri": "https://localhost:8080/",
          "height": 34
        }
      },
      "cell_type": "code",
      "source": [
        "import pandas as pd\n",
        "import csv\n",
        "import glob\n",
        "import os\n",
        "from pandas import ExcelWriter\n",
        "from pandas import ExcelFile\n",
        "import numpy as np\n",
        "import io\n",
        "from sklearn.neighbors import KNeighborsClassifier\n",
        "from sklearn import metrics\n",
        "from sklearn import preprocessing\n",
        "from sklearn.preprocessing import StandardScaler\n",
        "\n",
        "print(\"imports run\")"
      ],
      "execution_count": 1,
      "outputs": [
        {
          "output_type": "stream",
          "text": [
            "imports run\n"
          ],
          "name": "stdout"
        }
      ]
    },
    {
      "metadata": {
        "id": "ts4MLZnIaj37",
        "colab_type": "code",
        "outputId": "3e26c567-e4b0-4ba7-9867-429754279878",
        "colab": {
          "base_uri": "https://localhost:8080/",
          "height": 131
        }
      },
      "cell_type": "code",
      "source": [
        "!pip3 install pandas"
      ],
      "execution_count": 2,
      "outputs": [
        {
          "output_type": "stream",
          "text": [
            "Requirement already satisfied: pandas in /usr/local/lib/python3.6/dist-packages (0.23.4)\n",
            "Requirement already satisfied: pytz>=2011k in /usr/local/lib/python3.6/dist-packages (from pandas) (2018.9)\n",
            "Requirement already satisfied: python-dateutil>=2.5.0 in /usr/local/lib/python3.6/dist-packages (from pandas) (2.5.3)\n",
            "Requirement already satisfied: numpy>=1.9.0 in /usr/local/lib/python3.6/dist-packages (from pandas) (1.16.2)\n",
            "Requirement already satisfied: six>=1.5 in /usr/local/lib/python3.6/dist-packages (from python-dateutil>=2.5.0->pandas) (1.11.0)\n"
          ],
          "name": "stdout"
        }
      ]
    },
    {
      "metadata": {
        "id": "BTQAhp_HNvyG",
        "colab_type": "text"
      },
      "cell_type": "markdown",
      "source": [
        "# Data Set Imports"
      ]
    },
    {
      "metadata": {
        "id": "N13I8JpfMHc6",
        "colab_type": "code",
        "outputId": "6c7ce910-5a5f-45cc-80fc-2ba4914d52e5",
        "colab": {
          "base_uri": "https://localhost:8080/",
          "height": 180
        }
      },
      "cell_type": "code",
      "source": [
        "!pip install -U -q PyDrive\n",
        "from google.colab import drive\n",
        "from pydrive.auth import GoogleAuth\n",
        "from pydrive.drive import GoogleDrive\n",
        "from google.colab import auth\n",
        "from oauth2client.client import GoogleCredentials\n",
        "auth.authenticate_user()\n",
        "gauth = GoogleAuth()\n",
        "gauth.credentials = GoogleCredentials.get_application_default()"
      ],
      "execution_count": 3,
      "outputs": [
        {
          "output_type": "stream",
          "text": [
            "\u001b[?25l\r\u001b[K    1% |▎                               | 10kB 20.2MB/s eta 0:00:01\r\u001b[K    2% |▋                               | 20kB 3.3MB/s eta 0:00:01\r\u001b[K    3% |█                               | 30kB 4.7MB/s eta 0:00:01\r\u001b[K    4% |█▎                              | 40kB 3.0MB/s eta 0:00:01\r\u001b[K    5% |█▋                              | 51kB 3.7MB/s eta 0:00:01\r\u001b[K    6% |██                              | 61kB 4.4MB/s eta 0:00:01\r\u001b[K    7% |██▎                             | 71kB 5.0MB/s eta 0:00:01\r\u001b[K    8% |██▋                             | 81kB 5.6MB/s eta 0:00:01\r\u001b[K    9% |███                             | 92kB 6.2MB/s eta 0:00:01\r\u001b[K    10% |███▎                            | 102kB 4.9MB/s eta 0:00:01\r\u001b[K    11% |███▋                            | 112kB 4.9MB/s eta 0:00:01\r\u001b[K    12% |████                            | 122kB 6.7MB/s eta 0:00:01\r\u001b[K    13% |████▎                           | 133kB 6.7MB/s eta 0:00:01\r\u001b[K    14% |████▋                           | 143kB 12.1MB/s eta 0:00:01\r\u001b[K    15% |█████                           | 153kB 12.2MB/s eta 0:00:01\r\u001b[K    16% |█████▎                          | 163kB 12.2MB/s eta 0:00:01\r\u001b[K    17% |█████▋                          | 174kB 12.2MB/s eta 0:00:01\r\u001b[K    18% |██████                          | 184kB 12.4MB/s eta 0:00:01\r\u001b[K    19% |██████▎                         | 194kB 12.4MB/s eta 0:00:01\r\u001b[K    20% |██████▋                         | 204kB 43.0MB/s eta 0:00:01\r\u001b[K    21% |███████                         | 215kB 14.2MB/s eta 0:00:01\r\u001b[K    22% |███████▎                        | 225kB 14.1MB/s eta 0:00:01\r\u001b[K    23% |███████▋                        | 235kB 14.3MB/s eta 0:00:01\r\u001b[K    24% |████████                        | 245kB 14.3MB/s eta 0:00:01\r\u001b[K    25% |████████▎                       | 256kB 14.3MB/s eta 0:00:01\r\u001b[K    26% |████████▋                       | 266kB 13.8MB/s eta 0:00:01\r\u001b[K    27% |█████████                       | 276kB 13.9MB/s eta 0:00:01\r\u001b[K    29% |█████████▎                      | 286kB 13.9MB/s eta 0:00:01\r\u001b[K    30% |█████████▋                      | 296kB 13.9MB/s eta 0:00:01\r\u001b[K    31% |██████████                      | 307kB 14.5MB/s eta 0:00:01\r\u001b[K    32% |██████████▎                     | 317kB 48.8MB/s eta 0:00:01\r\u001b[K    33% |██████████▋                     | 327kB 51.3MB/s eta 0:00:01\r\u001b[K    34% |███████████                     | 337kB 52.0MB/s eta 0:00:01\r\u001b[K    35% |███████████▎                    | 348kB 46.7MB/s eta 0:00:01\r\u001b[K    36% |███████████▋                    | 358kB 46.4MB/s eta 0:00:01\r\u001b[K    37% |████████████                    | 368kB 53.5MB/s eta 0:00:01\r\u001b[K    38% |████████████▎                   | 378kB 55.0MB/s eta 0:00:01\r\u001b[K    39% |████████████▋                   | 389kB 55.3MB/s eta 0:00:01\r\u001b[K    40% |█████████████                   | 399kB 18.2MB/s eta 0:00:01\r\u001b[K    41% |█████████████▎                  | 409kB 18.1MB/s eta 0:00:01\r\u001b[K    42% |█████████████▋                  | 419kB 18.2MB/s eta 0:00:01\r\u001b[K    43% |██████████████                  | 430kB 18.2MB/s eta 0:00:01\r\u001b[K    44% |██████████████▎                 | 440kB 18.2MB/s eta 0:00:01\r\u001b[K    45% |██████████████▋                 | 450kB 18.0MB/s eta 0:00:01\r\u001b[K    46% |███████████████                 | 460kB 18.0MB/s eta 0:00:01\r\u001b[K    47% |███████████████▎                | 471kB 18.1MB/s eta 0:00:01\r\u001b[K    48% |███████████████▋                | 481kB 18.0MB/s eta 0:00:01\r\u001b[K    49% |████████████████                | 491kB 18.1MB/s eta 0:00:01\r\u001b[K    50% |████████████████▎               | 501kB 53.2MB/s eta 0:00:01\r\u001b[K    51% |████████████████▋               | 512kB 49.9MB/s eta 0:00:01\r\u001b[K    52% |█████████████████               | 522kB 49.9MB/s eta 0:00:01\r\u001b[K    53% |█████████████████▎              | 532kB 49.5MB/s eta 0:00:01\r\u001b[K    54% |█████████████████▋              | 542kB 50.8MB/s eta 0:00:01\r\u001b[K    55% |██████████████████              | 552kB 60.1MB/s eta 0:00:01\r\u001b[K    57% |██████████████████▎             | 563kB 60.6MB/s eta 0:00:01\r\u001b[K    58% |██████████████████▋             | 573kB 60.4MB/s eta 0:00:01\r\u001b[K    59% |███████████████████             | 583kB 59.8MB/s eta 0:00:01\r\u001b[K    60% |███████████████████▎            | 593kB 59.3MB/s eta 0:00:01\r\u001b[K    61% |███████████████████▋            | 604kB 58.3MB/s eta 0:00:01\r\u001b[K    62% |████████████████████            | 614kB 64.3MB/s eta 0:00:01\r\u001b[K    63% |████████████████████▎           | 624kB 64.5MB/s eta 0:00:01\r\u001b[K    64% |████████████████████▋           | 634kB 64.2MB/s eta 0:00:01\r\u001b[K    65% |█████████████████████           | 645kB 21.2MB/s eta 0:00:01\r\u001b[K    66% |█████████████████████▎          | 655kB 20.8MB/s eta 0:00:01\r\u001b[K    67% |█████████████████████▋          | 665kB 18.0MB/s eta 0:00:01\r\u001b[K    68% |██████████████████████          | 675kB 17.8MB/s eta 0:00:01\r\u001b[K    69% |██████████████████████▎         | 686kB 17.7MB/s eta 0:00:01\r\u001b[K    70% |██████████████████████▋         | 696kB 17.6MB/s eta 0:00:01\r\u001b[K    71% |███████████████████████         | 706kB 17.8MB/s eta 0:00:01\r\u001b[K    72% |███████████████████████▎        | 716kB 17.8MB/s eta 0:00:01\r\u001b[K    73% |███████████████████████▋        | 727kB 17.9MB/s eta 0:00:01\r\u001b[K    74% |████████████████████████        | 737kB 18.0MB/s eta 0:00:01\r\u001b[K    75% |████████████████████████▎       | 747kB 41.5MB/s eta 0:00:01\r\u001b[K    76% |████████████████████████▋       | 757kB 43.4MB/s eta 0:00:01\r\u001b[K    77% |████████████████████████▉       | 768kB 66.8MB/s eta 0:00:01\r\u001b[K    78% |█████████████████████████▏      | 778kB 69.5MB/s eta 0:00:01\r\u001b[K    79% |█████████████████████████▌      | 788kB 75.8MB/s eta 0:00:01\r\u001b[K    80% |█████████████████████████▉      | 798kB 77.1MB/s eta 0:00:01\r\u001b[K    81% |██████████████████████████▏     | 808kB 76.6MB/s eta 0:00:01\r\u001b[K    82% |██████████████████████████▌     | 819kB 80.2MB/s eta 0:00:01\r\u001b[K    83% |██████████████████████████▉     | 829kB 80.6MB/s eta 0:00:01\r\u001b[K    85% |███████████████████████████▏    | 839kB 81.1MB/s eta 0:00:01\r\u001b[K    86% |███████████████████████████▌    | 849kB 81.5MB/s eta 0:00:01\r\u001b[K    87% |███████████████████████████▉    | 860kB 65.6MB/s eta 0:00:01\r\u001b[K    88% |████████████████████████████▏   | 870kB 64.8MB/s eta 0:00:01\r\u001b[K    89% |████████████████████████████▌   | 880kB 64.2MB/s eta 0:00:01\r\u001b[K    90% |████████████████████████████▉   | 890kB 63.2MB/s eta 0:00:01\r\u001b[K    91% |█████████████████████████████▏  | 901kB 64.6MB/s eta 0:00:01\r\u001b[K    92% |█████████████████████████████▌  | 911kB 65.3MB/s eta 0:00:01\r\u001b[K    93% |█████████████████████████████▉  | 921kB 65.4MB/s eta 0:00:01\r\u001b[K    94% |██████████████████████████████▏ | 931kB 65.2MB/s eta 0:00:01\r\u001b[K    95% |██████████████████████████████▌ | 942kB 64.6MB/s eta 0:00:01\r\u001b[K    96% |██████████████████████████████▉ | 952kB 65.5MB/s eta 0:00:01\r\u001b[K    97% |███████████████████████████████▏| 962kB 81.4MB/s eta 0:00:01\r\u001b[K    98% |███████████████████████████████▌| 972kB 81.5MB/s eta 0:00:01\r\u001b[K    99% |███████████████████████████████▉| 983kB 83.5MB/s eta 0:00:01\r\u001b[K    100% |████████████████████████████████| 993kB 22.1MB/s \n",
            "\u001b[?25h  Building wheel for PyDrive (setup.py) ... \u001b[?25ldone\n",
            "\u001b[?25h"
          ],
          "name": "stdout"
        }
      ]
    },
    {
      "metadata": {
        "id": "pdAFcrotUNTk",
        "colab_type": "code",
        "outputId": "50a943ef-3344-4f37-9759-c57442b0f064",
        "colab": {
          "base_uri": "https://localhost:8080/",
          "height": 189
        }
      },
      "cell_type": "code",
      "source": [
        "# drive = GoogleDrive(gauth)\n",
        "drive.mount(\"/content/drive\", force_remount=True)\n",
        "datadir  = 'drive/My Drive/GraduationProject/Data'"
      ],
      "execution_count": 4,
      "outputs": [
        {
          "output_type": "stream",
          "text": [
            "Go to this URL in a browser: https://accounts.google.com/o/oauth2/auth?client_id=947318989803-6bn6qk8qdgf4n4g3pfee6491hc0brc4i.apps.googleusercontent.com&redirect_uri=urn%3Aietf%3Awg%3Aoauth%3A2.0%3Aoob&scope=email%20https%3A%2F%2Fwww.googleapis.com%2Fauth%2Fdocs.test%20https%3A%2F%2Fwww.googleapis.com%2Fauth%2Fdrive%20https%3A%2F%2Fwww.googleapis.com%2Fauth%2Fdrive.photos.readonly%20https%3A%2F%2Fwww.googleapis.com%2Fauth%2Fpeopleapi.readonly&response_type=code\n",
            "\n",
            "Enter your authorization code:\n",
            "··········\n",
            "Mounted at /content/drive\n"
          ],
          "name": "stdout"
        }
      ]
    },
    {
      "metadata": {
        "id": "1qsmoZ3eReyA",
        "colab_type": "text"
      },
      "cell_type": "markdown",
      "source": [
        "###**GTD**"
      ]
    },
    {
      "metadata": {
        "id": "JvNzAiEaX4MW",
        "colab_type": "code",
        "colab": {}
      },
      "cell_type": "code",
      "source": [
        "# !ls drive/'My Drive'/GraduationProject/Data/gtd.csv"
      ],
      "execution_count": 0,
      "outputs": []
    },
    {
      "metadata": {
        "id": "nZjjGdaLVMkv",
        "colab_type": "text"
      },
      "cell_type": "markdown",
      "source": [
        "# Pandas Data Frames\n",
        "Useful link : https://youtu.be/2AFGPdNn4FM"
      ]
    },
    {
      "metadata": {
        "id": "3bYFOOr9U-7h",
        "colab_type": "text"
      },
      "cell_type": "markdown",
      "source": [
        "## **GTD Data Frame**"
      ]
    },
    {
      "metadata": {
        "id": "hzPwkdhBZRZU",
        "colab_type": "code",
        "outputId": "3d5f47a0-8833-48e8-9c9b-d2036ba63897",
        "colab": {
          "base_uri": "https://localhost:8080/",
          "height": 513
        }
      },
      "cell_type": "code",
      "source": [
        "gtd_df = pd.read_csv(os.path.join(datadir, 'gtd.csv'),encoding='latin-1')\n",
        "print(gtd_df.columns.values)\n",
        "# print(gtd_df)"
      ],
      "execution_count": 6,
      "outputs": [
        {
          "output_type": "stream",
          "text": [
            "/usr/local/lib/python3.6/dist-packages/IPython/core/interactiveshell.py:2718: DtypeWarning: Columns (4,6,31,33,61,62,63,76,79,90,92,94,96,114,115,121) have mixed types. Specify dtype option on import or set low_memory=False.\n",
            "  interactivity=interactivity, compiler=compiler, result=result)\n"
          ],
          "name": "stderr"
        },
        {
          "output_type": "stream",
          "text": [
            "['eventid' 'iyear' 'imonth' 'iday' 'approxdate' 'extended' 'resolution'\n",
            " 'country' 'country_txt' 'region' 'region_txt' 'provstate' 'city'\n",
            " 'latitude' 'longitude' 'specificity' 'vicinity' 'location' 'summary'\n",
            " 'crit1' 'crit2' 'crit3' 'doubtterr' 'alternative' 'alternative_txt'\n",
            " 'multiple' 'success' 'suicide' 'attacktype1' 'attacktype1_txt'\n",
            " 'attacktype2' 'attacktype2_txt' 'attacktype3' 'attacktype3_txt'\n",
            " 'targtype1' 'targtype1_txt' 'targsubtype1' 'targsubtype1_txt' 'corp1'\n",
            " 'target1' 'natlty1' 'natlty1_txt' 'targtype2' 'targtype2_txt'\n",
            " 'targsubtype2' 'targsubtype2_txt' 'corp2' 'target2' 'natlty2'\n",
            " 'natlty2_txt' 'targtype3' 'targtype3_txt' 'targsubtype3'\n",
            " 'targsubtype3_txt' 'corp3' 'target3' 'natlty3' 'natlty3_txt' 'gname'\n",
            " 'gsubname' 'gname2' 'gsubname2' 'gname3' 'gsubname3' 'motive'\n",
            " 'guncertain1' 'guncertain2' 'guncertain3' 'individual' 'nperps'\n",
            " 'nperpcap' 'claimed' 'claimmode' 'claimmode_txt' 'claim2' 'claimmode2'\n",
            " 'claimmode2_txt' 'claim3' 'claimmode3' 'claimmode3_txt' 'compclaim'\n",
            " 'weaptype1' 'weaptype1_txt' 'weapsubtype1' 'weapsubtype1_txt' 'weaptype2'\n",
            " 'weaptype2_txt' 'weapsubtype2' 'weapsubtype2_txt' 'weaptype3'\n",
            " 'weaptype3_txt' 'weapsubtype3' 'weapsubtype3_txt' 'weaptype4'\n",
            " 'weaptype4_txt' 'weapsubtype4' 'weapsubtype4_txt' 'weapdetail' 'nkill'\n",
            " 'nkillus' 'nkillter' 'nwound' 'nwoundus' 'nwoundte' 'property'\n",
            " 'propextent' 'propextent_txt' 'propvalue' 'propcomment' 'ishostkid'\n",
            " 'nhostkid' 'nhostkidus' 'nhours' 'ndays' 'divert' 'kidhijcountry'\n",
            " 'ransom' 'ransomamt' 'ransomamtus' 'ransompaid' 'ransompaidus'\n",
            " 'ransomnote' 'hostkidoutcome' 'hostkidoutcome_txt' 'nreleased' 'addnotes'\n",
            " 'scite1' 'scite2' 'scite3' 'dbsource' 'INT_LOG' 'INT_IDEO' 'INT_MISC'\n",
            " 'INT_ANY' 'related']\n"
          ],
          "name": "stdout"
        }
      ]
    },
    {
      "metadata": {
        "id": "j_29KRCKqrj-",
        "colab_type": "code",
        "colab": {}
      },
      "cell_type": "code",
      "source": [
        "gtd_filtered_df = gtd_df[['country','country_txt','region','region_txt','city','provstate', 'targtype1','targtype1_txt', 'iyear','imonth', 'gname', 'weaptype1', 'weaptype1_txt','attacktype1_txt','attacktype1']]\n",
        "# gtd_filtered_df = gtd_filtered_df.rename(index=str, columns={\"city\": \"city_txt\", \"provstate\": \"provstate_txt\", \"gname\": \"gname_txt\"})\n",
        "# print(gtd_filtered_df)\n",
        "# print(gtd_filtered_df.isna().sum())"
      ],
      "execution_count": 0,
      "outputs": []
    },
    {
      "metadata": {
        "id": "rVn6I7Y7OA9F",
        "colab_type": "text"
      },
      "cell_type": "markdown",
      "source": [
        "## **GECON Data Frame**"
      ]
    },
    {
      "metadata": {
        "id": "t6AAaOVhHY6z",
        "colab_type": "code",
        "outputId": "f8b85270-8dee-48b4-b6e1-3a6088823183",
        "colab": {
          "base_uri": "https://localhost:8080/",
          "height": 111
        }
      },
      "cell_type": "code",
      "source": [
        "gecon_df = pd.read_csv(os.path.join(datadir, 'Gecon40_post_final_kh.csv'),encoding='latin-1')\n",
        "# print(gecon_df.columns.values)"
      ],
      "execution_count": 8,
      "outputs": [
        {
          "output_type": "stream",
          "text": [
            "/usr/local/lib/python3.6/dist-packages/IPython/core/interactiveshell.py:2718: DtypeWarning: Columns (16,19,25,28) have mixed types. Specify dtype option on import or set low_memory=False.\n",
            "  interactivity=interactivity, compiler=compiler, result=result)\n"
          ],
          "name": "stderr"
        }
      ]
    },
    {
      "metadata": {
        "id": "5Lg-yXecp267",
        "colab_type": "code",
        "colab": {}
      },
      "cell_type": "code",
      "source": [
        "gecon_filtered_df = gecon_df[['AREA', 'COUNTRY', 'DIS_LAKE','DIS_MAJOR_RIVER']]\n",
        "\n",
        "# print(gecon_filtered_df.isna().sum())\n",
        "\n",
        "# print(gecon_filtered_df)"
      ],
      "execution_count": 0,
      "outputs": []
    },
    {
      "metadata": {
        "id": "yyO2aL4SObqB",
        "colab_type": "text"
      },
      "cell_type": "markdown",
      "source": [
        "## **GeoEPR Data Frame**"
      ]
    },
    {
      "metadata": {
        "id": "II-_vH73OLvh",
        "colab_type": "code",
        "colab": {}
      },
      "cell_type": "code",
      "source": [
        "geo_df = pd.read_csv(os.path.join(datadir, 'GeoEPR-2018.1.csv'),encoding='latin-1')\n",
        "# print(geo_df.columns.values)\n",
        "# # statename, group\n",
        "# print(geo_df)"
      ],
      "execution_count": 0,
      "outputs": []
    },
    {
      "metadata": {
        "id": "TGPkxd05olZN",
        "colab_type": "code",
        "colab": {}
      },
      "cell_type": "code",
      "source": [
        "geo_filtered_df = geo_df[['statename','group']]\n",
        "geo_filtered_df = geo_filtered_df.rename(index=str, columns={\"statename\": \"country_txt\"})\n",
        "# print(geo_filtered_df)\n",
        "# print(geo_filtered_df.isna().sum())\n",
        "# print(geo_filtered_df.groupby('country_txt').count())"
      ],
      "execution_count": 0,
      "outputs": []
    },
    {
      "metadata": {
        "id": "WR7YsgSLVroa",
        "colab_type": "code",
        "colab": {}
      },
      "cell_type": "code",
      "source": [
        "# clean NaN\n",
        "# geo_filtered_df = geo_filtered_df.fillna(geo_filtered_df.mean())\n",
        "#attributes_NaN = ['statename', 'group', 'type']\n",
        "#geo_filtered_df = remove_NaN(geo_filtered_df, attributes_NaN)\n",
        "\n",
        "#print(geo_filtered_df)"
      ],
      "execution_count": 0,
      "outputs": []
    },
    {
      "metadata": {
        "id": "0HVbOmnWVUN1",
        "colab_type": "text"
      },
      "cell_type": "markdown",
      "source": [
        "## **Happiness World Report Data Frame**"
      ]
    },
    {
      "metadata": {
        "id": "7yf0iEK_Qh-Y",
        "colab_type": "code",
        "colab": {}
      },
      "cell_type": "code",
      "source": [
        "happy_df_17 = pd.read_csv(os.path.join(datadir, 'Happiness2017.csv'),encoding='latin-1')\n",
        "happy_df_16 = pd.read_csv(os.path.join(datadir, 'Happiness2016.csv'),encoding='latin-1')\n",
        "happy_df_15 = pd.read_csv(os.path.join(datadir, 'Happiness2015.csv'),encoding='latin-1')\n",
        "# happiness = [happy_df_15, happy_df_16, happy_df_17]\n",
        "happy_df_17 = happy_df_17.rename(index=str, columns={\"Country\": \"country_txt\", \"Happiness.Rank\": \"Happiness.Rank17\", \"Happiness.Score\": \"Happiness.Score17\", \"Freedom\": \"Freedom17\", \"Economy..GDP.per.Capita.\": \"Economy17\"})\n",
        "happy_df_16 = happy_df_16.rename(index=str, columns={\"Country\": \"country_txt\", \"Happiness Rank\": \"Happiness.Rank16\", \"Happiness Score\": \"Happiness.Score16\", \"Freedom\": \"Freedom16\", \"Economy (GDP per Capita)\": \"Economy16\"})\n",
        "happy_df_15 = happy_df_15.rename(index=str, columns={\"Country\": \"country_txt\", \"Happiness Rank\": \"Happiness.Rank15\", \"Happiness Score\": \"Happiness.Score15\", \"Freedom\": \"Freedom15\", \"Economy (GDP per Capita)\": \"Economy15\"})"
      ],
      "execution_count": 0,
      "outputs": []
    },
    {
      "metadata": {
        "id": "zBwAL3P582XE",
        "colab_type": "code",
        "colab": {}
      },
      "cell_type": "code",
      "source": [
        "happiness_filtered = [happy_df_15[['country_txt','Happiness.Score15', 'Freedom15', 'Economy15']],\n",
        "                      happy_df_16[['country_txt','Happiness.Score16', 'Freedom16', 'Economy16']], \n",
        "                      happy_df_17[['country_txt','Happiness.Score17', 'Freedom17', 'Economy17']]]"
      ],
      "execution_count": 0,
      "outputs": []
    },
    {
      "metadata": {
        "id": "f4rbBLk3_hkq",
        "colab_type": "text"
      },
      "cell_type": "markdown",
      "source": [
        "###TRIALS"
      ]
    },
    {
      "metadata": {
        "id": "vUerAkcwHScA",
        "colab_type": "code",
        "outputId": "5bb95cff-213d-4edb-d5cb-790c1efe4a01",
        "colab": {
          "base_uri": "https://localhost:8080/",
          "height": 238
        }
      },
      "cell_type": "code",
      "source": [
        "d = {'one': pd.Series([1., 3.], index=['a', 'c']), 'two': pd.Series([1., 2., 3., 4.], index=['a', 'b', 'c', 'd']), 'three': pd.Series([\"A\", \"B\", \"A\"], index=['a', 'c', 'd'])}\n",
        "df = pd.DataFrame(d)\n",
        "print(df.isna().sum())\n",
        "# print(df)\n",
        "df = df.dropna()\n",
        "print(df)\n",
        "d2 = {'four': pd.Series([1., 3.], index=['a', 'c']), 'five': pd.Series([1., 2., 3., 4.], index=['a', 'b', 'c', 'd']), 'six': pd.Series([\"A\", \"B\", \"A\"], index=['a', 'c', 'd'])}\n",
        "df2 = pd.DataFrame(d2)\n",
        "df2 = df2.dropna()\n",
        "print(df2)\n",
        "df3 = pd.concat([df, df2], axis = 1)\n",
        "print(df3)\n",
        "\n",
        "# print(df.isna().sum())\n",
        "# df = df.fillna(df.mean())\n",
        "# mode =  df['three'].mode()[0]\n",
        "# df['three'] = df.groupby('three')['three'].apply(lambda x: x.fillna(x.value_counts().idxmax() if x.value_counts().max() >=1 else mode , inplace = False))\n",
        "# df['three']= df['three'].fillna(df['three'].value_counts().idxmax())\n",
        "# print(df)\n",
        "# df = pd.DataFrame(data={'location': [1, 2, 3],\n",
        "#                         'coor': [(14.48847, 103.161477),\n",
        "#                               (14.970084, 103.062853),\n",
        "#                               (np.nan, np.nan)]})\n",
        "# print(df)\n",
        "# # df.dropna(how='any')\n",
        "# df = df[~df.coor.apply(lambda x: np.isnan(x[0]) & np.isnan(x[1]))]\n",
        "# # df = df[pd.DataFrame(df.coor.tolist()).notna().all(1)]\n",
        "# print(df)\n"
      ],
      "execution_count": 15,
      "outputs": [
        {
          "output_type": "stream",
          "text": [
            "one      2\n",
            "two      0\n",
            "three    1\n",
            "dtype: int64\n",
            "   one  two three\n",
            "a  1.0  1.0     A\n",
            "c  3.0  3.0     B\n",
            "   four  five six\n",
            "a   1.0   1.0   A\n",
            "c   3.0   3.0   B\n",
            "   one  two three  four  five six\n",
            "a  1.0  1.0     A   1.0   1.0   A\n",
            "c  3.0  3.0     B   3.0   3.0   B\n"
          ],
          "name": "stdout"
        }
      ]
    },
    {
      "metadata": {
        "id": "vvSBiTqp3AGr",
        "colab_type": "text"
      },
      "cell_type": "markdown",
      "source": [
        "## MERGED DATA"
      ]
    },
    {
      "metadata": {
        "id": "HZFICVLTqH63",
        "colab_type": "text"
      },
      "cell_type": "markdown",
      "source": [
        "### Merging"
      ]
    },
    {
      "metadata": {
        "id": "EaBxFPRhCOEk",
        "colab_type": "code",
        "outputId": "1bf56eed-5a10-4238-ffbf-70b8a3ae8b2f",
        "colab": {
          "base_uri": "https://localhost:8080/",
          "height": 34
        }
      },
      "cell_type": "code",
      "source": [
        "ethnic_count = geo_filtered_df.groupby('country_txt').count()\n",
        "countries = pd.DataFrame(geo_filtered_df['country_txt'].drop_duplicates().sort_values())\n",
        "ethnic_count = pd.concat([ethnic_count.reset_index(drop=True),countries.reset_index(drop=True)], axis=1)\n",
        "ethnic_count = ethnic_count.rename(index=str, columns={\"group\":\"group_count\"})\n",
        "print(ethnic_count.columns.values)\n"
      ],
      "execution_count": 16,
      "outputs": [
        {
          "output_type": "stream",
          "text": [
            "['group_count' 'country_txt']\n"
          ],
          "name": "stdout"
        }
      ]
    },
    {
      "metadata": {
        "id": "_bb158uoK2vo",
        "colab_type": "code",
        "outputId": "d237da49-e3f3-4264-9df6-d668d0ef5b6b",
        "colab": {
          "base_uri": "https://localhost:8080/",
          "height": 34
        }
      },
      "cell_type": "code",
      "source": [
        "#result = pd.concat([gtd_filtered_df, happy_filtered_df],gtd_filtered_df[\"country_txt\"]=happy_filtered_df[\"Country\"])\n",
        "#'Happiness.Rank' 'Happiness.Score'\n",
        "gtd_merged_happiness = gtd_filtered_df\n",
        "for i in range(len(happiness_filtered)):\n",
        "  gtd_merged_happiness = pd.merge(gtd_merged_happiness, happiness_filtered[i],on='country_txt')\n",
        "gtd_merged_happiness = pd.merge(gtd_merged_happiness, ethnic_count, on='country_txt')\n",
        "print(gtd_merged_happiness.shape)\n",
        "# print(gtd_merged_happiness['region_txt'].drop_duplicates())"
      ],
      "execution_count": 17,
      "outputs": [
        {
          "output_type": "stream",
          "text": [
            "(167161, 25)\n"
          ],
          "name": "stdout"
        }
      ]
    },
    {
      "metadata": {
        "id": "AvaLOvx0AW-T",
        "colab_type": "code",
        "outputId": "d1053b90-6bbb-48b2-fd57-5bf8f3a80d66",
        "colab": {
          "base_uri": "https://localhost:8080/",
          "height": 102
        }
      },
      "cell_type": "code",
      "source": [
        "print(gtd_merged_happiness.columns.values)"
      ],
      "execution_count": 18,
      "outputs": [
        {
          "output_type": "stream",
          "text": [
            "['country' 'country_txt' 'region' 'region_txt' 'city' 'provstate'\n",
            " 'targtype1' 'targtype1_txt' 'iyear' 'imonth' 'gname' 'weaptype1'\n",
            " 'weaptype1_txt' 'attacktype1_txt' 'attacktype1' 'Happiness.Score15'\n",
            " 'Freedom15' 'Economy15' 'Happiness.Score16' 'Freedom16' 'Economy16'\n",
            " 'Happiness.Score17' 'Freedom17' 'Economy17' 'group_count']\n"
          ],
          "name": "stdout"
        }
      ]
    },
    {
      "metadata": {
        "id": "1SrJ5XoF1Hwb",
        "colab_type": "code",
        "colab": {}
      },
      "cell_type": "code",
      "source": [
        "# MENA stands for Middle East and North Africa region\n",
        "mena = gtd_merged_happiness.loc[gtd_merged_happiness['region_txt'] == 'Middle East & North Africa']"
      ],
      "execution_count": 0,
      "outputs": []
    },
    {
      "metadata": {
        "id": "A6Zz5qvuwh3K",
        "colab_type": "code",
        "outputId": "b6d644a0-f198-4bde-ed51-8146cba6a87b",
        "colab": {
          "base_uri": "https://localhost:8080/",
          "height": 34
        }
      },
      "cell_type": "code",
      "source": [
        "print(mena.shape)"
      ],
      "execution_count": 20,
      "outputs": [
        {
          "output_type": "stream",
          "text": [
            "(45846, 25)\n"
          ],
          "name": "stdout"
        }
      ]
    },
    {
      "metadata": {
        "id": "Qepbd9FCuls2",
        "colab_type": "code",
        "outputId": "2ebcf57a-a2fa-4acc-94ad-859fd2253ca9",
        "colab": {
          "base_uri": "https://localhost:8080/",
          "height": 272
        }
      },
      "cell_type": "code",
      "source": [
        "print(mena['country_txt'].drop_duplicates())"
      ],
      "execution_count": 21,
      "outputs": [
        {
          "output_type": "stream",
          "text": [
            "16236           Jordan\n",
            "19871            Egypt\n",
            "23165          Lebanon\n",
            "25643           Turkey\n",
            "30049             Iran\n",
            "61678           Israel\n",
            "64027           Kuwait\n",
            "78871          Algeria\n",
            "91750          Morocco\n",
            "114426           Syria\n",
            "119326            Iraq\n",
            "153137    Saudi Arabia\n",
            "154671         Bahrain\n",
            "157616           Yemen\n",
            "Name: country_txt, dtype: object\n"
          ],
          "name": "stdout"
        }
      ]
    },
    {
      "metadata": {
        "id": "Lwzz60lmGGS9",
        "colab_type": "code",
        "outputId": "84f26096-bc15-4c54-e6c6-429c42500e87",
        "colab": {
          "base_uri": "https://localhost:8080/",
          "height": 34
        }
      },
      "cell_type": "code",
      "source": [
        "# Number of distinct terrorist groups in the MENA region = 636\n",
        "# print(np.unique(mena[['gname']].values))\n",
        "print(np.unique(mena[['gname']]).size)"
      ],
      "execution_count": 22,
      "outputs": [
        {
          "output_type": "stream",
          "text": [
            "636\n"
          ],
          "name": "stdout"
        }
      ]
    },
    {
      "metadata": {
        "id": "Zel0gtDSwGzL",
        "colab_type": "code",
        "colab": {}
      },
      "cell_type": "code",
      "source": [
        "# attribute \"Unknown > 27000\" I think we should drop all of that\n",
        "# It doesn't make sense to predict an \"Unknown\"\n",
        "# print(mena['gname'].value_counts())\n",
        "# print(mena['gname'].size)"
      ],
      "execution_count": 0,
      "outputs": []
    },
    {
      "metadata": {
        "id": "jSoCKd-DVHRa",
        "colab_type": "text"
      },
      "cell_type": "markdown",
      "source": [
        "### Filtering MENA Dataframe"
      ]
    },
    {
      "metadata": {
        "id": "SlFLIqIyTpCa",
        "colab_type": "code",
        "outputId": "96b914e0-bfad-4ebd-f774-af415ff1ee7e",
        "colab": {
          "base_uri": "https://localhost:8080/",
          "height": 187
        }
      },
      "cell_type": "code",
      "source": [
        "# drop rows with nan in mena\n",
        "print(mena.shape)\n",
        "mena_cleaned = mena.dropna()\n",
        "print(mena_cleaned.shape)\n",
        "\n",
        "# select desired labels\n",
        "mena_filtered = mena_cleaned[(mena_cleaned['gname'] == \"Unknown\") | (mena_cleaned['gname'] == \"Islamic State of Iraq and the Levant (ISIL)\") | (mena_cleaned['gname'] == \"Kurdistan Workers' Party (PKK)\") | (mena_cleaned['gname'] == \"Houthi extremists (Ansar Allah)\") | (mena_cleaned['gname'] == \"Al-Qaida in the Arabian Peninsula (AQAP)\") | (mena_cleaned['gname'] == \"Al-Qaida in Iraq\")]\n",
        "\n",
        "print(mena_filtered['gname'].value_counts())\n",
        "print(mena_filtered['gname'].size)"
      ],
      "execution_count": 24,
      "outputs": [
        {
          "output_type": "stream",
          "text": [
            "(45846, 25)\n",
            "(45760, 25)\n",
            "Unknown                                        27197\n",
            "Islamic State of Iraq and the Levant (ISIL)     5553\n",
            "Kurdistan Workers' Party (PKK)                  2137\n",
            "Houthi extremists (Ansar Allah)                 1062\n",
            "Al-Qaida in the Arabian Peninsula (AQAP)        1016\n",
            "Al-Qaida in Iraq                                 636\n",
            "Name: gname, dtype: int64\n",
            "37601\n"
          ],
          "name": "stdout"
        }
      ]
    },
    {
      "metadata": {
        "id": "8pS_4ZQ_hfZu",
        "colab_type": "text"
      },
      "cell_type": "markdown",
      "source": [
        "# Training"
      ]
    },
    {
      "metadata": {
        "id": "2HOCMeqGjHMu",
        "colab_type": "code",
        "colab": {}
      },
      "cell_type": "code",
      "source": [
        "# labels = np.unique(mena_filtered[['gname']])\n",
        "# labels = pd.DataFrame(labels)\n",
        "# print(labels)\n",
        "# print(type(labels))\n"
      ],
      "execution_count": 0,
      "outputs": []
    },
    {
      "metadata": {
        "id": "qtw5FW9gnbjH",
        "colab_type": "code",
        "outputId": "8aa89afc-09f1-4a81-a11d-f33c20ea2778",
        "colab": {
          "base_uri": "https://localhost:8080/",
          "height": 374
        }
      },
      "cell_type": "code",
      "source": [
        "label_encoder = preprocessing.LabelEncoder()\n",
        "string_attributes = ['city', 'provstate', 'gname']\n",
        "mena_final = mena_filtered\n",
        "mena_final = mena_final.drop([\"gname\", \"provstate\", \"city\"], axis=1)\n",
        "print(mena_final.shape)\n",
        "print(mena_final.columns)\n",
        "\n",
        "for i in range(len(string_attributes)):\n",
        "  attribute_name = string_attributes[i]\n",
        "  attribute_list = mena_filtered[attribute_name]\n",
        "  attribute_encoded = label_encoder.fit_transform(attribute_list)\n",
        "  value_zipped_encoded_list = list(zip(attribute_list,attribute_encoded))\n",
        "  value_zipped_encoded_df = pd.DataFrame(value_zipped_encoded_list)\n",
        "  modified_attribute_name = attribute_name + '_numerical'\n",
        "  value_zipped_encoded_df.columns = [attribute_name, modified_attribute_name]\n",
        "  zipped_df = pd.DataFrame(value_zipped_encoded_df)\n",
        "  print(zipped_df.shape)\n",
        "  mena_final = pd.concat([mena_final, zipped_df], axis = 1)\n",
        "  \n",
        "\n",
        "print(\"*************\")\n",
        "print(mena_final.shape) \n",
        "# print(mena_final.isna().sum())\n",
        "mena_final = mena_final.dropna()\n",
        "print(mena_final.shape)\n",
        "print(mena_final.columns)\n",
        "# zipped_df = pd.DataFrame(value_zipped_encoded_df)\n",
        "# mena_final = pd.concat([zipped_df, mena_filtered], axis = 1)\n",
        "# print(zipped_df.columns.values)\n",
        "# print(mena_final.head)\n",
        "# print(mena_final.columns.values)"
      ],
      "execution_count": 25,
      "outputs": [
        {
          "output_type": "stream",
          "text": [
            "(37601, 22)\n",
            "Index(['country', 'country_txt', 'region', 'region_txt', 'targtype1',\n",
            "       'targtype1_txt', 'iyear', 'imonth', 'weaptype1', 'weaptype1_txt',\n",
            "       'attacktype1_txt', 'attacktype1', 'Happiness.Score15', 'Freedom15',\n",
            "       'Economy15', 'Happiness.Score16', 'Freedom16', 'Economy16',\n",
            "       'Happiness.Score17', 'Freedom17', 'Economy17', 'group_count'],\n",
            "      dtype='object')\n",
            "(37601, 2)\n",
            "(37601, 2)\n",
            "(37601, 2)\n",
            "*************\n",
            "(68386, 28)\n",
            "(6816, 28)\n",
            "Index(['country', 'country_txt', 'region', 'region_txt', 'targtype1',\n",
            "       'targtype1_txt', 'iyear', 'imonth', 'weaptype1', 'weaptype1_txt',\n",
            "       'attacktype1_txt', 'attacktype1', 'Happiness.Score15', 'Freedom15',\n",
            "       'Economy15', 'Happiness.Score16', 'Freedom16', 'Economy16',\n",
            "       'Happiness.Score17', 'Freedom17', 'Economy17', 'group_count', 'city',\n",
            "       'city_numerical', 'provstate', 'provstate_numerical', 'gname',\n",
            "       'gname_numerical'],\n",
            "      dtype='object')\n"
          ],
          "name": "stdout"
        }
      ]
    },
    {
      "metadata": {
        "id": "oQnvjYcWhl48",
        "colab_type": "text"
      },
      "cell_type": "markdown",
      "source": [
        "### Divide Data into Train & Test"
      ]
    },
    {
      "metadata": {
        "id": "qkJT8zPAqe3x",
        "colab_type": "code",
        "outputId": "6ce26f41-8106-4def-de40-9c9246fe7158",
        "colab": {
          "base_uri": "https://localhost:8080/",
          "height": 51
        }
      },
      "cell_type": "code",
      "source": [
        "# divide dataset into train and test\n",
        "mena_classification = mena_final.drop([\"gname\", \"country_txt\", \"region_txt\", \"targtype1_txt\", \"provstate\", \"city\", \"weaptype1_txt\", \"attacktype1_txt\"], axis=1)\n",
        "\n",
        "mena_split_train = mena_classification[mena_classification['iyear'] < 2017]\n",
        "mena_split_test = mena_classification[mena_classification['iyear'] >= 2017]\n",
        "\n",
        "labels_train = mena_split_train['gname_numerical']\n",
        "labels_test = mena_split_test['gname_numerical']\n",
        "\n",
        "data_train = mena_split_train.loc[:, mena_split_train.columns != 'gname_numerical']\n",
        "data_test = mena_split_test.loc[:, mena_split_test.columns != 'gname_numerical']\n",
        "\n",
        "# print(labels)\n",
        "# print(trained_data)\n",
        "\n",
        "# mena_train = trained_data.copy()\n",
        "# mena_test = trained_data.copy()\n",
        "\n",
        "# mena_train = mena_train[mena_train['iyear'] < 2017]\n",
        "# mena_test = mena_test[mena_test['iyear'] >= 2017]\n",
        "\n",
        "print(mena_split_train.shape)\n",
        "print(mena_split_test.shape)"
      ],
      "execution_count": 26,
      "outputs": [
        {
          "output_type": "stream",
          "text": [
            "(6531, 20)\n",
            "(285, 20)\n"
          ],
          "name": "stdout"
        }
      ]
    },
    {
      "metadata": {
        "id": "9PwEffIqhsqS",
        "colab_type": "text"
      },
      "cell_type": "markdown",
      "source": [
        "###KNN Classifier"
      ]
    },
    {
      "metadata": {
        "id": "7pb0uJrawlxs",
        "colab_type": "code",
        "outputId": "244182ff-c876-4dec-979d-56dbc0c596de",
        "colab": {
          "base_uri": "https://localhost:8080/",
          "height": 34
        }
      },
      "cell_type": "code",
      "source": [
        "scaler = StandardScaler()  \n",
        "scaler.fit(data_train)\n",
        "\n",
        "data_train = scaler.transform(data_train)  \n",
        "data_test = scaler.transform(data_test)  \n",
        "\n",
        "# Create KNN Classifier\n",
        "knn = KNeighborsClassifier(n_neighbors = 200)\n",
        "\n",
        "# Train the model using the training sets\n",
        "knn.fit(data_train, labels_train)\n",
        "\n",
        "# #Predict the response for test dataset\n",
        "y_pred = knn.predict(data_test)\n",
        "\n",
        "# Model Accuracy, how often is the classifier correct?\n",
        "print(\"Accuracy:\", metrics.accuracy_score(labels_test, y_pred))"
      ],
      "execution_count": 28,
      "outputs": [
        {
          "output_type": "stream",
          "text": [
            "Accuracy: 0.8070175438596491\n"
          ],
          "name": "stdout"
        }
      ]
    },
    {
      "metadata": {
        "id": "rIYWhyPjk5gl",
        "colab_type": "code",
        "colab": {}
      },
      "cell_type": "code",
      "source": [
        ""
      ],
      "execution_count": 0,
      "outputs": []
    }
  ]
}