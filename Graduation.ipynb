{
  "nbformat": 4,
  "nbformat_minor": 0,
  "metadata": {
    "colab": {
      "name": "Graduation.ipynb",
      "version": "0.3.2",
      "provenance": [],
      "collapsed_sections": [],
      "include_colab_link": true
    },
    "kernelspec": {
      "name": "python3",
      "display_name": "Python 3"
    }
  },
  "cells": [
    {
      "cell_type": "markdown",
      "metadata": {
        "id": "view-in-github",
        "colab_type": "text"
      },
      "source": [
        "<a href=\"https://colab.research.google.com/github/FNSY96/TerrorismEventsPrediction/blob/master/Graduation.ipynb\" target=\"_parent\"><img src=\"https://colab.research.google.com/assets/colab-badge.svg\" alt=\"Open In Colab\"/></a>"
      ]
    },
    {
      "metadata": {
        "id": "3t4_K6rWMxmH",
        "colab_type": "text"
      },
      "cell_type": "markdown",
      "source": [
        "# **Python Imports**\n",
        "PLEASE PUT ALL LIBRARY IMPORTS IN THIS CELL **ONLY**"
      ]
    },
    {
      "metadata": {
        "id": "3SkGUUzMMr4V",
        "colab_type": "code",
        "outputId": "83c5691c-f92f-4675-d50e-739b8fc9eef3",
        "colab": {
          "base_uri": "https://localhost:8080/",
          "height": 34
        }
      },
      "cell_type": "code",
      "source": [
        "import pandas as pd\n",
        "import csv\n",
        "import glob\n",
        "import os\n",
        "from pandas import ExcelWriter\n",
        "from pandas import ExcelFile\n",
        "import io\n",
        "print(\"imports run\")"
      ],
      "execution_count": 0,
      "outputs": [
        {
          "output_type": "stream",
          "text": [
            "imports run\n"
          ],
          "name": "stdout"
        }
      ]
    },
    {
      "metadata": {
        "id": "ts4MLZnIaj37",
        "colab_type": "code",
        "outputId": "06611591-71a0-4728-bd47-193723231194",
        "colab": {
          "base_uri": "https://localhost:8080/",
          "height": 102
        }
      },
      "cell_type": "code",
      "source": [
        "!pip3 install pandas"
      ],
      "execution_count": 0,
      "outputs": [
        {
          "output_type": "stream",
          "text": [
            "Requirement already satisfied: pandas in /usr/local/lib/python3.6/dist-packages (0.22.0)\n",
            "Requirement already satisfied: python-dateutil>=2 in /usr/local/lib/python3.6/dist-packages (from pandas) (2.5.3)\n",
            "Requirement already satisfied: pytz>=2011k in /usr/local/lib/python3.6/dist-packages (from pandas) (2018.9)\n",
            "Requirement already satisfied: numpy>=1.9.0 in /usr/local/lib/python3.6/dist-packages (from pandas) (1.14.6)\n",
            "Requirement already satisfied: six>=1.5 in /usr/local/lib/python3.6/dist-packages (from python-dateutil>=2->pandas) (1.11.0)\n"
          ],
          "name": "stdout"
        }
      ]
    },
    {
      "metadata": {
        "id": "BTQAhp_HNvyG",
        "colab_type": "text"
      },
      "cell_type": "markdown",
      "source": [
        "# Data Set Imports"
      ]
    },
    {
      "metadata": {
        "id": "N13I8JpfMHc6",
        "colab_type": "code",
        "colab": {}
      },
      "cell_type": "code",
      "source": [
        "!pip install -U -q PyDrive\n",
        "from google.colab import drive\n",
        "from pydrive.auth import GoogleAuth\n",
        "from pydrive.drive import GoogleDrive\n",
        "from google.colab import auth\n",
        "from oauth2client.client import GoogleCredentials\n",
        "auth.authenticate_user()\n",
        "gauth = GoogleAuth()\n",
        "gauth.credentials = GoogleCredentials.get_application_default()"
      ],
      "execution_count": 0,
      "outputs": []
    },
    {
      "metadata": {
        "id": "pdAFcrotUNTk",
        "colab_type": "code",
        "outputId": "9fb8c54f-9a2e-4d9b-bd81-c017e34fdf80",
        "colab": {
          "base_uri": "https://localhost:8080/",
          "height": 34
        }
      },
      "cell_type": "code",
      "source": [
        "# drive = GoogleDrive(gauth)\n",
        "drive.mount(\"/content/drive\", force_remount=True)\n",
        "datadir  = 'drive/My Drive/GraduationProject/Data'"
      ],
      "execution_count": 0,
      "outputs": [
        {
          "output_type": "stream",
          "text": [
            "Mounted at /content/drive\n"
          ],
          "name": "stdout"
        }
      ]
    },
    {
      "metadata": {
        "id": "fPRCS5s_N2zb",
        "colab_type": "text"
      },
      "cell_type": "markdown",
      "source": [
        "### **GeoEPR**"
      ]
    },
    {
      "metadata": {
        "id": "aatx7iYTN1yS",
        "colab_type": "code",
        "colab": {}
      },
      "cell_type": "code",
      "source": [
        "# fid = drive.ListFile({'q':\"title='GeoEPR-2018.1.csv'\"}).GetList()[0]['id']\n",
        "# f = drive.CreateFile({'id': fid})\n",
        "# f.GetContentFile('GeoEPR-2018.1.csv')\n",
        "# f.Upload()"
      ],
      "execution_count": 0,
      "outputs": []
    },
    {
      "metadata": {
        "colab_type": "text",
        "id": "X3nuloFsSntT"
      },
      "cell_type": "markdown",
      "source": [
        "### **Gecon40_post_final**"
      ]
    },
    {
      "metadata": {
        "colab_type": "code",
        "id": "Mw-lqNFlSntV",
        "colab": {}
      },
      "cell_type": "code",
      "source": [
        "# fid = drive.ListFile({'q':\"title='Gecon40_post_final_kh.csv'\"}).GetList()[0]['id']\n",
        "# f = drive.CreateFile({'id': fid})\n",
        "# f.GetContentFile('Gecon40_post_final.csv')\n",
        "# f.Upload()"
      ],
      "execution_count": 0,
      "outputs": []
    },
    {
      "metadata": {
        "id": "1qsmoZ3eReyA",
        "colab_type": "text"
      },
      "cell_type": "markdown",
      "source": [
        "###**GTD**"
      ]
    },
    {
      "metadata": {
        "id": "JvNzAiEaX4MW",
        "colab_type": "code",
        "colab": {}
      },
      "cell_type": "code",
      "source": [
        "# !ls drive/'My Drive'/GraduationProject/Data/gtd.csv"
      ],
      "execution_count": 0,
      "outputs": []
    },
    {
      "metadata": {
        "id": "nZjjGdaLVMkv",
        "colab_type": "text"
      },
      "cell_type": "markdown",
      "source": [
        "# Pandas Data Frames\n",
        "Useful link : https://youtu.be/2AFGPdNn4FM"
      ]
    },
    {
      "metadata": {
        "id": "3bYFOOr9U-7h",
        "colab_type": "text"
      },
      "cell_type": "markdown",
      "source": [
        "## **GTD Data Frame**"
      ]
    },
    {
      "metadata": {
        "id": "hzPwkdhBZRZU",
        "colab_type": "code",
        "outputId": "6a4917c0-80c2-43b7-fe84-e0f12a0cdb2e",
        "colab": {
          "base_uri": "https://localhost:8080/",
          "height": 513
        }
      },
      "cell_type": "code",
      "source": [
        "gtd_df = pd.read_csv(os.path.join(datadir, 'gtd.csv'),encoding='latin-1')\n",
        "print(gtd_df.columns.values)"
      ],
      "execution_count": 0,
      "outputs": [
        {
          "output_type": "stream",
          "text": [
            "/usr/local/lib/python3.6/dist-packages/IPython/core/interactiveshell.py:2718: DtypeWarning: Columns (4,6,31,33,61,62,63,76,79,90,92,94,96,114,115,121) have mixed types. Specify dtype option on import or set low_memory=False.\n",
            "  interactivity=interactivity, compiler=compiler, result=result)\n"
          ],
          "name": "stderr"
        },
        {
          "output_type": "stream",
          "text": [
            "['eventid' 'iyear' 'imonth' 'iday' 'approxdate' 'extended' 'resolution'\n",
            " 'country' 'country_txt' 'region' 'region_txt' 'provstate' 'city'\n",
            " 'latitude' 'longitude' 'specificity' 'vicinity' 'location' 'summary'\n",
            " 'crit1' 'crit2' 'crit3' 'doubtterr' 'alternative' 'alternative_txt'\n",
            " 'multiple' 'success' 'suicide' 'attacktype1' 'attacktype1_txt'\n",
            " 'attacktype2' 'attacktype2_txt' 'attacktype3' 'attacktype3_txt'\n",
            " 'targtype1' 'targtype1_txt' 'targsubtype1' 'targsubtype1_txt' 'corp1'\n",
            " 'target1' 'natlty1' 'natlty1_txt' 'targtype2' 'targtype2_txt'\n",
            " 'targsubtype2' 'targsubtype2_txt' 'corp2' 'target2' 'natlty2'\n",
            " 'natlty2_txt' 'targtype3' 'targtype3_txt' 'targsubtype3'\n",
            " 'targsubtype3_txt' 'corp3' 'target3' 'natlty3' 'natlty3_txt' 'gname'\n",
            " 'gsubname' 'gname2' 'gsubname2' 'gname3' 'gsubname3' 'motive'\n",
            " 'guncertain1' 'guncertain2' 'guncertain3' 'individual' 'nperps'\n",
            " 'nperpcap' 'claimed' 'claimmode' 'claimmode_txt' 'claim2' 'claimmode2'\n",
            " 'claimmode2_txt' 'claim3' 'claimmode3' 'claimmode3_txt' 'compclaim'\n",
            " 'weaptype1' 'weaptype1_txt' 'weapsubtype1' 'weapsubtype1_txt' 'weaptype2'\n",
            " 'weaptype2_txt' 'weapsubtype2' 'weapsubtype2_txt' 'weaptype3'\n",
            " 'weaptype3_txt' 'weapsubtype3' 'weapsubtype3_txt' 'weaptype4'\n",
            " 'weaptype4_txt' 'weapsubtype4' 'weapsubtype4_txt' 'weapdetail' 'nkill'\n",
            " 'nkillus' 'nkillter' 'nwound' 'nwoundus' 'nwoundte' 'property'\n",
            " 'propextent' 'propextent_txt' 'propvalue' 'propcomment' 'ishostkid'\n",
            " 'nhostkid' 'nhostkidus' 'nhours' 'ndays' 'divert' 'kidhijcountry'\n",
            " 'ransom' 'ransomamt' 'ransomamtus' 'ransompaid' 'ransompaidus'\n",
            " 'ransomnote' 'hostkidoutcome' 'hostkidoutcome_txt' 'nreleased' 'addnotes'\n",
            " 'scite1' 'scite2' 'scite3' 'dbsource' 'INT_LOG' 'INT_IDEO' 'INT_MISC'\n",
            " 'INT_ANY' 'related']\n"
          ],
          "name": "stdout"
        }
      ]
    },
    {
      "metadata": {
        "id": "j_29KRCKqrj-",
        "colab_type": "code",
        "outputId": "46d2e93b-73ab-41f2-e863-3aa98ff659c2",
        "colab": {
          "base_uri": "https://localhost:8080/",
          "height": 2176
        }
      },
      "cell_type": "code",
      "source": [
        "gtd_filtered_df = gtd_df[['country','city', 'target1', 'iyear', 'region']]\n",
        "print(gtd_filtered_df)"
      ],
      "execution_count": 0,
      "outputs": [
        {
          "output_type": "stream",
          "text": [
            "        country                    city  \\\n",
            "0            58           Santo Domingo   \n",
            "1           130             Mexico city   \n",
            "2           160                 Unknown   \n",
            "3            78                  Athens   \n",
            "4           101                 Fukouka   \n",
            "5           217                   Cairo   \n",
            "6           218              Montevideo   \n",
            "7           217                 Oakland   \n",
            "8           217                 Madison   \n",
            "9           217                 Madison   \n",
            "10          217                 Baraboo   \n",
            "11          217                  Denver   \n",
            "12           98                    Rome   \n",
            "13          217                 Detroit   \n",
            "14          217             Rio Piedras   \n",
            "15          499                  Berlin   \n",
            "16           65                 Unknown   \n",
            "17          217           New York City   \n",
            "18          217              Rio Grande   \n",
            "19          217                 Seattle   \n",
            "20          217               Champaign   \n",
            "21          218              Montevideo   \n",
            "22          217                 Seattle   \n",
            "23          217                 Seattle   \n",
            "24          217             Jersey City   \n",
            "25           83          Guatemala City   \n",
            "26          160             Quezon City   \n",
            "27          222                 Caracas   \n",
            "28          217        South Sioux City   \n",
            "29          217              West Point   \n",
            "...         ...                     ...   \n",
            "181661       92               Talacheru   \n",
            "181662      160               Tarragona   \n",
            "181663       92           Koothuparamba   \n",
            "181664      603                 Belfast   \n",
            "181665       92                Toylanka   \n",
            "181666      147        Konduga district   \n",
            "181667      200                 Harasta   \n",
            "181668       95                 Shurjah   \n",
            "181669       95                  Kirkuk   \n",
            "181670       95            Hawd al-Waqf   \n",
            "181671       95              Farhatiyah   \n",
            "181672       92               Lethapora   \n",
            "181673        4               Jalalabad   \n",
            "181674       95                    Baaj   \n",
            "181675      182               Mogadishu   \n",
            "181676        4  Mohammad Agha district   \n",
            "181677      160                 Limpogo   \n",
            "181678      160          Pikit district   \n",
            "181679       95              Muqdadiyah   \n",
            "181680      182                   Wajid   \n",
            "181681      160           Shariff Aguak   \n",
            "181682       98               Spinetoli   \n",
            "181683        4       Kohistan district   \n",
            "181684       92                 Hungrum   \n",
            "181685        4                 Maymana   \n",
            "181686      182           Ceelka Geelow   \n",
            "181687      200                  Jableh   \n",
            "181688      160                Kubentog   \n",
            "181689       92                  Imphal   \n",
            "181690      160           Cotabato City   \n",
            "\n",
            "                                                  target1  iyear  region  \n",
            "0                                            Julio Guzman   1970       2  \n",
            "1                                 Nadine Chaval, daughter   1970       1  \n",
            "2                                                Employee   1970       5  \n",
            "3                                            U.S. Embassy   1970       8  \n",
            "4                                          U.S. Consulate   1970       4  \n",
            "5                               Cairo Police Headquarters   1970       1  \n",
            "6       Juan Maria de Lucah/Chief of Directorate of in...   1970       3  \n",
            "7                                         Edes Substation   1970       1  \n",
            "8       R.O.T.C. offices at University of Wisconsin, M...   1970       1  \n",
            "9       Selective Service Headquarters in Madison Wisc...   1970       1  \n",
            "10                                Badger Army ammo depot.   1970       1  \n",
            "11               Army Recruiting Station, Denver Colorado   1970       1  \n",
            "12                                  Flight 802 Boeing 707   1970       8  \n",
            "13        Packard Properties building of Detroit Michigan   1970       1  \n",
            "14                                          Baker's Store   1970       1  \n",
            "15                     Jurists Ball (Palais au Frankturm)   1970       9  \n",
            "16                                                Soldier   1970      11  \n",
            "17                              James Madison High School   1970       1  \n",
            "18      General Electric factory in Rio Grande Puerto ...   1970       1  \n",
            "19           Fuson's Department Store, Seattle Washington   1970       1  \n",
            "20                            Champaign Police Department   1970       1  \n",
            "21                        Secondary School, Chemistry Lab   1970       3  \n",
            "22      Liberal Arts and Garrand buildings, Seattle Un...   1970       1  \n",
            "23      Air Force R.O.T.C. at the University of Washin...   1970       1  \n",
            "24                                           Headquarters   1970       1  \n",
            "25                              Bodyguard, British Consul   1970       2  \n",
            "26                                              JUSMAG HQ   1970       5  \n",
            "27                                Leon Jacobo Taurel, son   1970       3  \n",
            "28                                                    NaN   1970       1  \n",
            "29      Building used as a meeting place for African A...   1970       1  \n",
            "...                                                   ...    ...     ...  \n",
            "181661                                             Masjid   2017       6  \n",
            "181662                                           Soldiers   2017       5  \n",
            "181663                       Koothuparamba Police Station   2017       6  \n",
            "181664                                          Civilians   2017       8  \n",
            "181665                             Road Construction Site   2017       6  \n",
            "181666                                             Convoy   2017      11  \n",
            "181667                                               Base   2017      10  \n",
            "181668                                             Patrol   2017      10  \n",
            "181669                                               Cafe   2017      10  \n",
            "181670                                            Station   2017      10  \n",
            "181671                                          Civilians   2017      10  \n",
            "181672                                               Camp   2017       6  \n",
            "181673     Funeral Procession of Former District Governor   2017       6  \n",
            "181674                                             Troops   2017      10  \n",
            "181675                                   Burundian Convoy   2017      11  \n",
            "181676                                            Vehicle   2017       6  \n",
            "181677                                               Town   2017       5  \n",
            "181678                                              Store   2017       5  \n",
            "181679                                               Post   2017      10  \n",
            "181680                                     Ethiopian Base   2017      11  \n",
            "181681                                             Patrol   2017       5  \n",
            "181682                                     Migrant Center   2017       8  \n",
            "181683                                    House of Member   2017       6  \n",
            "181684  Personal Security Officer of Council Member Ih...   2017       6  \n",
            "181685                                       Jewelry Shop   2017       6  \n",
            "181686                                         Checkpoint   2017      11  \n",
            "181687                                   Hmeymim Air Base   2017      10  \n",
            "181688                                             Houses   2017       5  \n",
            "181689                                             Office   2017       6  \n",
            "181690                                            Unknown   2017       5  \n",
            "\n",
            "[181691 rows x 5 columns]\n"
          ],
          "name": "stdout"
        }
      ]
    },
    {
      "metadata": {
        "id": "rVn6I7Y7OA9F",
        "colab_type": "text"
      },
      "cell_type": "markdown",
      "source": [
        "## **GECON Data Frame**"
      ]
    },
    {
      "metadata": {
        "id": "t6AAaOVhHY6z",
        "colab_type": "code",
        "outputId": "33acabf5-c714-41ca-9d77-b6211c3e0d5c",
        "colab": {
          "base_uri": "https://localhost:8080/",
          "height": 71
        }
      },
      "cell_type": "code",
      "source": [
        "gecon_df = pd.read_csv(os.path.join(datadir, 'Gecon40_post_final_kh.csv'),encoding='latin-1')\n",
        "# print(gecon_df.columns.values)"
      ],
      "execution_count": 0,
      "outputs": [
        {
          "output_type": "stream",
          "text": [
            "/usr/local/lib/python3.6/dist-packages/IPython/core/interactiveshell.py:2718: DtypeWarning: Columns (16,19,25,28) have mixed types. Specify dtype option on import or set low_memory=False.\n",
            "  interactivity=interactivity, compiler=compiler, result=result)\n"
          ],
          "name": "stderr"
        }
      ]
    },
    {
      "metadata": {
        "id": "5Lg-yXecp267",
        "colab_type": "code",
        "outputId": "f4525ad8-fedb-40ff-8288-c78206a9dcf2",
        "colab": {
          "base_uri": "https://localhost:8080/",
          "height": 1105
        }
      },
      "cell_type": "code",
      "source": [
        "gecon_filtered_df = gecon_df[['DIS_LAKE','DIS_MAJOR_RIVER']]\n",
        "print(gecon_filtered_df)"
      ],
      "execution_count": 0,
      "outputs": [
        {
          "output_type": "stream",
          "text": [
            "       DIS_LAKE  DIS_MAJOR_RIVER\n",
            "0           NaN              NaN\n",
            "1      156602.0         181754.2\n",
            "2      580072.4         109199.3\n",
            "3      630609.5         683543.5\n",
            "4      615035.5         671245.9\n",
            "5      522919.3        1508678.0\n",
            "6      963283.0         441482.6\n",
            "7      341525.0         461270.0\n",
            "8      486620.9         511721.4\n",
            "9      446003.6        1007535.0\n",
            "10       4701.4        2082788.0\n",
            "11     116347.6         731828.7\n",
            "12     153765.4         781171.1\n",
            "13     205771.2         833294.2\n",
            "14     263858.0         887702.5\n",
            "15     209786.4         645935.2\n",
            "16     145312.3         659120.1\n",
            "17     215860.4         756157.8\n",
            "18     154945.9         767240.2\n",
            "19     265743.0         866670.8\n",
            "20     220025.4         876171.9\n",
            "21     345465.5         977382.1\n",
            "22     312366.8         985652.3\n",
            "23     281841.4        1035938.0\n",
            "24     288644.1        1060515.0\n",
            "25     695051.2        1114719.0\n",
            "26     644549.6        1101697.0\n",
            "27     596234.9        1092485.0\n",
            "28     550689.6        1087183.0\n",
            "29     508664.5        1085272.0\n",
            "...         ...              ...\n",
            "27415  419642.3        2480429.0\n",
            "27416  461908.1        2547747.0\n",
            "27417  135466.2        1882551.0\n",
            "27418   78604.0        1948524.0\n",
            "27419   71900.9        2020888.0\n",
            "27420  147281.1        2096063.0\n",
            "27421  200854.1        2173525.0\n",
            "27422  255161.4        2253039.0\n",
            "27423  293839.1        2334394.0\n",
            "27424  304356.3        2412363.0\n",
            "27425  305820.8        2453700.0\n",
            "27426  151486.2        1834281.0\n",
            "27427   70613.7        1893902.0\n",
            "27428   17072.9        1966751.0\n",
            "27429   65514.3        2023682.0\n",
            "27430  104260.0        2103849.0\n",
            "27431  182574.6        2185937.0\n",
            "27432  184441.6        2269739.0\n",
            "27433  198469.3        2354115.0\n",
            "27434  217446.5        2403153.0\n",
            "27435    4154.4        1939731.0\n",
            "27436    1161.5        1981408.0\n",
            "27437   52773.7        2037811.0\n",
            "27438   97403.0        2122528.0\n",
            "27439   84141.4        2209140.0\n",
            "27440  116067.7        2302936.0\n",
            "27441   62487.4        1959424.0\n",
            "27442  102745.5        2004458.0\n",
            "27443   63475.4        2056067.0\n",
            "27444   14844.3        2148991.0\n",
            "\n",
            "[27445 rows x 2 columns]\n"
          ],
          "name": "stdout"
        }
      ]
    },
    {
      "metadata": {
        "id": "yyO2aL4SObqB",
        "colab_type": "text"
      },
      "cell_type": "markdown",
      "source": [
        "## **GeoEPR Data Frame**"
      ]
    },
    {
      "metadata": {
        "id": "II-_vH73OLvh",
        "colab_type": "code",
        "colab": {}
      },
      "cell_type": "code",
      "source": [
        "geo_df = pd.read_csv(os.path.join(datadir, 'GeoEPR-2018.1.csv'),encoding='latin-1')\n",
        "# print(geo_df.columns.values)\n",
        "# # statename, group\n",
        "# print(geo_df)"
      ],
      "execution_count": 0,
      "outputs": []
    },
    {
      "metadata": {
        "id": "TGPkxd05olZN",
        "colab_type": "code",
        "outputId": "ff22ef9c-0d80-424b-ed31-74a883005997",
        "colab": {
          "base_uri": "https://localhost:8080/",
          "height": 1105
        }
      },
      "cell_type": "code",
      "source": [
        "geo_filtered_df = geo_df[['statename','group','type']]\n",
        "print(geo_filtered_df)"
      ],
      "execution_count": 0,
      "outputs": [
        {
          "output_type": "stream",
          "text": [
            "                statename                    group              type\n",
            "0           United States                   Whites         Statewide\n",
            "1           United States        African Americans         Statewide\n",
            "2           United States         American Indians  Regionally based\n",
            "3           United States                   Whites         Statewide\n",
            "4           United States         American Indians  Regionally based\n",
            "5           United States        African Americans         Statewide\n",
            "6           United States                   Whites         Statewide\n",
            "7           United States         American Indians  Regionally based\n",
            "8           United States        African Americans         Statewide\n",
            "9           United States          Asian Americans             Urban\n",
            "10          United States           Arab Americans             Urban\n",
            "11          United States                  Latinos  Regional & urban\n",
            "12                 Canada       Aboriginal peoples  Regionally based\n",
            "13                 Canada         English speakers  Regional & urban\n",
            "14                 Canada          French speakers  Regional & urban\n",
            "15                 Canada       Aboriginal peoples  Regionally based\n",
            "16                 Canada         English speakers  Regional & urban\n",
            "17                 Canada          French speakers  Regional & urban\n",
            "18                 Canada       Aboriginal peoples  Regionally based\n",
            "19                 Canada         English speakers  Regional & urban\n",
            "20                 Canada          French speakers  Regional & urban\n",
            "21                Bahamas   Afro-Bahamians (Black)         Aggregate\n",
            "22                Bahamas                   Whites         Aggregate\n",
            "23                   Cuba                   Whites         Statewide\n",
            "24                   Cuba                   Blacks         Statewide\n",
            "25    Trinidad and Tobago                   Blacks         Statewide\n",
            "26    Trinidad and Tobago             East Indians  Regional & urban\n",
            "27                 Mexico                 Mestizos         Statewide\n",
            "28                 Mexico  Other indigenous groups  Regionally based\n",
            "29                 Mexico                     Maya  Regionally based\n",
            "...                   ...                      ...               ...\n",
            "1440            Indonesia                Sundanese  Regionally based\n",
            "1441            Indonesia                   Bataks  Regionally based\n",
            "1442            Indonesia                 Acehnese  Regionally based\n",
            "1443            Indonesia                   Madura  Regionally based\n",
            "1444            Indonesia            Chinese (Han)  Regionally based\n",
            "1445            Indonesia                Amboinese  Regionally based\n",
            "1446            Indonesia                  Papuans         Aggregate\n",
            "1447            Indonesia                    Malay  Regionally based\n",
            "1448            Indonesia                    Dayak  Regionally based\n",
            "1449            Indonesia                 Javanese  Regionally based\n",
            "1450            Indonesia             Minangkabaus  Regional & urban\n",
            "1451            Indonesia                Sundanese  Regionally based\n",
            "1452            Indonesia                   Bataks  Regionally based\n",
            "1453            Indonesia                 Acehnese  Regionally based\n",
            "1454            Indonesia                   Madura  Regionally based\n",
            "1455            Indonesia            Chinese (Han)  Regionally based\n",
            "1456            Indonesia                Amboinese  Regionally based\n",
            "1457            Indonesia    Makassarese and Bugis  Regionally based\n",
            "1458            Indonesia                 Balinese  Regionally based\n",
            "1459            Australia               Aborigines         Dispersed\n",
            "1460            Australia                   Asians             Urban\n",
            "1461            Australia                   Whites  Regional & urban\n",
            "1462     Papua New Guinea       Papua New Guineans  Regionally based\n",
            "1463     Papua New Guinea          Bougainvilleans  Regionally based\n",
            "1464          New Zealand                    Maori         Dispersed\n",
            "1465          New Zealand           New Zealanders         Statewide\n",
            "1466          New Zealand        Pacific Islanders             Urban\n",
            "1467          New Zealand                   Asians             Urban\n",
            "1468                 Fiji                  Fijians         Statewide\n",
            "1469                 Fiji                  Indians         Statewide\n",
            "\n",
            "[1470 rows x 3 columns]\n"
          ],
          "name": "stdout"
        }
      ]
    },
    {
      "metadata": {
        "id": "0HVbOmnWVUN1",
        "colab_type": "text"
      },
      "cell_type": "markdown",
      "source": [
        "## **Happiness World Report Data Frame**"
      ]
    },
    {
      "metadata": {
        "id": "7yf0iEK_Qh-Y",
        "colab_type": "code",
        "colab": {}
      },
      "cell_type": "code",
      "source": [
        "happy_df = pd.read_csv(os.path.join(datadir, 'Happiness2017.csv'),encoding='latin-1')"
      ],
      "execution_count": 0,
      "outputs": []
    },
    {
      "metadata": {
        "id": "1Z2lnTpobEIN",
        "colab_type": "code",
        "outputId": "1fcb27c8-2fa2-4af1-c2f5-bfe7741c469c",
        "colab": {
          "base_uri": "https://localhost:8080/",
          "height": 1105
        }
      },
      "cell_type": "code",
      "source": [
        "happy_filtered_df = happy_df[['Country','Happiness.Rank','Happiness.Score']]\n",
        "print(happy_filtered_df)"
      ],
      "execution_count": 0,
      "outputs": [
        {
          "output_type": "stream",
          "text": [
            "                      Country  Happiness.Rank  Happiness.Score\n",
            "0                      Norway               1            7.537\n",
            "1                     Denmark               2            7.522\n",
            "2                     Iceland               3            7.504\n",
            "3                 Switzerland               4            7.494\n",
            "4                     Finland               5            7.469\n",
            "5                 Netherlands               6            7.377\n",
            "6                      Canada               7            7.316\n",
            "7                 New Zealand               8            7.314\n",
            "8                      Sweden               9            7.284\n",
            "9                   Australia              10            7.284\n",
            "10                     Israel              11            7.213\n",
            "11                 Costa Rica              12            7.079\n",
            "12                    Austria              13            7.006\n",
            "13              United States              14            6.993\n",
            "14                    Ireland              15            6.977\n",
            "15                    Germany              16            6.951\n",
            "16                    Belgium              17            6.891\n",
            "17                 Luxembourg              18            6.863\n",
            "18             United Kingdom              19            6.714\n",
            "19                      Chile              20            6.652\n",
            "20       United Arab Emirates              21            6.648\n",
            "21                     Brazil              22            6.635\n",
            "22             Czech Republic              23            6.609\n",
            "23                  Argentina              24            6.599\n",
            "24                     Mexico              25            6.578\n",
            "25                  Singapore              26            6.572\n",
            "26                      Malta              27            6.527\n",
            "27                    Uruguay              28            6.454\n",
            "28                  Guatemala              29            6.454\n",
            "29                     Panama              30            6.452\n",
            "..                        ...             ...              ...\n",
            "125          Congo (Kinshasa)             126            4.280\n",
            "126                      Mali             127            4.190\n",
            "127               Ivory Coast             128            4.180\n",
            "128                  Cambodia             129            4.168\n",
            "129                     Sudan             130            4.139\n",
            "130                     Ghana             131            4.120\n",
            "131                   Ukraine             132            4.096\n",
            "132                    Uganda             133            4.081\n",
            "133              Burkina Faso             134            4.032\n",
            "134                     Niger             135            4.028\n",
            "135                    Malawi             136            3.970\n",
            "136                      Chad             137            3.936\n",
            "137                  Zimbabwe             138            3.875\n",
            "138                   Lesotho             139            3.808\n",
            "139                    Angola             140            3.795\n",
            "140               Afghanistan             141            3.794\n",
            "141                  Botswana             142            3.766\n",
            "142                     Benin             143            3.657\n",
            "143                Madagascar             144            3.644\n",
            "144                     Haiti             145            3.603\n",
            "145                     Yemen             146            3.593\n",
            "146               South Sudan             147            3.591\n",
            "147                   Liberia             148            3.533\n",
            "148                    Guinea             149            3.507\n",
            "149                      Togo             150            3.495\n",
            "150                    Rwanda             151            3.471\n",
            "151                     Syria             152            3.462\n",
            "152                  Tanzania             153            3.349\n",
            "153                   Burundi             154            2.905\n",
            "154  Central African Republic             155            2.693\n",
            "\n",
            "[155 rows x 3 columns]\n"
          ],
          "name": "stdout"
        }
      ]
    },
    {
      "metadata": {
        "id": "DFamK03GZcyU",
        "colab_type": "code",
        "colab": {}
      },
      "cell_type": "code",
      "source": [
        "# print(happy_df.columns.values)\n",
        "# print(happy_df['Country'])\n",
        "# print(gtd_df.shape)"
      ],
      "execution_count": 0,
      "outputs": []
    }
  ]
}