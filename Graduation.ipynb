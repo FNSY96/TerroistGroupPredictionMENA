{
  "nbformat": 4,
  "nbformat_minor": 0,
  "metadata": {
    "colab": {
      "name": "Graduation.ipynb",
      "version": "0.3.2",
      "provenance": [],
      "collapsed_sections": [],
      "include_colab_link": true
    },
    "kernelspec": {
      "name": "python3",
      "display_name": "Python 3"
    }
  },
  "cells": [
    {
      "cell_type": "markdown",
      "metadata": {
        "id": "view-in-github",
        "colab_type": "text"
      },
      "source": [
        "<a href=\"https://colab.research.google.com/github/FNSY96/TerrorismEventsPrediction/blob/master/Graduation.ipynb\" target=\"_parent\"><img src=\"https://colab.research.google.com/assets/colab-badge.svg\" alt=\"Open In Colab\"/></a>"
      ]
    },
    {
      "metadata": {
        "id": "3t4_K6rWMxmH",
        "colab_type": "text"
      },
      "cell_type": "markdown",
      "source": [
        "# **Python Imports**\n",
        "PLEASE PUT ALL LIBRARY IMPORTS IN THIS CELL **ONLY**"
      ]
    },
    {
      "metadata": {
        "id": "3SkGUUzMMr4V",
        "colab_type": "code",
        "outputId": "56d07428-dc04-42df-e973-edf57d0ce3a7",
        "colab": {
          "base_uri": "https://localhost:8080/",
          "height": 34
        }
      },
      "cell_type": "code",
      "source": [
        "import pandas as pd\n",
        "import csv\n",
        "import glob\n",
        "import os\n",
        "from pandas import ExcelWriter\n",
        "from pandas import ExcelFile\n",
        "import io\n",
        "print(\"imports run\")"
      ],
      "execution_count": 1,
      "outputs": [
        {
          "output_type": "stream",
          "text": [
            "imports run\n"
          ],
          "name": "stdout"
        }
      ]
    },
    {
      "metadata": {
        "id": "ts4MLZnIaj37",
        "colab_type": "code",
        "outputId": "214fbec7-eecb-4b04-9c34-c64d3410b766",
        "colab": {
          "base_uri": "https://localhost:8080/",
          "height": 131
        }
      },
      "cell_type": "code",
      "source": [
        "!pip3 install pandas"
      ],
      "execution_count": 2,
      "outputs": [
        {
          "output_type": "stream",
          "text": [
            "Requirement already satisfied: pandas in /usr/local/lib/python3.6/dist-packages (0.22.0)\n",
            "Requirement already satisfied: pytz>=2011k in /usr/local/lib/python3.6/dist-packages (from pandas) (2018.9)\n",
            "Requirement already satisfied: numpy>=1.9.0 in /usr/local/lib/python3.6/dist-packages (from pandas) (1.14.6)\n",
            "Requirement already satisfied: python-dateutil>=2 in /usr/local/lib/python3.6/dist-packages (from pandas) (2.5.3)\n",
            "Requirement already satisfied: six>=1.5 in /usr/local/lib/python3.6/dist-packages (from python-dateutil>=2->pandas) (1.11.0)\n"
          ],
          "name": "stdout"
        }
      ]
    },
    {
      "metadata": {
        "id": "BTQAhp_HNvyG",
        "colab_type": "text"
      },
      "cell_type": "markdown",
      "source": [
        "# Data Set Imports"
      ]
    },
    {
      "metadata": {
        "id": "N13I8JpfMHc6",
        "colab_type": "code",
        "outputId": "940560e8-3f10-4e74-a87c-ce930772f953",
        "colab": {
          "base_uri": "https://localhost:8080/",
          "height": 180
        }
      },
      "cell_type": "code",
      "source": [
        "!pip install -U -q PyDrive\n",
        "from google.colab import drive\n",
        "from pydrive.auth import GoogleAuth\n",
        "from pydrive.drive import GoogleDrive\n",
        "from google.colab import auth\n",
        "from oauth2client.client import GoogleCredentials\n",
        "auth.authenticate_user()\n",
        "gauth = GoogleAuth()\n",
        "gauth.credentials = GoogleCredentials.get_application_default()"
      ],
      "execution_count": 3,
      "outputs": [
        {
          "output_type": "stream",
          "text": [
            "\u001b[?25l\r\u001b[K    1% |▎                               | 10kB 17.0MB/s eta 0:00:01\r\u001b[K    2% |▋                               | 20kB 3.3MB/s eta 0:00:01\r\u001b[K    3% |█                               | 30kB 4.8MB/s eta 0:00:01\r\u001b[K    4% |█▎                              | 40kB 3.0MB/s eta 0:00:01\r\u001b[K    5% |█▋                              | 51kB 3.7MB/s eta 0:00:01\r\u001b[K    6% |██                              | 61kB 4.4MB/s eta 0:00:01\r\u001b[K    7% |██▎                             | 71kB 4.7MB/s eta 0:00:01\r\u001b[K    8% |██▋                             | 81kB 5.2MB/s eta 0:00:01\r\u001b[K    9% |███                             | 92kB 5.8MB/s eta 0:00:01\r\u001b[K    10% |███▎                            | 102kB 5.0MB/s eta 0:00:01\r\u001b[K    11% |███▋                            | 112kB 5.0MB/s eta 0:00:01\r\u001b[K    12% |████                            | 122kB 6.7MB/s eta 0:00:01\r\u001b[K    13% |████▎                           | 133kB 6.7MB/s eta 0:00:01\r\u001b[K    14% |████▋                           | 143kB 12.2MB/s eta 0:00:01\r\u001b[K    15% |█████                           | 153kB 11.5MB/s eta 0:00:01\r\u001b[K    16% |█████▎                          | 163kB 11.4MB/s eta 0:00:01\r\u001b[K    17% |█████▋                          | 174kB 13.1MB/s eta 0:00:01\r\u001b[K    18% |██████                          | 184kB 13.4MB/s eta 0:00:01\r\u001b[K    19% |██████▎                         | 194kB 13.4MB/s eta 0:00:01\r\u001b[K    20% |██████▋                         | 204kB 31.3MB/s eta 0:00:01\r\u001b[K    21% |███████                         | 215kB 15.0MB/s eta 0:00:01\r\u001b[K    22% |███████▎                        | 225kB 15.0MB/s eta 0:00:01\r\u001b[K    23% |███████▋                        | 235kB 15.4MB/s eta 0:00:01\r\u001b[K    24% |████████                        | 245kB 15.3MB/s eta 0:00:01\r\u001b[K    25% |████████▎                       | 256kB 17.0MB/s eta 0:00:01\r\u001b[K    26% |████████▋                       | 266kB 16.4MB/s eta 0:00:01\r\u001b[K    27% |█████████                       | 276kB 16.7MB/s eta 0:00:01\r\u001b[K    29% |█████████▎                      | 286kB 16.7MB/s eta 0:00:01\r\u001b[K    30% |█████████▋                      | 296kB 16.5MB/s eta 0:00:01\r\u001b[K    31% |██████████                      | 307kB 17.3MB/s eta 0:00:01\r\u001b[K    32% |██████████▎                     | 317kB 47.9MB/s eta 0:00:01\r\u001b[K    33% |██████████▋                     | 327kB 49.6MB/s eta 0:00:01\r\u001b[K    34% |███████████                     | 337kB 50.6MB/s eta 0:00:01\r\u001b[K    35% |███████████▎                    | 348kB 45.8MB/s eta 0:00:01\r\u001b[K    36% |███████████▋                    | 358kB 45.6MB/s eta 0:00:01\r\u001b[K    37% |████████████                    | 368kB 52.5MB/s eta 0:00:01\r\u001b[K    38% |████████████▎                   | 378kB 52.4MB/s eta 0:00:01\r\u001b[K    39% |████████████▋                   | 389kB 52.9MB/s eta 0:00:01\r\u001b[K    40% |█████████████                   | 399kB 54.7MB/s eta 0:00:01\r\u001b[K    41% |█████████████▎                  | 409kB 55.8MB/s eta 0:00:01\r\u001b[K    42% |█████████████▋                  | 419kB 56.9MB/s eta 0:00:01\r\u001b[K    43% |██████████████                  | 430kB 56.5MB/s eta 0:00:01\r\u001b[K    44% |██████████████▎                 | 440kB 56.4MB/s eta 0:00:01\r\u001b[K    45% |██████████████▋                 | 450kB 21.9MB/s eta 0:00:01\r\u001b[K    46% |███████████████                 | 460kB 21.5MB/s eta 0:00:01\r\u001b[K    47% |███████████████▎                | 471kB 21.6MB/s eta 0:00:01\r\u001b[K    48% |███████████████▋                | 481kB 21.5MB/s eta 0:00:01\r\u001b[K    49% |████████████████                | 491kB 21.5MB/s eta 0:00:01\r\u001b[K    50% |████████████████▎               | 501kB 21.7MB/s eta 0:00:01\r\u001b[K    51% |████████████████▋               | 512kB 21.0MB/s eta 0:00:01\r\u001b[K    52% |█████████████████               | 522kB 21.0MB/s eta 0:00:01\r\u001b[K    53% |█████████████████▎              | 532kB 21.1MB/s eta 0:00:01\r\u001b[K    54% |█████████████████▋              | 542kB 20.9MB/s eta 0:00:01\r\u001b[K    55% |██████████████████              | 552kB 55.5MB/s eta 0:00:01\r\u001b[K    57% |██████████████████▎             | 563kB 57.6MB/s eta 0:00:01\r\u001b[K    58% |██████████████████▋             | 573kB 56.4MB/s eta 0:00:01\r\u001b[K    59% |███████████████████             | 583kB 56.1MB/s eta 0:00:01\r\u001b[K    60% |███████████████████▎            | 593kB 55.6MB/s eta 0:00:01\r\u001b[K    61% |███████████████████▋            | 604kB 55.1MB/s eta 0:00:01\r\u001b[K    62% |████████████████████            | 614kB 60.6MB/s eta 0:00:01\r\u001b[K    63% |████████████████████▎           | 624kB 59.1MB/s eta 0:00:01\r\u001b[K    64% |████████████████████▋           | 634kB 58.2MB/s eta 0:00:01\r\u001b[K    65% |█████████████████████           | 645kB 59.6MB/s eta 0:00:01\r\u001b[K    66% |█████████████████████▎          | 655kB 60.5MB/s eta 0:00:01\r\u001b[K    67% |█████████████████████▋          | 665kB 46.7MB/s eta 0:00:01\r\u001b[K    68% |██████████████████████          | 675kB 47.0MB/s eta 0:00:01\r\u001b[K    69% |██████████████████████▎         | 686kB 47.5MB/s eta 0:00:01\r\u001b[K    70% |██████████████████████▋         | 696kB 48.2MB/s eta 0:00:01\r\u001b[K    71% |███████████████████████         | 706kB 48.3MB/s eta 0:00:01\r\u001b[K    72% |███████████████████████▎        | 716kB 48.4MB/s eta 0:00:01\r\u001b[K    73% |███████████████████████▋        | 727kB 48.9MB/s eta 0:00:01\r\u001b[K    74% |████████████████████████        | 737kB 48.7MB/s eta 0:00:01\r\u001b[K    75% |████████████████████████▎       | 747kB 49.1MB/s eta 0:00:01\r\u001b[K    76% |████████████████████████▋       | 757kB 48.8MB/s eta 0:00:01\r\u001b[K    77% |████████████████████████▉       | 768kB 65.4MB/s eta 0:00:01\r\u001b[K    78% |█████████████████████████▏      | 778kB 35.9MB/s eta 0:00:01\r\u001b[K    79% |█████████████████████████▌      | 788kB 35.1MB/s eta 0:00:01\r\u001b[K    80% |█████████████████████████▉      | 798kB 34.8MB/s eta 0:00:01\r\u001b[K    81% |██████████████████████████▏     | 808kB 34.7MB/s eta 0:00:01\r\u001b[K    82% |██████████████████████████▌     | 819kB 34.6MB/s eta 0:00:01\r\u001b[K    83% |██████████████████████████▉     | 829kB 34.7MB/s eta 0:00:01\r\u001b[K    85% |███████████████████████████▏    | 839kB 34.8MB/s eta 0:00:01\r\u001b[K    86% |███████████████████████████▌    | 849kB 34.6MB/s eta 0:00:01\r\u001b[K    87% |███████████████████████████▉    | 860kB 31.8MB/s eta 0:00:01\r\u001b[K    88% |████████████████████████████▏   | 870kB 31.5MB/s eta 0:00:01\r\u001b[K    89% |████████████████████████████▌   | 880kB 52.9MB/s eta 0:00:01\r\u001b[K    90% |████████████████████████████▉   | 890kB 54.7MB/s eta 0:00:01\r\u001b[K    91% |█████████████████████████████▏  | 901kB 55.3MB/s eta 0:00:01\r\u001b[K    92% |█████████████████████████████▌  | 911kB 55.3MB/s eta 0:00:01\r\u001b[K    93% |█████████████████████████████▉  | 921kB 55.9MB/s eta 0:00:01\r\u001b[K    94% |██████████████████████████████▏ | 931kB 55.9MB/s eta 0:00:01\r\u001b[K    95% |██████████████████████████████▌ | 942kB 55.8MB/s eta 0:00:01\r\u001b[K    96% |██████████████████████████████▉ | 952kB 55.7MB/s eta 0:00:01\r\u001b[K    97% |███████████████████████████████▏| 962kB 66.5MB/s eta 0:00:01\r\u001b[K    98% |███████████████████████████████▌| 972kB 67.4MB/s eta 0:00:01\r\u001b[K    99% |███████████████████████████████▉| 983kB 66.2MB/s eta 0:00:01\r\u001b[K    100% |████████████████████████████████| 993kB 20.3MB/s \n",
            "\u001b[?25h  Building wheel for PyDrive (setup.py) ... \u001b[?25ldone\n",
            "\u001b[?25h"
          ],
          "name": "stdout"
        }
      ]
    },
    {
      "metadata": {
        "id": "pdAFcrotUNTk",
        "colab_type": "code",
        "outputId": "70ef4f14-2f04-4056-d98e-7c25e5d7d8d0",
        "colab": {
          "base_uri": "https://localhost:8080/",
          "height": 189
        }
      },
      "cell_type": "code",
      "source": [
        "# drive = GoogleDrive(gauth)\n",
        "drive.mount(\"/content/drive\", force_remount=True)\n",
        "datadir  = 'drive/My Drive/GraduationProject/Data'"
      ],
      "execution_count": 4,
      "outputs": [
        {
          "output_type": "stream",
          "text": [
            "Go to this URL in a browser: https://accounts.google.com/o/oauth2/auth?client_id=947318989803-6bn6qk8qdgf4n4g3pfee6491hc0brc4i.apps.googleusercontent.com&redirect_uri=urn%3Aietf%3Awg%3Aoauth%3A2.0%3Aoob&scope=email%20https%3A%2F%2Fwww.googleapis.com%2Fauth%2Fdocs.test%20https%3A%2F%2Fwww.googleapis.com%2Fauth%2Fdrive%20https%3A%2F%2Fwww.googleapis.com%2Fauth%2Fdrive.photos.readonly%20https%3A%2F%2Fwww.googleapis.com%2Fauth%2Fpeopleapi.readonly&response_type=code\n",
            "\n",
            "Enter your authorization code:\n",
            "··········\n",
            "Mounted at /content/drive\n"
          ],
          "name": "stdout"
        }
      ]
    },
    {
      "metadata": {
        "id": "fPRCS5s_N2zb",
        "colab_type": "text"
      },
      "cell_type": "markdown",
      "source": [
        "### **GeoEPR**"
      ]
    },
    {
      "metadata": {
        "id": "aatx7iYTN1yS",
        "colab_type": "code",
        "colab": {}
      },
      "cell_type": "code",
      "source": [
        "# fid = drive.ListFile({'q':\"title='GeoEPR-2018.1.csv'\"}).GetList()[0]['id']\n",
        "# f = drive.CreateFile({'id': fid})\n",
        "# f.GetContentFile('GeoEPR-2018.1.csv')\n",
        "# f.Upload()"
      ],
      "execution_count": 0,
      "outputs": []
    },
    {
      "metadata": {
        "colab_type": "text",
        "id": "X3nuloFsSntT"
      },
      "cell_type": "markdown",
      "source": [
        "### **Gecon40_post_final**"
      ]
    },
    {
      "metadata": {
        "colab_type": "code",
        "id": "Mw-lqNFlSntV",
        "colab": {}
      },
      "cell_type": "code",
      "source": [
        "# fid = drive.ListFile({'q':\"title='Gecon40_post_final_kh.csv'\"}).GetList()[0]['id']\n",
        "# f = drive.CreateFile({'id': fid})\n",
        "# f.GetContentFile('Gecon40_post_final.csv')\n",
        "# f.Upload()"
      ],
      "execution_count": 0,
      "outputs": []
    },
    {
      "metadata": {
        "id": "1qsmoZ3eReyA",
        "colab_type": "text"
      },
      "cell_type": "markdown",
      "source": [
        "###**GTD**"
      ]
    },
    {
      "metadata": {
        "id": "JvNzAiEaX4MW",
        "colab_type": "code",
        "colab": {}
      },
      "cell_type": "code",
      "source": [
        "# !ls drive/'My Drive'/GraduationProject/Data/gtd.csv"
      ],
      "execution_count": 0,
      "outputs": []
    },
    {
      "metadata": {
        "id": "RkR7Qwd8xj77",
        "colab_type": "text"
      },
      "cell_type": "markdown",
      "source": [
        "# Functions"
      ]
    },
    {
      "metadata": {
        "id": "lR1VUhPkurWG",
        "colab_type": "code",
        "colab": {}
      },
      "cell_type": "code",
      "source": [
        "def remove_NaN(data_set, attributes_NaN):\n",
        "  data_set = data_set.fillna(data_set.mean())\n",
        "  for i in range(len(attributes_NaN)):\n",
        "      attribute = attributes_NaN[i]\n",
        "      mode =  data_set[attribute].mode()[0]\n",
        "      data_set[attribute] = data_set.groupby(attribute)[attribute].apply(lambda x: x.fillna(x.value_counts().idxmax() if x.value_counts().max() >=1 else mode , inplace = False))\n",
        "      data_set[attribute]= data_set[attribute].fillna(data_set[attribute].value_counts().idxmax())\n",
        "  return data_set"
      ],
      "execution_count": 0,
      "outputs": []
    },
    {
      "metadata": {
        "id": "nZjjGdaLVMkv",
        "colab_type": "text"
      },
      "cell_type": "markdown",
      "source": [
        "# Pandas Data Frames\n",
        "Useful link : https://youtu.be/2AFGPdNn4FM"
      ]
    },
    {
      "metadata": {
        "id": "3bYFOOr9U-7h",
        "colab_type": "text"
      },
      "cell_type": "markdown",
      "source": [
        "## **GTD Data Frame**"
      ]
    },
    {
      "metadata": {
        "id": "hzPwkdhBZRZU",
        "colab_type": "code",
        "outputId": "93be82bf-0b78-42bc-f4e1-87578d13660e",
        "colab": {
          "base_uri": "https://localhost:8080/",
          "height": 513
        }
      },
      "cell_type": "code",
      "source": [
        "gtd_df = pd.read_csv(os.path.join(datadir, 'gtd.csv'),encoding='latin-1')\n",
        "print(gtd_df.columns.values)"
      ],
      "execution_count": 9,
      "outputs": [
        {
          "output_type": "stream",
          "text": [
            "/usr/local/lib/python3.6/dist-packages/IPython/core/interactiveshell.py:2718: DtypeWarning: Columns (4,6,31,33,61,62,63,76,79,90,92,94,96,114,115,121) have mixed types. Specify dtype option on import or set low_memory=False.\n",
            "  interactivity=interactivity, compiler=compiler, result=result)\n"
          ],
          "name": "stderr"
        },
        {
          "output_type": "stream",
          "text": [
            "['eventid' 'iyear' 'imonth' 'iday' 'approxdate' 'extended' 'resolution'\n",
            " 'country' 'country_txt' 'region' 'region_txt' 'provstate' 'city'\n",
            " 'latitude' 'longitude' 'specificity' 'vicinity' 'location' 'summary'\n",
            " 'crit1' 'crit2' 'crit3' 'doubtterr' 'alternative' 'alternative_txt'\n",
            " 'multiple' 'success' 'suicide' 'attacktype1' 'attacktype1_txt'\n",
            " 'attacktype2' 'attacktype2_txt' 'attacktype3' 'attacktype3_txt'\n",
            " 'targtype1' 'targtype1_txt' 'targsubtype1' 'targsubtype1_txt' 'corp1'\n",
            " 'target1' 'natlty1' 'natlty1_txt' 'targtype2' 'targtype2_txt'\n",
            " 'targsubtype2' 'targsubtype2_txt' 'corp2' 'target2' 'natlty2'\n",
            " 'natlty2_txt' 'targtype3' 'targtype3_txt' 'targsubtype3'\n",
            " 'targsubtype3_txt' 'corp3' 'target3' 'natlty3' 'natlty3_txt' 'gname'\n",
            " 'gsubname' 'gname2' 'gsubname2' 'gname3' 'gsubname3' 'motive'\n",
            " 'guncertain1' 'guncertain2' 'guncertain3' 'individual' 'nperps'\n",
            " 'nperpcap' 'claimed' 'claimmode' 'claimmode_txt' 'claim2' 'claimmode2'\n",
            " 'claimmode2_txt' 'claim3' 'claimmode3' 'claimmode3_txt' 'compclaim'\n",
            " 'weaptype1' 'weaptype1_txt' 'weapsubtype1' 'weapsubtype1_txt' 'weaptype2'\n",
            " 'weaptype2_txt' 'weapsubtype2' 'weapsubtype2_txt' 'weaptype3'\n",
            " 'weaptype3_txt' 'weapsubtype3' 'weapsubtype3_txt' 'weaptype4'\n",
            " 'weaptype4_txt' 'weapsubtype4' 'weapsubtype4_txt' 'weapdetail' 'nkill'\n",
            " 'nkillus' 'nkillter' 'nwound' 'nwoundus' 'nwoundte' 'property'\n",
            " 'propextent' 'propextent_txt' 'propvalue' 'propcomment' 'ishostkid'\n",
            " 'nhostkid' 'nhostkidus' 'nhours' 'ndays' 'divert' 'kidhijcountry'\n",
            " 'ransom' 'ransomamt' 'ransomamtus' 'ransompaid' 'ransompaidus'\n",
            " 'ransomnote' 'hostkidoutcome' 'hostkidoutcome_txt' 'nreleased' 'addnotes'\n",
            " 'scite1' 'scite2' 'scite3' 'dbsource' 'INT_LOG' 'INT_IDEO' 'INT_MISC'\n",
            " 'INT_ANY' 'related']\n"
          ],
          "name": "stdout"
        }
      ]
    },
    {
      "metadata": {
        "id": "j_29KRCKqrj-",
        "colab_type": "code",
        "outputId": "e96fc3a6-df4a-4e46-f4d2-d8fd2beaf95d",
        "colab": {
          "base_uri": "https://localhost:8080/",
          "height": 3247
        }
      },
      "cell_type": "code",
      "source": [
        "gtd_filtered_df = gtd_df[['country_txt','region_txt','city','latitude', 'longitude', 'target1', 'iyear']]\n",
        "print(gtd_filtered_df)"
      ],
      "execution_count": 10,
      "outputs": [
        {
          "output_type": "stream",
          "text": [
            "               country_txt                   region_txt  \\\n",
            "0       Dominican Republic  Central America & Caribbean   \n",
            "1                   Mexico                North America   \n",
            "2              Philippines               Southeast Asia   \n",
            "3                   Greece               Western Europe   \n",
            "4                    Japan                    East Asia   \n",
            "5            United States                North America   \n",
            "6                  Uruguay                South America   \n",
            "7            United States                North America   \n",
            "8            United States                North America   \n",
            "9            United States                North America   \n",
            "10           United States                North America   \n",
            "11           United States                North America   \n",
            "12                   Italy               Western Europe   \n",
            "13           United States                North America   \n",
            "14           United States                North America   \n",
            "15      East Germany (GDR)               Eastern Europe   \n",
            "16                Ethiopia           Sub-Saharan Africa   \n",
            "17           United States                North America   \n",
            "18           United States                North America   \n",
            "19           United States                North America   \n",
            "20           United States                North America   \n",
            "21                 Uruguay                South America   \n",
            "22           United States                North America   \n",
            "23           United States                North America   \n",
            "24           United States                North America   \n",
            "25               Guatemala  Central America & Caribbean   \n",
            "26             Philippines               Southeast Asia   \n",
            "27               Venezuela                South America   \n",
            "28           United States                North America   \n",
            "29           United States                North America   \n",
            "...                    ...                          ...   \n",
            "181661               India                   South Asia   \n",
            "181662         Philippines               Southeast Asia   \n",
            "181663               India                   South Asia   \n",
            "181664      United Kingdom               Western Europe   \n",
            "181665               India                   South Asia   \n",
            "181666             Nigeria           Sub-Saharan Africa   \n",
            "181667               Syria   Middle East & North Africa   \n",
            "181668                Iraq   Middle East & North Africa   \n",
            "181669                Iraq   Middle East & North Africa   \n",
            "181670                Iraq   Middle East & North Africa   \n",
            "181671                Iraq   Middle East & North Africa   \n",
            "181672               India                   South Asia   \n",
            "181673         Afghanistan                   South Asia   \n",
            "181674                Iraq   Middle East & North Africa   \n",
            "181675             Somalia           Sub-Saharan Africa   \n",
            "181676         Afghanistan                   South Asia   \n",
            "181677         Philippines               Southeast Asia   \n",
            "181678         Philippines               Southeast Asia   \n",
            "181679                Iraq   Middle East & North Africa   \n",
            "181680             Somalia           Sub-Saharan Africa   \n",
            "181681         Philippines               Southeast Asia   \n",
            "181682               Italy               Western Europe   \n",
            "181683         Afghanistan                   South Asia   \n",
            "181684               India                   South Asia   \n",
            "181685         Afghanistan                   South Asia   \n",
            "181686             Somalia           Sub-Saharan Africa   \n",
            "181687               Syria   Middle East & North Africa   \n",
            "181688         Philippines               Southeast Asia   \n",
            "181689               India                   South Asia   \n",
            "181690         Philippines               Southeast Asia   \n",
            "\n",
            "                          city   latitude   longitude  \\\n",
            "0                Santo Domingo  18.456792  -69.951164   \n",
            "1                  Mexico city  19.371887  -99.086624   \n",
            "2                      Unknown  15.478598  120.599741   \n",
            "3                       Athens  37.997490   23.762728   \n",
            "4                      Fukouka  33.580412  130.396361   \n",
            "5                        Cairo  37.005105  -89.176269   \n",
            "6                   Montevideo -34.891151  -56.187214   \n",
            "7                      Oakland  37.791927 -122.225906   \n",
            "8                      Madison  43.076592  -89.412488   \n",
            "9                      Madison  43.072950  -89.386694   \n",
            "10                     Baraboo  43.468500  -89.744299   \n",
            "11                      Denver  39.758968 -104.876305   \n",
            "12                        Rome  41.890961   12.490069   \n",
            "13                     Detroit  42.331685  -83.047924   \n",
            "14                 Rio Piedras  18.386932  -66.061127   \n",
            "15                      Berlin  52.501530   13.401851   \n",
            "16                     Unknown        NaN         NaN   \n",
            "17               New York City  40.697132  -73.931351   \n",
            "18                  Rio Grande  18.379998  -65.830948   \n",
            "19                     Seattle  47.610786 -122.331306   \n",
            "20                   Champaign  40.116748  -88.239270   \n",
            "21                  Montevideo -34.891151  -56.187214   \n",
            "22                     Seattle  47.610786 -122.331306   \n",
            "23                     Seattle  47.610786 -122.331306   \n",
            "24                 Jersey City  40.717892  -74.067467   \n",
            "25              Guatemala City  14.622869  -90.529068   \n",
            "26                 Quezon City  14.674280  121.057495   \n",
            "27                     Caracas  10.482834  -66.962128   \n",
            "28            South Sioux City  42.470310  -96.413949   \n",
            "29                  West Point  33.606510  -88.650419   \n",
            "...                        ...        ...         ...   \n",
            "181661               Talacheru  17.001086   81.807490   \n",
            "181662               Tarragona   7.042777  126.449221   \n",
            "181663           Koothuparamba  11.831902   75.565432   \n",
            "181664                 Belfast  54.607712   -5.956210   \n",
            "181665                Toylanka  18.802725   81.497666   \n",
            "181666        Konduga district  11.492144   12.969724   \n",
            "181667                 Harasta  33.561504   36.368763   \n",
            "181668                 Shurjah  35.560376   44.524705   \n",
            "181669                  Kirkuk  35.452110   44.375465   \n",
            "181670            Hawd al-Waqf  33.816111   44.783524   \n",
            "181671              Farhatiyah  34.031331   44.070106   \n",
            "181672               Lethapora  33.966527   74.964225   \n",
            "181673               Jalalabad  34.417122   70.449593   \n",
            "181674                    Baaj  36.045059   41.716717   \n",
            "181675               Mogadishu   2.059819   45.326115   \n",
            "181676  Mohammad Agha district  34.217806   69.109316   \n",
            "181677                 Limpogo   6.983953  124.420664   \n",
            "181678          Pikit district   7.053143  124.619270   \n",
            "181679              Muqdadiyah  33.953167   44.921906   \n",
            "181680                   Wajid   3.810951   43.246506   \n",
            "181681           Shariff Aguak   6.862806  124.443649   \n",
            "181682               Spinetoli  42.888982   13.772795   \n",
            "181683       Kohistan district  35.315467   64.815508   \n",
            "181684                 Hungrum  25.180162   93.015788   \n",
            "181685                 Maymana  35.921051   64.774544   \n",
            "181686           Ceelka Geelow   2.359673   45.385034   \n",
            "181687                  Jableh  35.407278   35.942679   \n",
            "181688                Kubentog   6.900742  124.437908   \n",
            "181689                  Imphal  24.798346   93.940430   \n",
            "181690           Cotabato City   7.209594  124.241966   \n",
            "\n",
            "                                                  target1  iyear  \n",
            "0                                            Julio Guzman   1970  \n",
            "1                                 Nadine Chaval, daughter   1970  \n",
            "2                                                Employee   1970  \n",
            "3                                            U.S. Embassy   1970  \n",
            "4                                          U.S. Consulate   1970  \n",
            "5                               Cairo Police Headquarters   1970  \n",
            "6       Juan Maria de Lucah/Chief of Directorate of in...   1970  \n",
            "7                                         Edes Substation   1970  \n",
            "8       R.O.T.C. offices at University of Wisconsin, M...   1970  \n",
            "9       Selective Service Headquarters in Madison Wisc...   1970  \n",
            "10                                Badger Army ammo depot.   1970  \n",
            "11               Army Recruiting Station, Denver Colorado   1970  \n",
            "12                                  Flight 802 Boeing 707   1970  \n",
            "13        Packard Properties building of Detroit Michigan   1970  \n",
            "14                                          Baker's Store   1970  \n",
            "15                     Jurists Ball (Palais au Frankturm)   1970  \n",
            "16                                                Soldier   1970  \n",
            "17                              James Madison High School   1970  \n",
            "18      General Electric factory in Rio Grande Puerto ...   1970  \n",
            "19           Fuson's Department Store, Seattle Washington   1970  \n",
            "20                            Champaign Police Department   1970  \n",
            "21                        Secondary School, Chemistry Lab   1970  \n",
            "22      Liberal Arts and Garrand buildings, Seattle Un...   1970  \n",
            "23      Air Force R.O.T.C. at the University of Washin...   1970  \n",
            "24                                           Headquarters   1970  \n",
            "25                              Bodyguard, British Consul   1970  \n",
            "26                                              JUSMAG HQ   1970  \n",
            "27                                Leon Jacobo Taurel, son   1970  \n",
            "28                                                    NaN   1970  \n",
            "29      Building used as a meeting place for African A...   1970  \n",
            "...                                                   ...    ...  \n",
            "181661                                             Masjid   2017  \n",
            "181662                                           Soldiers   2017  \n",
            "181663                       Koothuparamba Police Station   2017  \n",
            "181664                                          Civilians   2017  \n",
            "181665                             Road Construction Site   2017  \n",
            "181666                                             Convoy   2017  \n",
            "181667                                               Base   2017  \n",
            "181668                                             Patrol   2017  \n",
            "181669                                               Cafe   2017  \n",
            "181670                                            Station   2017  \n",
            "181671                                          Civilians   2017  \n",
            "181672                                               Camp   2017  \n",
            "181673     Funeral Procession of Former District Governor   2017  \n",
            "181674                                             Troops   2017  \n",
            "181675                                   Burundian Convoy   2017  \n",
            "181676                                            Vehicle   2017  \n",
            "181677                                               Town   2017  \n",
            "181678                                              Store   2017  \n",
            "181679                                               Post   2017  \n",
            "181680                                     Ethiopian Base   2017  \n",
            "181681                                             Patrol   2017  \n",
            "181682                                     Migrant Center   2017  \n",
            "181683                                    House of Member   2017  \n",
            "181684  Personal Security Officer of Council Member Ih...   2017  \n",
            "181685                                       Jewelry Shop   2017  \n",
            "181686                                         Checkpoint   2017  \n",
            "181687                                   Hmeymim Air Base   2017  \n",
            "181688                                             Houses   2017  \n",
            "181689                                             Office   2017  \n",
            "181690                                            Unknown   2017  \n",
            "\n",
            "[181691 rows x 7 columns]\n"
          ],
          "name": "stdout"
        }
      ]
    },
    {
      "metadata": {
        "id": "ZTPcCXCiybZ3",
        "colab_type": "code",
        "outputId": "3fe9c230-052d-45e3-9a35-d8a3363a519b",
        "colab": {
          "base_uri": "https://localhost:8080/",
          "height": 153
        }
      },
      "cell_type": "code",
      "source": [
        "print(gtd_filtered_df.isna().sum())\n"
      ],
      "execution_count": 11,
      "outputs": [
        {
          "output_type": "stream",
          "text": [
            "country_txt       0\n",
            "region_txt        0\n",
            "city            434\n",
            "latitude       4556\n",
            "longitude      4557\n",
            "target1         636\n",
            "iyear             0\n",
            "dtype: int64\n"
          ],
          "name": "stdout"
        }
      ]
    },
    {
      "metadata": {
        "id": "UWu8qbPKoZQI",
        "colab_type": "text"
      },
      "cell_type": "markdown",
      "source": [
        "## GTD Removed NaN"
      ]
    },
    {
      "metadata": {
        "id": "sUcg4eqXaf4U",
        "colab_type": "code",
        "colab": {}
      },
      "cell_type": "code",
      "source": [
        "# clean NaN\n",
        "# gtd_filtered_df = gtd_filtered_df.fillna(gtd_filtered_df.mean())\n",
        "# attributes_NaN = ['country_txt', 'city', 'target']\n",
        "# gtd_filtered_df = remove_NaN(gtd_filtered_df, attributes_NaN)\n",
        "# print(gtd_filtered_df)"
      ],
      "execution_count": 0,
      "outputs": []
    },
    {
      "metadata": {
        "id": "rVn6I7Y7OA9F",
        "colab_type": "text"
      },
      "cell_type": "markdown",
      "source": [
        "## **GECON Data Frame**"
      ]
    },
    {
      "metadata": {
        "id": "t6AAaOVhHY6z",
        "colab_type": "code",
        "colab": {
          "base_uri": "https://localhost:8080/",
          "height": 261
        },
        "outputId": "356f6fa0-3ff4-41d7-b039-2a60bfea6874"
      },
      "cell_type": "code",
      "source": [
        "gecon_df = pd.read_csv(os.path.join(datadir, 'Gecon40_post_final_kh.csv'),encoding='latin-1')\n",
        "print(gecon_df.columns.values)"
      ],
      "execution_count": 13,
      "outputs": [
        {
          "output_type": "stream",
          "text": [
            "['AREA' 'COUNTRY' 'D1' 'D2' 'D3' 'D4' 'DIS_LAKE' 'DIS_MAJOR_RIVER'\n",
            " 'DIS_OCEAN' 'DIS_RIVER' 'ELEV_SRTM' 'ELEV_SRTM_PRED' 'LAT' 'LONGITUDE'\n",
            " 'LONG_NAME' 'MATTVEG' 'MER1990_40' 'MER1995_40' 'MER2000_40' 'MER2005_40'\n",
            " 'NEWCOUNTRYID' 'POPGPW_1990_40' 'POPGPW_1995_40' 'POPGPW_2000_40'\n",
            " 'POPGPW_2005_40' 'PPP1990_40' 'PPP1995_40' 'PPP2000_40' 'PPP2005_40'\n",
            " 'PREC_NEW' 'PRECMAX' 'PRECMIN' 'PRECSD' 'PRECAVNEW80_08' 'PRECSDNEW80_08'\n",
            " 'QUALITY' 'RIG_xi0710' 'ROUGH' 'SOIL_UNIT' 'TEMP_NEW' 'TEMPAV_8008'\n",
            " 'TEMPMAX' 'TEMPMIN' 'TEMPSD' 'TEMPSD80_08' 'QUALITY_REVISION'\n",
            " 'DATE OF LAST' 'Unnamed: 47' 'Unnamed: 48' 'Unnamed: 49' 'Unnamed: 50'\n",
            " 'Unnamed: 51' 'Unnamed: 52' 'Unnamed: 53' 'Unnamed: 54' 'Unnamed: 55']\n"
          ],
          "name": "stdout"
        },
        {
          "output_type": "stream",
          "text": [
            "/usr/local/lib/python3.6/dist-packages/IPython/core/interactiveshell.py:2718: DtypeWarning: Columns (16,19,25,28) have mixed types. Specify dtype option on import or set low_memory=False.\n",
            "  interactivity=interactivity, compiler=compiler, result=result)\n"
          ],
          "name": "stderr"
        }
      ]
    },
    {
      "metadata": {
        "id": "5Lg-yXecp267",
        "colab_type": "code",
        "outputId": "304fb998-447c-4276-d459-cc5619943e68",
        "colab": {
          "base_uri": "https://localhost:8080/",
          "height": 1190
        }
      },
      "cell_type": "code",
      "source": [
        "gecon_filtered_df = gecon_df[['AREA', 'COUNTRY', 'DIS_LAKE','DIS_MAJOR_RIVER']]\n",
        "\n",
        "print(gecon_filtered_df.isna().sum())\n",
        "\n",
        "print(gecon_filtered_df)"
      ],
      "execution_count": 14,
      "outputs": [
        {
          "output_type": "stream",
          "text": [
            "AREA                 0\n",
            "COUNTRY              0\n",
            "DIS_LAKE           437\n",
            "DIS_MAJOR_RIVER    422\n",
            "dtype: int64\n",
            "           AREA             COUNTRY  DIS_LAKE  DIS_MAJOR_RIVER\n",
            "0             0  Bosnia&Herzegovina       NaN              NaN\n",
            "1      10.47769              Brazil  156602.0         181754.2\n",
            "2      33.62301              Brazil  580072.4         109199.3\n",
            "3      12.15342              Brazil  630609.5         683543.5\n",
            "4      36.46025              Brazil  615035.5         671245.9\n",
            "5             0              Brazil  522919.3        1508678.0\n",
            "6             0              Brazil  963283.0         441482.6\n",
            "7      12.35509              Brazil  341525.0         461270.0\n",
            "8      12.34964              Brazil  486620.9         511721.4\n",
            "9             0            Cameroon  446003.6        1007535.0\n",
            "10     361.9061            Cameroon    4701.4        2082788.0\n",
            "11     7773.164              Canada  116347.6         731828.7\n",
            "12     7773.164              Canada  153765.4         781171.1\n",
            "13     7773.164              Canada  205771.2         833294.2\n",
            "14     7773.164              Canada  263858.0         887702.5\n",
            "15     7605.392              Canada  209786.4         645935.2\n",
            "16     7605.392              Canada  145312.3         659120.1\n",
            "17     7435.375              Canada  215860.4         756157.8\n",
            "18     7435.375              Canada  154945.9         767240.2\n",
            "19     7263.159              Canada  265743.0         866670.8\n",
            "20     7263.159              Canada  220025.4         876171.9\n",
            "21     7088.785              Canada  345465.5         977382.1\n",
            "22     7088.785              Canada  312366.8         985652.3\n",
            "23     7088.785              Canada  281841.4        1035938.0\n",
            "24     7088.785              Canada  288644.1        1060515.0\n",
            "25     6912.295              Canada  695051.2        1114719.0\n",
            "26     6912.295              Canada  644549.6        1101697.0\n",
            "27     6912.295              Canada  596234.9        1092485.0\n",
            "28     6912.295              Canada  550689.6        1087183.0\n",
            "29     6912.295              Canada  508664.5        1085272.0\n",
            "...         ...                 ...       ...              ...\n",
            "27415  10290.77            Zimbabwe  419642.3        2480429.0\n",
            "27416  104.6519            Zimbabwe  461908.1        2547747.0\n",
            "27417  4294.411            Zimbabwe  135466.2        1882551.0\n",
            "27418  11572.68            Zimbabwe   78604.0        1948524.0\n",
            "27419  11701.39            Zimbabwe   71900.9        2020888.0\n",
            "27420  11701.39            Zimbabwe  147281.1        2096063.0\n",
            "27421  11701.39            Zimbabwe  200854.1        2173525.0\n",
            "27422  11701.39            Zimbabwe  255161.4        2253039.0\n",
            "27423  11701.39            Zimbabwe  293839.1        2334394.0\n",
            "27424  10648.27            Zimbabwe  304356.3        2412363.0\n",
            "27425  58.50695            Zimbabwe  305820.8        2453700.0\n",
            "27426  1094.716            Zimbabwe  151486.2        1834281.0\n",
            "27427  400.2186            Zimbabwe   70613.7        1893902.0\n",
            "27428  6791.945            Zimbabwe   17072.9        1966751.0\n",
            "27429  11771.13            Zimbabwe   65514.3        2023682.0\n",
            "27430  11771.13            Zimbabwe  104260.0        2103849.0\n",
            "27431  11771.13            Zimbabwe  182574.6        2185937.0\n",
            "27432  11771.13            Zimbabwe  184441.6        2269739.0\n",
            "27433   11500.4            Zimbabwe  198469.3        2354115.0\n",
            "27434  82.39795            Zimbabwe  217446.5        2403153.0\n",
            "27435  153.8834            Zimbabwe    4154.4        1939731.0\n",
            "27436    5125.5            Zimbabwe    1161.5        1981408.0\n",
            "27437  11837.18            Zimbabwe   52773.7        2037811.0\n",
            "27438  11801.67            Zimbabwe   97403.0        2122528.0\n",
            "27439  9943.232            Zimbabwe   84141.4        2209140.0\n",
            "27440  5101.825            Zimbabwe  116067.7        2302936.0\n",
            "27441  71.39693            Zimbabwe   62487.4        1959424.0\n",
            "27442  3474.651            Zimbabwe  102745.5        2004458.0\n",
            "27443  1844.421            Zimbabwe   63475.4        2056067.0\n",
            "27444  11.89949            Zimbabwe   14844.3        2148991.0\n",
            "\n",
            "[27445 rows x 4 columns]\n"
          ],
          "name": "stdout"
        }
      ]
    },
    {
      "metadata": {
        "id": "PNtoCAmTWtAR",
        "colab_type": "code",
        "outputId": "f0556f64-b196-4922-ccc4-3518fef5b900",
        "colab": {
          "base_uri": "https://localhost:8080/",
          "height": 1190
        }
      },
      "cell_type": "code",
      "source": [
        "# clean NaN\n",
        "# gecon_filtered_df = gecon_filtered_df.fillna(gecon_filtered_df.mean())\n",
        "gecon_filtered_df = remove_NaN(gecon_filtered_df, [])\n",
        "\n",
        "print(gecon_filtered_df.isna().sum())\n",
        "\n",
        "print(gecon_filtered_df)"
      ],
      "execution_count": 15,
      "outputs": [
        {
          "output_type": "stream",
          "text": [
            "AREA               0\n",
            "COUNTRY            0\n",
            "DIS_LAKE           0\n",
            "DIS_MAJOR_RIVER    0\n",
            "dtype: int64\n",
            "           AREA             COUNTRY      DIS_LAKE  DIS_MAJOR_RIVER\n",
            "0             0  Bosnia&Herzegovina  1.574901e+06     2.868236e+06\n",
            "1      10.47769              Brazil  1.566020e+05     1.817542e+05\n",
            "2      33.62301              Brazil  5.800724e+05     1.091993e+05\n",
            "3      12.15342              Brazil  6.306095e+05     6.835435e+05\n",
            "4      36.46025              Brazil  6.150355e+05     6.712459e+05\n",
            "5             0              Brazil  5.229193e+05     1.508678e+06\n",
            "6             0              Brazil  9.632830e+05     4.414826e+05\n",
            "7      12.35509              Brazil  3.415250e+05     4.612700e+05\n",
            "8      12.34964              Brazil  4.866209e+05     5.117214e+05\n",
            "9             0            Cameroon  4.460036e+05     1.007535e+06\n",
            "10     361.9061            Cameroon  4.701400e+03     2.082788e+06\n",
            "11     7773.164              Canada  1.163476e+05     7.318287e+05\n",
            "12     7773.164              Canada  1.537654e+05     7.811711e+05\n",
            "13     7773.164              Canada  2.057712e+05     8.332942e+05\n",
            "14     7773.164              Canada  2.638580e+05     8.877025e+05\n",
            "15     7605.392              Canada  2.097864e+05     6.459352e+05\n",
            "16     7605.392              Canada  1.453123e+05     6.591201e+05\n",
            "17     7435.375              Canada  2.158604e+05     7.561578e+05\n",
            "18     7435.375              Canada  1.549459e+05     7.672402e+05\n",
            "19     7263.159              Canada  2.657430e+05     8.666708e+05\n",
            "20     7263.159              Canada  2.200254e+05     8.761719e+05\n",
            "21     7088.785              Canada  3.454655e+05     9.773821e+05\n",
            "22     7088.785              Canada  3.123668e+05     9.856523e+05\n",
            "23     7088.785              Canada  2.818414e+05     1.035938e+06\n",
            "24     7088.785              Canada  2.886441e+05     1.060515e+06\n",
            "25     6912.295              Canada  6.950512e+05     1.114719e+06\n",
            "26     6912.295              Canada  6.445496e+05     1.101697e+06\n",
            "27     6912.295              Canada  5.962349e+05     1.092485e+06\n",
            "28     6912.295              Canada  5.506896e+05     1.087183e+06\n",
            "29     6912.295              Canada  5.086645e+05     1.085272e+06\n",
            "...         ...                 ...           ...              ...\n",
            "27415  10290.77            Zimbabwe  4.196423e+05     2.480429e+06\n",
            "27416  104.6519            Zimbabwe  4.619081e+05     2.547747e+06\n",
            "27417  4294.411            Zimbabwe  1.354662e+05     1.882551e+06\n",
            "27418  11572.68            Zimbabwe  7.860400e+04     1.948524e+06\n",
            "27419  11701.39            Zimbabwe  7.190090e+04     2.020888e+06\n",
            "27420  11701.39            Zimbabwe  1.472811e+05     2.096063e+06\n",
            "27421  11701.39            Zimbabwe  2.008541e+05     2.173525e+06\n",
            "27422  11701.39            Zimbabwe  2.551614e+05     2.253039e+06\n",
            "27423  11701.39            Zimbabwe  2.938391e+05     2.334394e+06\n",
            "27424  10648.27            Zimbabwe  3.043563e+05     2.412363e+06\n",
            "27425  58.50695            Zimbabwe  3.058208e+05     2.453700e+06\n",
            "27426  1094.716            Zimbabwe  1.514862e+05     1.834281e+06\n",
            "27427  400.2186            Zimbabwe  7.061370e+04     1.893902e+06\n",
            "27428  6791.945            Zimbabwe  1.707290e+04     1.966751e+06\n",
            "27429  11771.13            Zimbabwe  6.551430e+04     2.023682e+06\n",
            "27430  11771.13            Zimbabwe  1.042600e+05     2.103849e+06\n",
            "27431  11771.13            Zimbabwe  1.825746e+05     2.185937e+06\n",
            "27432  11771.13            Zimbabwe  1.844416e+05     2.269739e+06\n",
            "27433   11500.4            Zimbabwe  1.984693e+05     2.354115e+06\n",
            "27434  82.39795            Zimbabwe  2.174465e+05     2.403153e+06\n",
            "27435  153.8834            Zimbabwe  4.154400e+03     1.939731e+06\n",
            "27436    5125.5            Zimbabwe  1.161500e+03     1.981408e+06\n",
            "27437  11837.18            Zimbabwe  5.277370e+04     2.037811e+06\n",
            "27438  11801.67            Zimbabwe  9.740300e+04     2.122528e+06\n",
            "27439  9943.232            Zimbabwe  8.414140e+04     2.209140e+06\n",
            "27440  5101.825            Zimbabwe  1.160677e+05     2.302936e+06\n",
            "27441  71.39693            Zimbabwe  6.248740e+04     1.959424e+06\n",
            "27442  3474.651            Zimbabwe  1.027455e+05     2.004458e+06\n",
            "27443  1844.421            Zimbabwe  6.347540e+04     2.056067e+06\n",
            "27444  11.89949            Zimbabwe  1.484430e+04     2.148991e+06\n",
            "\n",
            "[27445 rows x 4 columns]\n"
          ],
          "name": "stdout"
        }
      ]
    },
    {
      "metadata": {
        "id": "yyO2aL4SObqB",
        "colab_type": "text"
      },
      "cell_type": "markdown",
      "source": [
        "## **GeoEPR Data Frame**"
      ]
    },
    {
      "metadata": {
        "id": "II-_vH73OLvh",
        "colab_type": "code",
        "outputId": "eb78a273-bb19-4f56-9921-a0d80a01d47b",
        "colab": {
          "base_uri": "https://localhost:8080/",
          "height": 51
        }
      },
      "cell_type": "code",
      "source": [
        "geo_df = pd.read_csv(os.path.join(datadir, 'GeoEPR-2018.1.csv'),encoding='latin-1')\n",
        "print(geo_df.columns.values)\n",
        "# # statename, group\n",
        "# print(geo_df)"
      ],
      "execution_count": 16,
      "outputs": [
        {
          "output_type": "stream",
          "text": [
            "['gwid' 'statename' 'from' 'to' 'group' 'groupid' 'gwgroupid' 'umbrella'\n",
            " 'sqkm' 'type' 'the_geom']\n"
          ],
          "name": "stdout"
        }
      ]
    },
    {
      "metadata": {
        "id": "TGPkxd05olZN",
        "colab_type": "code",
        "outputId": "22ea87ff-8378-4b3f-bb32-397e239487aa",
        "colab": {
          "base_uri": "https://localhost:8080/",
          "height": 1156
        }
      },
      "cell_type": "code",
      "source": [
        "geo_filtered_df = geo_df[['statename','group']]\n",
        "print(geo_filtered_df)\n",
        "print(geo_filtered_df.isna().sum())"
      ],
      "execution_count": 17,
      "outputs": [
        {
          "output_type": "stream",
          "text": [
            "                statename                    group\n",
            "0           United States                   Whites\n",
            "1           United States        African Americans\n",
            "2           United States         American Indians\n",
            "3           United States                   Whites\n",
            "4           United States         American Indians\n",
            "5           United States        African Americans\n",
            "6           United States                   Whites\n",
            "7           United States         American Indians\n",
            "8           United States        African Americans\n",
            "9           United States          Asian Americans\n",
            "10          United States           Arab Americans\n",
            "11          United States                  Latinos\n",
            "12                 Canada       Aboriginal peoples\n",
            "13                 Canada         English speakers\n",
            "14                 Canada          French speakers\n",
            "15                 Canada       Aboriginal peoples\n",
            "16                 Canada         English speakers\n",
            "17                 Canada          French speakers\n",
            "18                 Canada       Aboriginal peoples\n",
            "19                 Canada         English speakers\n",
            "20                 Canada          French speakers\n",
            "21                Bahamas   Afro-Bahamians (Black)\n",
            "22                Bahamas                   Whites\n",
            "23                   Cuba                   Whites\n",
            "24                   Cuba                   Blacks\n",
            "25    Trinidad and Tobago                   Blacks\n",
            "26    Trinidad and Tobago             East Indians\n",
            "27                 Mexico                 Mestizos\n",
            "28                 Mexico  Other indigenous groups\n",
            "29                 Mexico                     Maya\n",
            "...                   ...                      ...\n",
            "1440            Indonesia                Sundanese\n",
            "1441            Indonesia                   Bataks\n",
            "1442            Indonesia                 Acehnese\n",
            "1443            Indonesia                   Madura\n",
            "1444            Indonesia            Chinese (Han)\n",
            "1445            Indonesia                Amboinese\n",
            "1446            Indonesia                  Papuans\n",
            "1447            Indonesia                    Malay\n",
            "1448            Indonesia                    Dayak\n",
            "1449            Indonesia                 Javanese\n",
            "1450            Indonesia             Minangkabaus\n",
            "1451            Indonesia                Sundanese\n",
            "1452            Indonesia                   Bataks\n",
            "1453            Indonesia                 Acehnese\n",
            "1454            Indonesia                   Madura\n",
            "1455            Indonesia            Chinese (Han)\n",
            "1456            Indonesia                Amboinese\n",
            "1457            Indonesia    Makassarese and Bugis\n",
            "1458            Indonesia                 Balinese\n",
            "1459            Australia               Aborigines\n",
            "1460            Australia                   Asians\n",
            "1461            Australia                   Whites\n",
            "1462     Papua New Guinea       Papua New Guineans\n",
            "1463     Papua New Guinea          Bougainvilleans\n",
            "1464          New Zealand                    Maori\n",
            "1465          New Zealand           New Zealanders\n",
            "1466          New Zealand        Pacific Islanders\n",
            "1467          New Zealand                   Asians\n",
            "1468                 Fiji                  Fijians\n",
            "1469                 Fiji                  Indians\n",
            "\n",
            "[1470 rows x 2 columns]\n",
            "statename    0\n",
            "group        0\n",
            "dtype: int64\n"
          ],
          "name": "stdout"
        }
      ]
    },
    {
      "metadata": {
        "id": "WR7YsgSLVroa",
        "colab_type": "code",
        "colab": {}
      },
      "cell_type": "code",
      "source": [
        "# clean NaN\n",
        "# geo_filtered_df = geo_filtered_df.fillna(geo_filtered_df.mean())\n",
        "#attributes_NaN = ['statename', 'group', 'type']\n",
        "#geo_filtered_df = remove_NaN(geo_filtered_df, attributes_NaN)\n",
        "\n",
        "#print(geo_filtered_df)"
      ],
      "execution_count": 0,
      "outputs": []
    },
    {
      "metadata": {
        "id": "0HVbOmnWVUN1",
        "colab_type": "text"
      },
      "cell_type": "markdown",
      "source": [
        "## **Happiness World Report Data Frame**"
      ]
    },
    {
      "metadata": {
        "id": "7yf0iEK_Qh-Y",
        "colab_type": "code",
        "outputId": "d5b82342-bd7b-49d5-c804-d0c6163547eb",
        "colab": {
          "base_uri": "https://localhost:8080/",
          "height": 68
        }
      },
      "cell_type": "code",
      "source": [
        "happy_df = pd.read_csv(os.path.join(datadir, 'Happiness2017.csv'),encoding='latin-1')\n",
        "print(happy_df.columns.values)"
      ],
      "execution_count": 19,
      "outputs": [
        {
          "output_type": "stream",
          "text": [
            "['Country' 'Happiness.Rank' 'Happiness.Score' 'Whisker.high' 'Whisker.low'\n",
            " 'Economy..GDP.per.Capita.' 'Family' 'Health..Life.Expectancy.' 'Freedom'\n",
            " 'Generosity' 'Trust..Government.Corruption.' 'Dystopia.Residual']\n"
          ],
          "name": "stdout"
        }
      ]
    },
    {
      "metadata": {
        "id": "1Z2lnTpobEIN",
        "colab_type": "code",
        "outputId": "007e34c7-bbb3-4f74-a69b-155b5f38c1d2",
        "colab": {
          "base_uri": "https://localhost:8080/",
          "height": 1105
        }
      },
      "cell_type": "code",
      "source": [
        "\n",
        "happy_filtered_df = happy_df[['Country','Happiness.Rank','Happiness.Score']]\n",
        "print(happy_filtered_df)"
      ],
      "execution_count": 20,
      "outputs": [
        {
          "output_type": "stream",
          "text": [
            "                      Country  Happiness.Rank  Happiness.Score\n",
            "0                      Norway               1            7.537\n",
            "1                     Denmark               2            7.522\n",
            "2                     Iceland               3            7.504\n",
            "3                 Switzerland               4            7.494\n",
            "4                     Finland               5            7.469\n",
            "5                 Netherlands               6            7.377\n",
            "6                      Canada               7            7.316\n",
            "7                 New Zealand               8            7.314\n",
            "8                      Sweden               9            7.284\n",
            "9                   Australia              10            7.284\n",
            "10                     Israel              11            7.213\n",
            "11                 Costa Rica              12            7.079\n",
            "12                    Austria              13            7.006\n",
            "13              United States              14            6.993\n",
            "14                    Ireland              15            6.977\n",
            "15                    Germany              16            6.951\n",
            "16                    Belgium              17            6.891\n",
            "17                 Luxembourg              18            6.863\n",
            "18             United Kingdom              19            6.714\n",
            "19                      Chile              20            6.652\n",
            "20       United Arab Emirates              21            6.648\n",
            "21                     Brazil              22            6.635\n",
            "22             Czech Republic              23            6.609\n",
            "23                  Argentina              24            6.599\n",
            "24                     Mexico              25            6.578\n",
            "25                  Singapore              26            6.572\n",
            "26                      Malta              27            6.527\n",
            "27                    Uruguay              28            6.454\n",
            "28                  Guatemala              29            6.454\n",
            "29                     Panama              30            6.452\n",
            "..                        ...             ...              ...\n",
            "125          Congo (Kinshasa)             126            4.280\n",
            "126                      Mali             127            4.190\n",
            "127               Ivory Coast             128            4.180\n",
            "128                  Cambodia             129            4.168\n",
            "129                     Sudan             130            4.139\n",
            "130                     Ghana             131            4.120\n",
            "131                   Ukraine             132            4.096\n",
            "132                    Uganda             133            4.081\n",
            "133              Burkina Faso             134            4.032\n",
            "134                     Niger             135            4.028\n",
            "135                    Malawi             136            3.970\n",
            "136                      Chad             137            3.936\n",
            "137                  Zimbabwe             138            3.875\n",
            "138                   Lesotho             139            3.808\n",
            "139                    Angola             140            3.795\n",
            "140               Afghanistan             141            3.794\n",
            "141                  Botswana             142            3.766\n",
            "142                     Benin             143            3.657\n",
            "143                Madagascar             144            3.644\n",
            "144                     Haiti             145            3.603\n",
            "145                     Yemen             146            3.593\n",
            "146               South Sudan             147            3.591\n",
            "147                   Liberia             148            3.533\n",
            "148                    Guinea             149            3.507\n",
            "149                      Togo             150            3.495\n",
            "150                    Rwanda             151            3.471\n",
            "151                     Syria             152            3.462\n",
            "152                  Tanzania             153            3.349\n",
            "153                   Burundi             154            2.905\n",
            "154  Central African Republic             155            2.693\n",
            "\n",
            "[155 rows x 3 columns]\n"
          ],
          "name": "stdout"
        }
      ]
    },
    {
      "metadata": {
        "id": "-cNONvxMU2Xg",
        "colab_type": "code",
        "outputId": "5ed49a23-ea10-4a54-deb2-8c3d7f65b570",
        "colab": {
          "base_uri": "https://localhost:8080/",
          "height": 34
        }
      },
      "cell_type": "code",
      "source": [
        "# clean NaN\n",
        "happy_filtered_df = happy_filtered_df.fillna(happy_filtered_df.mean())\n",
        "happy_filtered_df = remove_NaN(happy_filtered_df, ['Country'])\n",
        "happy_filtered_df = happy_filtered_df.rename(index=str, columns={\"Country\": \"country_txt\"})\n",
        "print(happy_filtered_df.columns.values)"
      ],
      "execution_count": 21,
      "outputs": [
        {
          "output_type": "stream",
          "text": [
            "['country_txt' 'Happiness.Rank' 'Happiness.Score']\n"
          ],
          "name": "stdout"
        }
      ]
    },
    {
      "metadata": {
        "id": "DFamK03GZcyU",
        "colab_type": "code",
        "colab": {}
      },
      "cell_type": "code",
      "source": [
        "# print(happy_df.columns.values)\n",
        "# print(happy_df['Country'])\n",
        "# print(gtd_df.shape)"
      ],
      "execution_count": 0,
      "outputs": []
    },
    {
      "metadata": {
        "id": "FdxdAi_K-ZFc",
        "colab_type": "code",
        "colab": {}
      },
      "cell_type": "code",
      "source": [
        "# import sys\n",
        "# import math\n",
        "\n",
        "# count1 = 0\n",
        "# count2 = 0\n",
        "# count3 = 0\n",
        "# print(gtd_filtered_df.isna().sum())\n",
        "\n",
        "# if happy_filtered_df[\"Country\"] == \"NaN\":\n",
        "#   print(\"fady\")\n",
        "# print(sys.getsizeof(happy_filtered_df[\"Country\"][3]))\n",
        "\n",
        "# for i in range(sys.getsizeof(happy_filtered_df[\"Country\"])):\n",
        "#   if happy_filtered_df[\"Country\"][i] == \"NaN\":\n",
        "#     count1 += 1\n",
        "    \n",
        "# for i in range(sys.getsizeof(happy_filtered_df[\"Happiness.Rank\"])):\n",
        "#   if math.isnan(happy_filtered_df[\"Happiness.Rank\"][i]) :\n",
        "#     count2 += 1\n",
        "    \n",
        "# for i in range(sys.getsizeof(happy_filtered_df[\"Happiness.Score\"])):\n",
        "#   if math.isnan(happy_filtered_df[\"Happiness.Score\"][i]):\n",
        "#     count3 += 1\n",
        "  \n",
        "# print(count1)\n",
        "# print(count2)\n",
        "# print(count3)\n"
      ],
      "execution_count": 0,
      "outputs": []
    },
    {
      "metadata": {
        "id": "vUerAkcwHScA",
        "colab_type": "code",
        "colab": {
          "base_uri": "https://localhost:8080/",
          "height": 187
        },
        "outputId": "994846f8-0fe5-48d8-d2be-73c0cea6db21"
      },
      "cell_type": "code",
      "source": [
        "d = {'one': pd.Series([1., 3.], index=['a', 'c']), 'two': pd.Series([1., 2., 3., 4.], index=['a', 'b', 'c', 'd']), 'three': pd.Series([\"A\", \"B\", \"A\"], index=['a', 'c', 'd'])}\n",
        "df = pd.DataFrame(d)\n",
        "print(df)\n",
        "# print(df.isna().sum())\n",
        "df = df.fillna(df.mean())\n",
        "mode =  df['three'].mode()[0]\n",
        "df['three'] = df.groupby('three')['three'].apply(lambda x: x.fillna(x.value_counts().idxmax() if x.value_counts().max() >=1 else mode , inplace = False))\n",
        "df['three']= df['three'].fillna(df['three'].value_counts().idxmax())\n",
        "print(df)"
      ],
      "execution_count": 23,
      "outputs": [
        {
          "output_type": "stream",
          "text": [
            "   one three  two\n",
            "a  1.0     A  1.0\n",
            "b  NaN   NaN  2.0\n",
            "c  3.0     B  3.0\n",
            "d  NaN     A  4.0\n",
            "   one three  two\n",
            "a  1.0     A  1.0\n",
            "b  2.0     A  2.0\n",
            "c  3.0     B  3.0\n",
            "d  2.0     A  4.0\n"
          ],
          "name": "stdout"
        }
      ]
    },
    {
      "metadata": {
        "id": "_bb158uoK2vo",
        "colab_type": "code",
        "outputId": "86dfb925-476b-4802-ce1c-5659fde82205",
        "colab": {
          "base_uri": "https://localhost:8080/",
          "height": 1071
        }
      },
      "cell_type": "code",
      "source": [
        "#result = pd.concat([gtd_filtered_df, happy_filtered_df],gtd_filtered_df[\"country_txt\"]=happy_filtered_df[\"Country\"])\n",
        "#'Happiness.Rank' 'Happiness.Score'\n",
        "\n",
        "result = pd.merge(gtd_filtered_df,happy_filtered_df,on='country_txt')\n",
        "print(result['region_txt'])\n"
      ],
      "execution_count": 30,
      "outputs": [
        {
          "output_type": "stream",
          "text": [
            "0         Central America & Caribbean\n",
            "1         Central America & Caribbean\n",
            "2         Central America & Caribbean\n",
            "3         Central America & Caribbean\n",
            "4         Central America & Caribbean\n",
            "5         Central America & Caribbean\n",
            "6         Central America & Caribbean\n",
            "7         Central America & Caribbean\n",
            "8         Central America & Caribbean\n",
            "9         Central America & Caribbean\n",
            "10        Central America & Caribbean\n",
            "11        Central America & Caribbean\n",
            "12        Central America & Caribbean\n",
            "13        Central America & Caribbean\n",
            "14        Central America & Caribbean\n",
            "15        Central America & Caribbean\n",
            "16        Central America & Caribbean\n",
            "17        Central America & Caribbean\n",
            "18        Central America & Caribbean\n",
            "19        Central America & Caribbean\n",
            "20        Central America & Caribbean\n",
            "21        Central America & Caribbean\n",
            "22        Central America & Caribbean\n",
            "23        Central America & Caribbean\n",
            "24        Central America & Caribbean\n",
            "25        Central America & Caribbean\n",
            "26        Central America & Caribbean\n",
            "27        Central America & Caribbean\n",
            "28        Central America & Caribbean\n",
            "29        Central America & Caribbean\n",
            "                     ...             \n",
            "176801             Sub-Saharan Africa\n",
            "176802             Sub-Saharan Africa\n",
            "176803             Sub-Saharan Africa\n",
            "176804             Sub-Saharan Africa\n",
            "176805             Sub-Saharan Africa\n",
            "176806             Sub-Saharan Africa\n",
            "176807             Sub-Saharan Africa\n",
            "176808             Sub-Saharan Africa\n",
            "176809             Sub-Saharan Africa\n",
            "176810             Sub-Saharan Africa\n",
            "176811             Sub-Saharan Africa\n",
            "176812             Sub-Saharan Africa\n",
            "176813             Sub-Saharan Africa\n",
            "176814             Sub-Saharan Africa\n",
            "176815             Sub-Saharan Africa\n",
            "176816             Sub-Saharan Africa\n",
            "176817             Sub-Saharan Africa\n",
            "176818             Sub-Saharan Africa\n",
            "176819             Sub-Saharan Africa\n",
            "176820             Sub-Saharan Africa\n",
            "176821             Sub-Saharan Africa\n",
            "176822             Sub-Saharan Africa\n",
            "176823             Sub-Saharan Africa\n",
            "176824             Sub-Saharan Africa\n",
            "176825             Sub-Saharan Africa\n",
            "176826             Sub-Saharan Africa\n",
            "176827             Sub-Saharan Africa\n",
            "176828             Sub-Saharan Africa\n",
            "176829             Sub-Saharan Africa\n",
            "176830             Sub-Saharan Africa\n",
            "Name: region_txt, Length: 176831, dtype: object\n"
          ],
          "name": "stdout"
        }
      ]
    }
  ]
}