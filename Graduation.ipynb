{
  "nbformat": 4,
  "nbformat_minor": 0,
  "metadata": {
    "colab": {
      "name": "Graduation.ipynb",
      "version": "0.3.2",
      "provenance": [],
      "collapsed_sections": [],
      "include_colab_link": true
    },
    "kernelspec": {
      "name": "python3",
      "display_name": "Python 3"
    }
  },
  "cells": [
    {
      "cell_type": "markdown",
      "metadata": {
        "id": "view-in-github",
        "colab_type": "text"
      },
      "source": [
        "<a href=\"https://colab.research.google.com/github/FNSY96/TerrorismEventsPrediction/blob/master/Graduation.ipynb\" target=\"_parent\"><img src=\"https://colab.research.google.com/assets/colab-badge.svg\" alt=\"Open In Colab\"/></a>"
      ]
    },
    {
      "metadata": {
        "id": "3t4_K6rWMxmH",
        "colab_type": "text"
      },
      "cell_type": "markdown",
      "source": [
        "# **Python Imports**\n",
        "PLEASE PUT ALL LIBRARY IMPORTS IN THIS CELL **ONLY**"
      ]
    },
    {
      "metadata": {
        "id": "3SkGUUzMMr4V",
        "colab_type": "code",
        "outputId": "b4aac591-7db9-4e2d-d492-6e5a4ab5e4c3",
        "colab": {
          "base_uri": "https://localhost:8080/",
          "height": 34
        }
      },
      "cell_type": "code",
      "source": [
        "import pandas as pd\n",
        "import csv\n",
        "import glob\n",
        "import os\n",
        "from pandas import ExcelWriter\n",
        "from pandas import ExcelFile\n",
        "import io\n",
        "print(\"imports run\")"
      ],
      "execution_count": 5,
      "outputs": [
        {
          "output_type": "stream",
          "text": [
            "imports run\n"
          ],
          "name": "stdout"
        }
      ]
    },
    {
      "metadata": {
        "id": "ts4MLZnIaj37",
        "colab_type": "code",
        "colab": {}
      },
      "cell_type": "code",
      "source": [
        "# !pip3 install pandas"
      ],
      "execution_count": 0,
      "outputs": []
    },
    {
      "metadata": {
        "id": "BTQAhp_HNvyG",
        "colab_type": "text"
      },
      "cell_type": "markdown",
      "source": [
        "# Data Set Imports"
      ]
    },
    {
      "metadata": {
        "id": "N13I8JpfMHc6",
        "colab_type": "code",
        "colab": {}
      },
      "cell_type": "code",
      "source": [
        "from google.colab import drive\n",
        "from pydrive.auth import GoogleAuth\n",
        "from pydrive.drive import GoogleDrive\n",
        "from google.colab import auth\n",
        "from oauth2client.client import GoogleCredentials\n",
        "!pip install -U -q PyDrive\n",
        "auth.authenticate_user()\n",
        "gauth = GoogleAuth()\n",
        "gauth.credentials = GoogleCredentials.get_application_default()"
      ],
      "execution_count": 0,
      "outputs": []
    },
    {
      "metadata": {
        "id": "pdAFcrotUNTk",
        "colab_type": "code",
        "colab": {
          "base_uri": "https://localhost:8080/",
          "height": 189
        },
        "outputId": "4e3c377d-5adc-4014-c36d-a53263cbb2e1"
      },
      "cell_type": "code",
      "source": [
        "# drive = GoogleDrive(gauth)\n",
        "drive.mount(\"/content/drive\", force_remount=True)\n",
        "datadir  = 'drive/My Drive/GraduationProject/Data'"
      ],
      "execution_count": 10,
      "outputs": [
        {
          "output_type": "stream",
          "text": [
            "Go to this URL in a browser: https://accounts.google.com/o/oauth2/auth?client_id=947318989803-6bn6qk8qdgf4n4g3pfee6491hc0brc4i.apps.googleusercontent.com&redirect_uri=urn%3Aietf%3Awg%3Aoauth%3A2.0%3Aoob&scope=email%20https%3A%2F%2Fwww.googleapis.com%2Fauth%2Fdocs.test%20https%3A%2F%2Fwww.googleapis.com%2Fauth%2Fdrive%20https%3A%2F%2Fwww.googleapis.com%2Fauth%2Fdrive.photos.readonly%20https%3A%2F%2Fwww.googleapis.com%2Fauth%2Fpeopleapi.readonly&response_type=code\n",
            "\n",
            "Enter your authorization code:\n",
            "··········\n",
            "Mounted at /content/drive\n"
          ],
          "name": "stdout"
        }
      ]
    },
    {
      "metadata": {
        "id": "fPRCS5s_N2zb",
        "colab_type": "text"
      },
      "cell_type": "markdown",
      "source": [
        "### **GeoEPR**"
      ]
    },
    {
      "metadata": {
        "id": "aatx7iYTN1yS",
        "colab_type": "code",
        "colab": {}
      },
      "cell_type": "code",
      "source": [
        "# fid = drive.ListFile({'q':\"title='GeoEPR-2018.1.csv'\"}).GetList()[0]['id']\n",
        "# f = drive.CreateFile({'id': fid})\n",
        "# f.GetContentFile('GeoEPR-2018.1.csv')\n",
        "# f.Upload()"
      ],
      "execution_count": 0,
      "outputs": []
    },
    {
      "metadata": {
        "colab_type": "text",
        "id": "X3nuloFsSntT"
      },
      "cell_type": "markdown",
      "source": [
        "### **Gecon40_post_final**"
      ]
    },
    {
      "metadata": {
        "colab_type": "code",
        "id": "Mw-lqNFlSntV",
        "colab": {
          "base_uri": "https://localhost:8080/",
          "height": 215
        },
        "outputId": "70faaac5-31ac-4013-c2d8-48796417a369"
      },
      "cell_type": "code",
      "source": [
        "# fid = drive.ListFile({'q':\"title='Gecon40_post_final_kh.csv'\"}).GetList()[0]['id']\n",
        "# f = drive.CreateFile({'id': fid})\n",
        "# f.GetContentFile('Gecon40_post_final.csv')\n",
        "# f.Upload()"
      ],
      "execution_count": 16,
      "outputs": [
        {
          "output_type": "error",
          "ename": "AttributeError",
          "evalue": "ignored",
          "traceback": [
            "\u001b[0;31m---------------------------------------------------------------------------\u001b[0m",
            "\u001b[0;31mAttributeError\u001b[0m                            Traceback (most recent call last)",
            "\u001b[0;32m<ipython-input-16-7bb46b63cbcc>\u001b[0m in \u001b[0;36m<module>\u001b[0;34m()\u001b[0m\n\u001b[0;32m----> 1\u001b[0;31m \u001b[0mfid\u001b[0m \u001b[0;34m=\u001b[0m \u001b[0mdrive\u001b[0m\u001b[0;34m.\u001b[0m\u001b[0mListFile\u001b[0m\u001b[0;34m(\u001b[0m\u001b[0;34m{\u001b[0m\u001b[0;34m'q'\u001b[0m\u001b[0;34m:\u001b[0m\u001b[0;34m\"title='Gecon40_post_final_kh.csv'\"\u001b[0m\u001b[0;34m}\u001b[0m\u001b[0;34m)\u001b[0m\u001b[0;34m.\u001b[0m\u001b[0mGetList\u001b[0m\u001b[0;34m(\u001b[0m\u001b[0;34m)\u001b[0m\u001b[0;34m[\u001b[0m\u001b[0;36m0\u001b[0m\u001b[0;34m]\u001b[0m\u001b[0;34m[\u001b[0m\u001b[0;34m'id'\u001b[0m\u001b[0;34m]\u001b[0m\u001b[0;34m\u001b[0m\u001b[0;34m\u001b[0m\u001b[0m\n\u001b[0m\u001b[1;32m      2\u001b[0m \u001b[0mf\u001b[0m \u001b[0;34m=\u001b[0m \u001b[0mdrive\u001b[0m\u001b[0;34m.\u001b[0m\u001b[0mCreateFile\u001b[0m\u001b[0;34m(\u001b[0m\u001b[0;34m{\u001b[0m\u001b[0;34m'id'\u001b[0m\u001b[0;34m:\u001b[0m \u001b[0mfid\u001b[0m\u001b[0;34m}\u001b[0m\u001b[0;34m)\u001b[0m\u001b[0;34m\u001b[0m\u001b[0;34m\u001b[0m\u001b[0m\n\u001b[1;32m      3\u001b[0m \u001b[0mf\u001b[0m\u001b[0;34m.\u001b[0m\u001b[0mGetContentFile\u001b[0m\u001b[0;34m(\u001b[0m\u001b[0;34m'Gecon40_post_final.csv'\u001b[0m\u001b[0;34m)\u001b[0m\u001b[0;34m\u001b[0m\u001b[0;34m\u001b[0m\u001b[0m\n\u001b[1;32m      4\u001b[0m \u001b[0mf\u001b[0m\u001b[0;34m.\u001b[0m\u001b[0mUpload\u001b[0m\u001b[0;34m(\u001b[0m\u001b[0;34m)\u001b[0m\u001b[0;34m\u001b[0m\u001b[0;34m\u001b[0m\u001b[0m\n",
            "\u001b[0;31mAttributeError\u001b[0m: module 'google.colab.drive' has no attribute 'ListFile'"
          ]
        }
      ]
    },
    {
      "metadata": {
        "id": "1qsmoZ3eReyA",
        "colab_type": "text"
      },
      "cell_type": "markdown",
      "source": [
        "###**GTD**"
      ]
    },
    {
      "metadata": {
        "id": "JvNzAiEaX4MW",
        "colab_type": "code",
        "colab": {}
      },
      "cell_type": "code",
      "source": [
        "# !ls drive/'My Drive'/GraduationProject/Data/gtd.csv"
      ],
      "execution_count": 0,
      "outputs": []
    },
    {
      "metadata": {
        "id": "nZjjGdaLVMkv",
        "colab_type": "text"
      },
      "cell_type": "markdown",
      "source": [
        "# Pandas Data Frames\n",
        "Useful link : https://youtu.be/2AFGPdNn4FM"
      ]
    },
    {
      "metadata": {
        "id": "3bYFOOr9U-7h",
        "colab_type": "text"
      },
      "cell_type": "markdown",
      "source": [
        "## **GTD Data Frame**"
      ]
    },
    {
      "metadata": {
        "id": "hzPwkdhBZRZU",
        "colab_type": "code",
        "outputId": "a3cdaa3e-217a-4822-8b00-402101450358",
        "colab": {
          "base_uri": "https://localhost:8080/",
          "height": 111
        }
      },
      "cell_type": "code",
      "source": [
        "gtd_df = pd.read_csv(os.path.join(datadir, 'gtd.csv'),encoding='latin-1')"
      ],
      "execution_count": 22,
      "outputs": [
        {
          "output_type": "stream",
          "text": [
            "/usr/local/lib/python3.6/dist-packages/IPython/core/interactiveshell.py:2718: DtypeWarning: Columns (4,6,31,33,61,62,63,76,79,90,92,94,96,114,115,121) have mixed types. Specify dtype option on import or set low_memory=False.\n",
            "  interactivity=interactivity, compiler=compiler, result=result)\n"
          ],
          "name": "stderr"
        }
      ]
    },
    {
      "metadata": {
        "id": "rVn6I7Y7OA9F",
        "colab_type": "text"
      },
      "cell_type": "markdown",
      "source": [
        "## **GECON Data Frame**"
      ]
    },
    {
      "metadata": {
        "id": "t6AAaOVhHY6z",
        "colab_type": "code",
        "outputId": "0e40d5db-275b-428a-8b4e-113607c49432",
        "colab": {
          "base_uri": "https://localhost:8080/",
          "height": 91
        }
      },
      "cell_type": "code",
      "source": [
        "gecon_df = pd.read_csv(os.path.join(datadir, 'Gecon40_post_final_kh.csv'),encoding='latin-1')"
      ],
      "execution_count": 23,
      "outputs": [
        {
          "output_type": "stream",
          "text": [
            "/usr/local/lib/python3.6/dist-packages/IPython/core/interactiveshell.py:2718: DtypeWarning: Columns (16,19,25,28) have mixed types. Specify dtype option on import or set low_memory=False.\n",
            "  interactivity=interactivity, compiler=compiler, result=result)\n"
          ],
          "name": "stderr"
        }
      ]
    },
    {
      "metadata": {
        "id": "yyO2aL4SObqB",
        "colab_type": "text"
      },
      "cell_type": "markdown",
      "source": [
        "## **GeoEPR Data Frame**"
      ]
    },
    {
      "metadata": {
        "id": "II-_vH73OLvh",
        "colab_type": "code",
        "colab": {}
      },
      "cell_type": "code",
      "source": [
        "geo_df = pd.read_csv(os.path.join(datadir, 'GeoEPR-2018.1.csv'),encoding='latin-1')"
      ],
      "execution_count": 0,
      "outputs": []
    },
    {
      "metadata": {
        "id": "5W57eYatdBfE",
        "colab_type": "code",
        "colab": {
          "base_uri": "https://localhost:8080/",
          "height": 3281
        },
        "outputId": "209f4863-5a3e-40f8-b62a-d0729f79358c"
      },
      "cell_type": "code",
      "source": [
        "print(geo_df.columns.values)\n",
        "# statename, group\n",
        "print(geo_df)"
      ],
      "execution_count": 34,
      "outputs": [
        {
          "output_type": "stream",
          "text": [
            "['gwid' 'statename' 'from' 'to' 'group' 'groupid' 'gwgroupid' 'umbrella'\n",
            " 'sqkm' 'type' 'the_geom']\n",
            "      gwid            statename  from    to                    group  groupid  \\\n",
            "0        2        United States  1946  1958                   Whites     1000   \n",
            "1        2        United States  1946  1958        African Americans     3000   \n",
            "2        2        United States  1946  1958         American Indians     5000   \n",
            "3        2        United States  1959  1959                   Whites     1000   \n",
            "4        2        United States  1959  1959         American Indians     5000   \n",
            "5        2        United States  1959  1959        African Americans     3000   \n",
            "6        2        United States  1960  2017                   Whites     1000   \n",
            "7        2        United States  1960  2017         American Indians     5000   \n",
            "8        2        United States  1960  2017        African Americans     3000   \n",
            "9        2        United States  1966  2017          Asian Americans     4000   \n",
            "10       2        United States  1966  2017           Arab Americans     6000   \n",
            "11       2        United States  1966  2017                  Latinos     2000   \n",
            "12      20               Canada  1946  1947       Aboriginal peoples     4000   \n",
            "13      20               Canada  1946  1947         English speakers     1000   \n",
            "14      20               Canada  1946  1947          French speakers     2000   \n",
            "15      20               Canada  1948  1948       Aboriginal peoples     4000   \n",
            "16      20               Canada  1948  1948         English speakers     1000   \n",
            "17      20               Canada  1948  1948          French speakers     2000   \n",
            "18      20               Canada  1949  2017       Aboriginal peoples     4000   \n",
            "19      20               Canada  1949  2017         English speakers     1000   \n",
            "20      20               Canada  1949  2017          French speakers     2000   \n",
            "21      31              Bahamas  1973  2017   Afro-Bahamians (Black)     1000   \n",
            "22      31              Bahamas  1973  2017                   Whites     2000   \n",
            "23      40                 Cuba  1946  1959                   Whites     1000   \n",
            "24      40                 Cuba  1946  1959                   Blacks     2000   \n",
            "25      52  Trinidad and Tobago  1962  2017                   Blacks     2000   \n",
            "26      52  Trinidad and Tobago  1962  2017             East Indians     1000   \n",
            "27      70               Mexico  1946  2017                 Mestizos     1000   \n",
            "28      70               Mexico  1946  2017  Other indigenous groups     3000   \n",
            "29      70               Mexico  1946  2017                     Maya     2000   \n",
            "...    ...                  ...   ...   ...                      ...      ...   \n",
            "1440   850            Indonesia  2002  2002                Sundanese    14000   \n",
            "1441   850            Indonesia  2002  2002                   Bataks     4000   \n",
            "1442   850            Indonesia  2002  2002                 Acehnese     1000   \n",
            "1443   850            Indonesia  2002  2002                   Madura     9000   \n",
            "1444   850            Indonesia  2002  2002            Chinese (Han)     5000   \n",
            "1445   850            Indonesia  2002  2002                Amboinese     2000   \n",
            "1446   850            Indonesia  2003  2017                  Papuans    13000   \n",
            "1447   850            Indonesia  2003  2017                    Malay    17000   \n",
            "1448   850            Indonesia  2003  2017                    Dayak    16000   \n",
            "1449   850            Indonesia  2003  2017                 Javanese     8000   \n",
            "1450   850            Indonesia  2003  2017             Minangkabaus    12000   \n",
            "1451   850            Indonesia  2003  2017                Sundanese    14000   \n",
            "1452   850            Indonesia  2003  2017                   Bataks     4000   \n",
            "1453   850            Indonesia  2003  2017                 Acehnese     1000   \n",
            "1454   850            Indonesia  2003  2017                   Madura     9000   \n",
            "1455   850            Indonesia  2003  2017            Chinese (Han)     5000   \n",
            "1456   850            Indonesia  2003  2017                Amboinese     2000   \n",
            "1457   850            Indonesia  2015  2017    Makassarese and Bugis    10000   \n",
            "1458   850            Indonesia  2015  2017                 Balinese     3000   \n",
            "1459   900            Australia  1946  2017               Aborigines     1000   \n",
            "1460   900            Australia  1946  1962                   Asians     2000   \n",
            "1461   900            Australia  1946  2017                   Whites     3000   \n",
            "1462   910     Papua New Guinea  1975  2017       Papua New Guineans     1000   \n",
            "1463   910     Papua New Guinea  1975  2017          Bougainvilleans     2000   \n",
            "1464   920          New Zealand  1946  2017                    Maori     1000   \n",
            "1465   920          New Zealand  1946  2017           New Zealanders     2000   \n",
            "1466   920          New Zealand  1990  2017        Pacific Islanders     3000   \n",
            "1467   920          New Zealand  1996  2017                   Asians     4000   \n",
            "1468   950                 Fiji  1970  2017                  Fijians     1000   \n",
            "1469   950                 Fiji  1970  2017                  Indians     2000   \n",
            "\n",
            "      gwgroupid  umbrella       sqkm              type  \\\n",
            "0        201000       NaN  7933027.0         Statewide   \n",
            "1        203000       NaN  1037432.0         Statewide   \n",
            "2        205000       NaN   938702.0  Regionally based   \n",
            "3        201000       NaN  9446578.0         Statewide   \n",
            "4        205000       NaN  2434343.0  Regionally based   \n",
            "5        203000       NaN  1037432.0         Statewide   \n",
            "6        201000       NaN  9446578.0         Statewide   \n",
            "7        205000       NaN  2434343.0  Regionally based   \n",
            "8        203000       NaN  1037432.0         Statewide   \n",
            "9        204000       NaN        NaN             Urban   \n",
            "10       206000       NaN        NaN             Urban   \n",
            "11       202000       NaN  1882816.0  Regional & urban   \n",
            "12      2004000       NaN  3391384.0  Regionally based   \n",
            "13      2001000       NaN  2231482.0  Regional & urban   \n",
            "14      2002000       NaN   452227.0  Regional & urban   \n",
            "15      2004000       NaN  3391384.0  Regionally based   \n",
            "16      2001000       NaN  2231482.0  Regional & urban   \n",
            "17      2002000       NaN   452228.0  Regional & urban   \n",
            "18      2004000       NaN  3410021.0  Regionally based   \n",
            "19      2001000       NaN  2342635.0  Regional & urban   \n",
            "20      2002000       NaN   541197.0  Regional & urban   \n",
            "21      3101000       NaN    10588.0         Aggregate   \n",
            "22      3102000       NaN    10588.0         Aggregate   \n",
            "23      4001000       NaN   109388.0         Statewide   \n",
            "24      4002000       NaN   109388.0         Statewide   \n",
            "25      5202000       NaN     5017.0         Statewide   \n",
            "26      5201000       NaN     4718.0  Regional & urban   \n",
            "27      7001000       NaN  1961153.0         Statewide   \n",
            "28      7003000       NaN   307655.0  Regionally based   \n",
            "29      7002000       NaN   136065.0  Regionally based   \n",
            "...         ...       ...        ...               ...   \n",
            "1440   85014000       NaN    41249.0  Regionally based   \n",
            "1441   85004000       NaN    39414.0  Regionally based   \n",
            "1442   85001000       NaN    31306.0  Regionally based   \n",
            "1443   85009000       NaN    20162.0  Regionally based   \n",
            "1444   85005000       NaN     5266.0  Regionally based   \n",
            "1445   85002000       NaN     3407.0  Regionally based   \n",
            "1446   85013000       NaN  1885553.0         Aggregate   \n",
            "1447   85017000       NaN   336604.0  Regionally based   \n",
            "1448   85016000       NaN   202450.0  Regionally based   \n",
            "1449   85008000       NaN   105902.0  Regionally based   \n",
            "1450   85012000       NaN    72938.0  Regional & urban   \n",
            "1451   85014000       NaN    41249.0  Regionally based   \n",
            "1452   85004000       NaN    39414.0  Regionally based   \n",
            "1453   85001000       NaN    31306.0  Regionally based   \n",
            "1454   85009000       NaN    20162.0  Regionally based   \n",
            "1455   85005000       NaN     5266.0  Regionally based   \n",
            "1456   85002000       NaN     3407.0  Regionally based   \n",
            "1457   85010000       NaN    56565.0  Regionally based   \n",
            "1458   85003000       NaN     6050.0  Regionally based   \n",
            "1459   90001000       NaN        NaN         Dispersed   \n",
            "1460   90002000       NaN        NaN             Urban   \n",
            "1461   90003000       NaN  7701439.0  Regional & urban   \n",
            "1462   91001000       NaN   454180.0  Regionally based   \n",
            "1463   91002000       NaN     9497.0  Regionally based   \n",
            "1464   92001000       NaN        NaN         Dispersed   \n",
            "1465   92002000       NaN   264057.0         Statewide   \n",
            "1466   92003000       NaN        NaN             Urban   \n",
            "1467   92004000       NaN        NaN             Urban   \n",
            "1468   95001000       NaN    18090.0         Statewide   \n",
            "1469   95002000       NaN    18090.0         Statewide   \n",
            "\n",
            "                                               the_geom  \n",
            "0     SRID=4326;MULTIPOLYGON (((-80.57535491 24.9472...  \n",
            "1     SRID=4326;MULTIPOLYGON (((-80.82779091 25.1622...  \n",
            "2     SRID=4326;MULTIPOLYGON (((-80.90276348 27.1025...  \n",
            "3     SRID=4326;MULTIPOLYGON (((-155.00558198 19.328...  \n",
            "4     SRID=4326;MULTIPOLYGON (((-80.90276348 27.1025...  \n",
            "5     SRID=4326;MULTIPOLYGON (((-80.82779091 25.1622...  \n",
            "6     SRID=4326;MULTIPOLYGON (((-155.00558198 19.328...  \n",
            "7     SRID=4326;MULTIPOLYGON (((-80.90276348 27.1025...  \n",
            "8     SRID=4326;MULTIPOLYGON (((-80.82779091 25.1622...  \n",
            "9                                                   NaN  \n",
            "10                                                  NaN  \n",
            "11    SRID=4326;MULTIPOLYGON (((-82.69124591 28.0298...  \n",
            "12    SRID=4326;MULTIPOLYGON (((-80.50221321 42.8491...  \n",
            "13    SRID=4326;MULTIPOLYGON (((-66.88056161 44.6170...  \n",
            "14    SRID=4326;MULTIPOLYGON (((-78.96703826 45.1856...  \n",
            "15    SRID=4326;MULTIPOLYGON (((-80.50221321 42.8491...  \n",
            "16    SRID=4326;MULTIPOLYGON (((-66.88056161 44.6170...  \n",
            "17    SRID=4326;MULTIPOLYGON (((-78.96703826 45.1856...  \n",
            "18    SRID=4326;MULTIPOLYGON (((-80.50221321 42.8491...  \n",
            "19    SRID=4326;MULTIPOLYGON (((-66.88056161 44.6170...  \n",
            "20    SRID=4326;MULTIPOLYGON (((-78.96703826 45.1856...  \n",
            "21    SRID=4326;MULTIPOLYGON (((-78.19831 25.200357,...  \n",
            "22    SRID=4326;MULTIPOLYGON (((-78.19831 25.200357,...  \n",
            "23    SRID=4326;MULTIPOLYGON (((-78.64724591 21.5344...  \n",
            "24    SRID=4326;MULTIPOLYGON (((-78.64724591 21.5344...  \n",
            "25    SRID=4326;MULTIPOLYGON (((-61.07944589 10.8241...  \n",
            "26    SRID=4326;MULTIPOLYGON (((-61.07944589 10.8241...  \n",
            "27    SRID=4326;MULTIPOLYGON (((-111.56806344 24.432...  \n",
            "28    SRID=4326;MULTIPOLYGON (((-91.39483015 17.4858...  \n",
            "29    SRID=4326;MULTIPOLYGON (((-93.14384872 18.2716...  \n",
            "...                                                 ...  \n",
            "1440  SRID=4326;MULTIPOLYGON (((105.1903918 -6.68347...  \n",
            "1441  SRID=4326;MULTIPOLYGON (((97.77072254 2.774332...  \n",
            "1442  SRID=4326;MULTIPOLYGON (((95.84872421 5.526724...  \n",
            "1443  SRID=4326;MULTIPOLYGON (((112.63458566 -8.2875...  \n",
            "1444  SRID=4326;MULTIPOLYGON (((107.62532284 -3.0277...  \n",
            "1445  SRID=4326;MULTIPOLYGON (((127.1676651 -3.65877...  \n",
            "1446  SRID=4326;MULTIPOLYGON (((121.86554128 -10.608...  \n",
            "1447  SRID=4326;MULTIPOLYGON (((106.74945354 -6.0964...  \n",
            "1448  SRID=4326;MULTIPOLYGON (((111.45469955 1.00617...  \n",
            "1449  SRID=4326;MULTIPOLYGON (((107.96138354 -6.2754...  \n",
            "1450  SRID=4326;MULTIPOLYGON (((102.51819199 -0.3114...  \n",
            "1451  SRID=4326;MULTIPOLYGON (((105.1903918 -6.68347...  \n",
            "1452  SRID=4326;MULTIPOLYGON (((97.77072254 2.774332...  \n",
            "1453  SRID=4326;MULTIPOLYGON (((95.84872421 5.526724...  \n",
            "1454  SRID=4326;MULTIPOLYGON (((112.63458566 -8.2875...  \n",
            "1455  SRID=4326;MULTIPOLYGON (((107.62532284 -3.0277...  \n",
            "1456  SRID=4326;MULTIPOLYGON (((127.1676651 -3.65877...  \n",
            "1457  SRID=4326;MULTIPOLYGON (((120.9313736 -7.28361...  \n",
            "1458  SRID=4326;MULTIPOLYGON (((115.56485475 -8.8038...  \n",
            "1459                                                NaN  \n",
            "1460                                                NaN  \n",
            "1461  SRID=4326;MULTIPOLYGON (((142.1894183 -10.2041...  \n",
            "1462  SRID=4326;MULTIPOLYGON (((154.29776312 -11.391...  \n",
            "1463  SRID=4326;MULTIPOLYGON (((154.74277703 -5.5646...  \n",
            "1464                                                NaN  \n",
            "1465  SRID=4326;MULTIPOLYGON (((168.16609532 -46.909...  \n",
            "1466                                                NaN  \n",
            "1467                                                NaN  \n",
            "1468  SRID=4326;MULTIPOLYGON (((177.47301833 -18.162...  \n",
            "1469  SRID=4326;MULTIPOLYGON (((177.47301833 -18.162...  \n",
            "\n",
            "[1470 rows x 11 columns]\n"
          ],
          "name": "stdout"
        }
      ]
    },
    {
      "metadata": {
        "id": "0HVbOmnWVUN1",
        "colab_type": "text"
      },
      "cell_type": "markdown",
      "source": [
        "## **Happiness World Report Data Frame**"
      ]
    },
    {
      "metadata": {
        "id": "7yf0iEK_Qh-Y",
        "colab_type": "code",
        "colab": {
          "base_uri": "https://localhost:8080/",
          "height": 68
        },
        "outputId": "5c88479d-30f7-4f67-90f0-c9a329fd3d95"
      },
      "cell_type": "code",
      "source": [
        "happy_df = pd.read_csv(os.path.join(datadir, 'Happiness2017.csv'),encoding='latin-1')"
      ],
      "execution_count": 27,
      "outputs": [
        {
          "output_type": "stream",
          "text": [
            "['Country' 'Happiness.Rank' 'Happiness.Score' 'Whisker.high' 'Whisker.low'\n",
            " 'Economy..GDP.per.Capita.' 'Family' 'Health..Life.Expectancy.' 'Freedom'\n",
            " 'Generosity' 'Trust..Government.Corruption.' 'Dystopia.Residual']\n"
          ],
          "name": "stdout"
        }
      ]
    },
    {
      "metadata": {
        "id": "1Z2lnTpobEIN",
        "colab_type": "code",
        "colab": {
          "base_uri": "https://localhost:8080/",
          "height": 1105
        },
        "outputId": "d43fba2d-22af-428f-8bd1-e36735c02f80"
      },
      "cell_type": "code",
      "source": [
        "happy_filtered_df = happy_df[['Country','Happiness.Rank','Happiness.Score']]\n",
        "print(happy_filtered_df)"
      ],
      "execution_count": 31,
      "outputs": [
        {
          "output_type": "stream",
          "text": [
            "                      Country  Happiness.Rank  Happiness.Score\n",
            "0                      Norway               1            7.537\n",
            "1                     Denmark               2            7.522\n",
            "2                     Iceland               3            7.504\n",
            "3                 Switzerland               4            7.494\n",
            "4                     Finland               5            7.469\n",
            "5                 Netherlands               6            7.377\n",
            "6                      Canada               7            7.316\n",
            "7                 New Zealand               8            7.314\n",
            "8                      Sweden               9            7.284\n",
            "9                   Australia              10            7.284\n",
            "10                     Israel              11            7.213\n",
            "11                 Costa Rica              12            7.079\n",
            "12                    Austria              13            7.006\n",
            "13              United States              14            6.993\n",
            "14                    Ireland              15            6.977\n",
            "15                    Germany              16            6.951\n",
            "16                    Belgium              17            6.891\n",
            "17                 Luxembourg              18            6.863\n",
            "18             United Kingdom              19            6.714\n",
            "19                      Chile              20            6.652\n",
            "20       United Arab Emirates              21            6.648\n",
            "21                     Brazil              22            6.635\n",
            "22             Czech Republic              23            6.609\n",
            "23                  Argentina              24            6.599\n",
            "24                     Mexico              25            6.578\n",
            "25                  Singapore              26            6.572\n",
            "26                      Malta              27            6.527\n",
            "27                    Uruguay              28            6.454\n",
            "28                  Guatemala              29            6.454\n",
            "29                     Panama              30            6.452\n",
            "..                        ...             ...              ...\n",
            "125          Congo (Kinshasa)             126            4.280\n",
            "126                      Mali             127            4.190\n",
            "127               Ivory Coast             128            4.180\n",
            "128                  Cambodia             129            4.168\n",
            "129                     Sudan             130            4.139\n",
            "130                     Ghana             131            4.120\n",
            "131                   Ukraine             132            4.096\n",
            "132                    Uganda             133            4.081\n",
            "133              Burkina Faso             134            4.032\n",
            "134                     Niger             135            4.028\n",
            "135                    Malawi             136            3.970\n",
            "136                      Chad             137            3.936\n",
            "137                  Zimbabwe             138            3.875\n",
            "138                   Lesotho             139            3.808\n",
            "139                    Angola             140            3.795\n",
            "140               Afghanistan             141            3.794\n",
            "141                  Botswana             142            3.766\n",
            "142                     Benin             143            3.657\n",
            "143                Madagascar             144            3.644\n",
            "144                     Haiti             145            3.603\n",
            "145                     Yemen             146            3.593\n",
            "146               South Sudan             147            3.591\n",
            "147                   Liberia             148            3.533\n",
            "148                    Guinea             149            3.507\n",
            "149                      Togo             150            3.495\n",
            "150                    Rwanda             151            3.471\n",
            "151                     Syria             152            3.462\n",
            "152                  Tanzania             153            3.349\n",
            "153                   Burundi             154            2.905\n",
            "154  Central African Republic             155            2.693\n",
            "\n",
            "[155 rows x 3 columns]\n"
          ],
          "name": "stdout"
        }
      ]
    },
    {
      "metadata": {
        "id": "DFamK03GZcyU",
        "colab_type": "code",
        "colab": {
          "base_uri": "https://localhost:8080/",
          "height": 34
        },
        "outputId": "28d11974-fe50-42b1-999f-7c16f95a12b1"
      },
      "cell_type": "code",
      "source": [
        "# print(happy_df.columns.values)\n",
        "# print(happy_df['Country'])\n",
        "# print(gtd_df.shape)"
      ],
      "execution_count": 29,
      "outputs": [
        {
          "output_type": "stream",
          "text": [
            "(181691, 135)\n"
          ],
          "name": "stdout"
        }
      ]
    }
  ]
}